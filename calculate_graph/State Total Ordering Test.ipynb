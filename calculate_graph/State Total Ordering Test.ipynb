{
 "cells": [
  {
   "cell_type": "code",
   "execution_count": 1,
   "metadata": {
    "collapsed": false
   },
   "outputs": [],
   "source": [
    "import matplotlib\n",
    "matplotlib.use('Qt4Agg')\n",
    "%matplotlib inline\n",
    "import matplotlib.pyplot as plt\n",
    "from IPython.core.display import display, HTML\n",
    "import networkx as nx\n"
   ]
  },
  {
   "cell_type": "code",
   "execution_count": 2,
   "metadata": {
    "collapsed": false
   },
   "outputs": [],
   "source": [
    "%run Component.py\n",
    "%run State\n"
   ]
  },
  {
   "cell_type": "code",
   "execution_count": 3,
   "metadata": {
    "collapsed": true
   },
   "outputs": [],
   "source": [
    "state_dict = {'board_top_hash':int('000000000001000000000000000001000000011011000000000000',2), 'board_bottom_hash':int('000000000000000000000000000000000000000000000000000000',2), 'red_car_end_a':12 }\n",
    "s = State(**state_dict)\n",
    "c = Component(s)\n",
    "G = c.graph\n",
    "d = c.distance_partition\n"
   ]
  },
  {
   "cell_type": "code",
   "execution_count": 9,
   "metadata": {
    "collapsed": false
   },
   "outputs": [
    {
     "data": {
      "text/html": [
       "<table<tr><td><svg width=\"180\" height=\"180\" xmlns=\"http://www.w3.org/2000/svg\"><rect x=\"0\" y=\"0\" width = \"180\" height = \"180\" style=\"fill:#E6E6E6; stroke:black; stroke-width:2; stroke-opacity:0.5;\"/> <defs>    <g id=\"car\" >        <rect x=\"0\" y=\"0\" height=\"30\" width=\"60\" style=\"opacity:0.0\"/>        <rect x=\"2\" y=\"2\" height =\"26\" width=\"56\" rx=\"5\" ry=\"5\"/>    </g>    <g id=\"truck\" >        <rect x=\"0\" y=\"0\" height=\"30\" width=\"90\" style=\"opacity:0.0\"/>        <rect x=\"2\" y=\"2\" height =\"26\" width=\"86\" rx=\"5\" ry=\"5\"/>    </g></defs><line x1=\"0\" y1=\"30\" x2=\"180\" y2=\"30\" style=\"stroke: black;\"/><line x1=\"30\" y1=\"0\" x2=\"30\" y2=\"180\" style=\"stroke: black;\"/><line x1=\"0\" y1=\"60\" x2=\"180\" y2=\"60\" style=\"stroke: black;\"/><line x1=\"60\" y1=\"0\" x2=\"60\" y2=\"180\" style=\"stroke: black;\"/><line x1=\"0\" y1=\"90\" x2=\"180\" y2=\"90\" style=\"stroke: black;\"/><line x1=\"90\" y1=\"0\" x2=\"90\" y2=\"180\" style=\"stroke: black;\"/><line x1=\"0\" y1=\"120\" x2=\"180\" y2=\"120\" style=\"stroke: black;\"/><line x1=\"120\" y1=\"0\" x2=\"120\" y2=\"180\" style=\"stroke: black;\"/><line x1=\"0\" y1=\"150\" x2=\"180\" y2=\"150\" style=\"stroke: black;\"/><line x1=\"150\" y1=\"0\" x2=\"150\" y2=\"180\" style=\"stroke: black;\"/><use xlink:href=\"#car\" x=\"90\" y=\"120\"transform=\"rotate(90,105.0,135.0)\" style=\"fill:#7FFF00\" ;\" /><text  x=\"105.0\" y=\"150.0\" text-anchor=\"middle\" alignment-baseline=\"central\" style=\"font-weight:bold\" >Q</text><use xlink:href=\"#car\" x=\"120\" y=\"60\" style=\"fill:#FF0000\" ;\" /><text  x=\"150.0\" y=\"75.0\" text-anchor=\"middle\" alignment-baseline=\"central\" style=\"font-weight:bold\" >X</text><use xlink:href=\"#car\" x=\"120\" y=\"60\" style=\"fill:#FF0000\" ;\" /><text  x=\"150.0\" y=\"75.0\" text-anchor=\"middle\" alignment-baseline=\"central\" style=\"font-weight:bold\" >X</text></svg></td><td> </td><td><svg width=\"180\" height=\"180\" xmlns=\"http://www.w3.org/2000/svg\"><rect x=\"0\" y=\"0\" width = \"180\" height = \"180\" style=\"fill:#E6E6E6; stroke:black; stroke-width:2; stroke-opacity:0.5;\"/> <defs>    <g id=\"car\" >        <rect x=\"0\" y=\"0\" height=\"30\" width=\"60\" style=\"opacity:0.0\"/>        <rect x=\"2\" y=\"2\" height =\"26\" width=\"56\" rx=\"5\" ry=\"5\"/>    </g>    <g id=\"truck\" >        <rect x=\"0\" y=\"0\" height=\"30\" width=\"90\" style=\"opacity:0.0\"/>        <rect x=\"2\" y=\"2\" height =\"26\" width=\"86\" rx=\"5\" ry=\"5\"/>    </g></defs><line x1=\"0\" y1=\"30\" x2=\"180\" y2=\"30\" style=\"stroke: black;\"/><line x1=\"30\" y1=\"0\" x2=\"30\" y2=\"180\" style=\"stroke: black;\"/><line x1=\"0\" y1=\"60\" x2=\"180\" y2=\"60\" style=\"stroke: black;\"/><line x1=\"60\" y1=\"0\" x2=\"60\" y2=\"180\" style=\"stroke: black;\"/><line x1=\"0\" y1=\"90\" x2=\"180\" y2=\"90\" style=\"stroke: black;\"/><line x1=\"90\" y1=\"0\" x2=\"90\" y2=\"180\" style=\"stroke: black;\"/><line x1=\"0\" y1=\"120\" x2=\"180\" y2=\"120\" style=\"stroke: black;\"/><line x1=\"120\" y1=\"0\" x2=\"120\" y2=\"180\" style=\"stroke: black;\"/><line x1=\"0\" y1=\"150\" x2=\"180\" y2=\"150\" style=\"stroke: black;\"/><line x1=\"150\" y1=\"0\" x2=\"150\" y2=\"180\" style=\"stroke: black;\"/><use xlink:href=\"#car\" x=\"90\" y=\"0\"transform=\"rotate(90,105.0,15.0)\" style=\"fill:#7FFF00\" ;\" /><text  x=\"105.0\" y=\"30.0\" text-anchor=\"middle\" alignment-baseline=\"central\" style=\"font-weight:bold\" >Q</text><use xlink:href=\"#car\" x=\"0\" y=\"60\" style=\"fill:#FF0000\" ;\" /><text  x=\"30.0\" y=\"75.0\" text-anchor=\"middle\" alignment-baseline=\"central\" style=\"font-weight:bold\" >X</text><use xlink:href=\"#car\" x=\"0\" y=\"60\" style=\"fill:#FF0000\" ;\" /><text  x=\"30.0\" y=\"75.0\" text-anchor=\"middle\" alignment-baseline=\"central\" style=\"font-weight:bold\" >X</text></svg></td></tr></table>"
      ],
      "text/plain": [
       "<IPython.core.display.HTML object>"
      ]
     },
     "execution_count": 9,
     "metadata": {},
     "output_type": "execute_result"
    }
   ],
   "source": [
    "x = min([G.node[x]['stateObj'] for x in G.nodes()])\n",
    "y = max([G.node[x]['stateObj'] for x in G.nodes()])\n",
    "HTML(\"<table<tr><td>\"+x.svg+\"</td><td> </td><td>\"+y.svg+\"</td></tr></table>\")"
   ]
  },
  {
   "cell_type": "code",
   "execution_count": 14,
   "metadata": {
    "collapsed": false
   },
   "outputs": [],
   "source": [
    "state_dict = {'board_top_hash':int('000000000001000100000000000001000100011011000000001100',2), 'board_bottom_hash':int('000000000000001000000000000011011000000000000000000000',2), 'red_car_end_a':12 }\n",
    "s = State(**state_dict)\n",
    "c2 = Component(s)\n",
    "H = c2.graph\n",
    "\n"
   ]
  },
  {
   "cell_type": "code",
   "execution_count": 16,
   "metadata": {
    "collapsed": false
   },
   "outputs": [
    {
     "data": {
      "text/html": [
       "<table<tr><td><svg width=\"180\" height=\"180\" xmlns=\"http://www.w3.org/2000/svg\"><rect x=\"0\" y=\"0\" width = \"180\" height = \"180\" style=\"fill:#E6E6E6; stroke:black; stroke-width:2; stroke-opacity:0.5;\"/> <defs>    <g id=\"car\" >        <rect x=\"0\" y=\"0\" height=\"30\" width=\"60\" style=\"opacity:0.0\"/>        <rect x=\"2\" y=\"2\" height =\"26\" width=\"56\" rx=\"5\" ry=\"5\"/>    </g>    <g id=\"truck\" >        <rect x=\"0\" y=\"0\" height=\"30\" width=\"90\" style=\"opacity:0.0\"/>        <rect x=\"2\" y=\"2\" height =\"26\" width=\"86\" rx=\"5\" ry=\"5\"/>    </g></defs><line x1=\"0\" y1=\"30\" x2=\"180\" y2=\"30\" style=\"stroke: black;\"/><line x1=\"30\" y1=\"0\" x2=\"30\" y2=\"180\" style=\"stroke: black;\"/><line x1=\"0\" y1=\"60\" x2=\"180\" y2=\"60\" style=\"stroke: black;\"/><line x1=\"60\" y1=\"0\" x2=\"60\" y2=\"180\" style=\"stroke: black;\"/><line x1=\"0\" y1=\"90\" x2=\"180\" y2=\"90\" style=\"stroke: black;\"/><line x1=\"90\" y1=\"0\" x2=\"90\" y2=\"180\" style=\"stroke: black;\"/><line x1=\"0\" y1=\"120\" x2=\"180\" y2=\"120\" style=\"stroke: black;\"/><line x1=\"120\" y1=\"0\" x2=\"120\" y2=\"180\" style=\"stroke: black;\"/><line x1=\"0\" y1=\"150\" x2=\"180\" y2=\"150\" style=\"stroke: black;\"/><line x1=\"150\" y1=\"0\" x2=\"150\" y2=\"180\" style=\"stroke: black;\"/><use xlink:href=\"#car\" x=\"120\" y=\"60\" style=\"fill:#7FFF00\" ;\" /><text  x=\"150.0\" y=\"75.0\" text-anchor=\"middle\" alignment-baseline=\"central\" style=\"font-weight:bold\" >Q</text><use xlink:href=\"#truck\" x=\"150\" y=\"90\"transform=\"rotate(90,165.0,105.0)\" style=\"fill:#F08080\" ;\" /><text  x=\"165.0\" y=\"135.0\" text-anchor=\"middle\" alignment-baseline=\"central\" style=\"font-weight:bold\" >T</text><use xlink:href=\"#car\" x=\"30\" y=\"120\" style=\"fill:#7FFFD4\" ;\" /><text  x=\"60.0\" y=\"135.0\" text-anchor=\"middle\" alignment-baseline=\"central\" style=\"font-weight:bold\" >A</text><use xlink:href=\"#car\" x=\"90\" y=\"120\"transform=\"rotate(90,105.0,135.0)\" style=\"fill:#D2691E\" ;\" /><text  x=\"105.0\" y=\"150.0\" text-anchor=\"middle\" alignment-baseline=\"central\" style=\"font-weight:bold\" >B</text><use xlink:href=\"#car\" x=\"120\" y=\"120\"transform=\"rotate(90,135.0,135.0)\" style=\"fill:#8B008B\" ;\" /><text  x=\"135.0\" y=\"150.0\" text-anchor=\"middle\" alignment-baseline=\"central\" style=\"font-weight:bold\" >C</text><use xlink:href=\"#car\" x=\"120\" y=\"60\" style=\"fill:#FF0000\" ;\" /><text  x=\"150.0\" y=\"75.0\" text-anchor=\"middle\" alignment-baseline=\"central\" style=\"font-weight:bold\" >X</text></svg></td><td>space</td><td><svg width=\"180\" height=\"180\" xmlns=\"http://www.w3.org/2000/svg\"><rect x=\"0\" y=\"0\" width = \"180\" height = \"180\" style=\"fill:#E6E6E6; stroke:black; stroke-width:2; stroke-opacity:0.5;\"/> <defs>    <g id=\"car\" >        <rect x=\"0\" y=\"0\" height=\"30\" width=\"60\" style=\"opacity:0.0\"/>        <rect x=\"2\" y=\"2\" height =\"26\" width=\"56\" rx=\"5\" ry=\"5\"/>    </g>    <g id=\"truck\" >        <rect x=\"0\" y=\"0\" height=\"30\" width=\"90\" style=\"opacity:0.0\"/>        <rect x=\"2\" y=\"2\" height =\"26\" width=\"86\" rx=\"5\" ry=\"5\"/>    </g></defs><line x1=\"0\" y1=\"30\" x2=\"180\" y2=\"30\" style=\"stroke: black;\"/><line x1=\"30\" y1=\"0\" x2=\"30\" y2=\"180\" style=\"stroke: black;\"/><line x1=\"0\" y1=\"60\" x2=\"180\" y2=\"60\" style=\"stroke: black;\"/><line x1=\"60\" y1=\"0\" x2=\"60\" y2=\"180\" style=\"stroke: black;\"/><line x1=\"0\" y1=\"90\" x2=\"180\" y2=\"90\" style=\"stroke: black;\"/><line x1=\"90\" y1=\"0\" x2=\"90\" y2=\"180\" style=\"stroke: black;\"/><line x1=\"0\" y1=\"120\" x2=\"180\" y2=\"120\" style=\"stroke: black;\"/><line x1=\"120\" y1=\"0\" x2=\"120\" y2=\"180\" style=\"stroke: black;\"/><line x1=\"0\" y1=\"150\" x2=\"180\" y2=\"150\" style=\"stroke: black;\"/><line x1=\"150\" y1=\"0\" x2=\"150\" y2=\"180\" style=\"stroke: black;\"/><use xlink:href=\"#car\" x=\"90\" y=\"0\"transform=\"rotate(90,105.0,15.0)\" style=\"fill:#7FFF00\" ;\" /><text  x=\"105.0\" y=\"30.0\" text-anchor=\"middle\" alignment-baseline=\"central\" style=\"font-weight:bold\" >Q</text><use xlink:href=\"#car\" x=\"120\" y=\"0\"transform=\"rotate(90,135.0,15.0)\" style=\"fill:#7FFFD4\" ;\" /><text  x=\"135.0\" y=\"30.0\" text-anchor=\"middle\" alignment-baseline=\"central\" style=\"font-weight:bold\" >A</text><use xlink:href=\"#truck\" x=\"150\" y=\"0\"transform=\"rotate(90,165.0,15.0)\" style=\"fill:#F08080\" ;\" /><text  x=\"165.0\" y=\"45.0\" text-anchor=\"middle\" alignment-baseline=\"central\" style=\"font-weight:bold\" >T</text><use xlink:href=\"#car\" x=\"0\" y=\"60\" style=\"fill:#D2691E\" ;\" /><text  x=\"30.0\" y=\"75.0\" text-anchor=\"middle\" alignment-baseline=\"central\" style=\"font-weight:bold\" >B</text><use xlink:href=\"#car\" x=\"0\" y=\"120\" style=\"fill:#8B008B\" ;\" /><text  x=\"30.0\" y=\"135.0\" text-anchor=\"middle\" alignment-baseline=\"central\" style=\"font-weight:bold\" >C</text><use xlink:href=\"#car\" x=\"0\" y=\"60\" style=\"fill:#FF0000\" ;\" /><text  x=\"30.0\" y=\"75.0\" text-anchor=\"middle\" alignment-baseline=\"central\" style=\"font-weight:bold\" >X</text></svg></td></tr></table>"
      ],
      "text/plain": [
       "<IPython.core.display.HTML object>"
      ]
     },
     "execution_count": 16,
     "metadata": {},
     "output_type": "execute_result"
    }
   ],
   "source": [
    "x = min([H.node[x]['stateObj'] for x in H.nodes()])\n",
    "y = max([H.node[x]['stateObj'] for x in H.nodes()])\n",
    "HTML(\"<table<tr><td>\"+x.svg+\"</td><td>space</td><td>\"+y.svg+\"</td></tr></table>\")"
   ]
  },
  {
   "cell_type": "code",
   "execution_count": null,
   "metadata": {
    "collapsed": true
   },
   "outputs": [],
   "source": []
  }
 ],
 "metadata": {
  "anaconda-cloud": {},
  "kernelspec": {
   "display_name": "Python [default]",
   "language": "python",
   "name": "python3"
  },
  "language_info": {
   "codemirror_mode": {
    "name": "ipython",
    "version": 3
   },
   "file_extension": ".py",
   "mimetype": "text/x-python",
   "name": "python",
   "nbconvert_exporter": "python",
   "pygments_lexer": "ipython3",
   "version": "3.5.2"
  }
 },
 "nbformat": 4,
 "nbformat_minor": 0
}

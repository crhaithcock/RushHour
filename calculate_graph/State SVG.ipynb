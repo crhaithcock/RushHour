{
 "cells": [
  {
   "cell_type": "code",
   "execution_count": 20,
   "metadata": {
    "collapsed": false
   },
   "outputs": [],
   "source": [
    "from IPython.core.display import display, HTML\n",
    "%run State"
   ]
  },
  {
   "cell_type": "code",
   "execution_count": 21,
   "metadata": {
    "collapsed": false
   },
   "outputs": [
    {
     "data": {
      "text/html": [
       "<table><tr><td bgcolor=\"D2691E\" style=\"width:30px; height:30px; vertical-align:middle; text-align:center\">B</td><td bgcolor=\"D2691E\" style=\"width:30px; height:30px; vertical-align:middle; text-align:center\">B</td><td bgcolor=\"E6E6E6\" style=\"width:30px; height:30px; vertical-align:middle; text-align:center\"></td><td bgcolor=\"E6E6E6\" style=\"width:30px; height:30px; vertical-align:middle; text-align:center\"></td><td bgcolor=\"E6E6E6\" style=\"width:30px; height:30px; vertical-align:middle; text-align:center\"></td><td bgcolor=\"7FFF00\" style=\"width:30px; height:30px; vertical-align:middle; text-align:center\">Q</td></tr><tr><td bgcolor=\"E6E6E6\" style=\"width:30px; height:30px; vertical-align:middle; text-align:center\"></td><td bgcolor=\"E6E6E6\" style=\"width:30px; height:30px; vertical-align:middle; text-align:center\"></td><td bgcolor=\"E6E6E6\" style=\"width:30px; height:30px; vertical-align:middle; text-align:center\"></td><td bgcolor=\"E6E6E6\" style=\"width:30px; height:30px; vertical-align:middle; text-align:center\"></td><td bgcolor=\"E6E6E6\" style=\"width:30px; height:30px; vertical-align:middle; text-align:center\"></td><td bgcolor=\"7FFF00\" style=\"width:30px; height:30px; vertical-align:middle; text-align:center\">Q</td></tr><tr><td bgcolor=\"E6E6E6\" style=\"width:30px; height:30px; vertical-align:middle; text-align:center\"></td><td bgcolor=\"FF0000\" style=\"width:30px; height:30px; vertical-align:middle; text-align:center\">X</td><td bgcolor=\"FF0000\" style=\"width:30px; height:30px; vertical-align:middle; text-align:center\">X</td><td bgcolor=\"E6E6E6\" style=\"width:30px; height:30px; vertical-align:middle; text-align:center\"></td><td bgcolor=\"F08080\" style=\"width:30px; height:30px; vertical-align:middle; text-align:center\">T</td><td bgcolor=\"E6E6E6\" style=\"width:30px; height:30px; vertical-align:middle; text-align:center\"></td></tr><tr><td bgcolor=\"E6E6E6\" style=\"width:30px; height:30px; vertical-align:middle; text-align:center\"></td><td bgcolor=\"E6E6E6\" style=\"width:30px; height:30px; vertical-align:middle; text-align:center\"></td><td bgcolor=\"E6E6E6\" style=\"width:30px; height:30px; vertical-align:middle; text-align:center\"></td><td bgcolor=\"E6E6E6\" style=\"width:30px; height:30px; vertical-align:middle; text-align:center\"></td><td bgcolor=\"F08080\" style=\"width:30px; height:30px; vertical-align:middle; text-align:center\">T</td><td bgcolor=\"E6E6E6\" style=\"width:30px; height:30px; vertical-align:middle; text-align:center\"></td></tr><tr><td bgcolor=\"E6E6E6\" style=\"width:30px; height:30px; vertical-align:middle; text-align:center\"></td><td bgcolor=\"7FFFD4\" style=\"width:30px; height:30px; vertical-align:middle; text-align:center\">A</td><td bgcolor=\"E6E6E6\" style=\"width:30px; height:30px; vertical-align:middle; text-align:center\"></td><td bgcolor=\"E6E6E6\" style=\"width:30px; height:30px; vertical-align:middle; text-align:center\"></td><td bgcolor=\"F08080\" style=\"width:30px; height:30px; vertical-align:middle; text-align:center\">T</td><td bgcolor=\"E6E6E6\" style=\"width:30px; height:30px; vertical-align:middle; text-align:center\"></td></tr><tr><td bgcolor=\"E6E6E6\" style=\"width:30px; height:30px; vertical-align:middle; text-align:center\"></td><td bgcolor=\"7FFFD4\" style=\"width:30px; height:30px; vertical-align:middle; text-align:center\">A</td><td bgcolor=\"E6E6E6\" style=\"width:30px; height:30px; vertical-align:middle; text-align:center\"></td><td bgcolor=\"E6E6E6\" style=\"width:30px; height:30px; vertical-align:middle; text-align:center\"></td><td bgcolor=\"E6E6E6\" style=\"width:30px; height:30px; vertical-align:middle; text-align:center\"></td><td bgcolor=\"E6E6E6\" style=\"width:30px; height:30px; vertical-align:middle; text-align:center\"></td></tr></table>"
      ],
      "text/plain": [
       "<IPython.core.display.HTML object>"
      ]
     },
     "execution_count": 21,
     "metadata": {},
     "output_type": "execute_result"
    }
   ],
   "source": [
    "HTML(s.repr_html_table())"
   ]
  },
  {
   "cell_type": "code",
   "execution_count": 22,
   "metadata": {
    "collapsed": false
   },
   "outputs": [
    {
     "data": {
      "text/html": [
       "<svg width=\"180\" height=\"180\" xmlns=\"http://www.w3.org/2000/svg\"><rect x=\"0\" y=\"0\" width = \"180\" height = \"180\" style=\"fill:#E6E6E6; stroke:black; stroke-width:2; stroke-opacity:0.5;\"/> <defs>    <g id=\"car\" >        <rect x=\"0\" y=\"0\" height=\"30\" width=\"60\" style=\"opacity:0.0\"/>        <rect x=\"2\" y=\"2\" height =\"26\" width=\"56\" rx=\"5\" ry=\"5\"/>    </g>    <g id=\"truck\" >        <rect x=\"0\" y=\"0\" height=\"30\" width=\"90\" style=\"opacity:0.0\"/>        <rect x=\"2\" y=\"2\" height =\"26\" width=\"86\" rx=\"5\" ry=\"5\"/>    </g></defs><line x1=\"0\" y1=\"30\" x2=\"180\" y2=\"30\" style=\"stroke: black;\"/><line x1=\"30\" y1=\"0\" x2=\"30\" y2=\"180\" style=\"stroke: black;\"/><line x1=\"0\" y1=\"60\" x2=\"180\" y2=\"60\" style=\"stroke: black;\"/><line x1=\"60\" y1=\"0\" x2=\"60\" y2=\"180\" style=\"stroke: black;\"/><line x1=\"0\" y1=\"90\" x2=\"180\" y2=\"90\" style=\"stroke: black;\"/><line x1=\"90\" y1=\"0\" x2=\"90\" y2=\"180\" style=\"stroke: black;\"/><line x1=\"0\" y1=\"120\" x2=\"180\" y2=\"120\" style=\"stroke: black;\"/><line x1=\"120\" y1=\"0\" x2=\"120\" y2=\"180\" style=\"stroke: black;\"/><line x1=\"0\" y1=\"150\" x2=\"180\" y2=\"150\" style=\"stroke: black;\"/><line x1=\"150\" y1=\"0\" x2=\"150\" y2=\"180\" style=\"stroke: black;\"/><use xlink:href=\"#car\" x=\"150\" y=\"0\"transform=\"rotate(90,165.0,15.0)\" style=\"fill:#7FFF00\" ;\" /><text  x=\"165.0\" y=\"30.0\" text-anchor=\"middle\" alignment-baseline=\"central\" style=\"font-weight:bold\" >Q</text><use xlink:href=\"#car\" x=\"30\" y=\"120\"transform=\"rotate(90,45.0,135.0)\" style=\"fill:#7FFFD4\" ;\" /><text  x=\"45.0\" y=\"150.0\" text-anchor=\"middle\" alignment-baseline=\"central\" style=\"font-weight:bold\" >A</text><use xlink:href=\"#car\" x=\"0\" y=\"0\" style=\"fill:#D2691E\" ;\" /><text  x=\"30.0\" y=\"15.0\" text-anchor=\"middle\" alignment-baseline=\"central\" style=\"font-weight:bold\" >B</text><use xlink:href=\"#car\" x=\"30\" y=\"60\" style=\"fill:#FF0000\" ;\" /><text  x=\"60.0\" y=\"75.0\" text-anchor=\"middle\" alignment-baseline=\"central\" style=\"font-weight:bold\" >X</text><use xlink:href=\"#truck\" x=\"120\" y=\"60\"transform=\"rotate(90,135.0,75.0)\" style=\"fill:#F08080\" ;\" /><text  x=\"135.0\" y=\"105.0\" text-anchor=\"middle\" alignment-baseline=\"central\" style=\"font-weight:bold\" >T</text><use xlink:href=\"#car\" x=\"30\" y=\"60\" style=\"fill:#FF0000\" ;\" /><text  x=\"60.0\" y=\"75.0\" text-anchor=\"middle\" alignment-baseline=\"central\" style=\"font-weight:bold\" >X</text></svg>"
      ],
      "text/plain": [
       "<IPython.core.display.HTML object>"
      ]
     },
     "execution_count": 22,
     "metadata": {},
     "output_type": "execute_result"
    }
   ],
   "source": [
    "%run State\n",
    "HTML(s.svg)\n",
    "#s.svg"
   ]
  },
  {
   "cell_type": "code",
   "execution_count": 15,
   "metadata": {
    "collapsed": false
   },
   "outputs": [],
   "source": [
    "%run Component.py"
   ]
  },
  {
   "cell_type": "code",
   "execution_count": 16,
   "metadata": {
    "collapsed": false
   },
   "outputs": [],
   "source": [
    "c = Component(s)"
   ]
  },
  {
   "cell_type": "code",
   "execution_count": 17,
   "metadata": {
    "collapsed": false
   },
   "outputs": [
    {
     "data": {
      "text/plain": [
       "1011"
      ]
     },
     "execution_count": 17,
     "metadata": {},
     "output_type": "execute_result"
    }
   ],
   "source": [
    "len(c.states)"
   ]
  },
  {
   "cell_type": "code",
   "execution_count": 18,
   "metadata": {
    "collapsed": false
   },
   "outputs": [
    {
     "data": {
      "text/html": [
       "<svg width=\"180\" height=\"180\" xmlns=\"http://www.w3.org/2000/svg\"><rect x=\"0\" y=\"0\" width = \"180\" height = \"180\" style=\"fill:#E6E6E6; stroke:black; stroke-width:2; stroke-opacity:0.5;\"/> <defs>    <g id=\"car\" >        <rect x=\"0\" y=\"0\" height=\"30\" width=\"60\" style=\"opacity:0.0\"/>        <rect x=\"2\" y=\"2\" height =\"26\" width=\"56\" rx=\"5\" ry=\"5\"/>    </g>    <g id=\"truck\" >        <rect x=\"0\" y=\"0\" height=\"30\" width=\"90\" style=\"opacity:0.0\"/>        <rect x=\"2\" y=\"2\" height =\"26\" width=\"86\" rx=\"5\" ry=\"5\"/>    </g></defs><line x1=\"0\" y1=\"30\" x2=\"180\" y2=\"30\" style=\"stroke: black;\"/><line x1=\"30\" y1=\"0\" x2=\"30\" y2=\"180\" style=\"stroke: black;\"/><line x1=\"0\" y1=\"60\" x2=\"180\" y2=\"60\" style=\"stroke: black;\"/><line x1=\"60\" y1=\"0\" x2=\"60\" y2=\"180\" style=\"stroke: black;\"/><line x1=\"0\" y1=\"90\" x2=\"180\" y2=\"90\" style=\"stroke: black;\"/><line x1=\"90\" y1=\"0\" x2=\"90\" y2=\"180\" style=\"stroke: black;\"/><line x1=\"0\" y1=\"120\" x2=\"180\" y2=\"120\" style=\"stroke: black;\"/><line x1=\"120\" y1=\"0\" x2=\"120\" y2=\"180\" style=\"stroke: black;\"/><line x1=\"0\" y1=\"150\" x2=\"180\" y2=\"150\" style=\"stroke: black;\"/><line x1=\"150\" y1=\"0\" x2=\"150\" y2=\"180\" style=\"stroke: black;\"/><use xlink:href=\"#car\" x=\"0\" y=\"0\" style=\"fill:#7FFF00\" ;\" /><text  x=\"30.0\" y=\"15.0\" text-anchor=\"middle\" alignment-baseline=\"central\" style=\"font-weight:bold\" >Q</text><use xlink:href=\"#car\" x=\"30\" y=\"60\"transform=\"rotate(90,45.0,75.0)\" style=\"fill:#7FFFD4\" ;\" /><text  x=\"45.0\" y=\"90.0\" text-anchor=\"middle\" alignment-baseline=\"central\" style=\"font-weight:bold\" >A</text><use xlink:href=\"#car\" x=\"60\" y=\"60\" style=\"fill:#D2691E\" ;\" /><text  x=\"90.0\" y=\"75.0\" text-anchor=\"middle\" alignment-baseline=\"central\" style=\"font-weight:bold\" >B</text><use xlink:href=\"#truck\" x=\"120\" y=\"60\"transform=\"rotate(90,135.0,75.0)\" style=\"fill:#F08080\" ;\" /><text  x=\"135.0\" y=\"105.0\" text-anchor=\"middle\" alignment-baseline=\"central\" style=\"font-weight:bold\" >T</text><use xlink:href=\"#car\" x=\"150\" y=\"120\"transform=\"rotate(90,165.0,135.0)\" style=\"fill:#8B008B\" ;\" /><text  x=\"165.0\" y=\"150.0\" text-anchor=\"middle\" alignment-baseline=\"central\" style=\"font-weight:bold\" >C</text><use xlink:href=\"#car\" x=\"60\" y=\"60\" style=\"fill:#FF0000\" ;\" /><text  x=\"90.0\" y=\"75.0\" text-anchor=\"middle\" alignment-baseline=\"central\" style=\"font-weight:bold\" >X</text></svg>"
      ],
      "text/plain": [
       "<IPython.core.display.HTML object>"
      ]
     },
     "execution_count": 18,
     "metadata": {},
     "output_type": "execute_result"
    }
   ],
   "source": [
    "s = c.states[500]\n",
    "t = c.states[800]\n",
    "HTML(s.svg)"
   ]
  },
  {
   "cell_type": "code",
   "execution_count": 19,
   "metadata": {
    "collapsed": false
   },
   "outputs": [
    {
     "data": {
      "text/html": [
       "<svg width=\"180\" height=\"180\" xmlns=\"http://www.w3.org/2000/svg\"><rect x=\"0\" y=\"0\" width = \"180\" height = \"180\" style=\"fill:#E6E6E6; stroke:black; stroke-width:2; stroke-opacity:0.5;\"/> <defs>    <g id=\"car\" >        <rect x=\"0\" y=\"0\" height=\"30\" width=\"60\" style=\"opacity:0.0\"/>        <rect x=\"2\" y=\"2\" height =\"26\" width=\"56\" rx=\"5\" ry=\"5\"/>    </g>    <g id=\"truck\" >        <rect x=\"0\" y=\"0\" height=\"30\" width=\"90\" style=\"opacity:0.0\"/>        <rect x=\"2\" y=\"2\" height =\"26\" width=\"86\" rx=\"5\" ry=\"5\"/>    </g></defs><line x1=\"0\" y1=\"30\" x2=\"180\" y2=\"30\" style=\"stroke: black;\"/><line x1=\"30\" y1=\"0\" x2=\"30\" y2=\"180\" style=\"stroke: black;\"/><line x1=\"0\" y1=\"60\" x2=\"180\" y2=\"60\" style=\"stroke: black;\"/><line x1=\"60\" y1=\"0\" x2=\"60\" y2=\"180\" style=\"stroke: black;\"/><line x1=\"0\" y1=\"90\" x2=\"180\" y2=\"90\" style=\"stroke: black;\"/><line x1=\"90\" y1=\"0\" x2=\"90\" y2=\"180\" style=\"stroke: black;\"/><line x1=\"0\" y1=\"120\" x2=\"180\" y2=\"120\" style=\"stroke: black;\"/><line x1=\"120\" y1=\"0\" x2=\"120\" y2=\"180\" style=\"stroke: black;\"/><line x1=\"0\" y1=\"150\" x2=\"180\" y2=\"150\" style=\"stroke: black;\"/><line x1=\"150\" y1=\"0\" x2=\"150\" y2=\"180\" style=\"stroke: black;\"/><use xlink:href=\"#car\" x=\"0\" y=\"0\" style=\"fill:#7FFF00\" ;\" /><text  x=\"30.0\" y=\"15.0\" text-anchor=\"middle\" alignment-baseline=\"central\" style=\"font-weight:bold\" >Q</text><use xlink:href=\"#car\" x=\"30\" y=\"60\"transform=\"rotate(90,45.0,75.0)\" style=\"fill:#7FFFD4\" ;\" /><text  x=\"45.0\" y=\"90.0\" text-anchor=\"middle\" alignment-baseline=\"central\" style=\"font-weight:bold\" >A</text><use xlink:href=\"#car\" x=\"60\" y=\"60\" style=\"fill:#D2691E\" ;\" /><text  x=\"90.0\" y=\"75.0\" text-anchor=\"middle\" alignment-baseline=\"central\" style=\"font-weight:bold\" >B</text><use xlink:href=\"#truck\" x=\"120\" y=\"60\"transform=\"rotate(90,135.0,75.0)\" style=\"fill:#F08080\" ;\" /><text  x=\"135.0\" y=\"105.0\" text-anchor=\"middle\" alignment-baseline=\"central\" style=\"font-weight:bold\" >T</text><use xlink:href=\"#car\" x=\"150\" y=\"120\"transform=\"rotate(90,165.0,135.0)\" style=\"fill:#8B008B\" ;\" /><text  x=\"165.0\" y=\"150.0\" text-anchor=\"middle\" alignment-baseline=\"central\" style=\"font-weight:bold\" >C</text><use xlink:href=\"#car\" x=\"60\" y=\"60\" style=\"fill:#FF0000\" ;\" /><text  x=\"90.0\" y=\"75.0\" text-anchor=\"middle\" alignment-baseline=\"central\" style=\"font-weight:bold\" >X</text></svg>"
      ],
      "text/plain": [
       "<IPython.core.display.HTML object>"
      ]
     },
     "execution_count": 19,
     "metadata": {},
     "output_type": "execute_result"
    }
   ],
   "source": [
    "HTML(s.svg)"
   ]
  },
  {
   "cell_type": "code",
   "execution_count": 20,
   "metadata": {
    "collapsed": false
   },
   "outputs": [
    {
     "data": {
      "text/html": [
       "<svg width=\"180\" height=\"180\" xmlns=\"http://www.w3.org/2000/svg\"><rect x=\"0\" y=\"0\" width = \"180\" height = \"180\" style=\"fill:#E6E6E6; stroke:black; stroke-width:2; stroke-opacity:0.5;\"/> <defs>    <g id=\"car\" >        <rect x=\"0\" y=\"0\" height=\"30\" width=\"60\" style=\"opacity:0.0\"/>        <rect x=\"2\" y=\"2\" height =\"26\" width=\"56\" rx=\"5\" ry=\"5\"/>    </g>    <g id=\"truck\" >        <rect x=\"0\" y=\"0\" height=\"30\" width=\"90\" style=\"opacity:0.0\"/>        <rect x=\"2\" y=\"2\" height =\"26\" width=\"86\" rx=\"5\" ry=\"5\"/>    </g></defs><line x1=\"0\" y1=\"30\" x2=\"180\" y2=\"30\" style=\"stroke: black;\"/><line x1=\"30\" y1=\"0\" x2=\"30\" y2=\"180\" style=\"stroke: black;\"/><line x1=\"0\" y1=\"60\" x2=\"180\" y2=\"60\" style=\"stroke: black;\"/><line x1=\"60\" y1=\"0\" x2=\"60\" y2=\"180\" style=\"stroke: black;\"/><line x1=\"0\" y1=\"90\" x2=\"180\" y2=\"90\" style=\"stroke: black;\"/><line x1=\"90\" y1=\"0\" x2=\"90\" y2=\"180\" style=\"stroke: black;\"/><line x1=\"0\" y1=\"120\" x2=\"180\" y2=\"120\" style=\"stroke: black;\"/><line x1=\"120\" y1=\"0\" x2=\"120\" y2=\"180\" style=\"stroke: black;\"/><line x1=\"0\" y1=\"150\" x2=\"180\" y2=\"150\" style=\"stroke: black;\"/><line x1=\"150\" y1=\"0\" x2=\"150\" y2=\"180\" style=\"stroke: black;\"/><use xlink:href=\"#car\" x=\"30\" y=\"0\"transform=\"rotate(90,45.0,15.0)\" style=\"fill:#7FFF00\" ;\" /><text  x=\"45.0\" y=\"30.0\" text-anchor=\"middle\" alignment-baseline=\"central\" style=\"font-weight:bold\" >Q</text><use xlink:href=\"#car\" x=\"60\" y=\"0\" style=\"fill:#7FFFD4\" ;\" /><text  x=\"90.0\" y=\"15.0\" text-anchor=\"middle\" alignment-baseline=\"central\" style=\"font-weight:bold\" >A</text><use xlink:href=\"#car\" x=\"150\" y=\"0\"transform=\"rotate(90,165.0,15.0)\" style=\"fill:#D2691E\" ;\" /><text  x=\"165.0\" y=\"30.0\" text-anchor=\"middle\" alignment-baseline=\"central\" style=\"font-weight:bold\" >B</text><use xlink:href=\"#car\" x=\"0\" y=\"60\" style=\"fill:#8B008B\" ;\" /><text  x=\"30.0\" y=\"75.0\" text-anchor=\"middle\" alignment-baseline=\"central\" style=\"font-weight:bold\" >C</text><use xlink:href=\"#truck\" x=\"120\" y=\"90\"transform=\"rotate(90,135.0,105.0)\" style=\"fill:#F08080\" ;\" /><text  x=\"135.0\" y=\"135.0\" text-anchor=\"middle\" alignment-baseline=\"central\" style=\"font-weight:bold\" >T</text><use xlink:href=\"#car\" x=\"0\" y=\"60\" style=\"fill:#FF0000\" ;\" /><text  x=\"30.0\" y=\"75.0\" text-anchor=\"middle\" alignment-baseline=\"central\" style=\"font-weight:bold\" >X</text></svg>"
      ],
      "text/plain": [
       "<IPython.core.display.HTML object>"
      ]
     },
     "execution_count": 20,
     "metadata": {},
     "output_type": "execute_result"
    }
   ],
   "source": [
    "HTML(t.svg)"
   ]
  },
  {
   "cell_type": "code",
   "execution_count": 24,
   "metadata": {
    "collapsed": false
   },
   "outputs": [
    {
     "data": {
      "text/html": [
       "<svg width=\"500\" height=\"500\"><line x1=\"50\" y1=\"50\" x2=\"200\" y2=\"200\" style=\"stroke:black\"/><g transform=\" translate(50,50) scale(.4)\"><svg width=\"180\" height=\"180\" xmlns=\"http://www.w3.org/2000/svg\"><rect x=\"0\" y=\"0\" width = \"180\" height = \"180\" style=\"fill:#E6E6E6; stroke:black; stroke-width:2; stroke-opacity:0.5;\"/> <defs>    <g id=\"car\" >        <rect x=\"0\" y=\"0\" height=\"30\" width=\"60\" style=\"opacity:0.0\"/>        <rect x=\"2\" y=\"2\" height =\"26\" width=\"56\" rx=\"5\" ry=\"5\"/>    </g>    <g id=\"truck\" >        <rect x=\"0\" y=\"0\" height=\"30\" width=\"90\" style=\"opacity:0.0\"/>        <rect x=\"2\" y=\"2\" height =\"26\" width=\"86\" rx=\"5\" ry=\"5\"/>    </g></defs><line x1=\"0\" y1=\"30\" x2=\"180\" y2=\"30\" style=\"stroke: black;\"/><line x1=\"30\" y1=\"0\" x2=\"30\" y2=\"180\" style=\"stroke: black;\"/><line x1=\"0\" y1=\"60\" x2=\"180\" y2=\"60\" style=\"stroke: black;\"/><line x1=\"60\" y1=\"0\" x2=\"60\" y2=\"180\" style=\"stroke: black;\"/><line x1=\"0\" y1=\"90\" x2=\"180\" y2=\"90\" style=\"stroke: black;\"/><line x1=\"90\" y1=\"0\" x2=\"90\" y2=\"180\" style=\"stroke: black;\"/><line x1=\"0\" y1=\"120\" x2=\"180\" y2=\"120\" style=\"stroke: black;\"/><line x1=\"120\" y1=\"0\" x2=\"120\" y2=\"180\" style=\"stroke: black;\"/><line x1=\"0\" y1=\"150\" x2=\"180\" y2=\"150\" style=\"stroke: black;\"/><line x1=\"150\" y1=\"0\" x2=\"150\" y2=\"180\" style=\"stroke: black;\"/><use xlink:href=\"#car\" x=\"30\" y=\"0\" style=\"fill:#7FFF00\" ;\" /><text  x=\"60.0\" y=\"15.0\" text-anchor=\"middle\" alignment-baseline=\"central\" style=\"font-weight:bold\" >Q</text><use xlink:href=\"#truck\" x=\"120\" y=\"0\"transform=\"rotate(90,135.0,15.0)\" style=\"fill:#F08080\" ;\" /><text  x=\"135.0\" y=\"45.0\" text-anchor=\"middle\" alignment-baseline=\"central\" style=\"font-weight:bold\" >T</text><use xlink:href=\"#car\" x=\"150\" y=\"0\"transform=\"rotate(90,165.0,15.0)\" style=\"fill:#7FFFD4\" ;\" /><text  x=\"165.0\" y=\"30.0\" text-anchor=\"middle\" alignment-baseline=\"central\" style=\"font-weight:bold\" >A</text><use xlink:href=\"#car\" x=\"30\" y=\"60\" style=\"fill:#D2691E\" ;\" /><text  x=\"60.0\" y=\"75.0\" text-anchor=\"middle\" alignment-baseline=\"central\" style=\"font-weight:bold\" >B</text><use xlink:href=\"#car\" x=\"30\" y=\"120\"transform=\"rotate(90,45.0,135.0)\" style=\"fill:#8B008B\" ;\" /><text  x=\"45.0\" y=\"150.0\" text-anchor=\"middle\" alignment-baseline=\"central\" style=\"font-weight:bold\" >C</text><use xlink:href=\"#car\" x=\"30\" y=\"60\" style=\"fill:#FF0000\" ;\" /><text  x=\"60.0\" y=\"75.0\" text-anchor=\"middle\" alignment-baseline=\"central\" style=\"font-weight:bold\" >X</text></svg></g><g transform=\" translate(200,200) scale(.4)\"><svg width=\"180\" height=\"180\" xmlns=\"http://www.w3.org/2000/svg\"><rect x=\"0\" y=\"0\" width = \"180\" height = \"180\" style=\"fill:#E6E6E6; stroke:black; stroke-width:2; stroke-opacity:0.5;\"/> <defs>    <g id=\"car\" >        <rect x=\"0\" y=\"0\" height=\"30\" width=\"60\" style=\"opacity:0.0\"/>        <rect x=\"2\" y=\"2\" height =\"26\" width=\"56\" rx=\"5\" ry=\"5\"/>    </g>    <g id=\"truck\" >        <rect x=\"0\" y=\"0\" height=\"30\" width=\"90\" style=\"opacity:0.0\"/>        <rect x=\"2\" y=\"2\" height =\"26\" width=\"86\" rx=\"5\" ry=\"5\"/>    </g></defs><line x1=\"0\" y1=\"30\" x2=\"180\" y2=\"30\" style=\"stroke: black;\"/><line x1=\"30\" y1=\"0\" x2=\"30\" y2=\"180\" style=\"stroke: black;\"/><line x1=\"0\" y1=\"60\" x2=\"180\" y2=\"60\" style=\"stroke: black;\"/><line x1=\"60\" y1=\"0\" x2=\"60\" y2=\"180\" style=\"stroke: black;\"/><line x1=\"0\" y1=\"90\" x2=\"180\" y2=\"90\" style=\"stroke: black;\"/><line x1=\"90\" y1=\"0\" x2=\"90\" y2=\"180\" style=\"stroke: black;\"/><line x1=\"0\" y1=\"120\" x2=\"180\" y2=\"120\" style=\"stroke: black;\"/><line x1=\"120\" y1=\"0\" x2=\"120\" y2=\"180\" style=\"stroke: black;\"/><line x1=\"0\" y1=\"150\" x2=\"180\" y2=\"150\" style=\"stroke: black;\"/><line x1=\"150\" y1=\"0\" x2=\"150\" y2=\"180\" style=\"stroke: black;\"/><use xlink:href=\"#car\" x=\"30\" y=\"0\" style=\"fill:#7FFF00\" ;\" /><text  x=\"60.0\" y=\"15.0\" text-anchor=\"middle\" alignment-baseline=\"central\" style=\"font-weight:bold\" >Q</text><use xlink:href=\"#truck\" x=\"120\" y=\"30\"transform=\"rotate(90,135.0,45.0)\" style=\"fill:#F08080\" ;\" /><text  x=\"135.0\" y=\"75.0\" text-anchor=\"middle\" alignment-baseline=\"central\" style=\"font-weight:bold\" >T</text><use xlink:href=\"#car\" x=\"30\" y=\"60\" style=\"fill:#7FFFD4\" ;\" /><text  x=\"60.0\" y=\"75.0\" text-anchor=\"middle\" alignment-baseline=\"central\" style=\"font-weight:bold\" >A</text><use xlink:href=\"#car\" x=\"150\" y=\"60\"transform=\"rotate(90,165.0,75.0)\" style=\"fill:#D2691E\" ;\" /><text  x=\"165.0\" y=\"90.0\" text-anchor=\"middle\" alignment-baseline=\"central\" style=\"font-weight:bold\" >B</text><use xlink:href=\"#car\" x=\"30\" y=\"120\"transform=\"rotate(90,45.0,135.0)\" style=\"fill:#8B008B\" ;\" /><text  x=\"45.0\" y=\"150.0\" text-anchor=\"middle\" alignment-baseline=\"central\" style=\"font-weight:bold\" >C</text><use xlink:href=\"#car\" x=\"30\" y=\"60\" style=\"fill:#FF0000\" ;\" /><text  x=\"60.0\" y=\"75.0\" text-anchor=\"middle\" alignment-baseline=\"central\" style=\"font-weight:bold\" >X</text></svg></g><g transform=\" translate(150,100) scale(.4)\"><svg width=\"180\" height=\"180\" xmlns=\"http://www.w3.org/2000/svg\"><rect x=\"0\" y=\"0\" width = \"180\" height = \"180\" style=\"fill:#E6E6E6; stroke:black; stroke-width:2; stroke-opacity:0.5;\"/> <defs>    <g id=\"car\" >        <rect x=\"0\" y=\"0\" height=\"30\" width=\"60\" style=\"opacity:0.0\"/>        <rect x=\"2\" y=\"2\" height =\"26\" width=\"56\" rx=\"5\" ry=\"5\"/>    </g>    <g id=\"truck\" >        <rect x=\"0\" y=\"0\" height=\"30\" width=\"90\" style=\"opacity:0.0\"/>        <rect x=\"2\" y=\"2\" height =\"26\" width=\"86\" rx=\"5\" ry=\"5\"/>    </g></defs><line x1=\"0\" y1=\"30\" x2=\"180\" y2=\"30\" style=\"stroke: black;\"/><line x1=\"30\" y1=\"0\" x2=\"30\" y2=\"180\" style=\"stroke: black;\"/><line x1=\"0\" y1=\"60\" x2=\"180\" y2=\"60\" style=\"stroke: black;\"/><line x1=\"60\" y1=\"0\" x2=\"60\" y2=\"180\" style=\"stroke: black;\"/><line x1=\"0\" y1=\"90\" x2=\"180\" y2=\"90\" style=\"stroke: black;\"/><line x1=\"90\" y1=\"0\" x2=\"90\" y2=\"180\" style=\"stroke: black;\"/><line x1=\"0\" y1=\"120\" x2=\"180\" y2=\"120\" style=\"stroke: black;\"/><line x1=\"120\" y1=\"0\" x2=\"120\" y2=\"180\" style=\"stroke: black;\"/><line x1=\"0\" y1=\"150\" x2=\"180\" y2=\"150\" style=\"stroke: black;\"/><line x1=\"150\" y1=\"0\" x2=\"150\" y2=\"180\" style=\"stroke: black;\"/><use xlink:href=\"#car\" x=\"30\" y=\"0\" style=\"fill:#7FFF00\" ;\" /><text  x=\"60.0\" y=\"15.0\" text-anchor=\"middle\" alignment-baseline=\"central\" style=\"font-weight:bold\" >Q</text><use xlink:href=\"#car\" x=\"30\" y=\"60\" style=\"fill:#7FFFD4\" ;\" /><text  x=\"60.0\" y=\"75.0\" text-anchor=\"middle\" alignment-baseline=\"central\" style=\"font-weight:bold\" >A</text><use xlink:href=\"#car\" x=\"150\" y=\"60\"transform=\"rotate(90,165.0,75.0)\" style=\"fill:#D2691E\" ;\" /><text  x=\"165.0\" y=\"90.0\" text-anchor=\"middle\" alignment-baseline=\"central\" style=\"font-weight:bold\" >B</text><use xlink:href=\"#car\" x=\"30\" y=\"90\"transform=\"rotate(90,45.0,105.0)\" style=\"fill:#8B008B\" ;\" /><text  x=\"45.0\" y=\"120.0\" text-anchor=\"middle\" alignment-baseline=\"central\" style=\"font-weight:bold\" >C</text><use xlink:href=\"#truck\" x=\"120\" y=\"90\"transform=\"rotate(90,135.0,105.0)\" style=\"fill:#F08080\" ;\" /><text  x=\"135.0\" y=\"135.0\" text-anchor=\"middle\" alignment-baseline=\"central\" style=\"font-weight:bold\" >T</text><use xlink:href=\"#car\" x=\"30\" y=\"60\" style=\"fill:#FF0000\" ;\" /><text  x=\"60.0\" y=\"75.0\" text-anchor=\"middle\" alignment-baseline=\"central\" style=\"font-weight:bold\" >X</text></svg></g><g transform=\" translate(100,200) scale(.4)\"><svg width=\"180\" height=\"180\" xmlns=\"http://www.w3.org/2000/svg\"><rect x=\"0\" y=\"0\" width = \"180\" height = \"180\" style=\"fill:#E6E6E6; stroke:black; stroke-width:2; stroke-opacity:0.5;\"/> <defs>    <g id=\"car\" >        <rect x=\"0\" y=\"0\" height=\"30\" width=\"60\" style=\"opacity:0.0\"/>        <rect x=\"2\" y=\"2\" height =\"26\" width=\"56\" rx=\"5\" ry=\"5\"/>    </g>    <g id=\"truck\" >        <rect x=\"0\" y=\"0\" height=\"30\" width=\"90\" style=\"opacity:0.0\"/>        <rect x=\"2\" y=\"2\" height =\"26\" width=\"86\" rx=\"5\" ry=\"5\"/>    </g></defs><line x1=\"0\" y1=\"30\" x2=\"180\" y2=\"30\" style=\"stroke: black;\"/><line x1=\"30\" y1=\"0\" x2=\"30\" y2=\"180\" style=\"stroke: black;\"/><line x1=\"0\" y1=\"60\" x2=\"180\" y2=\"60\" style=\"stroke: black;\"/><line x1=\"60\" y1=\"0\" x2=\"60\" y2=\"180\" style=\"stroke: black;\"/><line x1=\"0\" y1=\"90\" x2=\"180\" y2=\"90\" style=\"stroke: black;\"/><line x1=\"90\" y1=\"0\" x2=\"90\" y2=\"180\" style=\"stroke: black;\"/><line x1=\"0\" y1=\"120\" x2=\"180\" y2=\"120\" style=\"stroke: black;\"/><line x1=\"120\" y1=\"0\" x2=\"120\" y2=\"180\" style=\"stroke: black;\"/><line x1=\"0\" y1=\"150\" x2=\"180\" y2=\"150\" style=\"stroke: black;\"/><line x1=\"150\" y1=\"0\" x2=\"150\" y2=\"180\" style=\"stroke: black;\"/><use xlink:href=\"#car\" x=\"0\" y=\"0\" style=\"fill:#7FFF00\" ;\" /><text  x=\"30.0\" y=\"15.0\" text-anchor=\"middle\" alignment-baseline=\"central\" style=\"font-weight:bold\" >Q</text><use xlink:href=\"#car\" x=\"30\" y=\"60\"transform=\"rotate(90,45.0,75.0)\" style=\"fill:#7FFFD4\" ;\" /><text  x=\"45.0\" y=\"90.0\" text-anchor=\"middle\" alignment-baseline=\"central\" style=\"font-weight:bold\" >A</text><use xlink:href=\"#car\" x=\"60\" y=\"60\" style=\"fill:#D2691E\" ;\" /><text  x=\"90.0\" y=\"75.0\" text-anchor=\"middle\" alignment-baseline=\"central\" style=\"font-weight:bold\" >B</text><use xlink:href=\"#truck\" x=\"120\" y=\"60\"transform=\"rotate(90,135.0,75.0)\" style=\"fill:#F08080\" ;\" /><text  x=\"135.0\" y=\"105.0\" text-anchor=\"middle\" alignment-baseline=\"central\" style=\"font-weight:bold\" >T</text><use xlink:href=\"#car\" x=\"150\" y=\"120\"transform=\"rotate(90,165.0,135.0)\" style=\"fill:#8B008B\" ;\" /><text  x=\"165.0\" y=\"150.0\" text-anchor=\"middle\" alignment-baseline=\"central\" style=\"font-weight:bold\" >C</text><use xlink:href=\"#car\" x=\"60\" y=\"60\" style=\"fill:#FF0000\" ;\" /><text  x=\"90.0\" y=\"75.0\" text-anchor=\"middle\" alignment-baseline=\"central\" style=\"font-weight:bold\" >X</text></svg></g></svg>"
      ],
      "text/plain": [
       "<IPython.core.display.HTML object>"
      ]
     },
     "execution_count": 24,
     "metadata": {},
     "output_type": "execute_result"
    }
   ],
   "source": [
    "svg = \"\"\"<svg width=\"500\" height=\"500\">\"\"\" \n",
    "svg = svg + '<line x1=\"50\" y1=\"50\" x2=\"200\" y2=\"200\" style=\"stroke:black\"/>'\n",
    "svg = svg + '<g transform=\" translate(50,50) scale(.4)\">' + c.states[50].svg + '</g>'\n",
    "svg = svg + '<g transform=\" translate(200,200) scale(.4)\">' + c.states[100].svg + '</g>'\n",
    "svg = svg + '<g transform=\" translate(150,100) scale(.4)\">' + c.states[200].svg + '</g>'\n",
    "svg = svg + '<g transform=\" translate(100,200) scale(.4)\">' + c.states[500].svg + '</g>'\n",
    "svg = svg + '</svg>'\n",
    "HTML(svg)"
   ]
  },
  {
   "cell_type": "code",
   "execution_count": 4,
   "metadata": {
    "collapsed": false
   },
   "outputs": [
    {
     "data": {
      "text/plain": [
       "0.7071067811865476"
      ]
     },
     "execution_count": 4,
     "metadata": {},
     "output_type": "execute_result"
    }
   ],
   "source": [
    "import math\n"
   ]
  },
  {
   "cell_type": "code",
   "execution_count": 6,
   "metadata": {
    "collapsed": false
   },
   "outputs": [
    {
     "data": {
      "text/plain": [
       "0.8660254037844387"
      ]
     },
     "execution_count": 6,
     "metadata": {},
     "output_type": "execute_result"
    }
   ],
   "source": [
    "math.sin(math.radians(120))"
   ]
  },
  {
   "cell_type": "code",
   "execution_count": 2,
   "metadata": {
    "collapsed": false
   },
   "outputs": [
    {
     "ename": "SyntaxError",
     "evalue": "invalid syntax (<ipython-input-2-8e15a25c7812>, line 1)",
     "output_type": "error",
     "traceback": [
      "\u001b[0;36m  File \u001b[0;32m\"<ipython-input-2-8e15a25c7812>\"\u001b[0;36m, line \u001b[0;32m1\u001b[0m\n\u001b[0;31m    HTML(\"<svg width=\"300\" height=\"300\" xmlns=\"http://www.w3.org/2000/svg\">\u001b[0m\n\u001b[0m                        ^\u001b[0m\n\u001b[0;31mSyntaxError\u001b[0m\u001b[0;31m:\u001b[0m invalid syntax\n"
     ]
    }
   ],
   "source": []
  },
  {
   "cell_type": "code",
   "execution_count": null,
   "metadata": {
    "collapsed": true
   },
   "outputs": [],
   "source": []
  }
 ],
 "metadata": {
  "anaconda-cloud": {},
  "kernelspec": {
   "display_name": "Python [default]",
   "language": "python",
   "name": "python3"
  },
  "language_info": {
   "codemirror_mode": {
    "name": "ipython",
    "version": 3
   },
   "file_extension": ".py",
   "mimetype": "text/x-python",
   "name": "python",
   "nbconvert_exporter": "python",
   "pygments_lexer": "ipython3",
   "version": "3.5.2"
  }
 },
 "nbformat": 4,
 "nbformat_minor": 0
}

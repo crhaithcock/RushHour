{
 "metadata": {
  "name": "",
  "signature": "sha256:103bb9492995aa935c412eff67c1caa5a4450869cc430fa00f62c1c2a328125c"
 },
 "nbformat": 3,
 "nbformat_minor": 0,
 "worksheets": [
  {
   "cells": [
    {
     "cell_type": "code",
     "collapsed": false,
     "input": [
      "from collections import defaultdict\n",
      "import matplotlib.pyplot as plt\n",
      "import pandas as pd\n",
      "import os\n",
      "import sqlite3\n",
      "%pylab inline"
     ],
     "language": "python",
     "metadata": {},
     "outputs": [
      {
       "output_type": "stream",
       "stream": "stdout",
       "text": [
        "Populating the interactive namespace from numpy and matplotlib\n"
       ]
      }
     ],
     "prompt_number": 1
    },
    {
     "cell_type": "markdown",
     "metadata": {},
     "source": [
      "__topo_classes= {topo_class_hash : summary_data}\n",
      "summary_data = {total_nodes: x, total_soln_nodes: y}__\n"
     ]
    },
    {
     "cell_type": "code",
     "collapsed": false,
     "input": [
      "def create_database(topo_class_hash):\n",
      "    sql_root = 'C:\\\\Users\\\\cliff\\\\workspace\\\\rushHour\\\\Data Model and SQL\\\\Schema Definition and Bulk Load\\\\schema def'\n",
      "    sql_files = ['game_state_ddl.sql','connected_component_ddl.sql','state_transition_ddl.sql']\n",
      "    sql_ddl_scripts = map(lambda x: os.path.normpath(sql_root + '\\\\' + x), sql_files)\n",
      "    \n",
      "    #!!!!TODO - This directory will depend upon the combinatorial class. Consider making the directory a function parameter\n",
      "    data_root = 'C:\\\\Users\\\\cliff\\\\workspace\\\\Rush Hour With Java\\\\data files\\\\2_cars_2_trucks'\n",
      "    db_filename = 'topo_class_' + str(topo_class_hash) + '.db'\n",
      "    conn = sqlite3.connect(data_root + '\\\\' + db_filename) \n",
      "    for script in sql_ddl_scripts:\n",
      "        sql = open(script).read()\n",
      "        conn.executescript(sql)\n",
      "    conn.close()\n",
      "    \n"
     ],
     "language": "python",
     "metadata": {},
     "outputs": [],
     "prompt_number": 2
    },
    {
     "cell_type": "code",
     "collapsed": false,
     "input": [
      "def insert_state(data_row):\n",
      "    data_root = 'C:\\\\Users\\\\cliff\\\\workspace\\\\Rush Hour With Java\\\\data files\\\\2_cars_2_trucks'\n",
      "    topo_class_hash = data_row['topo_class_hash']\n",
      "    db_filename = 'topo_class_' + str(topo_class_hash) + '.db'\n",
      "    \n",
      "    conn  = sqlite3.connect(data_root + '\\\\' + db_filename)\n",
      "    c = conn.cursor()\n",
      "    \n",
      "    if data_row['is_goal_state']:\n",
      "        is_goal_state = \"1\"\n",
      "    else:\n",
      "        is_goal_state = \"0\"\n",
      "    \n",
      "    insert_values = [data_row['game_number'],data_row['comb_class_id'],   \n",
      "                     data_row['game_hash_top'],data_row['game_hash_bottom'],is_goal_state, \n",
      "                     data_row['red_car_end_a'], data_row['topo_class_hash']  ]\n",
      "    sql = '''insert into game_state \n",
      "           (game_number, comb_class_id,game_hash_top, game_hash_bottom, is_goal_state,red_car_end_a,topo_class_hash)\n",
      "           values (''' + ','.join(insert_values) + ');'\n",
      "    c.execute(sql)\n",
      "    conn.commit()\n",
      "    c.close()\n",
      "    conn.close()\n",
      "    "
     ],
     "language": "python",
     "metadata": {},
     "outputs": [],
     "prompt_number": 3
    },
    {
     "cell_type": "code",
     "collapsed": false,
     "input": [
      "filepath = os.path.normpath('C:\\Users\\cliff\\workspace\\Rush Hour With Java\\data files\\game_states_2_cars_2_trucks.csv')\n",
      "data_file= open(filepath,'r')\n",
      "keys = data_file.readline().rstrip().split(',')\n",
      "\n",
      "topo_classes = {}\n",
      "# put this in loop\n",
      "for line in data_file:\n",
      "    data_row = dict(zip(keys,line.rstrip().split(',')))\n",
      "    hash = data_row['topo_class_hash']\n",
      "    if not hash in topo_classes:\n",
      "        topo_classes[hash] = {}\n",
      "        topo_classes[hash]['solution_count'] = 0\n",
      "        topo_classes[hash]['size'] = 0\n",
      "        create_database(hash)  # create database with schema\n",
      "    topo_classes[hash]['size'] = topo_classes[hash]['size']  + 1\n",
      "    if data_row['is_goal_state'] == 'true':\n",
      "        topo_classes[hash]['solution_count'] = topo_classes[hash]['solution_count']  + 1 \n",
      "    insert_state(data_row)\n",
      "    #insert data into relevant database?\n",
      "        "
     ],
     "language": "python",
     "metadata": {},
     "outputs": []
    },
    {
     "cell_type": "code",
     "collapsed": false,
     "input": [
      "topo_classes"
     ],
     "language": "python",
     "metadata": {},
     "outputs": [
      {
       "metadata": {},
       "output_type": "pyout",
       "prompt_number": 5,
       "text": [
        "{'134217728': {'size': 5, 'solution_count': 1}}"
       ]
      }
     ],
     "prompt_number": 5
    },
    {
     "cell_type": "code",
     "collapsed": false,
     "input": [
      "db_path = 'C:\\Users\\cliff\\workspace\\Rush Hour With Java\\data files\\2_cars_2_trucks\\topo_class_134217728.db'\n",
      "conn = sqlite3.connect(db_path)\n",
      "df.read_sql(conn,'game_state')"
     ],
     "language": "python",
     "metadata": {},
     "outputs": [
      {
       "ename": "OperationalError",
       "evalue": "unable to open database file",
       "output_type": "pyerr",
       "traceback": [
        "\u001b[1;31m---------------------------------------------------------------------------\u001b[0m\n\u001b[1;31mOperationalError\u001b[0m                          Traceback (most recent call last)",
        "\u001b[1;32m<ipython-input-7-64b95a994835>\u001b[0m in \u001b[0;36m<module>\u001b[1;34m()\u001b[0m\n\u001b[0;32m      1\u001b[0m \u001b[0mdb_path\u001b[0m \u001b[1;33m=\u001b[0m \u001b[1;34m'C:\\Users\\cliff\\workspace\\Rush Hour With Java\\data files\\2_cars_2_trucks\\topo_class_134217728.db'\u001b[0m\u001b[1;33m\u001b[0m\u001b[0m\n\u001b[1;32m----> 2\u001b[1;33m \u001b[0mconn\u001b[0m \u001b[1;33m=\u001b[0m \u001b[0msqlite3\u001b[0m\u001b[1;33m.\u001b[0m\u001b[0mconnect\u001b[0m\u001b[1;33m(\u001b[0m\u001b[0mdb_path\u001b[0m\u001b[1;33m)\u001b[0m\u001b[1;33m\u001b[0m\u001b[0m\n\u001b[0m\u001b[0;32m      3\u001b[0m \u001b[0mdf\u001b[0m\u001b[1;33m.\u001b[0m\u001b[0mread_sql\u001b[0m\u001b[1;33m(\u001b[0m\u001b[0mconn\u001b[0m\u001b[1;33m,\u001b[0m\u001b[1;34m'game_state'\u001b[0m\u001b[1;33m)\u001b[0m\u001b[1;33m\u001b[0m\u001b[0m\n",
        "\u001b[1;31mOperationalError\u001b[0m: unable to open database file"
       ]
      }
     ],
     "prompt_number": 7
    },
    {
     "cell_type": "markdown",
     "metadata": {},
     "source": [
      "__Create Databases__\n",
      "\n",
      "For each topo class, create a database. For topo class X, create 'x_game_states.db'. Inside this db will be states, the single topo class and connected components."
     ]
    },
    {
     "cell_type": "code",
     "collapsed": false,
     "input": [
      "os.getcwd()"
     ],
     "language": "python",
     "metadata": {},
     "outputs": [
      {
       "metadata": {},
       "output_type": "pyout",
       "prompt_number": 53,
       "text": [
        "'C:\\\\Users\\\\cliff\\\\workspace\\\\Rush Hour With Java\\\\data files'"
       ]
      }
     ],
     "prompt_number": 53
    },
    {
     "cell_type": "code",
     "collapsed": false,
     "input": [
      "os.mkdir('2_cars_2_trucks')"
     ],
     "language": "python",
     "metadata": {},
     "outputs": [],
     "prompt_number": 54
    },
    {
     "cell_type": "code",
     "collapsed": false,
     "input": [
      "os.chdir(os.getcwd() + '\\\\2_cars_2_trucks')"
     ],
     "language": "python",
     "metadata": {},
     "outputs": [],
     "prompt_number": 67
    },
    {
     "cell_type": "code",
     "collapsed": false,
     "input": [
      "os.getcwd()"
     ],
     "language": "python",
     "metadata": {},
     "outputs": [
      {
       "metadata": {},
       "output_type": "pyout",
       "prompt_number": 68,
       "text": [
        "'C:\\\\Users\\\\cliff\\\\workspace\\\\Rush Hour With Java\\\\data files\\\\2_cars_2_trucks'"
       ]
      }
     ],
     "prompt_number": 68
    },
    {
     "cell_type": "code",
     "collapsed": false,
     "input": [
      "import sqlite3"
     ],
     "language": "python",
     "metadata": {},
     "outputs": [],
     "prompt_number": 70
    },
    {
     "cell_type": "code",
     "collapsed": false,
     "input": [
      "conn = sqlite3.connect('topo_class_23434.db')"
     ],
     "language": "python",
     "metadata": {},
     "outputs": [],
     "prompt_number": 74
    },
    {
     "cell_type": "code",
     "collapsed": false,
     "input": [
      "game_state_ddl_file = open('C:\\\\Users\\\\cliff\\\\workspace\\\\rushHour\\\\Data Model and SQL\\\\Schema Definition and Bulk Load\\\\game_states_ddl.sql','r')\n",
      "game_state_ddl = game_state_ddl_file.read()\n",
      "game_state_ddl"
     ],
     "language": "python",
     "metadata": {},
     "outputs": [
      {
       "metadata": {},
       "output_type": "pyout",
       "prompt_number": 86,
       "text": [
        "'\\n--drop table game_state;\\n\\ncreate table if not exists game_state\\n(\\n\\tgame_number \\t\\t\\t\\t\\tINTEGER,\\n\\tcomb_class_id \\t\\t\\t\\t\\tINTEGER,\\n\\tgame_hash_top \\t\\t\\t\\t\\tINTEGER,\\n\\tgame_hash_bottom \\t\\t\\t\\tINTEGER,\\n\\tis_goal_state \\t\\t\\t\\t\\tINTEGER,\\n\\toptimal_transition_game_number \\tINTEGER,\\n\\tred_car_end_a \\t\\t\\t\\t\\tINTEGER,\\n\\ttopo_class_hash \\t\\t\\t\\tINTEGER,\\t\\n\\tconnected_component_id \\t\\t\\tINTEGER,\\n\\tdegree \\t\\t\\t\\t\\t\\t\\tINTEGER,\\n\\tsolution_distance \\t\\t\\t\\tINTEGER,\\n\\t\\n    CONSTRAINT game_state_pk PRIMARY KEY (comb_class_id, game_number)\\n);\\n\\ncreate index game_state_hash_key on game_state(game_hash_top, game_hash_bottom,red_car_end_a);\\n\\n'"
       ]
      }
     ],
     "prompt_number": 86
    },
    {
     "cell_type": "code",
     "collapsed": false,
     "input": [
      "c = conn.cursor()"
     ],
     "language": "python",
     "metadata": {},
     "outputs": [],
     "prompt_number": 87
    },
    {
     "cell_type": "code",
     "collapsed": false,
     "input": [
      "c.executescript(game_state_ddl)"
     ],
     "language": "python",
     "metadata": {},
     "outputs": [
      {
       "metadata": {},
       "output_type": "pyout",
       "prompt_number": 89,
       "text": [
        "<sqlite3.Cursor at 0xbf11d50>"
       ]
      }
     ],
     "prompt_number": 89
    },
    {
     "cell_type": "code",
     "collapsed": false,
     "input": [
      "conn.close()"
     ],
     "language": "python",
     "metadata": {},
     "outputs": [],
     "prompt_number": 90
    },
    {
     "cell_type": "code",
     "collapsed": false,
     "input": [],
     "language": "python",
     "metadata": {},
     "outputs": []
    }
   ],
   "metadata": {}
  }
 ]
}
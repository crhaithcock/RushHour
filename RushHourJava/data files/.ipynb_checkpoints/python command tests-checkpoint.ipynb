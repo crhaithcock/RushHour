{
 "metadata": {
  "name": "",
  "signature": "sha256:f2a54153e378d281da111901792ea74ea498caeafdd387b307bbe263959edfcc"
 },
 "nbformat": 3,
 "nbformat_minor": 0,
 "worksheets": [
  {
   "cells": [
    {
     "cell_type": "code",
     "collapsed": false,
     "input": [
      "import os"
     ],
     "language": "python",
     "metadata": {},
     "outputs": [],
     "prompt_number": 1
    },
    {
     "cell_type": "code",
     "collapsed": false,
     "input": [
      "pth = os.path.normpath('C:\\Users\\cliff\\workspace\\rushHour\\Data Model and SQL\\Schema Definition and Bulk Load\\schema def')\n",
      "pth"
     ],
     "language": "python",
     "metadata": {},
     "outputs": [
      {
       "metadata": {},
       "output_type": "pyout",
       "prompt_number": 3,
       "text": [
        "'C:\\\\Users\\\\cliff\\\\workspace\\rushHour\\\\Data Model and SQL\\\\Schema Definition and Bulk Load\\\\schema def'"
       ]
      }
     ],
     "prompt_number": 3
    },
    {
     "cell_type": "code",
     "collapsed": false,
     "input": [
      "sql_root = os.path.normpath('C:\\Users\\cliff\\workspace\\rushHour\\Data Model and SQL\\Schema Definition and Bulk Load\\schema def')\n",
      "sql_files = ['game_state_ddl.sql','connected_component_ddl.sql','state_transition_ddl.sql']\n",
      "tst =map(lambda x: os.path.normpath(sql_root +x), sql_files)\n",
      "tst"
     ],
     "language": "python",
     "metadata": {},
     "outputs": [
      {
       "metadata": {},
       "output_type": "pyout",
       "prompt_number": 4,
       "text": [
        "['C:\\\\Users\\\\cliff\\\\workspace\\rushHour\\\\Data Model and SQL\\\\Schema Definition and Bulk Load\\\\schema defgame_state_ddl.sql',\n",
        " 'C:\\\\Users\\\\cliff\\\\workspace\\rushHour\\\\Data Model and SQL\\\\Schema Definition and Bulk Load\\\\schema defconnected_component_ddl.sql',\n",
        " 'C:\\\\Users\\\\cliff\\\\workspace\\rushHour\\\\Data Model and SQL\\\\Schema Definition and Bulk Load\\\\schema defstate_transition_ddl.sql']"
       ]
      }
     ],
     "prompt_number": 4
    },
    {
     "cell_type": "code",
     "collapsed": false,
     "input": [],
     "language": "python",
     "metadata": {},
     "outputs": [],
     "prompt_number": 5
    },
    {
     "cell_type": "code",
     "collapsed": false,
     "input": [],
     "language": "python",
     "metadata": {},
     "outputs": []
    }
   ],
   "metadata": {}
  }
 ]
}
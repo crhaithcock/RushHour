{
 "metadata": {
  "name": "",
  "signature": "sha256:9819dfb9dd92423e67d70a98b27f0c6645c758d21d2b06a1f2c7a60cf137b0a7"
 },
 "nbformat": 3,
 "nbformat_minor": 0,
 "worksheets": [
  {
   "cells": [
    {
     "cell_type": "code",
     "collapsed": false,
     "input": [
      "import os\n",
      "import sqlite3"
     ],
     "language": "python",
     "metadata": {},
     "outputs": [],
     "prompt_number": 12
    },
    {
     "cell_type": "code",
     "collapsed": false,
     "input": [
      "pth = os.path.normpath('C:\\Users\\cliff\\workspace\\rushHour\\Data Model and SQL\\Schema Definition and Bulk Load\\schema def')\n",
      "pth"
     ],
     "language": "python",
     "metadata": {},
     "outputs": [
      {
       "metadata": {},
       "output_type": "pyout",
       "prompt_number": 3,
       "text": [
        "'C:\\\\Users\\\\cliff\\\\workspace\\rushHour\\\\Data Model and SQL\\\\Schema Definition and Bulk Load\\\\schema def'"
       ]
      }
     ],
     "prompt_number": 3
    },
    {
     "cell_type": "code",
     "collapsed": false,
     "input": [
      "sql_root = os.path.normpath('C:\\Users\\cliff\\workspace\\rushHour\\Data Model and SQL\\Schema Definition and Bulk Load\\schema def')\n",
      "sql_files = ['game_state_ddl.sql','connected_component_ddl.sql','state_transition_ddl.sql']\n",
      "tst =map(lambda x: os.path.normpath(sql_root +x), sql_files)\n",
      "tst"
     ],
     "language": "python",
     "metadata": {},
     "outputs": [
      {
       "metadata": {},
       "output_type": "pyout",
       "prompt_number": 4,
       "text": [
        "['C:\\\\Users\\\\cliff\\\\workspace\\rushHour\\\\Data Model and SQL\\\\Schema Definition and Bulk Load\\\\schema defgame_state_ddl.sql',\n",
        " 'C:\\\\Users\\\\cliff\\\\workspace\\rushHour\\\\Data Model and SQL\\\\Schema Definition and Bulk Load\\\\schema defconnected_component_ddl.sql',\n",
        " 'C:\\\\Users\\\\cliff\\\\workspace\\rushHour\\\\Data Model and SQL\\\\Schema Definition and Bulk Load\\\\schema defstate_transition_ddl.sql']"
       ]
      }
     ],
     "prompt_number": 4
    },
    {
     "cell_type": "code",
     "collapsed": false,
     "input": [
      "tst = ['a','b','5','34','asdhf']\n",
      "','.join(tst)"
     ],
     "language": "python",
     "metadata": {},
     "outputs": [
      {
       "metadata": {},
       "output_type": "pyout",
       "prompt_number": 11,
       "text": [
        "'a,b,5,34,asdhf'"
       ]
      }
     ],
     "prompt_number": 11
    },
    {
     "cell_type": "code",
     "collapsed": false,
     "input": [
      "data_root = 'C:\\\\Users\\\\cliff\\\\workspace\\\\Rush Hour With Java\\\\data files\\\\2_cars_2_trucks'\n",
      "db_filename = 'topo_class_' + str(38443) + '.db'\n",
      "con = sqlite3.connect( data_root + '\\\\' + db_filename) \n",
      "#print os.path.normpath(data_root + '\\\\' + db_filename) "
     ],
     "language": "python",
     "metadata": {},
     "outputs": [],
     "prompt_number": 28
    },
    {
     "cell_type": "code",
     "collapsed": false,
     "input": [
      "con.close()"
     ],
     "language": "python",
     "metadata": {},
     "outputs": [],
     "prompt_number": 29
    },
    {
     "cell_type": "code",
     "collapsed": false,
     "input": [
      "p = 'C:\\Users\\cliff\\workspace\\Rush Hour With Java\\data files\\\\2_cars_2_trucks'"
     ],
     "language": "python",
     "metadata": {},
     "outputs": [],
     "prompt_number": 34
    },
    {
     "cell_type": "code",
     "collapsed": false,
     "input": [
      "p"
     ],
     "language": "python",
     "metadata": {},
     "outputs": [
      {
       "metadata": {},
       "output_type": "pyout",
       "prompt_number": 35,
       "text": [
        "'C:\\\\Users\\\\cliff\\\\workspace\\\\Rush Hour With Java\\\\data files\\\\2_cars_2_trucks'"
       ]
      }
     ],
     "prompt_number": 35
    },
    {
     "cell_type": "code",
     "collapsed": false,
     "input": [
      "#def create_database(topo_class_hash):\n",
      "topo_class_hash = 4\n",
      "\n",
      "sql_root = 'C:\\Users\\cliff\\workspace\\rushHour\\Data Model and SQL\\Schema Definition and Bulk Load\\schema def'\n",
      "sql_files = ['game_state_ddl.sql','connected_component_ddl.sql','state_transition_ddl.sql']\n",
      "sql_ddl_scripts = map(lambda x: os.path.normpath(sql_root + os.path.sep + x), sql_files)\n",
      "\n",
      "#!!!!TODO - This directory will depend upon the combinatorial class. Consider making the directory a function parameter\n",
      "data_root = 'C:\\\\Users\\\\cliff\\\\workspace\\\\Rush Hour With Java\\\\data files\\\\2_cars_2_trucks'\n",
      "db_filename = 'topo_class_' + str(topo_class_hash) + '.db'\n",
      "\n",
      "\n",
      "#f = open(sql_ddl_scripts[0],'r')\n",
      "#sql = f.read()\n",
      "\n",
      "conn = sqlite3.connect(data_root + '\\\\' + db_filename) \n",
      "conn.executescript(sql)\n",
      "#conn.executescript(sql_ddl_scripts[1])\n",
      "#conn.executescript(sql_ddl_scripts[2])\n",
      "\n",
      "#conn.close()"
     ],
     "language": "python",
     "metadata": {},
     "outputs": [
      {
       "ename": "IOError",
       "evalue": "[Errno 22] invalid mode ('r') or filename: 'C:\\\\Users\\\\cliff\\\\workspace\\rushHour\\\\Data Model and SQL\\\\Schema Definition and Bulk Load\\\\schema def\\\\game_state_ddl.sql'",
       "output_type": "pyerr",
       "traceback": [
        "\u001b[1;31m---------------------------------------------------------------------------\u001b[0m\n\u001b[1;31mIOError\u001b[0m                                   Traceback (most recent call last)",
        "\u001b[1;32m<ipython-input-61-9035a302b92d>\u001b[0m in \u001b[0;36m<module>\u001b[1;34m()\u001b[0m\n\u001b[0;32m     10\u001b[0m \u001b[0mdb_filename\u001b[0m \u001b[1;33m=\u001b[0m \u001b[1;34m'topo_class_'\u001b[0m \u001b[1;33m+\u001b[0m \u001b[0mstr\u001b[0m\u001b[1;33m(\u001b[0m\u001b[0mtopo_class_hash\u001b[0m\u001b[1;33m)\u001b[0m \u001b[1;33m+\u001b[0m \u001b[1;34m'.db'\u001b[0m\u001b[1;33m\u001b[0m\u001b[0m\n\u001b[0;32m     11\u001b[0m \u001b[1;33m\u001b[0m\u001b[0m\n\u001b[1;32m---> 12\u001b[1;33m \u001b[0mf\u001b[0m \u001b[1;33m=\u001b[0m \u001b[0mopen\u001b[0m\u001b[1;33m(\u001b[0m\u001b[0msql_ddl_scripts\u001b[0m\u001b[1;33m[\u001b[0m\u001b[1;36m0\u001b[0m\u001b[1;33m]\u001b[0m\u001b[1;33m,\u001b[0m\u001b[1;34m'r'\u001b[0m\u001b[1;33m)\u001b[0m\u001b[1;33m\u001b[0m\u001b[0m\n\u001b[0m\u001b[0;32m     13\u001b[0m \u001b[0msql\u001b[0m \u001b[1;33m=\u001b[0m \u001b[0mf\u001b[0m\u001b[1;33m.\u001b[0m\u001b[0mread\u001b[0m\u001b[1;33m(\u001b[0m\u001b[1;33m)\u001b[0m\u001b[1;33m\u001b[0m\u001b[0m\n\u001b[0;32m     14\u001b[0m \u001b[1;33m\u001b[0m\u001b[0m\n",
        "\u001b[1;31mIOError\u001b[0m: [Errno 22] invalid mode ('r') or filename: 'C:\\\\Users\\\\cliff\\\\workspace\\rushHour\\\\Data Model and SQL\\\\Schema Definition and Bulk Load\\\\schema def\\\\game_state_ddl.sql'"
       ]
      }
     ],
     "prompt_number": 61
    },
    {
     "cell_type": "code",
     "collapsed": false,
     "input": [
      "f = open('C:\\\\Users\\\\cliff\\\\workspace\\\\rushHour\\\\Data Model and SQL\\\\Schema Definition and Bulk Load\\\\schema def\\\\game_state_ddl.sql','r')"
     ],
     "language": "python",
     "metadata": {},
     "outputs": [],
     "prompt_number": 67
    },
    {
     "cell_type": "code",
     "collapsed": false,
     "input": [
      "g = open(os.path.normpath('C:\\Users\\cliff\\workspace\\\\rushHour\\Data Model and SQL\\Schema Definition and Bulk Load\\schema def\\game_state_ddl.sql'),'r')"
     ],
     "language": "python",
     "metadata": {},
     "outputs": [],
     "prompt_number": 72
    },
    {
     "cell_type": "code",
     "collapsed": false,
     "input": [
      "g"
     ],
     "language": "python",
     "metadata": {},
     "outputs": [
      {
       "metadata": {},
       "output_type": "pyout",
       "prompt_number": 73,
       "text": [
        "<open file 'C:\\\\Users\\\\cliff\\\\workspace\\\\rushHour\\\\Data Model and SQL\\\\Schema Definition and Bulk Load\\\\schema def\\\\game_state_ddl.sql', mode 'r' at 0x000000000401D0C0>"
       ]
      }
     ],
     "prompt_number": 73
    },
    {
     "cell_type": "code",
     "collapsed": false,
     "input": [
      "g.close()"
     ],
     "language": "python",
     "metadata": {},
     "outputs": [],
     "prompt_number": 74
    },
    {
     "cell_type": "code",
     "collapsed": false,
     "input": [
      "def create_database(topo_class_hash):\n",
      "    sql_root = 'C:\\\\Users\\\\cliff\\\\workspace\\\\rushHour\\\\Data Model and SQL\\\\Schema Definition and Bulk Load\\\\schema def'\n",
      "    sql_files = ['game_state_ddl.sql','connected_component_ddl.sql','state_transition_ddl.sql']\n",
      "    sql_ddl_scripts = map(lambda x: os.path.normpath(sql_root + '\\\\' + x), sql_files)\n",
      "    \n",
      "    #!!!!TODO - This directory will depend upon the combinatorial class. Consider making the directory a function parameter\n",
      "    data_root = 'C:\\\\Users\\\\cliff\\\\workspace\\\\Rush Hour With Java\\\\data files\\\\2_cars_2_trucks'\n",
      "    db_filename = 'topo_class_' + str(topo_class_hash) + '.db'\n",
      "    conn = sqlite3.connect(data_root + '\\\\' + db_filename) \n",
      "    for script in sql_ddl_scripts:\n",
      "        sql = open(script).read()\n",
      "        conn.executescript(sql)\n",
      "    conn.close()"
     ],
     "language": "python",
     "metadata": {},
     "outputs": [],
     "prompt_number": 85
    },
    {
     "cell_type": "code",
     "collapsed": false,
     "input": [
      "create_database(694)"
     ],
     "language": "python",
     "metadata": {},
     "outputs": [],
     "prompt_number": 86
    },
    {
     "cell_type": "code",
     "collapsed": false,
     "input": [],
     "language": "python",
     "metadata": {},
     "outputs": []
    }
   ],
   "metadata": {}
  }
 ]
}
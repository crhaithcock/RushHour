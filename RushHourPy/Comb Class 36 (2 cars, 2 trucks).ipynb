{
 "cells": [
  {
   "cell_type": "code",
   "execution_count": 5,
   "metadata": {
    "collapsed": false
   },
   "outputs": [],
   "source": [
    "import networkx as nx\n",
    "import numpy as np\n",
    "import matplotlib.pyplot as plt\n",
    "import sqlite3\n",
    "import pandas as pd\n",
    "\n",
    "\n",
    "import state\n",
    "import component"
   ]
  },
  {
   "cell_type": "code",
   "execution_count": 6,
   "metadata": {
    "collapsed": false
   },
   "outputs": [
    {
     "data": {
      "text/plain": [
       "'C:\\\\Users\\\\chaithcock\\\\Documents\\\\repos\\\\RushHour\\\\RushHourPy'"
      ]
     },
     "execution_count": 6,
     "metadata": {},
     "output_type": "execute_result"
    }
   ],
   "source": [
    "pwd"
   ]
  },
  {
   "cell_type": "code",
   "execution_count": 8,
   "metadata": {
    "collapsed": false
   },
   "outputs": [],
   "source": [
    "conn = sqlite3.connect('database\\\\rush_hour.db')\n",
    "cur = conn.cursor()"
   ]
  },
  {
   "cell_type": "code",
   "execution_count": 16,
   "metadata": {
    "collapsed": true
   },
   "outputs": [],
   "source": [
    "sql = \"select * from component c join comp_stats s on c.id = s.component_id\"\n",
    "comp_data_df = pd.read_sql(sql,conn)"
   ]
  },
  {
   "cell_type": "code",
   "execution_count": 23,
   "metadata": {
    "collapsed": false
   },
   "outputs": [
    {
     "data": {
      "text/html": [
       "<div>\n",
       "<table border=\"1\" class=\"dataframe\">\n",
       "  <thead>\n",
       "    <tr style=\"text-align: right;\">\n",
       "      <th></th>\n",
       "      <th>id</th>\n",
       "      <th>comb_class_id</th>\n",
       "      <th>topo_class</th>\n",
       "      <th>component_id</th>\n",
       "      <th>num_states</th>\n",
       "      <th>num_soln_states</th>\n",
       "      <th>density</th>\n",
       "      <th>is_solvable</th>\n",
       "      <th>diameter</th>\n",
       "      <th>min_cut_size</th>\n",
       "    </tr>\n",
       "  </thead>\n",
       "  <tbody>\n",
       "    <tr>\n",
       "      <th>0</th>\n",
       "      <td>1</td>\n",
       "      <td>36</td>\n",
       "      <td>None</td>\n",
       "      <td>1</td>\n",
       "      <td>96</td>\n",
       "      <td>20</td>\n",
       "      <td>0.046053</td>\n",
       "      <td>1</td>\n",
       "      <td>14</td>\n",
       "      <td>-1</td>\n",
       "    </tr>\n",
       "    <tr>\n",
       "      <th>1</th>\n",
       "      <td>2</td>\n",
       "      <td>36</td>\n",
       "      <td>None</td>\n",
       "      <td>2</td>\n",
       "      <td>146</td>\n",
       "      <td>34</td>\n",
       "      <td>0.032593</td>\n",
       "      <td>1</td>\n",
       "      <td>14</td>\n",
       "      <td>-1</td>\n",
       "    </tr>\n",
       "    <tr>\n",
       "      <th>2</th>\n",
       "      <td>3</td>\n",
       "      <td>36</td>\n",
       "      <td>None</td>\n",
       "      <td>3</td>\n",
       "      <td>11</td>\n",
       "      <td>1</td>\n",
       "      <td>0.254545</td>\n",
       "      <td>1</td>\n",
       "      <td>6</td>\n",
       "      <td>-1</td>\n",
       "    </tr>\n",
       "    <tr>\n",
       "      <th>3</th>\n",
       "      <td>4</td>\n",
       "      <td>36</td>\n",
       "      <td>None</td>\n",
       "      <td>4</td>\n",
       "      <td>236</td>\n",
       "      <td>28</td>\n",
       "      <td>0.023440</td>\n",
       "      <td>1</td>\n",
       "      <td>14</td>\n",
       "      <td>-1</td>\n",
       "    </tr>\n",
       "    <tr>\n",
       "      <th>4</th>\n",
       "      <td>5</td>\n",
       "      <td>36</td>\n",
       "      <td>None</td>\n",
       "      <td>5</td>\n",
       "      <td>16</td>\n",
       "      <td>2</td>\n",
       "      <td>0.175000</td>\n",
       "      <td>1</td>\n",
       "      <td>7</td>\n",
       "      <td>-1</td>\n",
       "    </tr>\n",
       "  </tbody>\n",
       "</table>\n",
       "</div>"
      ],
      "text/plain": [
       "   id  comb_class_id topo_class  component_id  num_states  num_soln_states  \\\n",
       "0   1             36       None             1          96               20   \n",
       "1   2             36       None             2         146               34   \n",
       "2   3             36       None             3          11                1   \n",
       "3   4             36       None             4         236               28   \n",
       "4   5             36       None             5          16                2   \n",
       "\n",
       "    density  is_solvable  diameter  min_cut_size  \n",
       "0  0.046053            1        14            -1  \n",
       "1  0.032593            1        14            -1  \n",
       "2  0.254545            1         6            -1  \n",
       "3  0.023440            1        14            -1  \n",
       "4  0.175000            1         7            -1  "
      ]
     },
     "execution_count": 23,
     "metadata": {},
     "output_type": "execute_result"
    }
   ],
   "source": [
    "comp_data_df.head()"
   ]
  },
  {
   "cell_type": "code",
   "execution_count": 31,
   "metadata": {
    "collapsed": false
   },
   "outputs": [
    {
     "data": {
      "text/plain": [
       "35"
      ]
     },
     "execution_count": 31,
     "metadata": {},
     "output_type": "execute_result"
    }
   ],
   "source": [
    "comp_data_df.diameter.max()"
   ]
  },
  {
   "cell_type": "code",
   "execution_count": 22,
   "metadata": {
    "collapsed": false
   },
   "outputs": [],
   "source": [
    "#state_df = pd.read_sql(\"select * from state where comb_class_id = 36;\",conn)\n",
    "#component_df = pd.read_sql(\"select * from component where comb_class_id = 36;\",conn)\n",
    "#comp_edges_df = pd.read_sql(\"select * from comp_edges where comb_class_id = 36\", conn)"
   ]
  },
  {
   "cell_type": "code",
   "execution_count": 14,
   "metadata": {
    "collapsed": false
   },
   "outputs": [
    {
     "data": {
      "text/html": [
       "<div>\n",
       "<table border=\"1\" class=\"dataframe\">\n",
       "  <thead>\n",
       "    <tr style=\"text-align: right;\">\n",
       "      <th></th>\n",
       "      <th>red_car_end_a</th>\n",
       "      <th>game_hash_top</th>\n",
       "      <th>game_hash_bottom</th>\n",
       "      <th>comb_class_id</th>\n",
       "      <th>topo_class_hash</th>\n",
       "      <th>is_soln_state</th>\n",
       "      <th>component_id</th>\n",
       "      <th>node_id</th>\n",
       "      <th>soln_nbr_id</th>\n",
       "      <th>soln_dist</th>\n",
       "    </tr>\n",
       "  </thead>\n",
       "  <tbody>\n",
       "    <tr>\n",
       "      <th>0</th>\n",
       "      <td>12</td>\n",
       "      <td>2613951457693702</td>\n",
       "      <td>0</td>\n",
       "      <td>36</td>\n",
       "      <td>None</td>\n",
       "      <td>NaN</td>\n",
       "      <td>956</td>\n",
       "      <td>1</td>\n",
       "      <td>None</td>\n",
       "      <td>7.0</td>\n",
       "    </tr>\n",
       "    <tr>\n",
       "      <th>1</th>\n",
       "      <td>12</td>\n",
       "      <td>2613558735048704</td>\n",
       "      <td>0</td>\n",
       "      <td>36</td>\n",
       "      <td>None</td>\n",
       "      <td>NaN</td>\n",
       "      <td>957</td>\n",
       "      <td>1</td>\n",
       "      <td>None</td>\n",
       "      <td>4.0</td>\n",
       "    </tr>\n",
       "    <tr>\n",
       "      <th>2</th>\n",
       "      <td>12</td>\n",
       "      <td>2613541588733952</td>\n",
       "      <td>0</td>\n",
       "      <td>36</td>\n",
       "      <td>None</td>\n",
       "      <td>NaN</td>\n",
       "      <td>957</td>\n",
       "      <td>4</td>\n",
       "      <td>None</td>\n",
       "      <td>4.0</td>\n",
       "    </tr>\n",
       "    <tr>\n",
       "      <th>3</th>\n",
       "      <td>12</td>\n",
       "      <td>2613539445444608</td>\n",
       "      <td>0</td>\n",
       "      <td>36</td>\n",
       "      <td>None</td>\n",
       "      <td>NaN</td>\n",
       "      <td>957</td>\n",
       "      <td>10</td>\n",
       "      <td>None</td>\n",
       "      <td>4.0</td>\n",
       "    </tr>\n",
       "    <tr>\n",
       "      <th>4</th>\n",
       "      <td>12</td>\n",
       "      <td>2613539944569856</td>\n",
       "      <td>211106232532992</td>\n",
       "      <td>36</td>\n",
       "      <td>None</td>\n",
       "      <td>NaN</td>\n",
       "      <td>958</td>\n",
       "      <td>1</td>\n",
       "      <td>None</td>\n",
       "      <td>6.0</td>\n",
       "    </tr>\n",
       "  </tbody>\n",
       "</table>\n",
       "</div>"
      ],
      "text/plain": [
       "   red_car_end_a     game_hash_top  game_hash_bottom  comb_class_id  \\\n",
       "0             12  2613951457693702                 0             36   \n",
       "1             12  2613558735048704                 0             36   \n",
       "2             12  2613541588733952                 0             36   \n",
       "3             12  2613539445444608                 0             36   \n",
       "4             12  2613539944569856   211106232532992             36   \n",
       "\n",
       "  topo_class_hash  is_soln_state  component_id  node_id soln_nbr_id  soln_dist  \n",
       "0            None            NaN           956        1        None        7.0  \n",
       "1            None            NaN           957        1        None        4.0  \n",
       "2            None            NaN           957        4        None        4.0  \n",
       "3            None            NaN           957       10        None        4.0  \n",
       "4            None            NaN           958        1        None        6.0  "
      ]
     },
     "execution_count": 14,
     "metadata": {},
     "output_type": "execute_result"
    }
   ],
   "source": [
    "state_df.head()"
   ]
  },
  {
   "cell_type": "code",
   "execution_count": null,
   "metadata": {
    "collapsed": true
   },
   "outputs": [],
   "source": []
  }
 ],
 "metadata": {
  "anaconda-cloud": {},
  "kernelspec": {
   "display_name": "Python [conda env:rushhour]",
   "language": "python",
   "name": "conda-env-rushhour-py"
  },
  "language_info": {
   "codemirror_mode": {
    "name": "ipython",
    "version": 3
   },
   "file_extension": ".py",
   "mimetype": "text/x-python",
   "name": "python",
   "nbconvert_exporter": "python",
   "pygments_lexer": "ipython3",
   "version": "3.5.2"
  }
 },
 "nbformat": 4,
 "nbformat_minor": 1
}

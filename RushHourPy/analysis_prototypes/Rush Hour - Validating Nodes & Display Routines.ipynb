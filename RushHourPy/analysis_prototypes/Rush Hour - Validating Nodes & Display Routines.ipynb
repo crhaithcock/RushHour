{
 "metadata": {
  "name": "",
  "signature": "sha256:4eb9204420d0ab3be150314694a7d4a13e68961e1c4c1380e2c5a0968619eeb2"
 },
 "nbformat": 3,
 "nbformat_minor": 0,
 "worksheets": [
  {
   "cells": [
    {
     "cell_type": "code",
     "collapsed": false,
     "input": [
      "import os\n",
      "import pandas as pd\n",
      "from IPython.display import HTML"
     ],
     "language": "python",
     "metadata": {},
     "outputs": [],
     "prompt_number": 1
    },
    {
     "cell_type": "code",
     "collapsed": false,
     "input": [
      "os.getcwd()"
     ],
     "language": "python",
     "metadata": {},
     "outputs": [
      {
       "metadata": {},
       "output_type": "pyout",
       "prompt_number": 3,
       "text": [
        "'C:\\\\Users\\\\cliff\\\\workspace\\\\Rush Hour With Python'"
       ]
      }
     ],
     "prompt_number": 3
    },
    {
     "cell_type": "code",
     "collapsed": false,
     "input": [
      "%run display_utilities.py"
     ],
     "language": "python",
     "metadata": {},
     "outputs": [],
     "prompt_number": 10
    },
    {
     "cell_type": "code",
     "collapsed": false,
     "input": [
      "states_2_2 = pd.read_csv('..\\Rush Hour With Java\\data files\\game_states_2_cars_2_trucks.csv')"
     ],
     "language": "python",
     "metadata": {},
     "outputs": [],
     "prompt_number": 5
    },
    {
     "cell_type": "code",
     "collapsed": false,
     "input": [
      "states_2_2.count()"
     ],
     "language": "python",
     "metadata": {},
     "outputs": [
      {
       "metadata": {},
       "output_type": "pyout",
       "prompt_number": 6,
       "text": [
        "game_number               116650\n",
        "comb_class_id             116650\n",
        "game_hash_top             116650\n",
        "game_hash_bottom          116650\n",
        "is_goal_state             116650\n",
        "optimal_neighbor               0\n",
        "red_car_end_a             116650\n",
        "connected_component_id         0\n",
        "topo_class_hash           116650\n",
        "degree                         0\n",
        "dtype: int64"
       ]
      }
     ],
     "prompt_number": 6
    },
    {
     "cell_type": "code",
     "collapsed": false,
     "input": [
      "index = 1"
     ],
     "language": "python",
     "metadata": {},
     "outputs": [],
     "prompt_number": 8
    },
    {
     "cell_type": "code",
     "collapsed": false,
     "input": [
      "HTML(html_table_for_df_index_component_coloring(states_2_2,index))"
     ],
     "language": "python",
     "metadata": {},
     "outputs": [
      {
       "html": [
        "<table><tr><td bgcolor=\"#7FFF00\" style=\"width:30px; height:30px; vertical-align:middle; text-align:center\">Q</td><td bgcolor=\"#7FFF00\" style=\"width:30px; height:30px; vertical-align:middle; text-align:center\">Q</td><td bgcolor=\"#F08080\" style=\"width:30px; height:30px; vertical-align:middle; text-align:center\">T</td><td bgcolor=\"#F08080\" style=\"width:30px; height:30px; vertical-align:middle; text-align:center\">T</td><td bgcolor=\"#F08080\" style=\"width:30px; height:30px; vertical-align:middle; text-align:center\">T</td><td bgcolor=\"#E6E6E6\" style=\"width:30px; height:30px; vertical-align:middle; text-align:center\"></td></tr><tr><td bgcolor=\"#FFA07A\" style=\"width:30px; height:30px; vertical-align:middle; text-align:center\">R</td><td bgcolor=\"#FFA07A\" style=\"width:30px; height:30px; vertical-align:middle; text-align:center\">R</td><td bgcolor=\"#FFA07A\" style=\"width:30px; height:30px; vertical-align:middle; text-align:center\">R</td><td bgcolor=\"#E6E6E6\" style=\"width:30px; height:30px; vertical-align:middle; text-align:center\"></td><td bgcolor=\"#E6E6E6\" style=\"width:30px; height:30px; vertical-align:middle; text-align:center\"></td><td bgcolor=\"#E6E6E6\" style=\"width:30px; height:30px; vertical-align:middle; text-align:center\"></td></tr><tr><td bgcolor=\"#FF0000\" style=\"width:30px; height:30px; vertical-align:middle; text-align:center\">X</td><td bgcolor=\"#FF0000\" style=\"width:30px; height:30px; vertical-align:middle; text-align:center\">X</td><td bgcolor=\"#E6E6E6\" style=\"width:30px; height:30px; vertical-align:middle; text-align:center\"></td><td bgcolor=\"#E6E6E6\" style=\"width:30px; height:30px; vertical-align:middle; text-align:center\"></td><td bgcolor=\"#E6E6E6\" style=\"width:30px; height:30px; vertical-align:middle; text-align:center\"></td><td bgcolor=\"#E6E6E6\" style=\"width:30px; height:30px; vertical-align:middle; text-align:center\"></td></tr><tr><td bgcolor=\"#E6E6E6\" style=\"width:30px; height:30px; vertical-align:middle; text-align:center\"></td><td bgcolor=\"#E6E6E6\" style=\"width:30px; height:30px; vertical-align:middle; text-align:center\"></td><td bgcolor=\"#E6E6E6\" style=\"width:30px; height:30px; vertical-align:middle; text-align:center\"></td><td bgcolor=\"#E6E6E6\" style=\"width:30px; height:30px; vertical-align:middle; text-align:center\"></td><td bgcolor=\"#E6E6E6\" style=\"width:30px; height:30px; vertical-align:middle; text-align:center\"></td><td bgcolor=\"#E6E6E6\" style=\"width:30px; height:30px; vertical-align:middle; text-align:center\"></td></tr><tr><td bgcolor=\"#E6E6E6\" style=\"width:30px; height:30px; vertical-align:middle; text-align:center\"></td><td bgcolor=\"#E6E6E6\" style=\"width:30px; height:30px; vertical-align:middle; text-align:center\"></td><td bgcolor=\"#E6E6E6\" style=\"width:30px; height:30px; vertical-align:middle; text-align:center\"></td><td bgcolor=\"#E6E6E6\" style=\"width:30px; height:30px; vertical-align:middle; text-align:center\"></td><td bgcolor=\"#E6E6E6\" style=\"width:30px; height:30px; vertical-align:middle; text-align:center\"></td><td bgcolor=\"#E6E6E6\" style=\"width:30px; height:30px; vertical-align:middle; text-align:center\"></td></tr><tr><td bgcolor=\"#E6E6E6\" style=\"width:30px; height:30px; vertical-align:middle; text-align:center\"></td><td bgcolor=\"#E6E6E6\" style=\"width:30px; height:30px; vertical-align:middle; text-align:center\"></td><td bgcolor=\"#E6E6E6\" style=\"width:30px; height:30px; vertical-align:middle; text-align:center\"></td><td bgcolor=\"#E6E6E6\" style=\"width:30px; height:30px; vertical-align:middle; text-align:center\"></td><td bgcolor=\"#E6E6E6\" style=\"width:30px; height:30px; vertical-align:middle; text-align:center\"></td><td bgcolor=\"#E6E6E6\" style=\"width:30px; height:30px; vertical-align:middle; text-align:center\"></td></tr></table>"
       ],
       "metadata": {},
       "output_type": "pyout",
       "prompt_number": 11,
       "text": [
        "<IPython.core.display.HTML at 0xa5f86a0>"
       ]
      }
     ],
     "prompt_number": 11
    },
    {
     "cell_type": "code",
     "collapsed": false,
     "input": [
      "HTML(html_table_for_df_index_construction_coloring(states_2_2,index+1))"
     ],
     "language": "python",
     "metadata": {},
     "outputs": [
      {
       "html": [
        "<table><tr><td bgcolor=\"#7FFF00\" style=\"width:30px; height:30px; vertical-align:middle; text-align:center\">Q</td><td bgcolor=\"#7FFF00\" style=\"width:30px; height:30px; vertical-align:middle; text-align:center\">Q</td><td bgcolor=\"#F08080\" style=\"width:30px; height:30px; vertical-align:middle; text-align:center\">T</td><td bgcolor=\"#F08080\" style=\"width:30px; height:30px; vertical-align:middle; text-align:center\">T</td><td bgcolor=\"#F08080\" style=\"width:30px; height:30px; vertical-align:middle; text-align:center\">T</td><td bgcolor=\"#E6E6E6\" style=\"width:30px; height:30px; vertical-align:middle; text-align:center\"></td></tr><tr><td bgcolor=\"#E6E6E6\" style=\"width:30px; height:30px; vertical-align:middle; text-align:center\"></td><td bgcolor=\"#FFA07A\" style=\"width:30px; height:30px; vertical-align:middle; text-align:center\">R</td><td bgcolor=\"#FFA07A\" style=\"width:30px; height:30px; vertical-align:middle; text-align:center\">R</td><td bgcolor=\"#FFA07A\" style=\"width:30px; height:30px; vertical-align:middle; text-align:center\">R</td><td bgcolor=\"#E6E6E6\" style=\"width:30px; height:30px; vertical-align:middle; text-align:center\"></td><td bgcolor=\"#E6E6E6\" style=\"width:30px; height:30px; vertical-align:middle; text-align:center\"></td></tr><tr><td bgcolor=\"#FF0000\" style=\"width:30px; height:30px; vertical-align:middle; text-align:center\">X</td><td bgcolor=\"#FF0000\" style=\"width:30px; height:30px; vertical-align:middle; text-align:center\">X</td><td bgcolor=\"#E6E6E6\" style=\"width:30px; height:30px; vertical-align:middle; text-align:center\"></td><td bgcolor=\"#E6E6E6\" style=\"width:30px; height:30px; vertical-align:middle; text-align:center\"></td><td bgcolor=\"#E6E6E6\" style=\"width:30px; height:30px; vertical-align:middle; text-align:center\"></td><td bgcolor=\"#E6E6E6\" style=\"width:30px; height:30px; vertical-align:middle; text-align:center\"></td></tr><tr><td bgcolor=\"#E6E6E6\" style=\"width:30px; height:30px; vertical-align:middle; text-align:center\"></td><td bgcolor=\"#E6E6E6\" style=\"width:30px; height:30px; vertical-align:middle; text-align:center\"></td><td bgcolor=\"#E6E6E6\" style=\"width:30px; height:30px; vertical-align:middle; text-align:center\"></td><td bgcolor=\"#E6E6E6\" style=\"width:30px; height:30px; vertical-align:middle; text-align:center\"></td><td bgcolor=\"#E6E6E6\" style=\"width:30px; height:30px; vertical-align:middle; text-align:center\"></td><td bgcolor=\"#E6E6E6\" style=\"width:30px; height:30px; vertical-align:middle; text-align:center\"></td></tr><tr><td bgcolor=\"#E6E6E6\" style=\"width:30px; height:30px; vertical-align:middle; text-align:center\"></td><td bgcolor=\"#E6E6E6\" style=\"width:30px; height:30px; vertical-align:middle; text-align:center\"></td><td bgcolor=\"#E6E6E6\" style=\"width:30px; height:30px; vertical-align:middle; text-align:center\"></td><td bgcolor=\"#E6E6E6\" style=\"width:30px; height:30px; vertical-align:middle; text-align:center\"></td><td bgcolor=\"#E6E6E6\" style=\"width:30px; height:30px; vertical-align:middle; text-align:center\"></td><td bgcolor=\"#E6E6E6\" style=\"width:30px; height:30px; vertical-align:middle; text-align:center\"></td></tr><tr><td bgcolor=\"#E6E6E6\" style=\"width:30px; height:30px; vertical-align:middle; text-align:center\"></td><td bgcolor=\"#E6E6E6\" style=\"width:30px; height:30px; vertical-align:middle; text-align:center\"></td><td bgcolor=\"#E6E6E6\" style=\"width:30px; height:30px; vertical-align:middle; text-align:center\"></td><td bgcolor=\"#E6E6E6\" style=\"width:30px; height:30px; vertical-align:middle; text-align:center\"></td><td bgcolor=\"#E6E6E6\" style=\"width:30px; height:30px; vertical-align:middle; text-align:center\"></td><td bgcolor=\"#E6E6E6\" style=\"width:30px; height:30px; vertical-align:middle; text-align:center\"></td></tr></table>"
       ],
       "metadata": {},
       "output_type": "pyout",
       "prompt_number": 12,
       "text": [
        "<IPython.core.display.HTML at 0xa5f87b8>"
       ]
      }
     ],
     "prompt_number": 12
    },
    {
     "cell_type": "code",
     "collapsed": false,
     "input": [
      "HTML(html_table_for_df_index_construction_coloring(states_2_2,index+2))"
     ],
     "language": "python",
     "metadata": {},
     "outputs": [
      {
       "html": [
        "<table><tr><td bgcolor=\"#7FFF00\" style=\"width:30px; height:30px; vertical-align:middle; text-align:center\">Q</td><td bgcolor=\"#7FFF00\" style=\"width:30px; height:30px; vertical-align:middle; text-align:center\">Q</td><td bgcolor=\"#F08080\" style=\"width:30px; height:30px; vertical-align:middle; text-align:center\">T</td><td bgcolor=\"#F08080\" style=\"width:30px; height:30px; vertical-align:middle; text-align:center\">T</td><td bgcolor=\"#F08080\" style=\"width:30px; height:30px; vertical-align:middle; text-align:center\">T</td><td bgcolor=\"#E6E6E6\" style=\"width:30px; height:30px; vertical-align:middle; text-align:center\"></td></tr><tr><td bgcolor=\"#E6E6E6\" style=\"width:30px; height:30px; vertical-align:middle; text-align:center\"></td><td bgcolor=\"#E6E6E6\" style=\"width:30px; height:30px; vertical-align:middle; text-align:center\"></td><td bgcolor=\"#FFA07A\" style=\"width:30px; height:30px; vertical-align:middle; text-align:center\">R</td><td bgcolor=\"#FFA07A\" style=\"width:30px; height:30px; vertical-align:middle; text-align:center\">R</td><td bgcolor=\"#FFA07A\" style=\"width:30px; height:30px; vertical-align:middle; text-align:center\">R</td><td bgcolor=\"#E6E6E6\" style=\"width:30px; height:30px; vertical-align:middle; text-align:center\"></td></tr><tr><td bgcolor=\"#FF0000\" style=\"width:30px; height:30px; vertical-align:middle; text-align:center\">X</td><td bgcolor=\"#FF0000\" style=\"width:30px; height:30px; vertical-align:middle; text-align:center\">X</td><td bgcolor=\"#E6E6E6\" style=\"width:30px; height:30px; vertical-align:middle; text-align:center\"></td><td bgcolor=\"#E6E6E6\" style=\"width:30px; height:30px; vertical-align:middle; text-align:center\"></td><td bgcolor=\"#E6E6E6\" style=\"width:30px; height:30px; vertical-align:middle; text-align:center\"></td><td bgcolor=\"#E6E6E6\" style=\"width:30px; height:30px; vertical-align:middle; text-align:center\"></td></tr><tr><td bgcolor=\"#E6E6E6\" style=\"width:30px; height:30px; vertical-align:middle; text-align:center\"></td><td bgcolor=\"#E6E6E6\" style=\"width:30px; height:30px; vertical-align:middle; text-align:center\"></td><td bgcolor=\"#E6E6E6\" style=\"width:30px; height:30px; vertical-align:middle; text-align:center\"></td><td bgcolor=\"#E6E6E6\" style=\"width:30px; height:30px; vertical-align:middle; text-align:center\"></td><td bgcolor=\"#E6E6E6\" style=\"width:30px; height:30px; vertical-align:middle; text-align:center\"></td><td bgcolor=\"#E6E6E6\" style=\"width:30px; height:30px; vertical-align:middle; text-align:center\"></td></tr><tr><td bgcolor=\"#E6E6E6\" style=\"width:30px; height:30px; vertical-align:middle; text-align:center\"></td><td bgcolor=\"#E6E6E6\" style=\"width:30px; height:30px; vertical-align:middle; text-align:center\"></td><td bgcolor=\"#E6E6E6\" style=\"width:30px; height:30px; vertical-align:middle; text-align:center\"></td><td bgcolor=\"#E6E6E6\" style=\"width:30px; height:30px; vertical-align:middle; text-align:center\"></td><td bgcolor=\"#E6E6E6\" style=\"width:30px; height:30px; vertical-align:middle; text-align:center\"></td><td bgcolor=\"#E6E6E6\" style=\"width:30px; height:30px; vertical-align:middle; text-align:center\"></td></tr><tr><td bgcolor=\"#E6E6E6\" style=\"width:30px; height:30px; vertical-align:middle; text-align:center\"></td><td bgcolor=\"#E6E6E6\" style=\"width:30px; height:30px; vertical-align:middle; text-align:center\"></td><td bgcolor=\"#E6E6E6\" style=\"width:30px; height:30px; vertical-align:middle; text-align:center\"></td><td bgcolor=\"#E6E6E6\" style=\"width:30px; height:30px; vertical-align:middle; text-align:center\"></td><td bgcolor=\"#E6E6E6\" style=\"width:30px; height:30px; vertical-align:middle; text-align:center\"></td><td bgcolor=\"#E6E6E6\" style=\"width:30px; height:30px; vertical-align:middle; text-align:center\"></td></tr></table>"
       ],
       "metadata": {},
       "output_type": "pyout",
       "prompt_number": 13,
       "text": [
        "<IPython.core.display.HTML at 0xa5f8588>"
       ]
      }
     ],
     "prompt_number": 13
    },
    {
     "cell_type": "code",
     "collapsed": false,
     "input": [
      "HTML(html_table_for_df_index_construction_coloring(states_2_2,index+3))"
     ],
     "language": "python",
     "metadata": {},
     "outputs": [
      {
       "html": [
        "<table><tr><td bgcolor=\"#7FFF00\" style=\"width:30px; height:30px; vertical-align:middle; text-align:center\">Q</td><td bgcolor=\"#7FFF00\" style=\"width:30px; height:30px; vertical-align:middle; text-align:center\">Q</td><td bgcolor=\"#F08080\" style=\"width:30px; height:30px; vertical-align:middle; text-align:center\">T</td><td bgcolor=\"#F08080\" style=\"width:30px; height:30px; vertical-align:middle; text-align:center\">T</td><td bgcolor=\"#F08080\" style=\"width:30px; height:30px; vertical-align:middle; text-align:center\">T</td><td bgcolor=\"#E6E6E6\" style=\"width:30px; height:30px; vertical-align:middle; text-align:center\"></td></tr><tr><td bgcolor=\"#E6E6E6\" style=\"width:30px; height:30px; vertical-align:middle; text-align:center\"></td><td bgcolor=\"#E6E6E6\" style=\"width:30px; height:30px; vertical-align:middle; text-align:center\"></td><td bgcolor=\"#FFA07A\" style=\"width:30px; height:30px; vertical-align:middle; text-align:center\">R</td><td bgcolor=\"#E6E6E6\" style=\"width:30px; height:30px; vertical-align:middle; text-align:center\"></td><td bgcolor=\"#E6E6E6\" style=\"width:30px; height:30px; vertical-align:middle; text-align:center\"></td><td bgcolor=\"#E6E6E6\" style=\"width:30px; height:30px; vertical-align:middle; text-align:center\"></td></tr><tr><td bgcolor=\"#FF0000\" style=\"width:30px; height:30px; vertical-align:middle; text-align:center\">X</td><td bgcolor=\"#FF0000\" style=\"width:30px; height:30px; vertical-align:middle; text-align:center\">X</td><td bgcolor=\"#FFA07A\" style=\"width:30px; height:30px; vertical-align:middle; text-align:center\">R</td><td bgcolor=\"#E6E6E6\" style=\"width:30px; height:30px; vertical-align:middle; text-align:center\"></td><td bgcolor=\"#E6E6E6\" style=\"width:30px; height:30px; vertical-align:middle; text-align:center\"></td><td bgcolor=\"#E6E6E6\" style=\"width:30px; height:30px; vertical-align:middle; text-align:center\"></td></tr><tr><td bgcolor=\"#E6E6E6\" style=\"width:30px; height:30px; vertical-align:middle; text-align:center\"></td><td bgcolor=\"#E6E6E6\" style=\"width:30px; height:30px; vertical-align:middle; text-align:center\"></td><td bgcolor=\"#FFA07A\" style=\"width:30px; height:30px; vertical-align:middle; text-align:center\">R</td><td bgcolor=\"#E6E6E6\" style=\"width:30px; height:30px; vertical-align:middle; text-align:center\"></td><td bgcolor=\"#E6E6E6\" style=\"width:30px; height:30px; vertical-align:middle; text-align:center\"></td><td bgcolor=\"#E6E6E6\" style=\"width:30px; height:30px; vertical-align:middle; text-align:center\"></td></tr><tr><td bgcolor=\"#E6E6E6\" style=\"width:30px; height:30px; vertical-align:middle; text-align:center\"></td><td bgcolor=\"#E6E6E6\" style=\"width:30px; height:30px; vertical-align:middle; text-align:center\"></td><td bgcolor=\"#E6E6E6\" style=\"width:30px; height:30px; vertical-align:middle; text-align:center\"></td><td bgcolor=\"#E6E6E6\" style=\"width:30px; height:30px; vertical-align:middle; text-align:center\"></td><td bgcolor=\"#E6E6E6\" style=\"width:30px; height:30px; vertical-align:middle; text-align:center\"></td><td bgcolor=\"#E6E6E6\" style=\"width:30px; height:30px; vertical-align:middle; text-align:center\"></td></tr><tr><td bgcolor=\"#E6E6E6\" style=\"width:30px; height:30px; vertical-align:middle; text-align:center\"></td><td bgcolor=\"#E6E6E6\" style=\"width:30px; height:30px; vertical-align:middle; text-align:center\"></td><td bgcolor=\"#E6E6E6\" style=\"width:30px; height:30px; vertical-align:middle; text-align:center\"></td><td bgcolor=\"#E6E6E6\" style=\"width:30px; height:30px; vertical-align:middle; text-align:center\"></td><td bgcolor=\"#E6E6E6\" style=\"width:30px; height:30px; vertical-align:middle; text-align:center\"></td><td bgcolor=\"#E6E6E6\" style=\"width:30px; height:30px; vertical-align:middle; text-align:center\"></td></tr></table>"
       ],
       "metadata": {},
       "output_type": "pyout",
       "prompt_number": 14,
       "text": [
        "<IPython.core.display.HTML at 0xa5f85c0>"
       ]
      }
     ],
     "prompt_number": 14
    },
    {
     "cell_type": "code",
     "collapsed": false,
     "input": [
      "HTML(html_table_for_df_index_construction_coloring(states_2_2,index+4))"
     ],
     "language": "python",
     "metadata": {},
     "outputs": [
      {
       "html": [
        "<table><tr><td bgcolor=\"#7FFF00\" style=\"width:30px; height:30px; vertical-align:middle; text-align:center\">Q</td><td bgcolor=\"#7FFF00\" style=\"width:30px; height:30px; vertical-align:middle; text-align:center\">Q</td><td bgcolor=\"#F08080\" style=\"width:30px; height:30px; vertical-align:middle; text-align:center\">T</td><td bgcolor=\"#F08080\" style=\"width:30px; height:30px; vertical-align:middle; text-align:center\">T</td><td bgcolor=\"#F08080\" style=\"width:30px; height:30px; vertical-align:middle; text-align:center\">T</td><td bgcolor=\"#E6E6E6\" style=\"width:30px; height:30px; vertical-align:middle; text-align:center\"></td></tr><tr><td bgcolor=\"#E6E6E6\" style=\"width:30px; height:30px; vertical-align:middle; text-align:center\"></td><td bgcolor=\"#E6E6E6\" style=\"width:30px; height:30px; vertical-align:middle; text-align:center\"></td><td bgcolor=\"#E6E6E6\" style=\"width:30px; height:30px; vertical-align:middle; text-align:center\"></td><td bgcolor=\"#FFA07A\" style=\"width:30px; height:30px; vertical-align:middle; text-align:center\">R</td><td bgcolor=\"#FFA07A\" style=\"width:30px; height:30px; vertical-align:middle; text-align:center\">R</td><td bgcolor=\"#FFA07A\" style=\"width:30px; height:30px; vertical-align:middle; text-align:center\">R</td></tr><tr><td bgcolor=\"#FF0000\" style=\"width:30px; height:30px; vertical-align:middle; text-align:center\">X</td><td bgcolor=\"#FF0000\" style=\"width:30px; height:30px; vertical-align:middle; text-align:center\">X</td><td bgcolor=\"#E6E6E6\" style=\"width:30px; height:30px; vertical-align:middle; text-align:center\"></td><td bgcolor=\"#E6E6E6\" style=\"width:30px; height:30px; vertical-align:middle; text-align:center\"></td><td bgcolor=\"#E6E6E6\" style=\"width:30px; height:30px; vertical-align:middle; text-align:center\"></td><td bgcolor=\"#E6E6E6\" style=\"width:30px; height:30px; vertical-align:middle; text-align:center\"></td></tr><tr><td bgcolor=\"#E6E6E6\" style=\"width:30px; height:30px; vertical-align:middle; text-align:center\"></td><td bgcolor=\"#E6E6E6\" style=\"width:30px; height:30px; vertical-align:middle; text-align:center\"></td><td bgcolor=\"#E6E6E6\" style=\"width:30px; height:30px; vertical-align:middle; text-align:center\"></td><td bgcolor=\"#E6E6E6\" style=\"width:30px; height:30px; vertical-align:middle; text-align:center\"></td><td bgcolor=\"#E6E6E6\" style=\"width:30px; height:30px; vertical-align:middle; text-align:center\"></td><td bgcolor=\"#E6E6E6\" style=\"width:30px; height:30px; vertical-align:middle; text-align:center\"></td></tr><tr><td bgcolor=\"#E6E6E6\" style=\"width:30px; height:30px; vertical-align:middle; text-align:center\"></td><td bgcolor=\"#E6E6E6\" style=\"width:30px; height:30px; vertical-align:middle; text-align:center\"></td><td bgcolor=\"#E6E6E6\" style=\"width:30px; height:30px; vertical-align:middle; text-align:center\"></td><td bgcolor=\"#E6E6E6\" style=\"width:30px; height:30px; vertical-align:middle; text-align:center\"></td><td bgcolor=\"#E6E6E6\" style=\"width:30px; height:30px; vertical-align:middle; text-align:center\"></td><td bgcolor=\"#E6E6E6\" style=\"width:30px; height:30px; vertical-align:middle; text-align:center\"></td></tr><tr><td bgcolor=\"#E6E6E6\" style=\"width:30px; height:30px; vertical-align:middle; text-align:center\"></td><td bgcolor=\"#E6E6E6\" style=\"width:30px; height:30px; vertical-align:middle; text-align:center\"></td><td bgcolor=\"#E6E6E6\" style=\"width:30px; height:30px; vertical-align:middle; text-align:center\"></td><td bgcolor=\"#E6E6E6\" style=\"width:30px; height:30px; vertical-align:middle; text-align:center\"></td><td bgcolor=\"#E6E6E6\" style=\"width:30px; height:30px; vertical-align:middle; text-align:center\"></td><td bgcolor=\"#E6E6E6\" style=\"width:30px; height:30px; vertical-align:middle; text-align:center\"></td></tr></table>"
       ],
       "metadata": {},
       "output_type": "pyout",
       "prompt_number": 15,
       "text": [
        "<IPython.core.display.HTML at 0xa5f8908>"
       ]
      }
     ],
     "prompt_number": 15
    },
    {
     "cell_type": "code",
     "collapsed": false,
     "input": [
      "HTML(html_table_for_df_index_construction_coloring(states_2_2,index+5))"
     ],
     "language": "python",
     "metadata": {},
     "outputs": [
      {
       "html": [
        "<table><tr><td bgcolor=\"#7FFF00\" style=\"width:30px; height:30px; vertical-align:middle; text-align:center\">Q</td><td bgcolor=\"#7FFF00\" style=\"width:30px; height:30px; vertical-align:middle; text-align:center\">Q</td><td bgcolor=\"#F08080\" style=\"width:30px; height:30px; vertical-align:middle; text-align:center\">T</td><td bgcolor=\"#F08080\" style=\"width:30px; height:30px; vertical-align:middle; text-align:center\">T</td><td bgcolor=\"#F08080\" style=\"width:30px; height:30px; vertical-align:middle; text-align:center\">T</td><td bgcolor=\"#E6E6E6\" style=\"width:30px; height:30px; vertical-align:middle; text-align:center\"></td></tr><tr><td bgcolor=\"#E6E6E6\" style=\"width:30px; height:30px; vertical-align:middle; text-align:center\"></td><td bgcolor=\"#E6E6E6\" style=\"width:30px; height:30px; vertical-align:middle; text-align:center\"></td><td bgcolor=\"#E6E6E6\" style=\"width:30px; height:30px; vertical-align:middle; text-align:center\"></td><td bgcolor=\"#FFA07A\" style=\"width:30px; height:30px; vertical-align:middle; text-align:center\">R</td><td bgcolor=\"#E6E6E6\" style=\"width:30px; height:30px; vertical-align:middle; text-align:center\"></td><td bgcolor=\"#E6E6E6\" style=\"width:30px; height:30px; vertical-align:middle; text-align:center\"></td></tr><tr><td bgcolor=\"#FF0000\" style=\"width:30px; height:30px; vertical-align:middle; text-align:center\">X</td><td bgcolor=\"#FF0000\" style=\"width:30px; height:30px; vertical-align:middle; text-align:center\">X</td><td bgcolor=\"#E6E6E6\" style=\"width:30px; height:30px; vertical-align:middle; text-align:center\"></td><td bgcolor=\"#FFA07A\" style=\"width:30px; height:30px; vertical-align:middle; text-align:center\">R</td><td bgcolor=\"#E6E6E6\" style=\"width:30px; height:30px; vertical-align:middle; text-align:center\"></td><td bgcolor=\"#E6E6E6\" style=\"width:30px; height:30px; vertical-align:middle; text-align:center\"></td></tr><tr><td bgcolor=\"#E6E6E6\" style=\"width:30px; height:30px; vertical-align:middle; text-align:center\"></td><td bgcolor=\"#E6E6E6\" style=\"width:30px; height:30px; vertical-align:middle; text-align:center\"></td><td bgcolor=\"#E6E6E6\" style=\"width:30px; height:30px; vertical-align:middle; text-align:center\"></td><td bgcolor=\"#FFA07A\" style=\"width:30px; height:30px; vertical-align:middle; text-align:center\">R</td><td bgcolor=\"#E6E6E6\" style=\"width:30px; height:30px; vertical-align:middle; text-align:center\"></td><td bgcolor=\"#E6E6E6\" style=\"width:30px; height:30px; vertical-align:middle; text-align:center\"></td></tr><tr><td bgcolor=\"#E6E6E6\" style=\"width:30px; height:30px; vertical-align:middle; text-align:center\"></td><td bgcolor=\"#E6E6E6\" style=\"width:30px; height:30px; vertical-align:middle; text-align:center\"></td><td bgcolor=\"#E6E6E6\" style=\"width:30px; height:30px; vertical-align:middle; text-align:center\"></td><td bgcolor=\"#E6E6E6\" style=\"width:30px; height:30px; vertical-align:middle; text-align:center\"></td><td bgcolor=\"#E6E6E6\" style=\"width:30px; height:30px; vertical-align:middle; text-align:center\"></td><td bgcolor=\"#E6E6E6\" style=\"width:30px; height:30px; vertical-align:middle; text-align:center\"></td></tr><tr><td bgcolor=\"#E6E6E6\" style=\"width:30px; height:30px; vertical-align:middle; text-align:center\"></td><td bgcolor=\"#E6E6E6\" style=\"width:30px; height:30px; vertical-align:middle; text-align:center\"></td><td bgcolor=\"#E6E6E6\" style=\"width:30px; height:30px; vertical-align:middle; text-align:center\"></td><td bgcolor=\"#E6E6E6\" style=\"width:30px; height:30px; vertical-align:middle; text-align:center\"></td><td bgcolor=\"#E6E6E6\" style=\"width:30px; height:30px; vertical-align:middle; text-align:center\"></td><td bgcolor=\"#E6E6E6\" style=\"width:30px; height:30px; vertical-align:middle; text-align:center\"></td></tr></table>"
       ],
       "metadata": {},
       "output_type": "pyout",
       "prompt_number": 16,
       "text": [
        "<IPython.core.display.HTML at 0xa5f89b0>"
       ]
      }
     ],
     "prompt_number": 16
    },
    {
     "cell_type": "code",
     "collapsed": false,
     "input": [
      "HTML(html_table_for_df_index_construction_coloring(states_2_2,index+6))"
     ],
     "language": "python",
     "metadata": {},
     "outputs": [
      {
       "html": [
        "<table><tr><td bgcolor=\"#7FFF00\" style=\"width:30px; height:30px; vertical-align:middle; text-align:center\">Q</td><td bgcolor=\"#7FFF00\" style=\"width:30px; height:30px; vertical-align:middle; text-align:center\">Q</td><td bgcolor=\"#F08080\" style=\"width:30px; height:30px; vertical-align:middle; text-align:center\">T</td><td bgcolor=\"#F08080\" style=\"width:30px; height:30px; vertical-align:middle; text-align:center\">T</td><td bgcolor=\"#F08080\" style=\"width:30px; height:30px; vertical-align:middle; text-align:center\">T</td><td bgcolor=\"#E6E6E6\" style=\"width:30px; height:30px; vertical-align:middle; text-align:center\"></td></tr><tr><td bgcolor=\"#E6E6E6\" style=\"width:30px; height:30px; vertical-align:middle; text-align:center\"></td><td bgcolor=\"#E6E6E6\" style=\"width:30px; height:30px; vertical-align:middle; text-align:center\"></td><td bgcolor=\"#E6E6E6\" style=\"width:30px; height:30px; vertical-align:middle; text-align:center\"></td><td bgcolor=\"#E6E6E6\" style=\"width:30px; height:30px; vertical-align:middle; text-align:center\"></td><td bgcolor=\"#FFA07A\" style=\"width:30px; height:30px; vertical-align:middle; text-align:center\">R</td><td bgcolor=\"#E6E6E6\" style=\"width:30px; height:30px; vertical-align:middle; text-align:center\"></td></tr><tr><td bgcolor=\"#FF0000\" style=\"width:30px; height:30px; vertical-align:middle; text-align:center\">X</td><td bgcolor=\"#FF0000\" style=\"width:30px; height:30px; vertical-align:middle; text-align:center\">X</td><td bgcolor=\"#E6E6E6\" style=\"width:30px; height:30px; vertical-align:middle; text-align:center\"></td><td bgcolor=\"#E6E6E6\" style=\"width:30px; height:30px; vertical-align:middle; text-align:center\"></td><td bgcolor=\"#FFA07A\" style=\"width:30px; height:30px; vertical-align:middle; text-align:center\">R</td><td bgcolor=\"#E6E6E6\" style=\"width:30px; height:30px; vertical-align:middle; text-align:center\"></td></tr><tr><td bgcolor=\"#E6E6E6\" style=\"width:30px; height:30px; vertical-align:middle; text-align:center\"></td><td bgcolor=\"#E6E6E6\" style=\"width:30px; height:30px; vertical-align:middle; text-align:center\"></td><td bgcolor=\"#E6E6E6\" style=\"width:30px; height:30px; vertical-align:middle; text-align:center\"></td><td bgcolor=\"#E6E6E6\" style=\"width:30px; height:30px; vertical-align:middle; text-align:center\"></td><td bgcolor=\"#FFA07A\" style=\"width:30px; height:30px; vertical-align:middle; text-align:center\">R</td><td bgcolor=\"#E6E6E6\" style=\"width:30px; height:30px; vertical-align:middle; text-align:center\"></td></tr><tr><td bgcolor=\"#E6E6E6\" style=\"width:30px; height:30px; vertical-align:middle; text-align:center\"></td><td bgcolor=\"#E6E6E6\" style=\"width:30px; height:30px; vertical-align:middle; text-align:center\"></td><td bgcolor=\"#E6E6E6\" style=\"width:30px; height:30px; vertical-align:middle; text-align:center\"></td><td bgcolor=\"#E6E6E6\" style=\"width:30px; height:30px; vertical-align:middle; text-align:center\"></td><td bgcolor=\"#E6E6E6\" style=\"width:30px; height:30px; vertical-align:middle; text-align:center\"></td><td bgcolor=\"#E6E6E6\" style=\"width:30px; height:30px; vertical-align:middle; text-align:center\"></td></tr><tr><td bgcolor=\"#E6E6E6\" style=\"width:30px; height:30px; vertical-align:middle; text-align:center\"></td><td bgcolor=\"#E6E6E6\" style=\"width:30px; height:30px; vertical-align:middle; text-align:center\"></td><td bgcolor=\"#E6E6E6\" style=\"width:30px; height:30px; vertical-align:middle; text-align:center\"></td><td bgcolor=\"#E6E6E6\" style=\"width:30px; height:30px; vertical-align:middle; text-align:center\"></td><td bgcolor=\"#E6E6E6\" style=\"width:30px; height:30px; vertical-align:middle; text-align:center\"></td><td bgcolor=\"#E6E6E6\" style=\"width:30px; height:30px; vertical-align:middle; text-align:center\"></td></tr></table>"
       ],
       "metadata": {},
       "output_type": "pyout",
       "prompt_number": 32,
       "text": [
        "<IPython.core.display.HTML at 0xaa215f8>"
       ]
      }
     ],
     "prompt_number": 32
    },
    {
     "cell_type": "code",
     "collapsed": false,
     "input": [
      "HTML(html_table_for_df_index_construction_coloring(states_2_2,index+7))"
     ],
     "language": "python",
     "metadata": {},
     "outputs": [
      {
       "html": [
        "<table><tr><td bgcolor=\"#7FFF00\" style=\"width:30px; height:30px; vertical-align:middle; text-align:center\">Q</td><td bgcolor=\"#7FFF00\" style=\"width:30px; height:30px; vertical-align:middle; text-align:center\">Q</td><td bgcolor=\"#F08080\" style=\"width:30px; height:30px; vertical-align:middle; text-align:center\">T</td><td bgcolor=\"#F08080\" style=\"width:30px; height:30px; vertical-align:middle; text-align:center\">T</td><td bgcolor=\"#F08080\" style=\"width:30px; height:30px; vertical-align:middle; text-align:center\">T</td><td bgcolor=\"#E6E6E6\" style=\"width:30px; height:30px; vertical-align:middle; text-align:center\"></td></tr><tr><td bgcolor=\"#E6E6E6\" style=\"width:30px; height:30px; vertical-align:middle; text-align:center\"></td><td bgcolor=\"#E6E6E6\" style=\"width:30px; height:30px; vertical-align:middle; text-align:center\"></td><td bgcolor=\"#E6E6E6\" style=\"width:30px; height:30px; vertical-align:middle; text-align:center\"></td><td bgcolor=\"#E6E6E6\" style=\"width:30px; height:30px; vertical-align:middle; text-align:center\"></td><td bgcolor=\"#E6E6E6\" style=\"width:30px; height:30px; vertical-align:middle; text-align:center\"></td><td bgcolor=\"#FFA07A\" style=\"width:30px; height:30px; vertical-align:middle; text-align:center\">R</td></tr><tr><td bgcolor=\"#FF0000\" style=\"width:30px; height:30px; vertical-align:middle; text-align:center\">X</td><td bgcolor=\"#FF0000\" style=\"width:30px; height:30px; vertical-align:middle; text-align:center\">X</td><td bgcolor=\"#E6E6E6\" style=\"width:30px; height:30px; vertical-align:middle; text-align:center\"></td><td bgcolor=\"#E6E6E6\" style=\"width:30px; height:30px; vertical-align:middle; text-align:center\"></td><td bgcolor=\"#E6E6E6\" style=\"width:30px; height:30px; vertical-align:middle; text-align:center\"></td><td bgcolor=\"#FFA07A\" style=\"width:30px; height:30px; vertical-align:middle; text-align:center\">R</td></tr><tr><td bgcolor=\"#E6E6E6\" style=\"width:30px; height:30px; vertical-align:middle; text-align:center\"></td><td bgcolor=\"#E6E6E6\" style=\"width:30px; height:30px; vertical-align:middle; text-align:center\"></td><td bgcolor=\"#E6E6E6\" style=\"width:30px; height:30px; vertical-align:middle; text-align:center\"></td><td bgcolor=\"#E6E6E6\" style=\"width:30px; height:30px; vertical-align:middle; text-align:center\"></td><td bgcolor=\"#E6E6E6\" style=\"width:30px; height:30px; vertical-align:middle; text-align:center\"></td><td bgcolor=\"#FFA07A\" style=\"width:30px; height:30px; vertical-align:middle; text-align:center\">R</td></tr><tr><td bgcolor=\"#E6E6E6\" style=\"width:30px; height:30px; vertical-align:middle; text-align:center\"></td><td bgcolor=\"#E6E6E6\" style=\"width:30px; height:30px; vertical-align:middle; text-align:center\"></td><td bgcolor=\"#E6E6E6\" style=\"width:30px; height:30px; vertical-align:middle; text-align:center\"></td><td bgcolor=\"#E6E6E6\" style=\"width:30px; height:30px; vertical-align:middle; text-align:center\"></td><td bgcolor=\"#E6E6E6\" style=\"width:30px; height:30px; vertical-align:middle; text-align:center\"></td><td bgcolor=\"#E6E6E6\" style=\"width:30px; height:30px; vertical-align:middle; text-align:center\"></td></tr><tr><td bgcolor=\"#E6E6E6\" style=\"width:30px; height:30px; vertical-align:middle; text-align:center\"></td><td bgcolor=\"#E6E6E6\" style=\"width:30px; height:30px; vertical-align:middle; text-align:center\"></td><td bgcolor=\"#E6E6E6\" style=\"width:30px; height:30px; vertical-align:middle; text-align:center\"></td><td bgcolor=\"#E6E6E6\" style=\"width:30px; height:30px; vertical-align:middle; text-align:center\"></td><td bgcolor=\"#E6E6E6\" style=\"width:30px; height:30px; vertical-align:middle; text-align:center\"></td><td bgcolor=\"#E6E6E6\" style=\"width:30px; height:30px; vertical-align:middle; text-align:center\"></td></tr></table>"
       ],
       "metadata": {},
       "output_type": "pyout",
       "prompt_number": 18,
       "text": [
        "<IPython.core.display.HTML at 0xa5f8940>"
       ]
      }
     ],
     "prompt_number": 18
    },
    {
     "cell_type": "code",
     "collapsed": false,
     "input": [
      "HTML(html_table_for_df_index_construction_coloring(states_2_2,index+31))"
     ],
     "language": "python",
     "metadata": {},
     "outputs": [
      {
       "html": [
        "<table><tr><td bgcolor=\"#7FFF00\" style=\"width:30px; height:30px; vertical-align:middle; text-align:center\">Q</td><td bgcolor=\"#7FFF00\" style=\"width:30px; height:30px; vertical-align:middle; text-align:center\">Q</td><td bgcolor=\"#F08080\" style=\"width:30px; height:30px; vertical-align:middle; text-align:center\">T</td><td bgcolor=\"#F08080\" style=\"width:30px; height:30px; vertical-align:middle; text-align:center\">T</td><td bgcolor=\"#F08080\" style=\"width:30px; height:30px; vertical-align:middle; text-align:center\">T</td><td bgcolor=\"#E6E6E6\" style=\"width:30px; height:30px; vertical-align:middle; text-align:center\"></td></tr><tr><td bgcolor=\"#E6E6E6\" style=\"width:30px; height:30px; vertical-align:middle; text-align:center\"></td><td bgcolor=\"#E6E6E6\" style=\"width:30px; height:30px; vertical-align:middle; text-align:center\"></td><td bgcolor=\"#E6E6E6\" style=\"width:30px; height:30px; vertical-align:middle; text-align:center\"></td><td bgcolor=\"#E6E6E6\" style=\"width:30px; height:30px; vertical-align:middle; text-align:center\"></td><td bgcolor=\"#E6E6E6\" style=\"width:30px; height:30px; vertical-align:middle; text-align:center\"></td><td bgcolor=\"#E6E6E6\" style=\"width:30px; height:30px; vertical-align:middle; text-align:center\"></td></tr><tr><td bgcolor=\"#FF0000\" style=\"width:30px; height:30px; vertical-align:middle; text-align:center\">X</td><td bgcolor=\"#FF0000\" style=\"width:30px; height:30px; vertical-align:middle; text-align:center\">X</td><td bgcolor=\"#E6E6E6\" style=\"width:30px; height:30px; vertical-align:middle; text-align:center\"></td><td bgcolor=\"#E6E6E6\" style=\"width:30px; height:30px; vertical-align:middle; text-align:center\"></td><td bgcolor=\"#E6E6E6\" style=\"width:30px; height:30px; vertical-align:middle; text-align:center\"></td><td bgcolor=\"#E6E6E6\" style=\"width:30px; height:30px; vertical-align:middle; text-align:center\"></td></tr><tr><td bgcolor=\"#E6E6E6\" style=\"width:30px; height:30px; vertical-align:middle; text-align:center\"></td><td bgcolor=\"#E6E6E6\" style=\"width:30px; height:30px; vertical-align:middle; text-align:center\"></td><td bgcolor=\"#E6E6E6\" style=\"width:30px; height:30px; vertical-align:middle; text-align:center\"></td><td bgcolor=\"#E6E6E6\" style=\"width:30px; height:30px; vertical-align:middle; text-align:center\"></td><td bgcolor=\"#E6E6E6\" style=\"width:30px; height:30px; vertical-align:middle; text-align:center\"></td><td bgcolor=\"#E6E6E6\" style=\"width:30px; height:30px; vertical-align:middle; text-align:center\"></td></tr><tr><td bgcolor=\"#E6E6E6\" style=\"width:30px; height:30px; vertical-align:middle; text-align:center\"></td><td bgcolor=\"#E6E6E6\" style=\"width:30px; height:30px; vertical-align:middle; text-align:center\"></td><td bgcolor=\"#E6E6E6\" style=\"width:30px; height:30px; vertical-align:middle; text-align:center\"></td><td bgcolor=\"#E6E6E6\" style=\"width:30px; height:30px; vertical-align:middle; text-align:center\"></td><td bgcolor=\"#E6E6E6\" style=\"width:30px; height:30px; vertical-align:middle; text-align:center\"></td><td bgcolor=\"#E6E6E6\" style=\"width:30px; height:30px; vertical-align:middle; text-align:center\"></td></tr><tr><td bgcolor=\"#E6E6E6\" style=\"width:30px; height:30px; vertical-align:middle; text-align:center\"></td><td bgcolor=\"#E6E6E6\" style=\"width:30px; height:30px; vertical-align:middle; text-align:center\"></td><td bgcolor=\"#E6E6E6\" style=\"width:30px; height:30px; vertical-align:middle; text-align:center\"></td><td bgcolor=\"#FFA07A\" style=\"width:30px; height:30px; vertical-align:middle; text-align:center\">R</td><td bgcolor=\"#FFA07A\" style=\"width:30px; height:30px; vertical-align:middle; text-align:center\">R</td><td bgcolor=\"#FFA07A\" style=\"width:30px; height:30px; vertical-align:middle; text-align:center\">R</td></tr></table>"
       ],
       "metadata": {},
       "output_type": "pyout",
       "prompt_number": 37,
       "text": [
        "<IPython.core.display.HTML at 0xaa214a8>"
       ]
      }
     ],
     "prompt_number": 37
    },
    {
     "cell_type": "code",
     "collapsed": false,
     "input": [
      "HTML(html_table_for_df_index_construction_coloring(states_2_2,index+32))"
     ],
     "language": "python",
     "metadata": {},
     "outputs": [
      {
       "html": [
        "<table><tr><td bgcolor=\"#7FFF00\" style=\"width:30px; height:30px; vertical-align:middle; text-align:center\">Q</td><td bgcolor=\"#7FFF00\" style=\"width:30px; height:30px; vertical-align:middle; text-align:center\">Q</td><td bgcolor=\"#F08080\" style=\"width:30px; height:30px; vertical-align:middle; text-align:center\">T</td><td bgcolor=\"#FFA07A\" style=\"width:30px; height:30px; vertical-align:middle; text-align:center\">R</td><td bgcolor=\"#FFA07A\" style=\"width:30px; height:30px; vertical-align:middle; text-align:center\">R</td><td bgcolor=\"#FFA07A\" style=\"width:30px; height:30px; vertical-align:middle; text-align:center\">R</td></tr><tr><td bgcolor=\"#E6E6E6\" style=\"width:30px; height:30px; vertical-align:middle; text-align:center\"></td><td bgcolor=\"#E6E6E6\" style=\"width:30px; height:30px; vertical-align:middle; text-align:center\"></td><td bgcolor=\"#F08080\" style=\"width:30px; height:30px; vertical-align:middle; text-align:center\">T</td><td bgcolor=\"#E6E6E6\" style=\"width:30px; height:30px; vertical-align:middle; text-align:center\"></td><td bgcolor=\"#E6E6E6\" style=\"width:30px; height:30px; vertical-align:middle; text-align:center\"></td><td bgcolor=\"#E6E6E6\" style=\"width:30px; height:30px; vertical-align:middle; text-align:center\"></td></tr><tr><td bgcolor=\"#FF0000\" style=\"width:30px; height:30px; vertical-align:middle; text-align:center\">X</td><td bgcolor=\"#FF0000\" style=\"width:30px; height:30px; vertical-align:middle; text-align:center\">X</td><td bgcolor=\"#F08080\" style=\"width:30px; height:30px; vertical-align:middle; text-align:center\">T</td><td bgcolor=\"#E6E6E6\" style=\"width:30px; height:30px; vertical-align:middle; text-align:center\"></td><td bgcolor=\"#E6E6E6\" style=\"width:30px; height:30px; vertical-align:middle; text-align:center\"></td><td bgcolor=\"#E6E6E6\" style=\"width:30px; height:30px; vertical-align:middle; text-align:center\"></td></tr><tr><td bgcolor=\"#E6E6E6\" style=\"width:30px; height:30px; vertical-align:middle; text-align:center\"></td><td bgcolor=\"#E6E6E6\" style=\"width:30px; height:30px; vertical-align:middle; text-align:center\"></td><td bgcolor=\"#E6E6E6\" style=\"width:30px; height:30px; vertical-align:middle; text-align:center\"></td><td bgcolor=\"#E6E6E6\" style=\"width:30px; height:30px; vertical-align:middle; text-align:center\"></td><td bgcolor=\"#E6E6E6\" style=\"width:30px; height:30px; vertical-align:middle; text-align:center\"></td><td bgcolor=\"#E6E6E6\" style=\"width:30px; height:30px; vertical-align:middle; text-align:center\"></td></tr><tr><td bgcolor=\"#E6E6E6\" style=\"width:30px; height:30px; vertical-align:middle; text-align:center\"></td><td bgcolor=\"#E6E6E6\" style=\"width:30px; height:30px; vertical-align:middle; text-align:center\"></td><td bgcolor=\"#E6E6E6\" style=\"width:30px; height:30px; vertical-align:middle; text-align:center\"></td><td bgcolor=\"#E6E6E6\" style=\"width:30px; height:30px; vertical-align:middle; text-align:center\"></td><td bgcolor=\"#E6E6E6\" style=\"width:30px; height:30px; vertical-align:middle; text-align:center\"></td><td bgcolor=\"#E6E6E6\" style=\"width:30px; height:30px; vertical-align:middle; text-align:center\"></td></tr><tr><td bgcolor=\"#E6E6E6\" style=\"width:30px; height:30px; vertical-align:middle; text-align:center\"></td><td bgcolor=\"#E6E6E6\" style=\"width:30px; height:30px; vertical-align:middle; text-align:center\"></td><td bgcolor=\"#E6E6E6\" style=\"width:30px; height:30px; vertical-align:middle; text-align:center\"></td><td bgcolor=\"#E6E6E6\" style=\"width:30px; height:30px; vertical-align:middle; text-align:center\"></td><td bgcolor=\"#E6E6E6\" style=\"width:30px; height:30px; vertical-align:middle; text-align:center\"></td><td bgcolor=\"#E6E6E6\" style=\"width:30px; height:30px; vertical-align:middle; text-align:center\"></td></tr></table>"
       ],
       "metadata": {},
       "output_type": "pyout",
       "prompt_number": 38,
       "text": [
        "<IPython.core.display.HTML at 0xab23b00>"
       ]
      }
     ],
     "prompt_number": 38
    },
    {
     "cell_type": "code",
     "collapsed": false,
     "input": [
      "HTML(html_table_for_df_index_construction_coloring(states_2_2,index))"
     ],
     "language": "python",
     "metadata": {},
     "outputs": [
      {
       "html": [
        "<table><tr><td bgcolor=\"#7FFF00\" style=\"width:30px; height:30px; vertical-align:middle; text-align:center\">Q</td><td bgcolor=\"#7FFF00\" style=\"width:30px; height:30px; vertical-align:middle; text-align:center\">Q</td><td bgcolor=\"#F08080\" style=\"width:30px; height:30px; vertical-align:middle; text-align:center\">T</td><td bgcolor=\"#F08080\" style=\"width:30px; height:30px; vertical-align:middle; text-align:center\">T</td><td bgcolor=\"#F08080\" style=\"width:30px; height:30px; vertical-align:middle; text-align:center\">T</td><td bgcolor=\"#E6E6E6\" style=\"width:30px; height:30px; vertical-align:middle; text-align:center\"></td></tr><tr><td bgcolor=\"#FFA07A\" style=\"width:30px; height:30px; vertical-align:middle; text-align:center\">R</td><td bgcolor=\"#FFA07A\" style=\"width:30px; height:30px; vertical-align:middle; text-align:center\">R</td><td bgcolor=\"#FFA07A\" style=\"width:30px; height:30px; vertical-align:middle; text-align:center\">R</td><td bgcolor=\"#E6E6E6\" style=\"width:30px; height:30px; vertical-align:middle; text-align:center\"></td><td bgcolor=\"#E6E6E6\" style=\"width:30px; height:30px; vertical-align:middle; text-align:center\"></td><td bgcolor=\"#E6E6E6\" style=\"width:30px; height:30px; vertical-align:middle; text-align:center\"></td></tr><tr><td bgcolor=\"#FF0000\" style=\"width:30px; height:30px; vertical-align:middle; text-align:center\">X</td><td bgcolor=\"#FF0000\" style=\"width:30px; height:30px; vertical-align:middle; text-align:center\">X</td><td bgcolor=\"#E6E6E6\" style=\"width:30px; height:30px; vertical-align:middle; text-align:center\"></td><td bgcolor=\"#E6E6E6\" style=\"width:30px; height:30px; vertical-align:middle; text-align:center\"></td><td bgcolor=\"#E6E6E6\" style=\"width:30px; height:30px; vertical-align:middle; text-align:center\"></td><td bgcolor=\"#E6E6E6\" style=\"width:30px; height:30px; vertical-align:middle; text-align:center\"></td></tr><tr><td bgcolor=\"#E6E6E6\" style=\"width:30px; height:30px; vertical-align:middle; text-align:center\"></td><td bgcolor=\"#E6E6E6\" style=\"width:30px; height:30px; vertical-align:middle; text-align:center\"></td><td bgcolor=\"#E6E6E6\" style=\"width:30px; height:30px; vertical-align:middle; text-align:center\"></td><td bgcolor=\"#E6E6E6\" style=\"width:30px; height:30px; vertical-align:middle; text-align:center\"></td><td bgcolor=\"#E6E6E6\" style=\"width:30px; height:30px; vertical-align:middle; text-align:center\"></td><td bgcolor=\"#E6E6E6\" style=\"width:30px; height:30px; vertical-align:middle; text-align:center\"></td></tr><tr><td bgcolor=\"#E6E6E6\" style=\"width:30px; height:30px; vertical-align:middle; text-align:center\"></td><td bgcolor=\"#E6E6E6\" style=\"width:30px; height:30px; vertical-align:middle; text-align:center\"></td><td bgcolor=\"#E6E6E6\" style=\"width:30px; height:30px; vertical-align:middle; text-align:center\"></td><td bgcolor=\"#E6E6E6\" style=\"width:30px; height:30px; vertical-align:middle; text-align:center\"></td><td bgcolor=\"#E6E6E6\" style=\"width:30px; height:30px; vertical-align:middle; text-align:center\"></td><td bgcolor=\"#E6E6E6\" style=\"width:30px; height:30px; vertical-align:middle; text-align:center\"></td></tr><tr><td bgcolor=\"#E6E6E6\" style=\"width:30px; height:30px; vertical-align:middle; text-align:center\"></td><td bgcolor=\"#E6E6E6\" style=\"width:30px; height:30px; vertical-align:middle; text-align:center\"></td><td bgcolor=\"#E6E6E6\" style=\"width:30px; height:30px; vertical-align:middle; text-align:center\"></td><td bgcolor=\"#E6E6E6\" style=\"width:30px; height:30px; vertical-align:middle; text-align:center\"></td><td bgcolor=\"#E6E6E6\" style=\"width:30px; height:30px; vertical-align:middle; text-align:center\"></td><td bgcolor=\"#E6E6E6\" style=\"width:30px; height:30px; vertical-align:middle; text-align:center\"></td></tr></table>"
       ],
       "metadata": {},
       "output_type": "pyout",
       "prompt_number": 39,
       "text": [
        "<IPython.core.display.HTML at 0xab23908>"
       ]
      }
     ],
     "prompt_number": 39
    },
    {
     "cell_type": "code",
     "collapsed": false,
     "input": [
      "HTML(html_table_for_df_index_construction_coloring(states_2_2,index+31))"
     ],
     "language": "python",
     "metadata": {},
     "outputs": [
      {
       "html": [
        "<table><tr><td bgcolor=\"#7FFF00\" style=\"width:30px; height:30px; vertical-align:middle; text-align:center\">Q</td><td bgcolor=\"#7FFF00\" style=\"width:30px; height:30px; vertical-align:middle; text-align:center\">Q</td><td bgcolor=\"#F08080\" style=\"width:30px; height:30px; vertical-align:middle; text-align:center\">T</td><td bgcolor=\"#F08080\" style=\"width:30px; height:30px; vertical-align:middle; text-align:center\">T</td><td bgcolor=\"#F08080\" style=\"width:30px; height:30px; vertical-align:middle; text-align:center\">T</td><td bgcolor=\"#E6E6E6\" style=\"width:30px; height:30px; vertical-align:middle; text-align:center\"></td></tr><tr><td bgcolor=\"#E6E6E6\" style=\"width:30px; height:30px; vertical-align:middle; text-align:center\"></td><td bgcolor=\"#E6E6E6\" style=\"width:30px; height:30px; vertical-align:middle; text-align:center\"></td><td bgcolor=\"#E6E6E6\" style=\"width:30px; height:30px; vertical-align:middle; text-align:center\"></td><td bgcolor=\"#E6E6E6\" style=\"width:30px; height:30px; vertical-align:middle; text-align:center\"></td><td bgcolor=\"#E6E6E6\" style=\"width:30px; height:30px; vertical-align:middle; text-align:center\"></td><td bgcolor=\"#E6E6E6\" style=\"width:30px; height:30px; vertical-align:middle; text-align:center\"></td></tr><tr><td bgcolor=\"#FF0000\" style=\"width:30px; height:30px; vertical-align:middle; text-align:center\">X</td><td bgcolor=\"#FF0000\" style=\"width:30px; height:30px; vertical-align:middle; text-align:center\">X</td><td bgcolor=\"#E6E6E6\" style=\"width:30px; height:30px; vertical-align:middle; text-align:center\"></td><td bgcolor=\"#E6E6E6\" style=\"width:30px; height:30px; vertical-align:middle; text-align:center\"></td><td bgcolor=\"#E6E6E6\" style=\"width:30px; height:30px; vertical-align:middle; text-align:center\"></td><td bgcolor=\"#E6E6E6\" style=\"width:30px; height:30px; vertical-align:middle; text-align:center\"></td></tr><tr><td bgcolor=\"#E6E6E6\" style=\"width:30px; height:30px; vertical-align:middle; text-align:center\"></td><td bgcolor=\"#E6E6E6\" style=\"width:30px; height:30px; vertical-align:middle; text-align:center\"></td><td bgcolor=\"#E6E6E6\" style=\"width:30px; height:30px; vertical-align:middle; text-align:center\"></td><td bgcolor=\"#E6E6E6\" style=\"width:30px; height:30px; vertical-align:middle; text-align:center\"></td><td bgcolor=\"#E6E6E6\" style=\"width:30px; height:30px; vertical-align:middle; text-align:center\"></td><td bgcolor=\"#E6E6E6\" style=\"width:30px; height:30px; vertical-align:middle; text-align:center\"></td></tr><tr><td bgcolor=\"#E6E6E6\" style=\"width:30px; height:30px; vertical-align:middle; text-align:center\"></td><td bgcolor=\"#E6E6E6\" style=\"width:30px; height:30px; vertical-align:middle; text-align:center\"></td><td bgcolor=\"#E6E6E6\" style=\"width:30px; height:30px; vertical-align:middle; text-align:center\"></td><td bgcolor=\"#E6E6E6\" style=\"width:30px; height:30px; vertical-align:middle; text-align:center\"></td><td bgcolor=\"#E6E6E6\" style=\"width:30px; height:30px; vertical-align:middle; text-align:center\"></td><td bgcolor=\"#E6E6E6\" style=\"width:30px; height:30px; vertical-align:middle; text-align:center\"></td></tr><tr><td bgcolor=\"#E6E6E6\" style=\"width:30px; height:30px; vertical-align:middle; text-align:center\"></td><td bgcolor=\"#E6E6E6\" style=\"width:30px; height:30px; vertical-align:middle; text-align:center\"></td><td bgcolor=\"#E6E6E6\" style=\"width:30px; height:30px; vertical-align:middle; text-align:center\"></td><td bgcolor=\"#FFA07A\" style=\"width:30px; height:30px; vertical-align:middle; text-align:center\">R</td><td bgcolor=\"#FFA07A\" style=\"width:30px; height:30px; vertical-align:middle; text-align:center\">R</td><td bgcolor=\"#FFA07A\" style=\"width:30px; height:30px; vertical-align:middle; text-align:center\">R</td></tr></table>"
       ],
       "metadata": {},
       "output_type": "pyout",
       "prompt_number": 41,
       "text": [
        "<IPython.core.display.HTML at 0xabb30f0>"
       ]
      }
     ],
     "prompt_number": 41
    },
    {
     "cell_type": "code",
     "collapsed": false,
     "input": [
      "HTML(html_table_for_df_index_construction_coloring(states_2_2,index+40))"
     ],
     "language": "python",
     "metadata": {},
     "outputs": [
      {
       "html": [
        "<table><tr><td bgcolor=\"#7FFF00\" style=\"width:30px; height:30px; vertical-align:middle; text-align:center\">Q</td><td bgcolor=\"#7FFF00\" style=\"width:30px; height:30px; vertical-align:middle; text-align:center\">Q</td><td bgcolor=\"#F08080\" style=\"width:30px; height:30px; vertical-align:middle; text-align:center\">T</td><td bgcolor=\"#E6E6E6\" style=\"width:30px; height:30px; vertical-align:middle; text-align:center\"></td><td bgcolor=\"#E6E6E6\" style=\"width:30px; height:30px; vertical-align:middle; text-align:center\"></td><td bgcolor=\"#E6E6E6\" style=\"width:30px; height:30px; vertical-align:middle; text-align:center\"></td></tr><tr><td bgcolor=\"#E6E6E6\" style=\"width:30px; height:30px; vertical-align:middle; text-align:center\"></td><td bgcolor=\"#E6E6E6\" style=\"width:30px; height:30px; vertical-align:middle; text-align:center\"></td><td bgcolor=\"#F08080\" style=\"width:30px; height:30px; vertical-align:middle; text-align:center\">T</td><td bgcolor=\"#E6E6E6\" style=\"width:30px; height:30px; vertical-align:middle; text-align:center\"></td><td bgcolor=\"#E6E6E6\" style=\"width:30px; height:30px; vertical-align:middle; text-align:center\"></td><td bgcolor=\"#E6E6E6\" style=\"width:30px; height:30px; vertical-align:middle; text-align:center\"></td></tr><tr><td bgcolor=\"#FF0000\" style=\"width:30px; height:30px; vertical-align:middle; text-align:center\">X</td><td bgcolor=\"#FF0000\" style=\"width:30px; height:30px; vertical-align:middle; text-align:center\">X</td><td bgcolor=\"#F08080\" style=\"width:30px; height:30px; vertical-align:middle; text-align:center\">T</td><td bgcolor=\"#FFA07A\" style=\"width:30px; height:30px; vertical-align:middle; text-align:center\">R</td><td bgcolor=\"#FFA07A\" style=\"width:30px; height:30px; vertical-align:middle; text-align:center\">R</td><td bgcolor=\"#FFA07A\" style=\"width:30px; height:30px; vertical-align:middle; text-align:center\">R</td></tr><tr><td bgcolor=\"#E6E6E6\" style=\"width:30px; height:30px; vertical-align:middle; text-align:center\"></td><td bgcolor=\"#E6E6E6\" style=\"width:30px; height:30px; vertical-align:middle; text-align:center\"></td><td bgcolor=\"#E6E6E6\" style=\"width:30px; height:30px; vertical-align:middle; text-align:center\"></td><td bgcolor=\"#E6E6E6\" style=\"width:30px; height:30px; vertical-align:middle; text-align:center\"></td><td bgcolor=\"#E6E6E6\" style=\"width:30px; height:30px; vertical-align:middle; text-align:center\"></td><td bgcolor=\"#E6E6E6\" style=\"width:30px; height:30px; vertical-align:middle; text-align:center\"></td></tr><tr><td bgcolor=\"#E6E6E6\" style=\"width:30px; height:30px; vertical-align:middle; text-align:center\"></td><td bgcolor=\"#E6E6E6\" style=\"width:30px; height:30px; vertical-align:middle; text-align:center\"></td><td bgcolor=\"#E6E6E6\" style=\"width:30px; height:30px; vertical-align:middle; text-align:center\"></td><td bgcolor=\"#E6E6E6\" style=\"width:30px; height:30px; vertical-align:middle; text-align:center\"></td><td bgcolor=\"#E6E6E6\" style=\"width:30px; height:30px; vertical-align:middle; text-align:center\"></td><td bgcolor=\"#E6E6E6\" style=\"width:30px; height:30px; vertical-align:middle; text-align:center\"></td></tr><tr><td bgcolor=\"#E6E6E6\" style=\"width:30px; height:30px; vertical-align:middle; text-align:center\"></td><td bgcolor=\"#E6E6E6\" style=\"width:30px; height:30px; vertical-align:middle; text-align:center\"></td><td bgcolor=\"#E6E6E6\" style=\"width:30px; height:30px; vertical-align:middle; text-align:center\"></td><td bgcolor=\"#E6E6E6\" style=\"width:30px; height:30px; vertical-align:middle; text-align:center\"></td><td bgcolor=\"#E6E6E6\" style=\"width:30px; height:30px; vertical-align:middle; text-align:center\"></td><td bgcolor=\"#E6E6E6\" style=\"width:30px; height:30px; vertical-align:middle; text-align:center\"></td></tr></table>"
       ],
       "metadata": {},
       "output_type": "pyout",
       "prompt_number": 17,
       "text": [
        "<IPython.core.display.HTML at 0xa5f89e8>"
       ]
      }
     ],
     "prompt_number": 17
    },
    {
     "cell_type": "code",
     "collapsed": false,
     "input": [],
     "language": "python",
     "metadata": {},
     "outputs": []
    }
   ],
   "metadata": {}
  }
 ]
}
{
 "metadata": {
  "name": "",
  "signature": "sha256:9a135368643d24e37d90aeab196fba82522fceb8a3bd63b926dde42b93fc53d0"
 },
 "nbformat": 3,
 "nbformat_minor": 0,
 "worksheets": [
  {
   "cells": [
    {
     "cell_type": "code",
     "collapsed": false,
     "input": [
      "import tables \n",
      "import numpy as np\n"
     ],
     "language": "python",
     "metadata": {},
     "outputs": [],
     "prompt_number": 1
    },
    {
     "cell_type": "code",
     "collapsed": false,
     "input": [
      "h5file = tables.open_file('tutorial.h5', mode = 'w', title = 'test file')"
     ],
     "language": "python",
     "metadata": {},
     "outputs": [],
     "prompt_number": 4
    },
    {
     "cell_type": "code",
     "collapsed": false,
     "input": [
      "g = h5file.create_group('/', 'combinatorial_class','Combinatorial Class')"
     ],
     "language": "python",
     "metadata": {},
     "outputs": [],
     "prompt_number": 12
    },
    {
     "cell_type": "code",
     "collapsed": false,
     "input": [
      "g"
     ],
     "language": "python",
     "metadata": {},
     "outputs": [
      {
       "metadata": {},
       "output_type": "pyout",
       "prompt_number": 13,
       "text": [
        "/combinatorial_class (Group) 'Combinatorial Class'\n",
        "  children := []"
       ]
      }
     ],
     "prompt_number": 13
    },
    {
     "cell_type": "code",
     "collapsed": false,
     "input": [
      "table = h5file.create_group(g, 'topo_class','Topological Classes')"
     ],
     "language": "python",
     "metadata": {},
     "outputs": [],
     "prompt_number": 14
    },
    {
     "cell_type": "code",
     "collapsed": false,
     "input": [
      "g2 = table"
     ],
     "language": "python",
     "metadata": {},
     "outputs": [],
     "prompt_number": 15
    },
    {
     "cell_type": "code",
     "collapsed": false,
     "input": [
      "class State(tables.IsDescription):\n",
      "    game_number  = tables.Int64Col()\n",
      "    game_hash_top = tables.Int64Col()\n",
      "    game_hash_bottom = tables.Int64Col()\n",
      "    red_car_end_a = tables.Int64Col()\n",
      "    is_goal_state = tables.Int64Col()\n",
      "    degree = tables.Int64Col()\n",
      "    \n"
     ],
     "language": "python",
     "metadata": {},
     "outputs": [],
     "prompt_number": 19
    },
    {
     "cell_type": "code",
     "collapsed": false,
     "input": [
      "tbl = h5file.create_table(g2,'game_states',State, 'Game State Example')"
     ],
     "language": "python",
     "metadata": {},
     "outputs": [],
     "prompt_number": 21
    },
    {
     "cell_type": "code",
     "collapsed": false,
     "input": [
      "h5file"
     ],
     "language": "python",
     "metadata": {},
     "outputs": [
      {
       "metadata": {},
       "output_type": "pyout",
       "prompt_number": 22,
       "text": [
        "File(filename=tutorial.h5, title='test file', mode='w', root_uep='/', filters=Filters(complevel=0, shuffle=False, fletcher32=False, least_significant_digit=None))\n",
        "/ (RootGroup) 'test file'\n",
        "/comb_class (Group) 'Combinatorial Class'\n",
        "/combinatorial_class (Group) 'Combinatorial Class'\n",
        "/combinatorial_class/topo_class (Group) 'Topological Classes'\n",
        "/combinatorial_class/topo_class/game_states (Table(0,)) 'Game State Example'\n",
        "  description := {\n",
        "  \"degree\": Int64Col(shape=(), dflt=0, pos=0),\n",
        "  \"game_hash_bottom\": Int64Col(shape=(), dflt=0, pos=1),\n",
        "  \"game_hash_top\": Int64Col(shape=(), dflt=0, pos=2),\n",
        "  \"game_number\": Int64Col(shape=(), dflt=0, pos=3),\n",
        "  \"is_goal_state\": Int64Col(shape=(), dflt=0, pos=4),\n",
        "  \"red_car_end_a\": Int64Col(shape=(), dflt=0, pos=5)}\n",
        "  byteorder := 'little'\n",
        "  chunkshape := (1365,)"
       ]
      }
     ],
     "prompt_number": 22
    },
    {
     "cell_type": "code",
     "collapsed": false,
     "input": [
      "state = tbl.row"
     ],
     "language": "python",
     "metadata": {},
     "outputs": [],
     "prompt_number": 23
    },
    {
     "cell_type": "code",
     "collapsed": false,
     "input": [
      "for i in range(10):\n",
      "    state['game_number'] = i\n",
      "    state['degree'] = -1\n",
      "    state['game_hash_top'] = 2394723\n",
      "    state['game_hash_bottom'] = 2439233\n",
      "    state['is_goal_state'] = i%2\n",
      "    state['red_car_end_a'] = 16\n",
      "    state.append()\n",
      "\n",
      "    "
     ],
     "language": "python",
     "metadata": {},
     "outputs": [],
     "prompt_number": 25
    },
    {
     "cell_type": "code",
     "collapsed": false,
     "input": [
      "tbl.flush()"
     ],
     "language": "python",
     "metadata": {},
     "outputs": [],
     "prompt_number": 26
    },
    {
     "cell_type": "code",
     "collapsed": false,
     "input": [
      "tbl2 = h5file.root.combinatorial_class.topo_class.game_states"
     ],
     "language": "python",
     "metadata": {},
     "outputs": [],
     "prompt_number": 29
    },
    {
     "cell_type": "code",
     "collapsed": false,
     "input": [
      "tbl2"
     ],
     "language": "python",
     "metadata": {},
     "outputs": [
      {
       "metadata": {},
       "output_type": "pyout",
       "prompt_number": 30,
       "text": [
        "/combinatorial_class/topo_class/game_states (Table(10,)) 'Game State Example'\n",
        "  description := {\n",
        "  \"degree\": Int64Col(shape=(), dflt=0, pos=0),\n",
        "  \"game_hash_bottom\": Int64Col(shape=(), dflt=0, pos=1),\n",
        "  \"game_hash_top\": Int64Col(shape=(), dflt=0, pos=2),\n",
        "  \"game_number\": Int64Col(shape=(), dflt=0, pos=3),\n",
        "  \"is_goal_state\": Int64Col(shape=(), dflt=0, pos=4),\n",
        "  \"red_car_end_a\": Int64Col(shape=(), dflt=0, pos=5)}\n",
        "  byteorder := 'little'\n",
        "  chunkshape := (1365,)"
       ]
      }
     ],
     "prompt_number": 30
    },
    {
     "cell_type": "code",
     "collapsed": false,
     "input": [
      "for i in tbl2.iterrows():\n",
      "    print i\n",
      "    "
     ],
     "language": "python",
     "metadata": {},
     "outputs": [
      {
       "output_type": "stream",
       "stream": "stdout",
       "text": [
        "/combinatorial_class/topo_class/game_states.row (Row), pointing to row #0\n",
        "/combinatorial_class/topo_class/game_states.row (Row), pointing to row #1\n",
        "/combinatorial_class/topo_class/game_states.row (Row), pointing to row #2\n",
        "/combinatorial_class/topo_class/game_states.row (Row), pointing to row #3\n",
        "/combinatorial_class/topo_class/game_states.row (Row), pointing to row #4\n",
        "/combinatorial_class/topo_class/game_states.row (Row), pointing to row #5\n",
        "/combinatorial_class/topo_class/game_states.row (Row), pointing to row #6\n",
        "/combinatorial_class/topo_class/game_states.row (Row), pointing to row #7\n",
        "/combinatorial_class/topo_class/game_states.row (Row), pointing to row #8\n",
        "/combinatorial_class/topo_class/game_states.row (Row), pointing to row #9\n"
       ]
      }
     ],
     "prompt_number": 33
    },
    {
     "cell_type": "code",
     "collapsed": false,
     "input": [
      "h5file.create_group('/','comb_class_2','Combinatorial Class - 1 car 0 trucks')"
     ],
     "language": "python",
     "metadata": {},
     "outputs": [
      {
       "metadata": {},
       "output_type": "pyout",
       "prompt_number": 34,
       "text": [
        "/comb_class_2 (Group) 'Combinatorial Class - 1 car 0 trucks'\n",
        "  children := []"
       ]
      }
     ],
     "prompt_number": 34
    },
    {
     "cell_type": "code",
     "collapsed": false,
     "input": [
      "h5file.create_group('/','comb_class_4','Combinatorial Class - 2 cars 0 trucks')"
     ],
     "language": "python",
     "metadata": {},
     "outputs": [
      {
       "metadata": {},
       "output_type": "pyout",
       "prompt_number": 35,
       "text": [
        "/comb_class_4 (Group) 'Combinatorial Class - 2 cars 0 trucks'\n",
        "  children := []"
       ]
      }
     ],
     "prompt_number": 35
    },
    {
     "cell_type": "code",
     "collapsed": false,
     "input": [
      "h5file.create_group('/comb_class_2','topo_class_28372','Topologial Class')"
     ],
     "language": "python",
     "metadata": {},
     "outputs": [
      {
       "metadata": {},
       "output_type": "pyout",
       "prompt_number": 41,
       "text": [
        "/comb_class_2/topo_class_28372 (Group) 'Topologial Class'\n",
        "  children := []"
       ]
      }
     ],
     "prompt_number": 41
    },
    {
     "cell_type": "code",
     "collapsed": false,
     "input": [],
     "language": "python",
     "metadata": {},
     "outputs": []
    }
   ],
   "metadata": {}
  }
 ]
}
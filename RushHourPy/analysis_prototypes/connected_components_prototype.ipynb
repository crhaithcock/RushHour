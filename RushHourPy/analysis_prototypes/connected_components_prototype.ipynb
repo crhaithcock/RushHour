{
 "cells": [
  {
   "cell_type": "code",
   "execution_count": 1,
   "metadata": {
    "collapsed": false
   },
   "outputs": [],
   "source": [
    "import os\n",
    "import pandas as pd\n",
    "import copy\n",
    "from IPython.display import HTML\n",
    "import sqlite3 as db"
   ]
  },
  {
   "cell_type": "code",
   "execution_count": 2,
   "metadata": {
    "collapsed": false
   },
   "outputs": [],
   "source": [
    "con = db.connect('C:/Users/cliff/workspace/rushHour/Data Model and SQL/Schema Definition and Bulk Load/rush_hour.db')\n",
    "c = con.cursor()"
   ]
  },
  {
   "cell_type": "code",
   "execution_count": 3,
   "metadata": {
    "collapsed": false
   },
   "outputs": [],
   "source": [
    "%run display_utilities.py\n",
    "%run compute_edges_connected_components.py"
   ]
  },
  {
   "cell_type": "markdown",
   "metadata": {},
   "source": [
    "We start with a combinatorial class and derive the following:\n",
    "     * state transitions\n",
    "     * connected components\n",
    "\n",
    "And we update states according to these derivations.\n",
    "\n",
    "The algorithm:\n",
    "    \n",
    "    Start with combinatorial class $C$. \n",
    "    \n",
    "    Compute set $T$ of all topological classes $T_i$ in $C$ along with number of states in $T_i; T =[ [T_1,N_1], [T_2,N_2], ...,[T_n,N_n] ]$\n",
    "    \n",
    "    Compute subsets of $T$ such that the number of states within each subset is constrained by a hardcoded constant\n",
    "    \n",
    "    For each such subset $S$ of $T$, derive the connected components within $S$\n",
    "    \n",
    "    Record those connected components in db"
   ]
  },
  {
   "cell_type": "code",
   "execution_count": 4,
   "metadata": {
    "collapsed": false
   },
   "outputs": [
    {
     "ename": "IndexError",
     "evalue": "list index out of range",
     "output_type": "error",
     "traceback": [
      "\u001b[1;31m---------------------------------------------------------------------------\u001b[0m\n\u001b[1;31mIndexError\u001b[0m                                Traceback (most recent call last)",
      "\u001b[1;32m<ipython-input-4-6063b574c64b>\u001b[0m in \u001b[0;36m<module>\u001b[1;34m()\u001b[0m\n\u001b[0;32m     22\u001b[0m         \u001b[0mgame_numbers\u001b[0m \u001b[1;33m=\u001b[0m \u001b[0mlist\u001b[0m\u001b[1;33m(\u001b[0m \u001b[0mset\u001b[0m\u001b[1;33m(\u001b[0m \u001b[1;33m[\u001b[0m\u001b[0mx\u001b[0m\u001b[1;33m[\u001b[0m\u001b[1;36m0\u001b[0m\u001b[1;33m]\u001b[0m \u001b[1;32mfor\u001b[0m \u001b[0mx\u001b[0m \u001b[1;32min\u001b[0m \u001b[0medges\u001b[0m\u001b[1;33m]\u001b[0m \u001b[1;33m+\u001b[0m \u001b[1;33m[\u001b[0m\u001b[0mx\u001b[0m\u001b[1;33m[\u001b[0m\u001b[1;36m1\u001b[0m\u001b[1;33m]\u001b[0m \u001b[1;32mfor\u001b[0m \u001b[0mx\u001b[0m \u001b[1;32min\u001b[0m \u001b[0medges\u001b[0m\u001b[1;33m]\u001b[0m\u001b[1;33m)\u001b[0m\u001b[1;33m)\u001b[0m\u001b[1;33m\u001b[0m\u001b[0m\n\u001b[0;32m     23\u001b[0m         \u001b[0mgame_numbers_in_clause\u001b[0m \u001b[1;33m=\u001b[0m \u001b[1;34m'('\u001b[0m \u001b[1;33m+\u001b[0m \u001b[1;34m','\u001b[0m\u001b[1;33m.\u001b[0m\u001b[0mjoin\u001b[0m\u001b[1;33m(\u001b[0m\u001b[1;33m[\u001b[0m\u001b[0mstr\u001b[0m\u001b[1;33m(\u001b[0m\u001b[0mx\u001b[0m\u001b[1;33m)\u001b[0m \u001b[1;32mfor\u001b[0m \u001b[0mx\u001b[0m \u001b[1;32min\u001b[0m \u001b[0mgame_numbers\u001b[0m\u001b[1;33m]\u001b[0m\u001b[1;33m)\u001b[0m \u001b[1;33m+\u001b[0m \u001b[1;34m')'\u001b[0m\u001b[1;33m\u001b[0m\u001b[0m\n\u001b[1;32m---> 24\u001b[1;33m         \u001b[0mtopo_class_hash\u001b[0m \u001b[1;33m=\u001b[0m \u001b[0mtopo_hash_dict\u001b[0m\u001b[1;33m[\u001b[0m\u001b[0mstates\u001b[0m\u001b[1;33m[\u001b[0m\u001b[1;36m1\u001b[0m\u001b[1;33m]\u001b[0m\u001b[1;33m]\u001b[0m\u001b[1;33m\u001b[0m\u001b[0m\n\u001b[0m\u001b[0;32m     25\u001b[0m \u001b[1;33m\u001b[0m\u001b[0m\n\u001b[0;32m     26\u001b[0m         \u001b[0mcomponent_sql\u001b[0m \u001b[1;33m=\u001b[0m \u001b[1;34m\"insert into connected_component(num_states,topo_class_hash) values(%d,%d)\"\u001b[0m\u001b[1;33m%\u001b[0m\u001b[1;33m(\u001b[0m\u001b[0mlen\u001b[0m\u001b[1;33m(\u001b[0m\u001b[0mgame_numbers\u001b[0m\u001b[1;33m)\u001b[0m\u001b[1;33m,\u001b[0m \u001b[0mtopo_class_hash\u001b[0m\u001b[1;33m)\u001b[0m\u001b[1;33m\u001b[0m\u001b[0m\n",
      "\u001b[1;31mIndexError\u001b[0m: list index out of range"
     ]
    }
   ],
   "source": [
    "comb_class_id = 216\n",
    "c.execute(\"select topo_class_hash,count(*) from states where comb_class_id = %d group by topo_class_hash\" %(comb_class_id))\n",
    "topo_classes = c.fetchall()\n",
    "topo_class_subsets = topo_classes_subsets_defined_by_state_count(topo_classes)\n",
    "\n",
    "for subset in topo_class_subsets:\n",
    "    sql_in_clause = '(' + ','.join([str(x) for x in subset]) + ')'\n",
    "\n",
    "    sql = \"\"\"select game_number,game_hash_top,game_hash_bottom,red_car_end_a,topo_class_hash \n",
    "             from states \n",
    "             where topo_class_hash in \"\"\" + sql_in_clause\n",
    "\n",
    "    c.execute(sql)\n",
    "\n",
    "    all_states = c.fetchall()\n",
    "    all_states_dict = { (x[1],x[2],x[3]) : x[0] for x in all_states }\n",
    "    topo_hash_dict = { (x[1],x[2],x[3]) : x[4] for x in all_states }\n",
    "    connected_components = compute_connected_components(all_states_dict)\n",
    "    \n",
    "    for connected_component in connected_components:\n",
    "        [states,edges] = connected_component\n",
    "        game_numbers = list( set( [x[0] for x in edges] + [x[1] for x in edges]))\n",
    "        game_numbers_in_clause = '(' + ','.join([str(x) for x in game_numbers]) + ')'\n",
    "        topo_class_hash = topo_hash_dict[states[1]]\n",
    "\n",
    "        component_sql = \"insert into connected_component(num_states,topo_class_hash) values(%d,%d)\"%(len(game_numbers), topo_class_hash)\n",
    "        c.execute(component_sql)\n",
    "        component_id = c.lastrowid\n",
    "\n",
    "        update_states_sql = \"update states set connected_component_id = %d where comb_class_id = %d and game_number in \" %(component_id, comb_class_id)\n",
    "        update_states_sql = update_states_sql + game_numbers_in_clause\n",
    "        c.execute(update_states_sql)   \n",
    "\n",
    "        transitions_for_insert = [ [comb_class_id] + x for x in edges] \n",
    "        insert_transitions_sql = \"insert into state_transition(comb_class_id, pre_transition_game_number, post_transition_game_number) values(?,?,?)\"\n",
    "        c.executemany(insert_transitions_sql,(transitions_for_insert))\n",
    "        con.commit()"
   ]
  },
  {
   "cell_type": "code",
   "execution_count": 23,
   "metadata": {
    "collapsed": false
   },
   "outputs": [],
   "source": [
    "# !!!! TODO - convert this step into a loop through each connected component \n",
    "for connected_component in connected_components:\n",
    "    [states,edges] = connected_component\n",
    "    game_numbers = list( set( [x[0] for x in edges] + [x[1] for x in edges]))\n",
    "    game_numbers_in_clause = '(' + ','.join([str(x) for x in game_numbers]) + ')'\n",
    "    topo_class_hash = topo_hash_dict[states[1]]\n",
    "\n",
    "    component_sql = \"insert into connected_component(num_states,topo_class_hash) values(%d,%d)\"%(len(game_numbers), topo_class_hash)\n",
    "    c.execute(component_sql)\n",
    "    component_id = c.lastrowid\n",
    "\n",
    "    update_states_sql = \"update states set connected_component_id = %d where comb_class_id = %d and game_number in \" %(component_id, comb_class_id)\n",
    "    update_states_sql = update_states_sql + game_numbers_in_clause\n",
    "    c.execute(update_states_sql)   \n",
    "\n",
    "    transitions_for_insert = [ [comb_class_id] + x for x in edges] \n",
    "    insert_transitions_sql = \"insert into state_transition(comb_class_id, pre_transition_game_number, post_transition_game_number) values(?,?,?)\"\n",
    "    c.executemany(insert_transitions_sql,(transitions_for_insert))\n",
    "    con.commit()"
   ]
  },
  {
   "cell_type": "code",
   "execution_count": 24,
   "metadata": {
    "collapsed": false
   },
   "outputs": [
    {
     "data": {
      "text/plain": [
       "1"
      ]
     },
     "execution_count": 24,
     "metadata": {},
     "output_type": "execute_result"
    }
   ],
   "source": [
    "len(topo_class_subsets)"
   ]
  },
  {
   "cell_type": "code",
   "execution_count": null,
   "metadata": {
    "collapsed": false
   },
   "outputs": [],
   "source": []
  }
 ],
 "metadata": {
  "anaconda-cloud": {},
  "kernelspec": {
   "display_name": "Python [default]",
   "language": "python",
   "name": "python3"
  },
  "language_info": {
   "codemirror_mode": {
    "name": "ipython",
    "version": 3
   },
   "file_extension": ".py",
   "mimetype": "text/x-python",
   "name": "python",
   "nbconvert_exporter": "python",
   "pygments_lexer": "ipython3",
   "version": "3.5.2"
  }
 },
 "nbformat": 4,
 "nbformat_minor": 0
}

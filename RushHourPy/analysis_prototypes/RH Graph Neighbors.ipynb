{
 "metadata": {
  "name": "",
  "signature": "sha256:b2188c00291164f17289a4d3aac63ef526d358bc98e69edcbbe6d5ef7cc36c0e"
 },
 "nbformat": 3,
 "nbformat_minor": 0,
 "worksheets": [
  {
   "cells": [
    {
     "cell_type": "code",
     "collapsed": false,
     "input": [
      "from IPython.display import HTML"
     ],
     "language": "python",
     "metadata": {},
     "outputs": [],
     "prompt_number": 21
    },
    {
     "cell_type": "code",
     "collapsed": false,
     "input": [
      "board_bit_str = '000000000000000000000000000000000000011011000000000000000000000000000000000000000000000000000000000000000000'\n",
      "red_car_end_a = 12"
     ],
     "language": "python",
     "metadata": {},
     "outputs": [],
     "prompt_number": 1
    },
    {
     "cell_type": "code",
     "collapsed": false,
     "input": [
      "def move_car_left(board,end_a):\n",
      "    new_board = list(board)\n",
      "    new_board[end_a - 1] = HORIZONTAL_CAR\n",
      "    new_board[end_a + 1] = BLANK_SPACE\n",
      "    return new_board\n",
      "\n",
      "def move_car_right(board,end_b):\n",
      "    new_board = list(board)\n",
      "    new_board[end_b + 1] = HORIZONTAL_CAR\n",
      "    new_board[end_b - 1] = BLANK_SPACE\n",
      "    return new_board\n",
      "\n",
      "def move_car_up(board,end_a):\n",
      "    new_board = list(board)\n",
      "    new_board[end_a - 6] = VERTICAL_CAR\n",
      "    new_board[end_a + 6] = BLANK_SPACE\n",
      "    return new_board\n",
      "\n",
      "def move_car_down(board, end_b):\n",
      "    new_board = list(board)\n",
      "    new_board[end_b + 6] = VERTICAL_CAR\n",
      "    new_board[end_b - 6] = BLANK_SPACE\n",
      "    return new_board\n",
      "\n",
      "def move_truck_left(board, end_a):\n",
      "    new_board = list(board)\n",
      "    new_board[end_a - 1] = HORIZONTAL_TRUCK\n",
      "    new_board[end_a + 2] = BLANK_SPACE\n",
      "    return new_board\n",
      "\n",
      "def move_truck_right(board, end_b):\n",
      "    new_board = list(board)\n",
      "    new_board[end_b + 1] = HORIZONTAL_CAR\n",
      "    new_board[end_b - 2] = BLANK_SPACE\n",
      "    return new_board\n",
      "\n",
      "def move_truck_up(board, end_a):\n",
      "    new_board = list(board)\n",
      "    new_board[end_a - 6] = VERTICAL_TRUCK\n",
      "    new_board[end_a + 12] = BLANK_SPACE\n",
      "    return new_board\n",
      "\n",
      "def move_truck_down(board,end_b):\n",
      "    new_board = list(board)\n",
      "    new_board[end_b + 6] = VERTICAL_TRUCK\n",
      "    new_board[end_b - 12] = VERTICAL_TRUCK\n",
      "    return new_board\n"
     ],
     "language": "python",
     "metadata": {},
     "outputs": [],
     "prompt_number": 16
    },
    {
     "cell_type": "code",
     "collapsed": false,
     "input": [
      "\n",
      "# find all the pieces within the board encoded as a single string\n",
      "\n",
      "BLANK_SPACE = '000'\n",
      "VERTICAL_CAR = '001'\n",
      "HORIZONTAL_CAR = '011'\n",
      "VERTICAL_TRUCK = '100'\n",
      "HORIZONTAL_TRUCK = '010'\n",
      "\n",
      "board = [board_bit_str[i:i+3] for i in range(0,108,3)]\n",
      "indexed_board = zip(range(36),board)\n",
      "neighbors = []\n",
      "occupied_spaces = [x for x in indexed_board if x[1] != BLANK_SPACE]\n",
      "\n",
      "for indexed_space in occupied_spaces:\n",
      "    \n",
      "    # if horizontal car not on left edge and space to left is blank, move car left one space\n",
      "    if indexed_space[1] == HORIZONTAL_CAR and indexed_space[0] %6 > 0 and board[indexed_space[0] - 1] == BLANK_SPACE:\n",
      "        nbr_board = move_car_left(board,indexed_space[0])\n",
      "        if indexed_space[1] == red_car_end_a:\n",
      "            neighbors.append( (nbr_board, red_car_end_a - 1))\n",
      "        else:\n",
      "            neighbors.append( (nbr_board,red_car_end_a))\n",
      "    \n",
      "    # if horizontal car not on right edge and space to right is blank, move car right one space\n",
      "    if indexed_space[1] == HORIZONTAL_CAR and indexed_space[0] %6 < 4 and board[indexed_space[0] + 2] == BLANK_SPACE:\n",
      "        nbr_board = move_car_right(board,indexed_space[0]+1)\n",
      "        if indexed_space[1] == red_car_end_a:\n",
      "            neighbors.append( (nbr_board, red_car_end_a - 1))\n",
      "        else:\n",
      "            neighbors.append( (nbr_board,red_car_end_a))\n",
      "    \n",
      "    # if vertical car not on top edge and space above is blank, move car up\n",
      "    if indexed_space[1] == VERTICAL_CAR and indexed_space[0] > 5 and board[indexed_space[0] - 6] == BLANK_SPACE:\n",
      "        neighbors.append( (move_car_up(board,indexed_space[0]), red_car_end_a) )\n",
      "    \n",
      "    # if vertical car not on bottom edge and space below is blank, move car down\n",
      "    if indexed_space[1] == VERTICAL_CAR and indexed_space[0] < 24 and board[indexed_space[0] + 12] == BLANK_SPACE:\n",
      "        neighbors.append( (move_car_down(board,indexed_space[0] + 6), red_car_end_a) )\n",
      "    \n",
      "    # if horizontal truck not on left edge and space to left is blank, move truck left\n",
      "    if indexed_space[1] == HORIZONTAL_TRUCK and indexed_space[0]%6 > 0 and board[indexed_space[0]-1] == BLANK_SPACE:\n",
      "        neighbors.append( (move_truck_left(board,indexed_space[0]) ,red_car_end_a ) )\n",
      "    \n",
      "    # if horizontal truck not on right edge and space to right is blank, move truck right\n",
      "    if indexed_space[1] == HORIZONTAL_TRUCK and indexed_space[0]%6 < 3 and board[indexed_space[0]+3] == BLANK_SPACE:\n",
      "        neighbors.append( (move_truck_right(board,indexed_space[0]+2), red_car_end_a) )\n",
      "        \n",
      "    # if vertical truck not on top edge and space above is blank, move truck up\n",
      "    if indexed_space[1] == VERTICAL_TRUCK and indexed_space[0] > 5 and board[indexed_space[0] - 6] == BLANK_SPACE:\n",
      "        neigbors.append( (move_truck_up(board,indexed_space[0]), red_car_end_a) )\n",
      "        \n",
      "    # if vertical truck and not on bottom edge and space below is blank, move truck down\n",
      "    if indexed_space[1] == VERTICAL_TRUCK and indexed_space[0] < 18 and board[indexed_space[0] + 18] == BLANK_SPACE:\n",
      "        neighbors.append( (move_truck_down(board,indexed_space[0] + 12), red_car_end_a) )\n",
      "        \n",
      "\n",
      "        "
     ],
     "language": "python",
     "metadata": {},
     "outputs": [],
     "prompt_number": 17
    },
    {
     "cell_type": "code",
     "collapsed": false,
     "input": [
      "HTML(html_for_bit_string(neighbors[0][0],neighbors[0][1]))"
     ],
     "language": "python",
     "metadata": {},
     "outputs": [
      {
       "ename": "NameError",
       "evalue": "name 'html_for_bit_string' is not defined",
       "output_type": "pyerr",
       "traceback": [
        "\u001b[1;31m---------------------------------------------------------------------------\u001b[0m\n\u001b[1;31mNameError\u001b[0m                                 Traceback (most recent call last)",
        "\u001b[1;32m<ipython-input-22-9eb4e5309448>\u001b[0m in \u001b[0;36m<module>\u001b[1;34m()\u001b[0m\n\u001b[1;32m----> 1\u001b[1;33m \u001b[0mHTML\u001b[0m\u001b[1;33m(\u001b[0m\u001b[0mhtml_for_bit_string\u001b[0m\u001b[1;33m(\u001b[0m\u001b[0mneighbors\u001b[0m\u001b[1;33m[\u001b[0m\u001b[1;36m0\u001b[0m\u001b[1;33m]\u001b[0m\u001b[1;33m[\u001b[0m\u001b[1;36m0\u001b[0m\u001b[1;33m]\u001b[0m\u001b[1;33m,\u001b[0m\u001b[0mneighbors\u001b[0m\u001b[1;33m[\u001b[0m\u001b[1;36m0\u001b[0m\u001b[1;33m]\u001b[0m\u001b[1;33m[\u001b[0m\u001b[1;36m1\u001b[0m\u001b[1;33m]\u001b[0m\u001b[1;33m)\u001b[0m\u001b[1;33m)\u001b[0m\u001b[1;33m\u001b[0m\u001b[0m\n\u001b[0m",
        "\u001b[1;31mNameError\u001b[0m: name 'html_for_bit_string' is not defined"
       ]
      }
     ],
     "prompt_number": 22
    },
    {
     "cell_type": "code",
     "collapsed": false,
     "input": [],
     "language": "python",
     "metadata": {},
     "outputs": []
    }
   ],
   "metadata": {}
  }
 ]
}
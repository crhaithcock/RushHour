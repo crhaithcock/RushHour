{
 "cells": [
  {
   "cell_type": "code",
   "execution_count": 1,
   "metadata": {},
   "outputs": [],
   "source": [
    "import os\n",
    "import pandas as pd\n",
    "from IPython.display import HTML"
   ]
  },
  {
   "cell_type": "code",
   "execution_count": 3,
   "metadata": {},
   "outputs": [
    {
     "data": {
      "text/plain": [
       "'C:\\\\Users\\\\cliff\\\\workspace\\\\Rush Hour With Python'"
      ]
     },
     "execution_count": 3,
     "metadata": {},
     "output_type": "execute_result"
    }
   ],
   "source": [
    "os.getcwd()"
   ]
  },
  {
   "cell_type": "code",
   "execution_count": 10,
   "metadata": {},
   "outputs": [],
   "source": [
    "%run display_utilities.py"
   ]
  },
  {
   "cell_type": "code",
   "execution_count": 5,
   "metadata": {},
   "outputs": [],
   "source": [
    "states_2_2 = pd.read_csv('..\\Rush Hour With Java\\data files\\game_states_2_cars_2_trucks.csv')"
   ]
  },
  {
   "cell_type": "code",
   "execution_count": 6,
   "metadata": {},
   "outputs": [
    {
     "data": {
      "text/plain": [
       "game_number               116650\n",
       "comb_class_id             116650\n",
       "game_hash_top             116650\n",
       "game_hash_bottom          116650\n",
       "is_goal_state             116650\n",
       "optimal_neighbor               0\n",
       "red_car_end_a             116650\n",
       "connected_component_id         0\n",
       "topo_class_hash           116650\n",
       "degree                         0\n",
       "dtype: int64"
      ]
     },
     "execution_count": 6,
     "metadata": {},
     "output_type": "execute_result"
    }
   ],
   "source": [
    "states_2_2.count()"
   ]
  },
  {
   "cell_type": "code",
   "execution_count": 8,
   "metadata": {},
   "outputs": [],
   "source": [
    "index = 1"
   ]
  },
  {
   "cell_type": "code",
   "execution_count": 11,
   "metadata": {},
   "outputs": [
    {
     "data": {
      "text/html": [
       "<table><tr><td bgcolor=\"#7FFF00\" style=\"width:30px; height:30px; vertical-align:middle; text-align:center\">Q</td><td bgcolor=\"#7FFF00\" style=\"width:30px; height:30px; vertical-align:middle; text-align:center\">Q</td><td bgcolor=\"#F08080\" style=\"width:30px; height:30px; vertical-align:middle; text-align:center\">T</td><td bgcolor=\"#F08080\" style=\"width:30px; height:30px; vertical-align:middle; text-align:center\">T</td><td bgcolor=\"#F08080\" style=\"width:30px; height:30px; vertical-align:middle; text-align:center\">T</td><td bgcolor=\"#E6E6E6\" style=\"width:30px; height:30px; vertical-align:middle; text-align:center\"></td></tr><tr><td bgcolor=\"#FFA07A\" style=\"width:30px; height:30px; vertical-align:middle; text-align:center\">R</td><td bgcolor=\"#FFA07A\" style=\"width:30px; height:30px; vertical-align:middle; text-align:center\">R</td><td bgcolor=\"#FFA07A\" style=\"width:30px; height:30px; vertical-align:middle; text-align:center\">R</td><td bgcolor=\"#E6E6E6\" style=\"width:30px; height:30px; vertical-align:middle; text-align:center\"></td><td bgcolor=\"#E6E6E6\" style=\"width:30px; height:30px; vertical-align:middle; text-align:center\"></td><td bgcolor=\"#E6E6E6\" style=\"width:30px; height:30px; vertical-align:middle; text-align:center\"></td></tr><tr><td bgcolor=\"#FF0000\" style=\"width:30px; height:30px; vertical-align:middle; text-align:center\">X</td><td bgcolor=\"#FF0000\" style=\"width:30px; height:30px; vertical-align:middle; text-align:center\">X</td><td bgcolor=\"#E6E6E6\" style=\"width:30px; height:30px; vertical-align:middle; text-align:center\"></td><td bgcolor=\"#E6E6E6\" style=\"width:30px; height:30px; vertical-align:middle; text-align:center\"></td><td bgcolor=\"#E6E6E6\" style=\"width:30px; height:30px; vertical-align:middle; text-align:center\"></td><td bgcolor=\"#E6E6E6\" style=\"width:30px; height:30px; vertical-align:middle; text-align:center\"></td></tr><tr><td bgcolor=\"#E6E6E6\" style=\"width:30px; height:30px; vertical-align:middle; text-align:center\"></td><td bgcolor=\"#E6E6E6\" style=\"width:30px; height:30px; vertical-align:middle; text-align:center\"></td><td bgcolor=\"#E6E6E6\" style=\"width:30px; height:30px; vertical-align:middle; text-align:center\"></td><td bgcolor=\"#E6E6E6\" style=\"width:30px; height:30px; vertical-align:middle; text-align:center\"></td><td bgcolor=\"#E6E6E6\" style=\"width:30px; height:30px; vertical-align:middle; text-align:center\"></td><td bgcolor=\"#E6E6E6\" style=\"width:30px; height:30px; vertical-align:middle; text-align:center\"></td></tr><tr><td bgcolor=\"#E6E6E6\" style=\"width:30px; height:30px; vertical-align:middle; text-align:center\"></td><td bgcolor=\"#E6E6E6\" style=\"width:30px; height:30px; vertical-align:middle; text-align:center\"></td><td bgcolor=\"#E6E6E6\" style=\"width:30px; height:30px; vertical-align:middle; text-align:center\"></td><td bgcolor=\"#E6E6E6\" style=\"width:30px; height:30px; vertical-align:middle; text-align:center\"></td><td bgcolor=\"#E6E6E6\" style=\"width:30px; height:30px; vertical-align:middle; text-align:center\"></td><td bgcolor=\"#E6E6E6\" style=\"width:30px; height:30px; vertical-align:middle; text-align:center\"></td></tr><tr><td bgcolor=\"#E6E6E6\" style=\"width:30px; height:30px; vertical-align:middle; text-align:center\"></td><td bgcolor=\"#E6E6E6\" style=\"width:30px; height:30px; vertical-align:middle; text-align:center\"></td><td bgcolor=\"#E6E6E6\" style=\"width:30px; height:30px; vertical-align:middle; text-align:center\"></td><td bgcolor=\"#E6E6E6\" style=\"width:30px; height:30px; vertical-align:middle; text-align:center\"></td><td bgcolor=\"#E6E6E6\" style=\"width:30px; height:30px; vertical-align:middle; text-align:center\"></td><td bgcolor=\"#E6E6E6\" style=\"width:30px; height:30px; vertical-align:middle; text-align:center\"></td></tr></table>"
      ],
      "text/plain": [
       "<IPython.core.display.HTML at 0xa5f86a0>"
      ]
     },
     "execution_count": 11,
     "metadata": {},
     "output_type": "execute_result"
    }
   ],
   "source": [
    "HTML(html_table_for_df_index_component_coloring(states_2_2,index))"
   ]
  },
  {
   "cell_type": "code",
   "execution_count": 12,
   "metadata": {},
   "outputs": [
    {
     "data": {
      "text/html": [
       "<table><tr><td bgcolor=\"#7FFF00\" style=\"width:30px; height:30px; vertical-align:middle; text-align:center\">Q</td><td bgcolor=\"#7FFF00\" style=\"width:30px; height:30px; vertical-align:middle; text-align:center\">Q</td><td bgcolor=\"#F08080\" style=\"width:30px; height:30px; vertical-align:middle; text-align:center\">T</td><td bgcolor=\"#F08080\" style=\"width:30px; height:30px; vertical-align:middle; text-align:center\">T</td><td bgcolor=\"#F08080\" style=\"width:30px; height:30px; vertical-align:middle; text-align:center\">T</td><td bgcolor=\"#E6E6E6\" style=\"width:30px; height:30px; vertical-align:middle; text-align:center\"></td></tr><tr><td bgcolor=\"#E6E6E6\" style=\"width:30px; height:30px; vertical-align:middle; text-align:center\"></td><td bgcolor=\"#FFA07A\" style=\"width:30px; height:30px; vertical-align:middle; text-align:center\">R</td><td bgcolor=\"#FFA07A\" style=\"width:30px; height:30px; vertical-align:middle; text-align:center\">R</td><td bgcolor=\"#FFA07A\" style=\"width:30px; height:30px; vertical-align:middle; text-align:center\">R</td><td bgcolor=\"#E6E6E6\" style=\"width:30px; height:30px; vertical-align:middle; text-align:center\"></td><td bgcolor=\"#E6E6E6\" style=\"width:30px; height:30px; vertical-align:middle; text-align:center\"></td></tr><tr><td bgcolor=\"#FF0000\" style=\"width:30px; height:30px; vertical-align:middle; text-align:center\">X</td><td bgcolor=\"#FF0000\" style=\"width:30px; height:30px; vertical-align:middle; text-align:center\">X</td><td bgcolor=\"#E6E6E6\" style=\"width:30px; height:30px; vertical-align:middle; text-align:center\"></td><td bgcolor=\"#E6E6E6\" style=\"width:30px; height:30px; vertical-align:middle; text-align:center\"></td><td bgcolor=\"#E6E6E6\" style=\"width:30px; height:30px; vertical-align:middle; text-align:center\"></td><td bgcolor=\"#E6E6E6\" style=\"width:30px; height:30px; vertical-align:middle; text-align:center\"></td></tr><tr><td bgcolor=\"#E6E6E6\" style=\"width:30px; height:30px; vertical-align:middle; text-align:center\"></td><td bgcolor=\"#E6E6E6\" style=\"width:30px; height:30px; vertical-align:middle; text-align:center\"></td><td bgcolor=\"#E6E6E6\" style=\"width:30px; height:30px; vertical-align:middle; text-align:center\"></td><td bgcolor=\"#E6E6E6\" style=\"width:30px; height:30px; vertical-align:middle; text-align:center\"></td><td bgcolor=\"#E6E6E6\" style=\"width:30px; height:30px; vertical-align:middle; text-align:center\"></td><td bgcolor=\"#E6E6E6\" style=\"width:30px; height:30px; vertical-align:middle; text-align:center\"></td></tr><tr><td bgcolor=\"#E6E6E6\" style=\"width:30px; height:30px; vertical-align:middle; text-align:center\"></td><td bgcolor=\"#E6E6E6\" style=\"width:30px; height:30px; vertical-align:middle; text-align:center\"></td><td bgcolor=\"#E6E6E6\" style=\"width:30px; height:30px; vertical-align:middle; text-align:center\"></td><td bgcolor=\"#E6E6E6\" style=\"width:30px; height:30px; vertical-align:middle; text-align:center\"></td><td bgcolor=\"#E6E6E6\" style=\"width:30px; height:30px; vertical-align:middle; text-align:center\"></td><td bgcolor=\"#E6E6E6\" style=\"width:30px; height:30px; vertical-align:middle; text-align:center\"></td></tr><tr><td bgcolor=\"#E6E6E6\" style=\"width:30px; height:30px; vertical-align:middle; text-align:center\"></td><td bgcolor=\"#E6E6E6\" style=\"width:30px; height:30px; vertical-align:middle; text-align:center\"></td><td bgcolor=\"#E6E6E6\" style=\"width:30px; height:30px; vertical-align:middle; text-align:center\"></td><td bgcolor=\"#E6E6E6\" style=\"width:30px; height:30px; vertical-align:middle; text-align:center\"></td><td bgcolor=\"#E6E6E6\" style=\"width:30px; height:30px; vertical-align:middle; text-align:center\"></td><td bgcolor=\"#E6E6E6\" style=\"width:30px; height:30px; vertical-align:middle; text-align:center\"></td></tr></table>"
      ],
      "text/plain": [
       "<IPython.core.display.HTML at 0xa5f87b8>"
      ]
     },
     "execution_count": 12,
     "metadata": {},
     "output_type": "execute_result"
    }
   ],
   "source": [
    "HTML(html_table_for_df_index_construction_coloring(states_2_2,index+1))"
   ]
  },
  {
   "cell_type": "code",
   "execution_count": 13,
   "metadata": {},
   "outputs": [
    {
     "data": {
      "text/html": [
       "<table><tr><td bgcolor=\"#7FFF00\" style=\"width:30px; height:30px; vertical-align:middle; text-align:center\">Q</td><td bgcolor=\"#7FFF00\" style=\"width:30px; height:30px; vertical-align:middle; text-align:center\">Q</td><td bgcolor=\"#F08080\" style=\"width:30px; height:30px; vertical-align:middle; text-align:center\">T</td><td bgcolor=\"#F08080\" style=\"width:30px; height:30px; vertical-align:middle; text-align:center\">T</td><td bgcolor=\"#F08080\" style=\"width:30px; height:30px; vertical-align:middle; text-align:center\">T</td><td bgcolor=\"#E6E6E6\" style=\"width:30px; height:30px; vertical-align:middle; text-align:center\"></td></tr><tr><td bgcolor=\"#E6E6E6\" style=\"width:30px; height:30px; vertical-align:middle; text-align:center\"></td><td bgcolor=\"#E6E6E6\" style=\"width:30px; height:30px; vertical-align:middle; text-align:center\"></td><td bgcolor=\"#FFA07A\" style=\"width:30px; height:30px; vertical-align:middle; text-align:center\">R</td><td bgcolor=\"#FFA07A\" style=\"width:30px; height:30px; vertical-align:middle; text-align:center\">R</td><td bgcolor=\"#FFA07A\" style=\"width:30px; height:30px; vertical-align:middle; text-align:center\">R</td><td bgcolor=\"#E6E6E6\" style=\"width:30px; height:30px; vertical-align:middle; text-align:center\"></td></tr><tr><td bgcolor=\"#FF0000\" style=\"width:30px; height:30px; vertical-align:middle; text-align:center\">X</td><td bgcolor=\"#FF0000\" style=\"width:30px; height:30px; vertical-align:middle; text-align:center\">X</td><td bgcolor=\"#E6E6E6\" style=\"width:30px; height:30px; vertical-align:middle; text-align:center\"></td><td bgcolor=\"#E6E6E6\" style=\"width:30px; height:30px; vertical-align:middle; text-align:center\"></td><td bgcolor=\"#E6E6E6\" style=\"width:30px; height:30px; vertical-align:middle; text-align:center\"></td><td bgcolor=\"#E6E6E6\" style=\"width:30px; height:30px; vertical-align:middle; text-align:center\"></td></tr><tr><td bgcolor=\"#E6E6E6\" style=\"width:30px; height:30px; vertical-align:middle; text-align:center\"></td><td bgcolor=\"#E6E6E6\" style=\"width:30px; height:30px; vertical-align:middle; text-align:center\"></td><td bgcolor=\"#E6E6E6\" style=\"width:30px; height:30px; vertical-align:middle; text-align:center\"></td><td bgcolor=\"#E6E6E6\" style=\"width:30px; height:30px; vertical-align:middle; text-align:center\"></td><td bgcolor=\"#E6E6E6\" style=\"width:30px; height:30px; vertical-align:middle; text-align:center\"></td><td bgcolor=\"#E6E6E6\" style=\"width:30px; height:30px; vertical-align:middle; text-align:center\"></td></tr><tr><td bgcolor=\"#E6E6E6\" style=\"width:30px; height:30px; vertical-align:middle; text-align:center\"></td><td bgcolor=\"#E6E6E6\" style=\"width:30px; height:30px; vertical-align:middle; text-align:center\"></td><td bgcolor=\"#E6E6E6\" style=\"width:30px; height:30px; vertical-align:middle; text-align:center\"></td><td bgcolor=\"#E6E6E6\" style=\"width:30px; height:30px; vertical-align:middle; text-align:center\"></td><td bgcolor=\"#E6E6E6\" style=\"width:30px; height:30px; vertical-align:middle; text-align:center\"></td><td bgcolor=\"#E6E6E6\" style=\"width:30px; height:30px; vertical-align:middle; text-align:center\"></td></tr><tr><td bgcolor=\"#E6E6E6\" style=\"width:30px; height:30px; vertical-align:middle; text-align:center\"></td><td bgcolor=\"#E6E6E6\" style=\"width:30px; height:30px; vertical-align:middle; text-align:center\"></td><td bgcolor=\"#E6E6E6\" style=\"width:30px; height:30px; vertical-align:middle; text-align:center\"></td><td bgcolor=\"#E6E6E6\" style=\"width:30px; height:30px; vertical-align:middle; text-align:center\"></td><td bgcolor=\"#E6E6E6\" style=\"width:30px; height:30px; vertical-align:middle; text-align:center\"></td><td bgcolor=\"#E6E6E6\" style=\"width:30px; height:30px; vertical-align:middle; text-align:center\"></td></tr></table>"
      ],
      "text/plain": [
       "<IPython.core.display.HTML at 0xa5f8588>"
      ]
     },
     "execution_count": 13,
     "metadata": {},
     "output_type": "execute_result"
    }
   ],
   "source": [
    "HTML(html_table_for_df_index_construction_coloring(states_2_2,index+2))"
   ]
  },
  {
   "cell_type": "code",
   "execution_count": 14,
   "metadata": {},
   "outputs": [
    {
     "data": {
      "text/html": [
       "<table><tr><td bgcolor=\"#7FFF00\" style=\"width:30px; height:30px; vertical-align:middle; text-align:center\">Q</td><td bgcolor=\"#7FFF00\" style=\"width:30px; height:30px; vertical-align:middle; text-align:center\">Q</td><td bgcolor=\"#F08080\" style=\"width:30px; height:30px; vertical-align:middle; text-align:center\">T</td><td bgcolor=\"#F08080\" style=\"width:30px; height:30px; vertical-align:middle; text-align:center\">T</td><td bgcolor=\"#F08080\" style=\"width:30px; height:30px; vertical-align:middle; text-align:center\">T</td><td bgcolor=\"#E6E6E6\" style=\"width:30px; height:30px; vertical-align:middle; text-align:center\"></td></tr><tr><td bgcolor=\"#E6E6E6\" style=\"width:30px; height:30px; vertical-align:middle; text-align:center\"></td><td bgcolor=\"#E6E6E6\" style=\"width:30px; height:30px; vertical-align:middle; text-align:center\"></td><td bgcolor=\"#FFA07A\" style=\"width:30px; height:30px; vertical-align:middle; text-align:center\">R</td><td bgcolor=\"#E6E6E6\" style=\"width:30px; height:30px; vertical-align:middle; text-align:center\"></td><td bgcolor=\"#E6E6E6\" style=\"width:30px; height:30px; vertical-align:middle; text-align:center\"></td><td bgcolor=\"#E6E6E6\" style=\"width:30px; height:30px; vertical-align:middle; text-align:center\"></td></tr><tr><td bgcolor=\"#FF0000\" style=\"width:30px; height:30px; vertical-align:middle; text-align:center\">X</td><td bgcolor=\"#FF0000\" style=\"width:30px; height:30px; vertical-align:middle; text-align:center\">X</td><td bgcolor=\"#FFA07A\" style=\"width:30px; height:30px; vertical-align:middle; text-align:center\">R</td><td bgcolor=\"#E6E6E6\" style=\"width:30px; height:30px; vertical-align:middle; text-align:center\"></td><td bgcolor=\"#E6E6E6\" style=\"width:30px; height:30px; vertical-align:middle; text-align:center\"></td><td bgcolor=\"#E6E6E6\" style=\"width:30px; height:30px; vertical-align:middle; text-align:center\"></td></tr><tr><td bgcolor=\"#E6E6E6\" style=\"width:30px; height:30px; vertical-align:middle; text-align:center\"></td><td bgcolor=\"#E6E6E6\" style=\"width:30px; height:30px; vertical-align:middle; text-align:center\"></td><td bgcolor=\"#FFA07A\" style=\"width:30px; height:30px; vertical-align:middle; text-align:center\">R</td><td bgcolor=\"#E6E6E6\" style=\"width:30px; height:30px; vertical-align:middle; text-align:center\"></td><td bgcolor=\"#E6E6E6\" style=\"width:30px; height:30px; vertical-align:middle; text-align:center\"></td><td bgcolor=\"#E6E6E6\" style=\"width:30px; height:30px; vertical-align:middle; text-align:center\"></td></tr><tr><td bgcolor=\"#E6E6E6\" style=\"width:30px; height:30px; vertical-align:middle; text-align:center\"></td><td bgcolor=\"#E6E6E6\" style=\"width:30px; height:30px; vertical-align:middle; text-align:center\"></td><td bgcolor=\"#E6E6E6\" style=\"width:30px; height:30px; vertical-align:middle; text-align:center\"></td><td bgcolor=\"#E6E6E6\" style=\"width:30px; height:30px; vertical-align:middle; text-align:center\"></td><td bgcolor=\"#E6E6E6\" style=\"width:30px; height:30px; vertical-align:middle; text-align:center\"></td><td bgcolor=\"#E6E6E6\" style=\"width:30px; height:30px; vertical-align:middle; text-align:center\"></td></tr><tr><td bgcolor=\"#E6E6E6\" style=\"width:30px; height:30px; vertical-align:middle; text-align:center\"></td><td bgcolor=\"#E6E6E6\" style=\"width:30px; height:30px; vertical-align:middle; text-align:center\"></td><td bgcolor=\"#E6E6E6\" style=\"width:30px; height:30px; vertical-align:middle; text-align:center\"></td><td bgcolor=\"#E6E6E6\" style=\"width:30px; height:30px; vertical-align:middle; text-align:center\"></td><td bgcolor=\"#E6E6E6\" style=\"width:30px; height:30px; vertical-align:middle; text-align:center\"></td><td bgcolor=\"#E6E6E6\" style=\"width:30px; height:30px; vertical-align:middle; text-align:center\"></td></tr></table>"
      ],
      "text/plain": [
       "<IPython.core.display.HTML at 0xa5f85c0>"
      ]
     },
     "execution_count": 14,
     "metadata": {},
     "output_type": "execute_result"
    }
   ],
   "source": [
    "HTML(html_table_for_df_index_construction_coloring(states_2_2,index+3))"
   ]
  },
  {
   "cell_type": "code",
   "execution_count": 15,
   "metadata": {},
   "outputs": [
    {
     "data": {
      "text/html": [
       "<table><tr><td bgcolor=\"#7FFF00\" style=\"width:30px; height:30px; vertical-align:middle; text-align:center\">Q</td><td bgcolor=\"#7FFF00\" style=\"width:30px; height:30px; vertical-align:middle; text-align:center\">Q</td><td bgcolor=\"#F08080\" style=\"width:30px; height:30px; vertical-align:middle; text-align:center\">T</td><td bgcolor=\"#F08080\" style=\"width:30px; height:30px; vertical-align:middle; text-align:center\">T</td><td bgcolor=\"#F08080\" style=\"width:30px; height:30px; vertical-align:middle; text-align:center\">T</td><td bgcolor=\"#E6E6E6\" style=\"width:30px; height:30px; vertical-align:middle; text-align:center\"></td></tr><tr><td bgcolor=\"#E6E6E6\" style=\"width:30px; height:30px; vertical-align:middle; text-align:center\"></td><td bgcolor=\"#E6E6E6\" style=\"width:30px; height:30px; vertical-align:middle; text-align:center\"></td><td bgcolor=\"#E6E6E6\" style=\"width:30px; height:30px; vertical-align:middle; text-align:center\"></td><td bgcolor=\"#FFA07A\" style=\"width:30px; height:30px; vertical-align:middle; text-align:center\">R</td><td bgcolor=\"#FFA07A\" style=\"width:30px; height:30px; vertical-align:middle; text-align:center\">R</td><td bgcolor=\"#FFA07A\" style=\"width:30px; height:30px; vertical-align:middle; text-align:center\">R</td></tr><tr><td bgcolor=\"#FF0000\" style=\"width:30px; height:30px; vertical-align:middle; text-align:center\">X</td><td bgcolor=\"#FF0000\" style=\"width:30px; height:30px; vertical-align:middle; text-align:center\">X</td><td bgcolor=\"#E6E6E6\" style=\"width:30px; height:30px; vertical-align:middle; text-align:center\"></td><td bgcolor=\"#E6E6E6\" style=\"width:30px; height:30px; vertical-align:middle; text-align:center\"></td><td bgcolor=\"#E6E6E6\" style=\"width:30px; height:30px; vertical-align:middle; text-align:center\"></td><td bgcolor=\"#E6E6E6\" style=\"width:30px; height:30px; vertical-align:middle; text-align:center\"></td></tr><tr><td bgcolor=\"#E6E6E6\" style=\"width:30px; height:30px; vertical-align:middle; text-align:center\"></td><td bgcolor=\"#E6E6E6\" style=\"width:30px; height:30px; vertical-align:middle; text-align:center\"></td><td bgcolor=\"#E6E6E6\" style=\"width:30px; height:30px; vertical-align:middle; text-align:center\"></td><td bgcolor=\"#E6E6E6\" style=\"width:30px; height:30px; vertical-align:middle; text-align:center\"></td><td bgcolor=\"#E6E6E6\" style=\"width:30px; height:30px; vertical-align:middle; text-align:center\"></td><td bgcolor=\"#E6E6E6\" style=\"width:30px; height:30px; vertical-align:middle; text-align:center\"></td></tr><tr><td bgcolor=\"#E6E6E6\" style=\"width:30px; height:30px; vertical-align:middle; text-align:center\"></td><td bgcolor=\"#E6E6E6\" style=\"width:30px; height:30px; vertical-align:middle; text-align:center\"></td><td bgcolor=\"#E6E6E6\" style=\"width:30px; height:30px; vertical-align:middle; text-align:center\"></td><td bgcolor=\"#E6E6E6\" style=\"width:30px; height:30px; vertical-align:middle; text-align:center\"></td><td bgcolor=\"#E6E6E6\" style=\"width:30px; height:30px; vertical-align:middle; text-align:center\"></td><td bgcolor=\"#E6E6E6\" style=\"width:30px; height:30px; vertical-align:middle; text-align:center\"></td></tr><tr><td bgcolor=\"#E6E6E6\" style=\"width:30px; height:30px; vertical-align:middle; text-align:center\"></td><td bgcolor=\"#E6E6E6\" style=\"width:30px; height:30px; vertical-align:middle; text-align:center\"></td><td bgcolor=\"#E6E6E6\" style=\"width:30px; height:30px; vertical-align:middle; text-align:center\"></td><td bgcolor=\"#E6E6E6\" style=\"width:30px; height:30px; vertical-align:middle; text-align:center\"></td><td bgcolor=\"#E6E6E6\" style=\"width:30px; height:30px; vertical-align:middle; text-align:center\"></td><td bgcolor=\"#E6E6E6\" style=\"width:30px; height:30px; vertical-align:middle; text-align:center\"></td></tr></table>"
      ],
      "text/plain": [
       "<IPython.core.display.HTML at 0xa5f8908>"
      ]
     },
     "execution_count": 15,
     "metadata": {},
     "output_type": "execute_result"
    }
   ],
   "source": [
    "HTML(html_table_for_df_index_construction_coloring(states_2_2,index+4))"
   ]
  },
  {
   "cell_type": "code",
   "execution_count": 16,
   "metadata": {},
   "outputs": [
    {
     "data": {
      "text/html": [
       "<table><tr><td bgcolor=\"#7FFF00\" style=\"width:30px; height:30px; vertical-align:middle; text-align:center\">Q</td><td bgcolor=\"#7FFF00\" style=\"width:30px; height:30px; vertical-align:middle; text-align:center\">Q</td><td bgcolor=\"#F08080\" style=\"width:30px; height:30px; vertical-align:middle; text-align:center\">T</td><td bgcolor=\"#F08080\" style=\"width:30px; height:30px; vertical-align:middle; text-align:center\">T</td><td bgcolor=\"#F08080\" style=\"width:30px; height:30px; vertical-align:middle; text-align:center\">T</td><td bgcolor=\"#E6E6E6\" style=\"width:30px; height:30px; vertical-align:middle; text-align:center\"></td></tr><tr><td bgcolor=\"#E6E6E6\" style=\"width:30px; height:30px; vertical-align:middle; text-align:center\"></td><td bgcolor=\"#E6E6E6\" style=\"width:30px; height:30px; vertical-align:middle; text-align:center\"></td><td bgcolor=\"#E6E6E6\" style=\"width:30px; height:30px; vertical-align:middle; text-align:center\"></td><td bgcolor=\"#FFA07A\" style=\"width:30px; height:30px; vertical-align:middle; text-align:center\">R</td><td bgcolor=\"#E6E6E6\" style=\"width:30px; height:30px; vertical-align:middle; text-align:center\"></td><td bgcolor=\"#E6E6E6\" style=\"width:30px; height:30px; vertical-align:middle; text-align:center\"></td></tr><tr><td bgcolor=\"#FF0000\" style=\"width:30px; height:30px; vertical-align:middle; text-align:center\">X</td><td bgcolor=\"#FF0000\" style=\"width:30px; height:30px; vertical-align:middle; text-align:center\">X</td><td bgcolor=\"#E6E6E6\" style=\"width:30px; height:30px; vertical-align:middle; text-align:center\"></td><td bgcolor=\"#FFA07A\" style=\"width:30px; height:30px; vertical-align:middle; text-align:center\">R</td><td bgcolor=\"#E6E6E6\" style=\"width:30px; height:30px; vertical-align:middle; text-align:center\"></td><td bgcolor=\"#E6E6E6\" style=\"width:30px; height:30px; vertical-align:middle; text-align:center\"></td></tr><tr><td bgcolor=\"#E6E6E6\" style=\"width:30px; height:30px; vertical-align:middle; text-align:center\"></td><td bgcolor=\"#E6E6E6\" style=\"width:30px; height:30px; vertical-align:middle; text-align:center\"></td><td bgcolor=\"#E6E6E6\" style=\"width:30px; height:30px; vertical-align:middle; text-align:center\"></td><td bgcolor=\"#FFA07A\" style=\"width:30px; height:30px; vertical-align:middle; text-align:center\">R</td><td bgcolor=\"#E6E6E6\" style=\"width:30px; height:30px; vertical-align:middle; text-align:center\"></td><td bgcolor=\"#E6E6E6\" style=\"width:30px; height:30px; vertical-align:middle; text-align:center\"></td></tr><tr><td bgcolor=\"#E6E6E6\" style=\"width:30px; height:30px; vertical-align:middle; text-align:center\"></td><td bgcolor=\"#E6E6E6\" style=\"width:30px; height:30px; vertical-align:middle; text-align:center\"></td><td bgcolor=\"#E6E6E6\" style=\"width:30px; height:30px; vertical-align:middle; text-align:center\"></td><td bgcolor=\"#E6E6E6\" style=\"width:30px; height:30px; vertical-align:middle; text-align:center\"></td><td bgcolor=\"#E6E6E6\" style=\"width:30px; height:30px; vertical-align:middle; text-align:center\"></td><td bgcolor=\"#E6E6E6\" style=\"width:30px; height:30px; vertical-align:middle; text-align:center\"></td></tr><tr><td bgcolor=\"#E6E6E6\" style=\"width:30px; height:30px; vertical-align:middle; text-align:center\"></td><td bgcolor=\"#E6E6E6\" style=\"width:30px; height:30px; vertical-align:middle; text-align:center\"></td><td bgcolor=\"#E6E6E6\" style=\"width:30px; height:30px; vertical-align:middle; text-align:center\"></td><td bgcolor=\"#E6E6E6\" style=\"width:30px; height:30px; vertical-align:middle; text-align:center\"></td><td bgcolor=\"#E6E6E6\" style=\"width:30px; height:30px; vertical-align:middle; text-align:center\"></td><td bgcolor=\"#E6E6E6\" style=\"width:30px; height:30px; vertical-align:middle; text-align:center\"></td></tr></table>"
      ],
      "text/plain": [
       "<IPython.core.display.HTML at 0xa5f89b0>"
      ]
     },
     "execution_count": 16,
     "metadata": {},
     "output_type": "execute_result"
    }
   ],
   "source": [
    "HTML(html_table_for_df_index_construction_coloring(states_2_2,index+5))"
   ]
  },
  {
   "cell_type": "code",
   "execution_count": 32,
   "metadata": {},
   "outputs": [
    {
     "data": {
      "text/html": [
       "<table><tr><td bgcolor=\"#7FFF00\" style=\"width:30px; height:30px; vertical-align:middle; text-align:center\">Q</td><td bgcolor=\"#7FFF00\" style=\"width:30px; height:30px; vertical-align:middle; text-align:center\">Q</td><td bgcolor=\"#F08080\" style=\"width:30px; height:30px; vertical-align:middle; text-align:center\">T</td><td bgcolor=\"#F08080\" style=\"width:30px; height:30px; vertical-align:middle; text-align:center\">T</td><td bgcolor=\"#F08080\" style=\"width:30px; height:30px; vertical-align:middle; text-align:center\">T</td><td bgcolor=\"#E6E6E6\" style=\"width:30px; height:30px; vertical-align:middle; text-align:center\"></td></tr><tr><td bgcolor=\"#E6E6E6\" style=\"width:30px; height:30px; vertical-align:middle; text-align:center\"></td><td bgcolor=\"#E6E6E6\" style=\"width:30px; height:30px; vertical-align:middle; text-align:center\"></td><td bgcolor=\"#E6E6E6\" style=\"width:30px; height:30px; vertical-align:middle; text-align:center\"></td><td bgcolor=\"#E6E6E6\" style=\"width:30px; height:30px; vertical-align:middle; text-align:center\"></td><td bgcolor=\"#FFA07A\" style=\"width:30px; height:30px; vertical-align:middle; text-align:center\">R</td><td bgcolor=\"#E6E6E6\" style=\"width:30px; height:30px; vertical-align:middle; text-align:center\"></td></tr><tr><td bgcolor=\"#FF0000\" style=\"width:30px; height:30px; vertical-align:middle; text-align:center\">X</td><td bgcolor=\"#FF0000\" style=\"width:30px; height:30px; vertical-align:middle; text-align:center\">X</td><td bgcolor=\"#E6E6E6\" style=\"width:30px; height:30px; vertical-align:middle; text-align:center\"></td><td bgcolor=\"#E6E6E6\" style=\"width:30px; height:30px; vertical-align:middle; text-align:center\"></td><td bgcolor=\"#FFA07A\" style=\"width:30px; height:30px; vertical-align:middle; text-align:center\">R</td><td bgcolor=\"#E6E6E6\" style=\"width:30px; height:30px; vertical-align:middle; text-align:center\"></td></tr><tr><td bgcolor=\"#E6E6E6\" style=\"width:30px; height:30px; vertical-align:middle; text-align:center\"></td><td bgcolor=\"#E6E6E6\" style=\"width:30px; height:30px; vertical-align:middle; text-align:center\"></td><td bgcolor=\"#E6E6E6\" style=\"width:30px; height:30px; vertical-align:middle; text-align:center\"></td><td bgcolor=\"#E6E6E6\" style=\"width:30px; height:30px; vertical-align:middle; text-align:center\"></td><td bgcolor=\"#FFA07A\" style=\"width:30px; height:30px; vertical-align:middle; text-align:center\">R</td><td bgcolor=\"#E6E6E6\" style=\"width:30px; height:30px; vertical-align:middle; text-align:center\"></td></tr><tr><td bgcolor=\"#E6E6E6\" style=\"width:30px; height:30px; vertical-align:middle; text-align:center\"></td><td bgcolor=\"#E6E6E6\" style=\"width:30px; height:30px; vertical-align:middle; text-align:center\"></td><td bgcolor=\"#E6E6E6\" style=\"width:30px; height:30px; vertical-align:middle; text-align:center\"></td><td bgcolor=\"#E6E6E6\" style=\"width:30px; height:30px; vertical-align:middle; text-align:center\"></td><td bgcolor=\"#E6E6E6\" style=\"width:30px; height:30px; vertical-align:middle; text-align:center\"></td><td bgcolor=\"#E6E6E6\" style=\"width:30px; height:30px; vertical-align:middle; text-align:center\"></td></tr><tr><td bgcolor=\"#E6E6E6\" style=\"width:30px; height:30px; vertical-align:middle; text-align:center\"></td><td bgcolor=\"#E6E6E6\" style=\"width:30px; height:30px; vertical-align:middle; text-align:center\"></td><td bgcolor=\"#E6E6E6\" style=\"width:30px; height:30px; vertical-align:middle; text-align:center\"></td><td bgcolor=\"#E6E6E6\" style=\"width:30px; height:30px; vertical-align:middle; text-align:center\"></td><td bgcolor=\"#E6E6E6\" style=\"width:30px; height:30px; vertical-align:middle; text-align:center\"></td><td bgcolor=\"#E6E6E6\" style=\"width:30px; height:30px; vertical-align:middle; text-align:center\"></td></tr></table>"
      ],
      "text/plain": [
       "<IPython.core.display.HTML at 0xaa215f8>"
      ]
     },
     "execution_count": 32,
     "metadata": {},
     "output_type": "execute_result"
    }
   ],
   "source": [
    "HTML(html_table_for_df_index_construction_coloring(states_2_2,index+6))"
   ]
  },
  {
   "cell_type": "code",
   "execution_count": 18,
   "metadata": {},
   "outputs": [
    {
     "data": {
      "text/html": [
       "<table><tr><td bgcolor=\"#7FFF00\" style=\"width:30px; height:30px; vertical-align:middle; text-align:center\">Q</td><td bgcolor=\"#7FFF00\" style=\"width:30px; height:30px; vertical-align:middle; text-align:center\">Q</td><td bgcolor=\"#F08080\" style=\"width:30px; height:30px; vertical-align:middle; text-align:center\">T</td><td bgcolor=\"#F08080\" style=\"width:30px; height:30px; vertical-align:middle; text-align:center\">T</td><td bgcolor=\"#F08080\" style=\"width:30px; height:30px; vertical-align:middle; text-align:center\">T</td><td bgcolor=\"#E6E6E6\" style=\"width:30px; height:30px; vertical-align:middle; text-align:center\"></td></tr><tr><td bgcolor=\"#E6E6E6\" style=\"width:30px; height:30px; vertical-align:middle; text-align:center\"></td><td bgcolor=\"#E6E6E6\" style=\"width:30px; height:30px; vertical-align:middle; text-align:center\"></td><td bgcolor=\"#E6E6E6\" style=\"width:30px; height:30px; vertical-align:middle; text-align:center\"></td><td bgcolor=\"#E6E6E6\" style=\"width:30px; height:30px; vertical-align:middle; text-align:center\"></td><td bgcolor=\"#E6E6E6\" style=\"width:30px; height:30px; vertical-align:middle; text-align:center\"></td><td bgcolor=\"#FFA07A\" style=\"width:30px; height:30px; vertical-align:middle; text-align:center\">R</td></tr><tr><td bgcolor=\"#FF0000\" style=\"width:30px; height:30px; vertical-align:middle; text-align:center\">X</td><td bgcolor=\"#FF0000\" style=\"width:30px; height:30px; vertical-align:middle; text-align:center\">X</td><td bgcolor=\"#E6E6E6\" style=\"width:30px; height:30px; vertical-align:middle; text-align:center\"></td><td bgcolor=\"#E6E6E6\" style=\"width:30px; height:30px; vertical-align:middle; text-align:center\"></td><td bgcolor=\"#E6E6E6\" style=\"width:30px; height:30px; vertical-align:middle; text-align:center\"></td><td bgcolor=\"#FFA07A\" style=\"width:30px; height:30px; vertical-align:middle; text-align:center\">R</td></tr><tr><td bgcolor=\"#E6E6E6\" style=\"width:30px; height:30px; vertical-align:middle; text-align:center\"></td><td bgcolor=\"#E6E6E6\" style=\"width:30px; height:30px; vertical-align:middle; text-align:center\"></td><td bgcolor=\"#E6E6E6\" style=\"width:30px; height:30px; vertical-align:middle; text-align:center\"></td><td bgcolor=\"#E6E6E6\" style=\"width:30px; height:30px; vertical-align:middle; text-align:center\"></td><td bgcolor=\"#E6E6E6\" style=\"width:30px; height:30px; vertical-align:middle; text-align:center\"></td><td bgcolor=\"#FFA07A\" style=\"width:30px; height:30px; vertical-align:middle; text-align:center\">R</td></tr><tr><td bgcolor=\"#E6E6E6\" style=\"width:30px; height:30px; vertical-align:middle; text-align:center\"></td><td bgcolor=\"#E6E6E6\" style=\"width:30px; height:30px; vertical-align:middle; text-align:center\"></td><td bgcolor=\"#E6E6E6\" style=\"width:30px; height:30px; vertical-align:middle; text-align:center\"></td><td bgcolor=\"#E6E6E6\" style=\"width:30px; height:30px; vertical-align:middle; text-align:center\"></td><td bgcolor=\"#E6E6E6\" style=\"width:30px; height:30px; vertical-align:middle; text-align:center\"></td><td bgcolor=\"#E6E6E6\" style=\"width:30px; height:30px; vertical-align:middle; text-align:center\"></td></tr><tr><td bgcolor=\"#E6E6E6\" style=\"width:30px; height:30px; vertical-align:middle; text-align:center\"></td><td bgcolor=\"#E6E6E6\" style=\"width:30px; height:30px; vertical-align:middle; text-align:center\"></td><td bgcolor=\"#E6E6E6\" style=\"width:30px; height:30px; vertical-align:middle; text-align:center\"></td><td bgcolor=\"#E6E6E6\" style=\"width:30px; height:30px; vertical-align:middle; text-align:center\"></td><td bgcolor=\"#E6E6E6\" style=\"width:30px; height:30px; vertical-align:middle; text-align:center\"></td><td bgcolor=\"#E6E6E6\" style=\"width:30px; height:30px; vertical-align:middle; text-align:center\"></td></tr></table>"
      ],
      "text/plain": [
       "<IPython.core.display.HTML at 0xa5f8940>"
      ]
     },
     "execution_count": 18,
     "metadata": {},
     "output_type": "execute_result"
    }
   ],
   "source": [
    "HTML(html_table_for_df_index_construction_coloring(states_2_2,index+7))"
   ]
  },
  {
   "cell_type": "code",
   "execution_count": 37,
   "metadata": {},
   "outputs": [
    {
     "data": {
      "text/html": [
       "<table><tr><td bgcolor=\"#7FFF00\" style=\"width:30px; height:30px; vertical-align:middle; text-align:center\">Q</td><td bgcolor=\"#7FFF00\" style=\"width:30px; height:30px; vertical-align:middle; text-align:center\">Q</td><td bgcolor=\"#F08080\" style=\"width:30px; height:30px; vertical-align:middle; text-align:center\">T</td><td bgcolor=\"#F08080\" style=\"width:30px; height:30px; vertical-align:middle; text-align:center\">T</td><td bgcolor=\"#F08080\" style=\"width:30px; height:30px; vertical-align:middle; text-align:center\">T</td><td bgcolor=\"#E6E6E6\" style=\"width:30px; height:30px; vertical-align:middle; text-align:center\"></td></tr><tr><td bgcolor=\"#E6E6E6\" style=\"width:30px; height:30px; vertical-align:middle; text-align:center\"></td><td bgcolor=\"#E6E6E6\" style=\"width:30px; height:30px; vertical-align:middle; text-align:center\"></td><td bgcolor=\"#E6E6E6\" style=\"width:30px; height:30px; vertical-align:middle; text-align:center\"></td><td bgcolor=\"#E6E6E6\" style=\"width:30px; height:30px; vertical-align:middle; text-align:center\"></td><td bgcolor=\"#E6E6E6\" style=\"width:30px; height:30px; vertical-align:middle; text-align:center\"></td><td bgcolor=\"#E6E6E6\" style=\"width:30px; height:30px; vertical-align:middle; text-align:center\"></td></tr><tr><td bgcolor=\"#FF0000\" style=\"width:30px; height:30px; vertical-align:middle; text-align:center\">X</td><td bgcolor=\"#FF0000\" style=\"width:30px; height:30px; vertical-align:middle; text-align:center\">X</td><td bgcolor=\"#E6E6E6\" style=\"width:30px; height:30px; vertical-align:middle; text-align:center\"></td><td bgcolor=\"#E6E6E6\" style=\"width:30px; height:30px; vertical-align:middle; text-align:center\"></td><td bgcolor=\"#E6E6E6\" style=\"width:30px; height:30px; vertical-align:middle; text-align:center\"></td><td bgcolor=\"#E6E6E6\" style=\"width:30px; height:30px; vertical-align:middle; text-align:center\"></td></tr><tr><td bgcolor=\"#E6E6E6\" style=\"width:30px; height:30px; vertical-align:middle; text-align:center\"></td><td bgcolor=\"#E6E6E6\" style=\"width:30px; height:30px; vertical-align:middle; text-align:center\"></td><td bgcolor=\"#E6E6E6\" style=\"width:30px; height:30px; vertical-align:middle; text-align:center\"></td><td bgcolor=\"#E6E6E6\" style=\"width:30px; height:30px; vertical-align:middle; text-align:center\"></td><td bgcolor=\"#E6E6E6\" style=\"width:30px; height:30px; vertical-align:middle; text-align:center\"></td><td bgcolor=\"#E6E6E6\" style=\"width:30px; height:30px; vertical-align:middle; text-align:center\"></td></tr><tr><td bgcolor=\"#E6E6E6\" style=\"width:30px; height:30px; vertical-align:middle; text-align:center\"></td><td bgcolor=\"#E6E6E6\" style=\"width:30px; height:30px; vertical-align:middle; text-align:center\"></td><td bgcolor=\"#E6E6E6\" style=\"width:30px; height:30px; vertical-align:middle; text-align:center\"></td><td bgcolor=\"#E6E6E6\" style=\"width:30px; height:30px; vertical-align:middle; text-align:center\"></td><td bgcolor=\"#E6E6E6\" style=\"width:30px; height:30px; vertical-align:middle; text-align:center\"></td><td bgcolor=\"#E6E6E6\" style=\"width:30px; height:30px; vertical-align:middle; text-align:center\"></td></tr><tr><td bgcolor=\"#E6E6E6\" style=\"width:30px; height:30px; vertical-align:middle; text-align:center\"></td><td bgcolor=\"#E6E6E6\" style=\"width:30px; height:30px; vertical-align:middle; text-align:center\"></td><td bgcolor=\"#E6E6E6\" style=\"width:30px; height:30px; vertical-align:middle; text-align:center\"></td><td bgcolor=\"#FFA07A\" style=\"width:30px; height:30px; vertical-align:middle; text-align:center\">R</td><td bgcolor=\"#FFA07A\" style=\"width:30px; height:30px; vertical-align:middle; text-align:center\">R</td><td bgcolor=\"#FFA07A\" style=\"width:30px; height:30px; vertical-align:middle; text-align:center\">R</td></tr></table>"
      ],
      "text/plain": [
       "<IPython.core.display.HTML at 0xaa214a8>"
      ]
     },
     "execution_count": 37,
     "metadata": {},
     "output_type": "execute_result"
    }
   ],
   "source": [
    "HTML(html_table_for_df_index_construction_coloring(states_2_2,index+31))"
   ]
  },
  {
   "cell_type": "code",
   "execution_count": 38,
   "metadata": {},
   "outputs": [
    {
     "data": {
      "text/html": [
       "<table><tr><td bgcolor=\"#7FFF00\" style=\"width:30px; height:30px; vertical-align:middle; text-align:center\">Q</td><td bgcolor=\"#7FFF00\" style=\"width:30px; height:30px; vertical-align:middle; text-align:center\">Q</td><td bgcolor=\"#F08080\" style=\"width:30px; height:30px; vertical-align:middle; text-align:center\">T</td><td bgcolor=\"#FFA07A\" style=\"width:30px; height:30px; vertical-align:middle; text-align:center\">R</td><td bgcolor=\"#FFA07A\" style=\"width:30px; height:30px; vertical-align:middle; text-align:center\">R</td><td bgcolor=\"#FFA07A\" style=\"width:30px; height:30px; vertical-align:middle; text-align:center\">R</td></tr><tr><td bgcolor=\"#E6E6E6\" style=\"width:30px; height:30px; vertical-align:middle; text-align:center\"></td><td bgcolor=\"#E6E6E6\" style=\"width:30px; height:30px; vertical-align:middle; text-align:center\"></td><td bgcolor=\"#F08080\" style=\"width:30px; height:30px; vertical-align:middle; text-align:center\">T</td><td bgcolor=\"#E6E6E6\" style=\"width:30px; height:30px; vertical-align:middle; text-align:center\"></td><td bgcolor=\"#E6E6E6\" style=\"width:30px; height:30px; vertical-align:middle; text-align:center\"></td><td bgcolor=\"#E6E6E6\" style=\"width:30px; height:30px; vertical-align:middle; text-align:center\"></td></tr><tr><td bgcolor=\"#FF0000\" style=\"width:30px; height:30px; vertical-align:middle; text-align:center\">X</td><td bgcolor=\"#FF0000\" style=\"width:30px; height:30px; vertical-align:middle; text-align:center\">X</td><td bgcolor=\"#F08080\" style=\"width:30px; height:30px; vertical-align:middle; text-align:center\">T</td><td bgcolor=\"#E6E6E6\" style=\"width:30px; height:30px; vertical-align:middle; text-align:center\"></td><td bgcolor=\"#E6E6E6\" style=\"width:30px; height:30px; vertical-align:middle; text-align:center\"></td><td bgcolor=\"#E6E6E6\" style=\"width:30px; height:30px; vertical-align:middle; text-align:center\"></td></tr><tr><td bgcolor=\"#E6E6E6\" style=\"width:30px; height:30px; vertical-align:middle; text-align:center\"></td><td bgcolor=\"#E6E6E6\" style=\"width:30px; height:30px; vertical-align:middle; text-align:center\"></td><td bgcolor=\"#E6E6E6\" style=\"width:30px; height:30px; vertical-align:middle; text-align:center\"></td><td bgcolor=\"#E6E6E6\" style=\"width:30px; height:30px; vertical-align:middle; text-align:center\"></td><td bgcolor=\"#E6E6E6\" style=\"width:30px; height:30px; vertical-align:middle; text-align:center\"></td><td bgcolor=\"#E6E6E6\" style=\"width:30px; height:30px; vertical-align:middle; text-align:center\"></td></tr><tr><td bgcolor=\"#E6E6E6\" style=\"width:30px; height:30px; vertical-align:middle; text-align:center\"></td><td bgcolor=\"#E6E6E6\" style=\"width:30px; height:30px; vertical-align:middle; text-align:center\"></td><td bgcolor=\"#E6E6E6\" style=\"width:30px; height:30px; vertical-align:middle; text-align:center\"></td><td bgcolor=\"#E6E6E6\" style=\"width:30px; height:30px; vertical-align:middle; text-align:center\"></td><td bgcolor=\"#E6E6E6\" style=\"width:30px; height:30px; vertical-align:middle; text-align:center\"></td><td bgcolor=\"#E6E6E6\" style=\"width:30px; height:30px; vertical-align:middle; text-align:center\"></td></tr><tr><td bgcolor=\"#E6E6E6\" style=\"width:30px; height:30px; vertical-align:middle; text-align:center\"></td><td bgcolor=\"#E6E6E6\" style=\"width:30px; height:30px; vertical-align:middle; text-align:center\"></td><td bgcolor=\"#E6E6E6\" style=\"width:30px; height:30px; vertical-align:middle; text-align:center\"></td><td bgcolor=\"#E6E6E6\" style=\"width:30px; height:30px; vertical-align:middle; text-align:center\"></td><td bgcolor=\"#E6E6E6\" style=\"width:30px; height:30px; vertical-align:middle; text-align:center\"></td><td bgcolor=\"#E6E6E6\" style=\"width:30px; height:30px; vertical-align:middle; text-align:center\"></td></tr></table>"
      ],
      "text/plain": [
       "<IPython.core.display.HTML at 0xab23b00>"
      ]
     },
     "execution_count": 38,
     "metadata": {},
     "output_type": "execute_result"
    }
   ],
   "source": [
    "HTML(html_table_for_df_index_construction_coloring(states_2_2,index+32))"
   ]
  },
  {
   "cell_type": "code",
   "execution_count": 39,
   "metadata": {},
   "outputs": [
    {
     "data": {
      "text/html": [
       "<table><tr><td bgcolor=\"#7FFF00\" style=\"width:30px; height:30px; vertical-align:middle; text-align:center\">Q</td><td bgcolor=\"#7FFF00\" style=\"width:30px; height:30px; vertical-align:middle; text-align:center\">Q</td><td bgcolor=\"#F08080\" style=\"width:30px; height:30px; vertical-align:middle; text-align:center\">T</td><td bgcolor=\"#F08080\" style=\"width:30px; height:30px; vertical-align:middle; text-align:center\">T</td><td bgcolor=\"#F08080\" style=\"width:30px; height:30px; vertical-align:middle; text-align:center\">T</td><td bgcolor=\"#E6E6E6\" style=\"width:30px; height:30px; vertical-align:middle; text-align:center\"></td></tr><tr><td bgcolor=\"#FFA07A\" style=\"width:30px; height:30px; vertical-align:middle; text-align:center\">R</td><td bgcolor=\"#FFA07A\" style=\"width:30px; height:30px; vertical-align:middle; text-align:center\">R</td><td bgcolor=\"#FFA07A\" style=\"width:30px; height:30px; vertical-align:middle; text-align:center\">R</td><td bgcolor=\"#E6E6E6\" style=\"width:30px; height:30px; vertical-align:middle; text-align:center\"></td><td bgcolor=\"#E6E6E6\" style=\"width:30px; height:30px; vertical-align:middle; text-align:center\"></td><td bgcolor=\"#E6E6E6\" style=\"width:30px; height:30px; vertical-align:middle; text-align:center\"></td></tr><tr><td bgcolor=\"#FF0000\" style=\"width:30px; height:30px; vertical-align:middle; text-align:center\">X</td><td bgcolor=\"#FF0000\" style=\"width:30px; height:30px; vertical-align:middle; text-align:center\">X</td><td bgcolor=\"#E6E6E6\" style=\"width:30px; height:30px; vertical-align:middle; text-align:center\"></td><td bgcolor=\"#E6E6E6\" style=\"width:30px; height:30px; vertical-align:middle; text-align:center\"></td><td bgcolor=\"#E6E6E6\" style=\"width:30px; height:30px; vertical-align:middle; text-align:center\"></td><td bgcolor=\"#E6E6E6\" style=\"width:30px; height:30px; vertical-align:middle; text-align:center\"></td></tr><tr><td bgcolor=\"#E6E6E6\" style=\"width:30px; height:30px; vertical-align:middle; text-align:center\"></td><td bgcolor=\"#E6E6E6\" style=\"width:30px; height:30px; vertical-align:middle; text-align:center\"></td><td bgcolor=\"#E6E6E6\" style=\"width:30px; height:30px; vertical-align:middle; text-align:center\"></td><td bgcolor=\"#E6E6E6\" style=\"width:30px; height:30px; vertical-align:middle; text-align:center\"></td><td bgcolor=\"#E6E6E6\" style=\"width:30px; height:30px; vertical-align:middle; text-align:center\"></td><td bgcolor=\"#E6E6E6\" style=\"width:30px; height:30px; vertical-align:middle; text-align:center\"></td></tr><tr><td bgcolor=\"#E6E6E6\" style=\"width:30px; height:30px; vertical-align:middle; text-align:center\"></td><td bgcolor=\"#E6E6E6\" style=\"width:30px; height:30px; vertical-align:middle; text-align:center\"></td><td bgcolor=\"#E6E6E6\" style=\"width:30px; height:30px; vertical-align:middle; text-align:center\"></td><td bgcolor=\"#E6E6E6\" style=\"width:30px; height:30px; vertical-align:middle; text-align:center\"></td><td bgcolor=\"#E6E6E6\" style=\"width:30px; height:30px; vertical-align:middle; text-align:center\"></td><td bgcolor=\"#E6E6E6\" style=\"width:30px; height:30px; vertical-align:middle; text-align:center\"></td></tr><tr><td bgcolor=\"#E6E6E6\" style=\"width:30px; height:30px; vertical-align:middle; text-align:center\"></td><td bgcolor=\"#E6E6E6\" style=\"width:30px; height:30px; vertical-align:middle; text-align:center\"></td><td bgcolor=\"#E6E6E6\" style=\"width:30px; height:30px; vertical-align:middle; text-align:center\"></td><td bgcolor=\"#E6E6E6\" style=\"width:30px; height:30px; vertical-align:middle; text-align:center\"></td><td bgcolor=\"#E6E6E6\" style=\"width:30px; height:30px; vertical-align:middle; text-align:center\"></td><td bgcolor=\"#E6E6E6\" style=\"width:30px; height:30px; vertical-align:middle; text-align:center\"></td></tr></table>"
      ],
      "text/plain": [
       "<IPython.core.display.HTML at 0xab23908>"
      ]
     },
     "execution_count": 39,
     "metadata": {},
     "output_type": "execute_result"
    }
   ],
   "source": [
    "HTML(html_table_for_df_index_construction_coloring(states_2_2,index))"
   ]
  },
  {
   "cell_type": "code",
   "execution_count": 41,
   "metadata": {},
   "outputs": [
    {
     "data": {
      "text/html": [
       "<table><tr><td bgcolor=\"#7FFF00\" style=\"width:30px; height:30px; vertical-align:middle; text-align:center\">Q</td><td bgcolor=\"#7FFF00\" style=\"width:30px; height:30px; vertical-align:middle; text-align:center\">Q</td><td bgcolor=\"#F08080\" style=\"width:30px; height:30px; vertical-align:middle; text-align:center\">T</td><td bgcolor=\"#F08080\" style=\"width:30px; height:30px; vertical-align:middle; text-align:center\">T</td><td bgcolor=\"#F08080\" style=\"width:30px; height:30px; vertical-align:middle; text-align:center\">T</td><td bgcolor=\"#E6E6E6\" style=\"width:30px; height:30px; vertical-align:middle; text-align:center\"></td></tr><tr><td bgcolor=\"#E6E6E6\" style=\"width:30px; height:30px; vertical-align:middle; text-align:center\"></td><td bgcolor=\"#E6E6E6\" style=\"width:30px; height:30px; vertical-align:middle; text-align:center\"></td><td bgcolor=\"#E6E6E6\" style=\"width:30px; height:30px; vertical-align:middle; text-align:center\"></td><td bgcolor=\"#E6E6E6\" style=\"width:30px; height:30px; vertical-align:middle; text-align:center\"></td><td bgcolor=\"#E6E6E6\" style=\"width:30px; height:30px; vertical-align:middle; text-align:center\"></td><td bgcolor=\"#E6E6E6\" style=\"width:30px; height:30px; vertical-align:middle; text-align:center\"></td></tr><tr><td bgcolor=\"#FF0000\" style=\"width:30px; height:30px; vertical-align:middle; text-align:center\">X</td><td bgcolor=\"#FF0000\" style=\"width:30px; height:30px; vertical-align:middle; text-align:center\">X</td><td bgcolor=\"#E6E6E6\" style=\"width:30px; height:30px; vertical-align:middle; text-align:center\"></td><td bgcolor=\"#E6E6E6\" style=\"width:30px; height:30px; vertical-align:middle; text-align:center\"></td><td bgcolor=\"#E6E6E6\" style=\"width:30px; height:30px; vertical-align:middle; text-align:center\"></td><td bgcolor=\"#E6E6E6\" style=\"width:30px; height:30px; vertical-align:middle; text-align:center\"></td></tr><tr><td bgcolor=\"#E6E6E6\" style=\"width:30px; height:30px; vertical-align:middle; text-align:center\"></td><td bgcolor=\"#E6E6E6\" style=\"width:30px; height:30px; vertical-align:middle; text-align:center\"></td><td bgcolor=\"#E6E6E6\" style=\"width:30px; height:30px; vertical-align:middle; text-align:center\"></td><td bgcolor=\"#E6E6E6\" style=\"width:30px; height:30px; vertical-align:middle; text-align:center\"></td><td bgcolor=\"#E6E6E6\" style=\"width:30px; height:30px; vertical-align:middle; text-align:center\"></td><td bgcolor=\"#E6E6E6\" style=\"width:30px; height:30px; vertical-align:middle; text-align:center\"></td></tr><tr><td bgcolor=\"#E6E6E6\" style=\"width:30px; height:30px; vertical-align:middle; text-align:center\"></td><td bgcolor=\"#E6E6E6\" style=\"width:30px; height:30px; vertical-align:middle; text-align:center\"></td><td bgcolor=\"#E6E6E6\" style=\"width:30px; height:30px; vertical-align:middle; text-align:center\"></td><td bgcolor=\"#E6E6E6\" style=\"width:30px; height:30px; vertical-align:middle; text-align:center\"></td><td bgcolor=\"#E6E6E6\" style=\"width:30px; height:30px; vertical-align:middle; text-align:center\"></td><td bgcolor=\"#E6E6E6\" style=\"width:30px; height:30px; vertical-align:middle; text-align:center\"></td></tr><tr><td bgcolor=\"#E6E6E6\" style=\"width:30px; height:30px; vertical-align:middle; text-align:center\"></td><td bgcolor=\"#E6E6E6\" style=\"width:30px; height:30px; vertical-align:middle; text-align:center\"></td><td bgcolor=\"#E6E6E6\" style=\"width:30px; height:30px; vertical-align:middle; text-align:center\"></td><td bgcolor=\"#FFA07A\" style=\"width:30px; height:30px; vertical-align:middle; text-align:center\">R</td><td bgcolor=\"#FFA07A\" style=\"width:30px; height:30px; vertical-align:middle; text-align:center\">R</td><td bgcolor=\"#FFA07A\" style=\"width:30px; height:30px; vertical-align:middle; text-align:center\">R</td></tr></table>"
      ],
      "text/plain": [
       "<IPython.core.display.HTML at 0xabb30f0>"
      ]
     },
     "execution_count": 41,
     "metadata": {},
     "output_type": "execute_result"
    }
   ],
   "source": [
    "HTML(html_table_for_df_index_construction_coloring(states_2_2,index+31))"
   ]
  },
  {
   "cell_type": "code",
   "execution_count": 17,
   "metadata": {},
   "outputs": [
    {
     "data": {
      "text/html": [
       "<table><tr><td bgcolor=\"#7FFF00\" style=\"width:30px; height:30px; vertical-align:middle; text-align:center\">Q</td><td bgcolor=\"#7FFF00\" style=\"width:30px; height:30px; vertical-align:middle; text-align:center\">Q</td><td bgcolor=\"#F08080\" style=\"width:30px; height:30px; vertical-align:middle; text-align:center\">T</td><td bgcolor=\"#E6E6E6\" style=\"width:30px; height:30px; vertical-align:middle; text-align:center\"></td><td bgcolor=\"#E6E6E6\" style=\"width:30px; height:30px; vertical-align:middle; text-align:center\"></td><td bgcolor=\"#E6E6E6\" style=\"width:30px; height:30px; vertical-align:middle; text-align:center\"></td></tr><tr><td bgcolor=\"#E6E6E6\" style=\"width:30px; height:30px; vertical-align:middle; text-align:center\"></td><td bgcolor=\"#E6E6E6\" style=\"width:30px; height:30px; vertical-align:middle; text-align:center\"></td><td bgcolor=\"#F08080\" style=\"width:30px; height:30px; vertical-align:middle; text-align:center\">T</td><td bgcolor=\"#E6E6E6\" style=\"width:30px; height:30px; vertical-align:middle; text-align:center\"></td><td bgcolor=\"#E6E6E6\" style=\"width:30px; height:30px; vertical-align:middle; text-align:center\"></td><td bgcolor=\"#E6E6E6\" style=\"width:30px; height:30px; vertical-align:middle; text-align:center\"></td></tr><tr><td bgcolor=\"#FF0000\" style=\"width:30px; height:30px; vertical-align:middle; text-align:center\">X</td><td bgcolor=\"#FF0000\" style=\"width:30px; height:30px; vertical-align:middle; text-align:center\">X</td><td bgcolor=\"#F08080\" style=\"width:30px; height:30px; vertical-align:middle; text-align:center\">T</td><td bgcolor=\"#FFA07A\" style=\"width:30px; height:30px; vertical-align:middle; text-align:center\">R</td><td bgcolor=\"#FFA07A\" style=\"width:30px; height:30px; vertical-align:middle; text-align:center\">R</td><td bgcolor=\"#FFA07A\" style=\"width:30px; height:30px; vertical-align:middle; text-align:center\">R</td></tr><tr><td bgcolor=\"#E6E6E6\" style=\"width:30px; height:30px; vertical-align:middle; text-align:center\"></td><td bgcolor=\"#E6E6E6\" style=\"width:30px; height:30px; vertical-align:middle; text-align:center\"></td><td bgcolor=\"#E6E6E6\" style=\"width:30px; height:30px; vertical-align:middle; text-align:center\"></td><td bgcolor=\"#E6E6E6\" style=\"width:30px; height:30px; vertical-align:middle; text-align:center\"></td><td bgcolor=\"#E6E6E6\" style=\"width:30px; height:30px; vertical-align:middle; text-align:center\"></td><td bgcolor=\"#E6E6E6\" style=\"width:30px; height:30px; vertical-align:middle; text-align:center\"></td></tr><tr><td bgcolor=\"#E6E6E6\" style=\"width:30px; height:30px; vertical-align:middle; text-align:center\"></td><td bgcolor=\"#E6E6E6\" style=\"width:30px; height:30px; vertical-align:middle; text-align:center\"></td><td bgcolor=\"#E6E6E6\" style=\"width:30px; height:30px; vertical-align:middle; text-align:center\"></td><td bgcolor=\"#E6E6E6\" style=\"width:30px; height:30px; vertical-align:middle; text-align:center\"></td><td bgcolor=\"#E6E6E6\" style=\"width:30px; height:30px; vertical-align:middle; text-align:center\"></td><td bgcolor=\"#E6E6E6\" style=\"width:30px; height:30px; vertical-align:middle; text-align:center\"></td></tr><tr><td bgcolor=\"#E6E6E6\" style=\"width:30px; height:30px; vertical-align:middle; text-align:center\"></td><td bgcolor=\"#E6E6E6\" style=\"width:30px; height:30px; vertical-align:middle; text-align:center\"></td><td bgcolor=\"#E6E6E6\" style=\"width:30px; height:30px; vertical-align:middle; text-align:center\"></td><td bgcolor=\"#E6E6E6\" style=\"width:30px; height:30px; vertical-align:middle; text-align:center\"></td><td bgcolor=\"#E6E6E6\" style=\"width:30px; height:30px; vertical-align:middle; text-align:center\"></td><td bgcolor=\"#E6E6E6\" style=\"width:30px; height:30px; vertical-align:middle; text-align:center\"></td></tr></table>"
      ],
      "text/plain": [
       "<IPython.core.display.HTML at 0xa5f89e8>"
      ]
     },
     "execution_count": 17,
     "metadata": {},
     "output_type": "execute_result"
    }
   ],
   "source": [
    "HTML(html_table_for_df_index_construction_coloring(states_2_2,index+40))"
   ]
  },
  {
   "cell_type": "code",
   "execution_count": null,
   "metadata": {},
   "outputs": [],
   "source": []
  }
 ],
 "metadata": {
  "kernelspec": {
   "display_name": "Python 3",
   "language": "python",
   "name": "python3"
  },
  "language_info": {
   "codemirror_mode": {
    "name": "ipython",
    "version": 3
   },
   "file_extension": ".py",
   "mimetype": "text/x-python",
   "name": "python",
   "nbconvert_exporter": "python",
   "pygments_lexer": "ipython3",
   "version": "3.6.2"
  }
 },
 "nbformat": 4,
 "nbformat_minor": 1
}

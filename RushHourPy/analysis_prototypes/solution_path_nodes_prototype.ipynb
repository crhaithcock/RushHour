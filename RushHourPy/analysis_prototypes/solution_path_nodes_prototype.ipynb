{
 "metadata": {
  "name": "",
  "signature": "sha256:961c85dc7e7b83236e2deb089ca02fa4d6ffb8fdcfcdb31e5f6a8c5b71a3fdc5"
 },
 "nbformat": 3,
 "nbformat_minor": 0,
 "worksheets": [
  {
   "cells": [
    {
     "cell_type": "markdown",
     "metadata": {},
     "source": [
      "The goals of this notebook:\n",
      "\n",
      "Develop the algoithm to determine the solution depth and optimal neighbor.\n",
      "\n",
      "A separate notebook will explore visualizations of the rush hour graph."
     ]
    },
    {
     "cell_type": "code",
     "collapsed": false,
     "input": [
      "%matplotlib inline\n",
      "\n",
      "import os\n",
      "import pandas as pd\n",
      "import copy\n",
      "from IPython.display import HTML\n",
      "import sqlite3 as db\n",
      "import networkx as nx\n",
      "import collections"
     ],
     "language": "python",
     "metadata": {},
     "outputs": [],
     "prompt_number": 1
    },
    {
     "cell_type": "code",
     "collapsed": false,
     "input": [
      "con = db.connect('C:/Users/cliff/workspace/rushHour/Data Model and SQL/Schema Definition and Bulk Load/rush_hour.db')\n",
      "c = con.cursor()"
     ],
     "language": "python",
     "metadata": {},
     "outputs": [],
     "prompt_number": 2
    },
    {
     "cell_type": "heading",
     "level": 2,
     "metadata": {},
     "source": [
      "Function to take connected component id as input and update all states in that component by setting the solution depth and the optimal neighbor game number."
     ]
    },
    {
     "cell_type": "code",
     "collapsed": false,
     "input": [
      "connected_component_id = 30 # component with 104 states\n",
      "\n",
      "sql = \"\"\" select s.comb_class_id, s.game_number, s.is_goal_state\n",
      "          from connected_component c\n",
      "               inner join game_state s on c.id = s.connected_component_id\n",
      "          where connected_component_id = %d\n",
      "      \"\"\"%(connected_component_id)\n",
      "c.execute(sql)\n",
      "component_states = c.fetchall() # \n",
      "#component_states\n",
      "#df = pd.read_sql(sql,con)\n",
      "#len(df)\n",
      "\n",
      "# each edge will match twice against the nodes - once for the pre transition state and once for the post transition state.\n",
      "# at the time of this writing, I am using distint to remove the duplicates. \n",
      "sql = \"\"\"select distinct t.*\n",
      "         from connected_component c\n",
      "              inner join game_state s on c.id = s.connected_component_id \n",
      "              inner join state_transition t \n",
      "              on (s.comb_class_id = t.comb_class_id\n",
      "                  and s.game_number = t.pre_transition_game_number\n",
      "                 )\n",
      "                  or\n",
      "                 (t.comb_class_id = s.comb_class_id \n",
      "                  and s.game_number = t.post_transition_game_number \n",
      "                 )\n",
      "         where c.id = %d\n",
      "       \"\"\"%(connected_component_id)\n",
      "\n",
      "c.execute(sql)\n",
      "component_edges = c.fetchall()"
     ],
     "language": "python",
     "metadata": {},
     "outputs": [],
     "prompt_number": 3
    },
    {
     "cell_type": "markdown",
     "metadata": {},
     "source": [
      "The algorithm is to follow breadth-first search but from a starting set rather than a single node."
     ]
    },
    {
     "cell_type": "code",
     "collapsed": false,
     "input": [
      "\n",
      "\"\"\"\n",
      "#gray_states = collections.OrderedDict()\n",
      "\n",
      "# test code in preparation for work in next cell\n",
      "adj_list = {x[1]:[] for x in component_states} # component_state = ()\n",
      "for [x,y,z]in component_edges: # [t1,t2,...tn] ti = (pre_tran_state_game_number, post_tran_state_game_number, comb_class_id):\n",
      "    adj_list[x].append(y)\n",
      "    adj_list[y].append(x)\n",
      "\n",
      "\n",
      "# component_states: (comb class id, game number, is Goal State?)\n",
      "# states as an array of dictionaries: [d1,d2,d3,...dn] di = {game_number:{'depth':,'optimal_nbr_game_number}}\n",
      "\n",
      "white_states = { x[1]:{'depth':None, 'optimal_nbr_game_number':None} for x in component_states if x[2] !=1}\n",
      "gray_states =  collections.OrderedDict( { x[1]:{'depth':0, 'optimal_nbr_game_number':None} for x in component_states if x[2] == 1 })\n",
      "black_states = {}\n",
      "\n",
      "    \n",
      "len(gray_states), len(white_states),set([x for k in adj_list.keys() for x in adj_list[k] if x not in white_states])\n",
      "len(set([k for k in white_states.keys()]))\n",
      "#cur_state_key,cur_state_values = gray_states.popitem(last=False)\n",
      "#nbr = (adj_list[cur_state_key])[0]\n",
      "#cur_state_key,nbr, [x for x in component_states if x[1] == nbr],nbr in gray_states,nbr in white_states, gray_states\n",
      "\"\"\""
     ],
     "language": "python",
     "metadata": {},
     "outputs": [
      {
       "metadata": {},
       "output_type": "pyout",
       "prompt_number": 84,
       "text": [
        "94"
       ]
      }
     ],
     "prompt_number": 84
    },
    {
     "cell_type": "code",
     "collapsed": false,
     "input": [
      "\n",
      "adj_list = {x[1]:[] for x in component_states} # component_state = ()\n",
      "for [x,y,z]in component_edges: # [t1,t2,...tn] ti = (pre_tran_state_game_number, post_tran_state_game_number, comb_class_id):\n",
      "    adj_list[x].append(y)\n",
      "    adj_list[y].append(x)\n",
      "    \n",
      "# component_states: (comb class id, game number, is Goal State?)\n",
      "# states as an array of dictionaries: [d1,d2,d3,...dn] di = {game_number:{'depth':,'optimal_nbr_game_number}}\n",
      "\n",
      "white_states = { x[1]:{'depth':None, 'optimal_nbr_game_number':None} for x in component_states if x[2] !=1}\n",
      "gray_states =  collections.OrderedDict( { x[1]:{'depth':0, 'optimal_nbr_game_number':None} for x in component_states if x[2] == 1 })\n",
      "black_states = {}\n",
      "\n",
      "while gray_states:\n",
      "    cur_state_key,cur_state_values = gray_states.popitem(last=False)\n",
      "    for nbr in adj_list[cur_state_key]:\n",
      "        if nbr in white_states:\n",
      "            gray_states[nbr] = {'depth': cur_state_values['depth'] + 1, 'optimal_nbr_game_number':cur_state_key} \n",
      "            del white_states[nbr]\n",
      "    black_states[cur_state_key] = cur_state_values\n",
      "    \n",
      "\n",
      "distance_partition_max = max( v['depth'] for k,v in black_states.items()  )\n",
      "distance_partition = { i:[] for i in range(distance_partition_max + 1) }\n",
      "for k,v in black_states.items() :\n",
      "    (distance_partition[v['depth'] ]).append(k)\n",
      "    \n",
      "len(black_states), len(white_states),len(gray_states),len(adj_list),distance_partition_max,distance_partition\n",
      "\n",
      "[len(v) for k,v in distance_partition.items() ]\n",
      "\n",
      "\n",
      "# need to save depth and optimal neighbor back into the db\n",
      "# need to make\n",
      "\n",
      "\n"
     ],
     "language": "python",
     "metadata": {},
     "outputs": [
      {
       "metadata": {},
       "output_type": "pyout",
       "prompt_number": 4,
       "text": [
        "[10, 10, 10, 11, 16, 21, 13, 9, 3, 1]"
       ]
      }
     ],
     "prompt_number": 4
    },
    {
     "cell_type": "heading",
     "level": 2,
     "metadata": {},
     "source": [
      "Saving Updates to the DB"
     ]
    },
    {
     "cell_type": "code",
     "collapsed": false,
     "input": [
      "comb_class_id = 36\n",
      "update_sql = \"update game_state set optimal_transition_game_number = ?, solution_distance = ? where comb_class_id = ? and game_number = ?\"\n",
      "update_data = [ (v['optimal_nbr_game_number'], v['depth'],comb_class_id, k) for k,v in black_states.items() ]\n",
      "c.executemany(update_sql,update_data)\n",
      "con.commit()\n"
     ],
     "language": "python",
     "metadata": {},
     "outputs": [],
     "prompt_number": 16
    },
    {
     "cell_type": "code",
     "collapsed": false,
     "input": [
      "%run compute_edges_connected_components\n",
      "\n",
      "set_solution_data_for_comb_class(36)\n",
      "#res = solution_data_for_connected_component(20)\n",
      "#res\n"
     ],
     "language": "python",
     "metadata": {},
     "outputs": [
      {
       "ename": "TypeError",
       "evalue": "%d format: a number is required, not NoneType",
       "output_type": "pyerr",
       "traceback": [
        "\u001b[1;31m---------------------------------------------------------------------------\u001b[0m\n\u001b[1;31mTypeError\u001b[0m                                 Traceback (most recent call last)",
        "\u001b[1;32m<ipython-input-24-c4de9fdcd1d6>\u001b[0m in \u001b[0;36m<module>\u001b[1;34m()\u001b[0m\n\u001b[0;32m      1\u001b[0m \u001b[0mget_ipython\u001b[0m\u001b[1;33m(\u001b[0m\u001b[1;33m)\u001b[0m\u001b[1;33m.\u001b[0m\u001b[0mmagic\u001b[0m\u001b[1;33m(\u001b[0m\u001b[1;34mu'run compute_edges_connected_components'\u001b[0m\u001b[1;33m)\u001b[0m\u001b[1;33m\u001b[0m\u001b[0m\n\u001b[0;32m      2\u001b[0m \u001b[1;33m\u001b[0m\u001b[0m\n\u001b[1;32m----> 3\u001b[1;33m \u001b[0mset_solution_data_for_comb_class\u001b[0m\u001b[1;33m(\u001b[0m\u001b[1;36m36\u001b[0m\u001b[1;33m)\u001b[0m\u001b[1;33m\u001b[0m\u001b[0m\n\u001b[0m\u001b[0;32m      4\u001b[0m \u001b[1;31m#res = solution_data_for_connected_component(20)\u001b[0m\u001b[1;33m\u001b[0m\u001b[1;33m\u001b[0m\u001b[0m\n\u001b[0;32m      5\u001b[0m \u001b[1;31m#res\u001b[0m\u001b[1;33m\u001b[0m\u001b[1;33m\u001b[0m\u001b[0m\n",
        "\u001b[1;32mC:\\Users\\cliff\\workspace\\Rush Hour With Python\\compute_edges_connected_components.py\u001b[0m in \u001b[0;36mset_solution_data_for_comb_class\u001b[1;34m(comb_class_id)\u001b[0m\n\u001b[0;32m    326\u001b[0m     \u001b[0mcomponent_ids\u001b[0m \u001b[1;33m=\u001b[0m \u001b[0mcursor\u001b[0m\u001b[1;33m.\u001b[0m\u001b[0mfetchall\u001b[0m\u001b[1;33m(\u001b[0m\u001b[1;33m)\u001b[0m\u001b[1;33m\u001b[0m\u001b[0m\n\u001b[0;32m    327\u001b[0m     \u001b[1;32mfor\u001b[0m \u001b[0mcomponent_id\u001b[0m \u001b[1;32min\u001b[0m \u001b[0mcomponent_ids\u001b[0m\u001b[1;33m:\u001b[0m\u001b[1;33m\u001b[0m\u001b[0m\n\u001b[1;32m--> 328\u001b[1;33m         \u001b[0msolution_path_data\u001b[0m \u001b[1;33m=\u001b[0m \u001b[0msolution_data_for_connected_component\u001b[0m\u001b[1;33m(\u001b[0m\u001b[0mcomponent_id\u001b[0m\u001b[1;33m)\u001b[0m\u001b[1;33m\u001b[0m\u001b[0m\n\u001b[0m\u001b[0;32m    329\u001b[0m         \u001b[1;31m#set_solution_data_for_connected_component(id,cursor)\u001b[0m\u001b[1;33m\u001b[0m\u001b[1;33m\u001b[0m\u001b[0m\n\u001b[0;32m    330\u001b[0m         update_sql = \"\"\"update game_state \n",
        "\u001b[1;32mC:\\Users\\cliff\\workspace\\Rush Hour With Python\\compute_edges_connected_components.py\u001b[0m in \u001b[0;36msolution_data_for_connected_component\u001b[1;34m(connected_component_id)\u001b[0m\n\u001b[0;32m    347\u001b[0m                    \u001b[0minner\u001b[0m \u001b[0mjoin\u001b[0m \u001b[0mgame_state\u001b[0m \u001b[0ms\u001b[0m \u001b[0mon\u001b[0m \u001b[0mc\u001b[0m\u001b[1;33m.\u001b[0m\u001b[0mid\u001b[0m \u001b[1;33m=\u001b[0m \u001b[0ms\u001b[0m\u001b[1;33m.\u001b[0m\u001b[0mconnected_component_id\u001b[0m\u001b[1;33m\u001b[0m\u001b[0m\n\u001b[0;32m    348\u001b[0m               \u001b[0mwhere\u001b[0m \u001b[0mconnected_component_id\u001b[0m \u001b[1;33m=\u001b[0m \u001b[1;33m%\u001b[0m\u001b[0md\u001b[0m\u001b[1;33m\u001b[0m\u001b[0m\n\u001b[1;32m--> 349\u001b[1;33m           \"\"\"%(connected_component_id)\n\u001b[0m\u001b[0;32m    350\u001b[0m     \u001b[0mdb_cursor\u001b[0m\u001b[1;33m.\u001b[0m\u001b[0mexecute\u001b[0m\u001b[1;33m(\u001b[0m\u001b[0msql\u001b[0m\u001b[1;33m)\u001b[0m\u001b[1;33m\u001b[0m\u001b[0m\n\u001b[0;32m    351\u001b[0m     \u001b[0mcomponent_states\u001b[0m \u001b[1;33m=\u001b[0m \u001b[0mdb_cursor\u001b[0m\u001b[1;33m.\u001b[0m\u001b[0mfetchall\u001b[0m\u001b[1;33m(\u001b[0m\u001b[1;33m)\u001b[0m\u001b[1;33m\u001b[0m\u001b[0m\n",
        "\u001b[1;31mTypeError\u001b[0m: %d format: a number is required, not NoneType"
       ]
      }
     ],
     "prompt_number": 24
    },
    {
     "cell_type": "code",
     "collapsed": false,
     "input": [
      "#conn = db.connect('C:/Users/cliff/workspace/rushHour/Data Model and SQL/Schema Definition and Bulk Load/rush_hour.db')\n",
      "#cursor = conn.cursor()\n",
      "\n",
      "sql = 'select distinct connected_component_id from game_state where comb_class_id = %d' %(comb_class_id)\n",
      "c.execute(sql)\n",
      "component_ids = c.fetchall()\n",
      "component_ids"
     ],
     "language": "python",
     "metadata": {},
     "outputs": [
      {
       "metadata": {},
       "output_type": "pyout",
       "prompt_number": 25,
       "text": [
        "[(None,),\n",
        " (27,),\n",
        " (28,),\n",
        " (29,),\n",
        " (30,),\n",
        " (31,),\n",
        " (32,),\n",
        " (33,),\n",
        " (34,),\n",
        " (35,),\n",
        " (36,),\n",
        " (37,),\n",
        " (38,),\n",
        " (39,),\n",
        " (40,),\n",
        " (41,),\n",
        " (42,),\n",
        " (43,),\n",
        " (44,),\n",
        " (45,),\n",
        " (46,),\n",
        " (47,),\n",
        " (48,),\n",
        " (49,),\n",
        " (50,),\n",
        " (51,),\n",
        " (52,),\n",
        " (53,),\n",
        " (54,),\n",
        " (55,),\n",
        " (56,),\n",
        " (57,),\n",
        " (58,),\n",
        " (59,),\n",
        " (60,),\n",
        " (61,),\n",
        " (62,),\n",
        " (63,),\n",
        " (64,),\n",
        " (65,),\n",
        " (66,),\n",
        " (67,),\n",
        " (68,),\n",
        " (69,),\n",
        " (70,),\n",
        " (71,),\n",
        " (72,),\n",
        " (73,),\n",
        " (74,),\n",
        " (75,),\n",
        " (76,),\n",
        " (77,),\n",
        " (78,),\n",
        " (79,),\n",
        " (80,),\n",
        " (81,),\n",
        " (82,),\n",
        " (83,),\n",
        " (84,),\n",
        " (85,),\n",
        " (86,),\n",
        " (87,),\n",
        " (88,),\n",
        " (89,),\n",
        " (90,),\n",
        " (91,),\n",
        " (92,),\n",
        " (93,),\n",
        " (94,),\n",
        " (95,),\n",
        " (96,),\n",
        " (97,),\n",
        " (98,),\n",
        " (99,),\n",
        " (100,),\n",
        " (101,),\n",
        " (102,),\n",
        " (103,),\n",
        " (104,),\n",
        " (105,),\n",
        " (106,),\n",
        " (107,),\n",
        " (108,),\n",
        " (109,),\n",
        " (110,)]"
       ]
      }
     ],
     "prompt_number": 25
    },
    {
     "cell_type": "heading",
     "level": 2,
     "metadata": {},
     "source": [
      "Develop data structures to support drawing the connected component."
     ]
    },
    {
     "cell_type": "code",
     "collapsed": false,
     "input": [
      "def partition_color(depth):\n",
      "    return depth\n",
      "    #if depth == 0:\n",
      "    #    return 'r'\n",
      "    #else:\n",
      "    #    return depth\n",
      "        \n",
      "    #if depth >0  and depth < 9:\n",
      "    #    return 'g'\n",
      "    #if depth == 9:\n",
      "    #    return 'b'"
     ],
     "language": "python",
     "metadata": {},
     "outputs": [],
     "prompt_number": 12
    },
    {
     "cell_type": "code",
     "collapsed": false,
     "input": [
      "def nodes_colors(dist_partition): #dist_partition is dict k:v, K is partition depth (0,...,n); v is list of game numbers\n",
      "    partition_list = [[k,elt] for k in dist_partition.keys() for elt in dist_partition[k]]\n",
      "\n",
      "    nodes = [x[1] for x in partition_list]\n",
      "    colors = [partition_color(x[0]) for x in partition_list]\n",
      "    \n",
      "    return [nodes,colors]\n",
      "    "
     ],
     "language": "python",
     "metadata": {},
     "outputs": [],
     "prompt_number": 163
    },
    {
     "cell_type": "code",
     "collapsed": false,
     "input": [
      "[graph_nodes,graph_colors] = nodes_colors(dist_partition)\n",
      "node_labels = {node:str(depth) for (depth,nodes) in dist_partition.items() for node in nodes}\n",
      "shell_list = [list(dist_partition[k]) for k in dist_partition.keys() ]\n",
      "#nodes,node_labels"
     ],
     "language": "python",
     "metadata": {},
     "outputs": [
      {
       "ename": "NameError",
       "evalue": "name 'dist_partition' is not defined",
       "output_type": "pyerr",
       "traceback": [
        "\u001b[1;31m---------------------------------------------------------------------------\u001b[0m\n\u001b[1;31mNameError\u001b[0m                                 Traceback (most recent call last)",
        "\u001b[1;32m<ipython-input-164-8cc5a8d23baf>\u001b[0m in \u001b[0;36m<module>\u001b[1;34m()\u001b[0m\n\u001b[1;32m----> 1\u001b[1;33m \u001b[1;33m[\u001b[0m\u001b[0mgraph_nodes\u001b[0m\u001b[1;33m,\u001b[0m\u001b[0mgraph_colors\u001b[0m\u001b[1;33m]\u001b[0m \u001b[1;33m=\u001b[0m \u001b[0mnodes_colors\u001b[0m\u001b[1;33m(\u001b[0m\u001b[0mdist_partition\u001b[0m\u001b[1;33m)\u001b[0m\u001b[1;33m\u001b[0m\u001b[0m\n\u001b[0m\u001b[0;32m      2\u001b[0m \u001b[0mnode_labels\u001b[0m \u001b[1;33m=\u001b[0m \u001b[1;33m{\u001b[0m\u001b[0mnode\u001b[0m\u001b[1;33m:\u001b[0m\u001b[0mstr\u001b[0m\u001b[1;33m(\u001b[0m\u001b[0mdepth\u001b[0m\u001b[1;33m)\u001b[0m \u001b[1;32mfor\u001b[0m \u001b[1;33m(\u001b[0m\u001b[0mdepth\u001b[0m\u001b[1;33m,\u001b[0m\u001b[0mnodes\u001b[0m\u001b[1;33m)\u001b[0m \u001b[1;32min\u001b[0m \u001b[0mdist_partition\u001b[0m\u001b[1;33m.\u001b[0m\u001b[0mitems\u001b[0m\u001b[1;33m(\u001b[0m\u001b[1;33m)\u001b[0m \u001b[1;32mfor\u001b[0m \u001b[0mnode\u001b[0m \u001b[1;32min\u001b[0m \u001b[0mnodes\u001b[0m\u001b[1;33m}\u001b[0m\u001b[1;33m\u001b[0m\u001b[0m\n\u001b[0;32m      3\u001b[0m \u001b[0mshell_list\u001b[0m \u001b[1;33m=\u001b[0m \u001b[1;33m[\u001b[0m\u001b[0mlist\u001b[0m\u001b[1;33m(\u001b[0m\u001b[0mdist_partition\u001b[0m\u001b[1;33m[\u001b[0m\u001b[0mk\u001b[0m\u001b[1;33m]\u001b[0m\u001b[1;33m)\u001b[0m \u001b[1;32mfor\u001b[0m \u001b[0mk\u001b[0m \u001b[1;32min\u001b[0m \u001b[0mdist_partition\u001b[0m\u001b[1;33m.\u001b[0m\u001b[0mkeys\u001b[0m\u001b[1;33m(\u001b[0m\u001b[1;33m)\u001b[0m \u001b[1;33m]\u001b[0m\u001b[1;33m\u001b[0m\u001b[0m\n\u001b[0;32m      4\u001b[0m \u001b[1;31m#nodes,node_labels\u001b[0m\u001b[1;33m\u001b[0m\u001b[1;33m\u001b[0m\u001b[0m\n",
        "\u001b[1;31mNameError\u001b[0m: name 'dist_partition' is not defined"
       ]
      }
     ],
     "prompt_number": 164
    },
    {
     "cell_type": "code",
     "collapsed": false,
     "input": [
      "#nx.draw(G)\n",
      "%pylab qt\n",
      "G=nx.Graph()\n",
      "G.add_nodes_from(graph_nodes)\n",
      "G.add_edges_from([ [x[0],x[1]] for x in component_edges])\n",
      "nx.draw_shell(G,nlist=shell_list,scale=23,nodelist=graph_nodes, node_color=graph_colors, with_labels=True,labels=node_labels,font_size=24,node_size=300)"
     ],
     "language": "python",
     "metadata": {},
     "outputs": [
      {
       "output_type": "stream",
       "stream": "stdout",
       "text": [
        "Populating the interactive namespace from numpy and matplotlib\n"
       ]
      },
      {
       "output_type": "stream",
       "stream": "stderr",
       "text": [
        "WARNING: pylab import has clobbered these variables: ['copy']\n",
        "`%matplotlib` prevents importing * from pylab and numpy\n"
       ]
      },
      {
       "ename": "NameError",
       "evalue": "name 'graph_nodes' is not defined",
       "output_type": "pyerr",
       "traceback": [
        "\u001b[1;31m---------------------------------------------------------------------------\u001b[0m\n\u001b[1;31mNameError\u001b[0m                                 Traceback (most recent call last)",
        "\u001b[1;32m<ipython-input-165-59713e9400ad>\u001b[0m in \u001b[0;36m<module>\u001b[1;34m()\u001b[0m\n\u001b[0;32m      2\u001b[0m \u001b[0mget_ipython\u001b[0m\u001b[1;33m(\u001b[0m\u001b[1;33m)\u001b[0m\u001b[1;33m.\u001b[0m\u001b[0mmagic\u001b[0m\u001b[1;33m(\u001b[0m\u001b[1;34mu'pylab qt'\u001b[0m\u001b[1;33m)\u001b[0m\u001b[1;33m\u001b[0m\u001b[0m\n\u001b[0;32m      3\u001b[0m \u001b[0mG\u001b[0m\u001b[1;33m=\u001b[0m\u001b[0mnx\u001b[0m\u001b[1;33m.\u001b[0m\u001b[0mGraph\u001b[0m\u001b[1;33m(\u001b[0m\u001b[1;33m)\u001b[0m\u001b[1;33m\u001b[0m\u001b[0m\n\u001b[1;32m----> 4\u001b[1;33m \u001b[0mG\u001b[0m\u001b[1;33m.\u001b[0m\u001b[0madd_nodes_from\u001b[0m\u001b[1;33m(\u001b[0m\u001b[0mgraph_nodes\u001b[0m\u001b[1;33m)\u001b[0m\u001b[1;33m\u001b[0m\u001b[0m\n\u001b[0m\u001b[0;32m      5\u001b[0m \u001b[0mG\u001b[0m\u001b[1;33m.\u001b[0m\u001b[0madd_edges_from\u001b[0m\u001b[1;33m(\u001b[0m\u001b[1;33m[\u001b[0m \u001b[1;33m[\u001b[0m\u001b[0mx\u001b[0m\u001b[1;33m[\u001b[0m\u001b[1;36m0\u001b[0m\u001b[1;33m]\u001b[0m\u001b[1;33m,\u001b[0m\u001b[0mx\u001b[0m\u001b[1;33m[\u001b[0m\u001b[1;36m1\u001b[0m\u001b[1;33m]\u001b[0m\u001b[1;33m]\u001b[0m \u001b[1;32mfor\u001b[0m \u001b[0mx\u001b[0m \u001b[1;32min\u001b[0m \u001b[0mcomponent_edges\u001b[0m\u001b[1;33m]\u001b[0m\u001b[1;33m)\u001b[0m\u001b[1;33m\u001b[0m\u001b[0m\n\u001b[0;32m      6\u001b[0m \u001b[0mnx\u001b[0m\u001b[1;33m.\u001b[0m\u001b[0mdraw_shell\u001b[0m\u001b[1;33m(\u001b[0m\u001b[0mG\u001b[0m\u001b[1;33m,\u001b[0m\u001b[0mnlist\u001b[0m\u001b[1;33m=\u001b[0m\u001b[0mshell_list\u001b[0m\u001b[1;33m,\u001b[0m\u001b[0mscale\u001b[0m\u001b[1;33m=\u001b[0m\u001b[1;36m23\u001b[0m\u001b[1;33m,\u001b[0m\u001b[0mnodelist\u001b[0m\u001b[1;33m=\u001b[0m\u001b[0mgraph_nodes\u001b[0m\u001b[1;33m,\u001b[0m \u001b[0mnode_color\u001b[0m\u001b[1;33m=\u001b[0m\u001b[0mgraph_colors\u001b[0m\u001b[1;33m,\u001b[0m \u001b[0mwith_labels\u001b[0m\u001b[1;33m=\u001b[0m\u001b[0mTrue\u001b[0m\u001b[1;33m,\u001b[0m\u001b[0mlabels\u001b[0m\u001b[1;33m=\u001b[0m\u001b[0mnode_labels\u001b[0m\u001b[1;33m,\u001b[0m\u001b[0mfont_size\u001b[0m\u001b[1;33m=\u001b[0m\u001b[1;36m24\u001b[0m\u001b[1;33m,\u001b[0m\u001b[0mnode_size\u001b[0m\u001b[1;33m=\u001b[0m\u001b[1;36m300\u001b[0m\u001b[1;33m)\u001b[0m\u001b[1;33m\u001b[0m\u001b[0m\n",
        "\u001b[1;31mNameError\u001b[0m: name 'graph_nodes' is not defined"
       ]
      }
     ],
     "prompt_number": 165
    },
    {
     "cell_type": "code",
     "collapsed": false,
     "input": [],
     "language": "python",
     "metadata": {},
     "outputs": [],
     "prompt_number": 165
    },
    {
     "cell_type": "code",
     "collapsed": false,
     "input": [],
     "language": "python",
     "metadata": {},
     "outputs": []
    }
   ],
   "metadata": {}
  }
 ]
}
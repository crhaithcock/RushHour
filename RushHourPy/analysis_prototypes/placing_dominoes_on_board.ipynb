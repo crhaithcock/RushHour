{
 "metadata": {
  "name": "",
  "signature": "sha256:04aab308cf346981bc781e636188b784fd20aa94fe7c0db21e2ebb60bb4e53ee"
 },
 "nbformat": 3,
 "nbformat_minor": 0,
 "worksheets": [
  {
   "cells": [
    {
     "cell_type": "code",
     "collapsed": false,
     "input": [
      "board = range(36)"
     ],
     "language": "python",
     "metadata": {},
     "outputs": [],
     "prompt_number": 2
    },
    {
     "cell_type": "heading",
     "level": 2,
     "metadata": {},
     "source": [
      "Computing Two Dominoes "
     ]
    },
    {
     "cell_type": "code",
     "collapsed": false,
     "input": [
      "placements = []\n",
      "for i in board:\n",
      "    if i%6 <> 5:\n",
      "        for j in range(i+2,36):\n",
      "            if j%6 != 5:\n",
      "                placements.append( ((i,i+1), (j,j+1) ))\n",
      "            if j/6 < 5:\n",
      "                placements.append( ((i,i+1), (j,j+6) ))\n",
      "    if i/6 < 5:\n",
      "        for j in range(i+1,36):\n",
      "            if j%6 != 5 and j != i+6 and j+1 != i+6:\n",
      "                placements.append( ((i,i+6),(j,j+1) ))\n",
      "            if j/6 < 5 and j != i + 6:\n",
      "                placements.append( ((i,i+6), (j,j+6)) )\n",
      "        \n",
      "     "
     ],
     "language": "python",
     "metadata": {},
     "outputs": [],
     "prompt_number": 3
    },
    {
     "cell_type": "code",
     "collapsed": false,
     "input": [
      "d = {}\n",
      "for p1,p2 in placements:\n",
      "    if p1 in d:\n",
      "        d[p1].append(p2)\n",
      "    else:\n",
      "        d[p1] = [p2]\n",
      "    if p2 in d:\n",
      "        d[p2].append(p1)\n",
      "    else:\n",
      "        d[p2] = [p1]\n",
      "\n",
      "            "
     ],
     "language": "python",
     "metadata": {},
     "outputs": [],
     "prompt_number": 5
    },
    {
     "cell_type": "code",
     "collapsed": false,
     "input": [
      "sum([len(d[k]) for k in d]) / 2"
     ],
     "language": "python",
     "metadata": {},
     "outputs": [
      {
       "metadata": {},
       "output_type": "pyout",
       "prompt_number": 6,
       "text": [
        "1622"
       ]
      }
     ],
     "prompt_number": 6
    },
    {
     "cell_type": "code",
     "collapsed": false,
     "input": [
      "(24*53 + 8*56 + 12*55)/2"
     ],
     "language": "python",
     "metadata": {},
     "outputs": [
      {
       "metadata": {},
       "output_type": "pyout",
       "prompt_number": 39,
       "text": [
        "1190"
       ]
      }
     ],
     "prompt_number": 39
    },
    {
     "cell_type": "code",
     "collapsed": false,
     "input": [
      "[[k[0],k[1],len(d[k])] for k in d]"
     ],
     "language": "python",
     "metadata": {},
     "outputs": [
      {
       "metadata": {},
       "output_type": "pyout",
       "prompt_number": 45,
       "text": [
        "[[7, 8, 53],\n",
        " [15, 21, 53],\n",
        " [10, 11, 54],\n",
        " [24, 30, 56],\n",
        " [28, 29, 54],\n",
        " [2, 8, 54],\n",
        " [29, 35, 56],\n",
        " [8, 9, 53],\n",
        " [20, 26, 53],\n",
        " [18, 19, 54],\n",
        " [16, 22, 53],\n",
        " [14, 20, 53],\n",
        " [22, 23, 54],\n",
        " [31, 32, 55],\n",
        " [16, 17, 54],\n",
        " [8, 14, 53],\n",
        " [27, 33, 54],\n",
        " [6, 7, 54],\n",
        " [9, 15, 53],\n",
        " [12, 13, 54],\n",
        " [26, 32, 54],\n",
        " [25, 31, 54],\n",
        " [25, 26, 53],\n",
        " [15, 16, 53],\n",
        " [19, 25, 53],\n",
        " [33, 34, 55],\n",
        " [17, 23, 55],\n",
        " [22, 28, 53],\n",
        " [27, 28, 53],\n",
        " [21, 27, 53],\n",
        " [32, 33, 55],\n",
        " [4, 10, 54],\n",
        " [1, 2, 55],\n",
        " [21, 22, 53],\n",
        " [5, 11, 56],\n",
        " [4, 5, 56],\n",
        " [18, 24, 55],\n",
        " [23, 29, 55],\n",
        " [9, 10, 53],\n",
        " [12, 18, 55],\n",
        " [3, 9, 54],\n",
        " [2, 3, 55],\n",
        " [13, 19, 53],\n",
        " [6, 12, 55],\n",
        " [19, 20, 53],\n",
        " [0, 1, 56],\n",
        " [11, 17, 55],\n",
        " [26, 27, 53],\n",
        " [28, 34, 54],\n",
        " [13, 14, 53],\n",
        " [10, 16, 53],\n",
        " [7, 13, 53],\n",
        " [0, 6, 56],\n",
        " [24, 25, 54],\n",
        " [20, 21, 53],\n",
        " [30, 31, 56],\n",
        " [1, 7, 54],\n",
        " [14, 15, 53],\n",
        " [3, 4, 55],\n",
        " [34, 35, 56]]"
       ]
      }
     ],
     "prompt_number": 45
    },
    {
     "cell_type": "heading",
     "level": 2,
     "metadata": {},
     "source": [
      "Compute 3 dominoes"
     ]
    },
    {
     "cell_type": "code",
     "collapsed": false,
     "input": [
      "placements_3_dominoes = []\n",
      "for i in board:\n",
      "    tmp = []\n",
      "    if i%6 <> 5:\n",
      "        tmp.append( (i,i+1) )\n",
      "        for j in range(i+2,36):\n",
      "            if j%6 != 5 and j != i+6 and j+1 != i+6:\n",
      "                tmp.append( (j,j+1) )\n",
      "            if j/6 < 5 and j != i + 6:\n",
      "                tmp.append( ((i,i+1), (j,j+6) ))\n",
      "            for k in range(j+1,36):\n",
      "                if k%6 != 5  and k != i+6 and k+1 != i+6 and k != j+6 and k != j+6:\n",
      "                    tmp.append( (k,k+1) )\n",
      "                if k/6 < 5 and :\n",
      "                    tmp.append( (j,j+6) )\n",
      "  \n",
      "     if i/6 < 5:\n",
      "        tmp.append( (i,i+6) )\n",
      "        for j in range(i+1,36):\n",
      "            if j%6 != 5 and j != i+6:\n",
      "                tmp.append( (j,j+1) )\n",
      "            if j/6 < 5 and j != i + 6:\n",
      "                tmp.append( (j,j+6) )\n",
      "            for k in range(j+1,36):\n",
      "                if k%6 != 5 and k != i+6 and k!= j+6"
     ],
     "language": "python",
     "metadata": {},
     "outputs": []
    },
    {
     "cell_type": "heading",
     "level": 1,
     "metadata": {},
     "source": [
      "Compute Recursively"
     ]
    },
    {
     "cell_type": "code",
     "collapsed": false,
     "input": [
      "horizontal_domino_placements = [ {'end_a':x,'end_b':x+1, 'orientation':'horizontal'} for x in range(35) if x%6 != 5]\n",
      "vertical_domino_placements = [ {'end_a':x,'end_b':x+6,'orientation':'vertical'} for x in range(30)]\n",
      "domino_placements = horizontal_domino_placements + vertical_domino_placements\n",
      "grouped_domino_placements = {}\n",
      "for d in domino_placements:\n",
      "    if d['end_a'] in grouped_domino_placements:\n",
      "        grouped_domino_placements[d['end_a']].append(d)\n",
      "    else:\n",
      "        grouped_domino_placements[d['end_a']] = [d]\n",
      "\n",
      "        \n",
      "empty_spaces = [True]*36\n",
      "def recursivelyPopulateBoard(numDominos,cur_end_a_position):\n",
      "    global domino_placements\n",
      "    if numCars == 0\n",
      "        yield piecePlacementsInUseStack\n",
      "\n",
      "    if numCars > 0: \n",
      "        #attempt to successively place both cars with end_a at current position on board and recurse\n",
      "        for domino in grouped_domino_placements[cur_end_a_position]:\n",
      "            if empty_board_spaces[domino['end_a']] and empty_board_spaces[domino['end_b']]\n",
      "        for groupedCars in grouped_by_end_a_car_placements[cur_end_a_position:]:    \n",
      "            for car in groupedCars:\n",
      "                # NOTE: If unable to place a car on the board, then this call falls through to a return\n",
      "                #       This somehow kills the chain of recursive generator calls which prevents us from\n",
      "                #       ending up wiht a board only partially populated with the initial car/truck counts.\n",
      "                if empty_board_spaces[car['end_a']] and empty_board_spaces[car['end_b']]:\n",
      "                    add_car_to_board(car)\n",
      "                    for gen in recursivelyPopulateBoard(numCars -1 , numTrucks, car['end_a'] + 1):\n",
      "                        yield gen\n",
      "                    remove_car_from_board(car)\n",
      "                    \n",
      "                    "
     ],
     "language": "python",
     "metadata": {},
     "outputs": [],
     "prompt_number": 8
    },
    {
     "cell_type": "code",
     "collapsed": false,
     "input": [],
     "language": "python",
     "metadata": {},
     "outputs": []
    }
   ],
   "metadata": {}
  }
 ]
}
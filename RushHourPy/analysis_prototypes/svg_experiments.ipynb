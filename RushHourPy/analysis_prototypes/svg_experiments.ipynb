{
 "metadata": {
  "name": "",
  "signature": "sha256:cd1dc985dae29355e3550ea2aa63ee9ad805c0a72fe3303c69d462c0688fbc57"
 },
 "nbformat": 3,
 "nbformat_minor": 0,
 "worksheets": [
  {
   "cells": [
    {
     "cell_type": "code",
     "collapsed": false,
     "input": [
      "from IPython.display import SVG"
     ],
     "language": "python",
     "metadata": {},
     "outputs": []
    },
    {
     "cell_type": "code",
     "collapsed": false,
     "input": [
      "svg = \"\"\"<?xml version=\"1.0\" encoding=\"iso-8859-1\"?>\n",
      "<!DOCTYPE svg PUBLIC \"-//W3C//DTD SVG 20010904//EN\"\n",
      "  \"http://www.w3.org/TR/2001/REC-SVG-20010904/DTD/svg10.dtd\">\n",
      "\n",
      "<svg width=\"100%\" height=\"200%\">\n",
      "<defs>\n",
      "  <radialGradient id=\"gradientDefinition\"\n",
      "     gradientUnits=\"userSpaceOnUse\">\n",
      "     <stop stop-color=\"yellow\" offset=\"0%\"/>\n",
      "     <stop stop-color=\"black\"  offset=\"100%\"/>\n",
      "  </radialGradient>\n",
      "  </defs>\n",
      "\n",
      "  <ellipse\n",
      "     cx=\"265\" cy=\"165\" rx=\"200\" ry=\"100\"\n",
      "     stroke-dasharray=\"1 1 1 1\"\n",
      "     stroke=\"white\"\n",
      "     stroke-width=\"4\"\n",
      "     fill=\"black\"/>\n",
      "\n",
      "  <ellipse\n",
      "     cx=\"250\" cy=\"150\" rx=\"200\" ry=\"100\"\n",
      "     stroke=\"white\"\n",
      "     stroke-width=\"1\"\n",
      "     stroke-dasharray=\"1 1 1 1\"\n",
      "     style=\"fill:url(#gradientDefinition)\"/>\n",
      "</svg>\"\"\"\n",
      "\n"
     ],
     "language": "python",
     "metadata": {},
     "outputs": [
      {
       "metadata": {},
       "output_type": "pyout",
       "prompt_number": 18,
       "svg": [
        "<svg height=\"200%\" width=\"100%\">\n",
        "<defs>\n",
        "  <radialGradient gradientUnits=\"userSpaceOnUse\" id=\"gradientDefinition\">\n",
        "     <stop offset=\"0%\" stop-color=\"yellow\"/>\n",
        "     <stop offset=\"100%\" stop-color=\"black\"/>\n",
        "  </radialGradient>\n",
        "  </defs>\n",
        "\n",
        "  <ellipse cx=\"265\" cy=\"165\" fill=\"black\" rx=\"200\" ry=\"100\" stroke=\"white\" stroke-dasharray=\"1 1 1 1\" stroke-width=\"4\"/>\n",
        "\n",
        "  <ellipse cx=\"250\" cy=\"150\" rx=\"200\" ry=\"100\" stroke=\"white\" stroke-dasharray=\"1 1 1 1\" stroke-width=\"1\" style=\"fill:url(#gradientDefinition)\"/>\n",
        "</svg>"
       ],
       "text": [
        "<IPython.core.display.SVG at 0x4225e80>"
       ]
      }
     ],
     "prompt_number": 18
    },
    {
     "cell_type": "code",
     "collapsed": false,
     "input": [
      " SVG(filename=\"C:\\Users\\cliff\\workspace\\Rush Hour With Python\\svg experiments\\svg_001.svg\")"
     ],
     "language": "python",
     "metadata": {},
     "outputs": [
      {
       "metadata": {},
       "output_type": "pyout",
       "prompt_number": 21,
       "svg": [
        "<svg height=\"200%\" width=\"100%\">\n",
        "<defs>\n",
        "  <radialGradient gradientUnits=\"userSpaceOnUse\" id=\"gradientDefinition\">\n",
        "     <stop offset=\"0%\" stop-color=\"yellow\"/>\n",
        "     <stop offset=\"100%\" stop-color=\"black\"/>\n",
        "  </radialGradient>\n",
        "  </defs>\n",
        "\n",
        "  <ellipse cx=\"265\" cy=\"165\" fill=\"black\" rx=\"200\" ry=\"100\" stroke=\"white\" stroke-dasharray=\"1 1 1 1\" stroke-width=\"4\"/>\n",
        "\n",
        "  <ellipse cx=\"250\" cy=\"150\" rx=\"200\" ry=\"100\" stroke=\"white\" stroke-dasharray=\"1 1 1 1\" stroke-width=\"1\" style=\"fill:url(#gradientDefinition)\"/>\n",
        "</svg>"
       ],
       "text": [
        "<IPython.core.display.SVG at 0x4225e48>"
       ]
      }
     ],
     "prompt_number": 21
    },
    {
     "cell_type": "code",
     "collapsed": false,
     "input": [],
     "language": "python",
     "metadata": {},
     "outputs": []
    }
   ],
   "metadata": {}
  }
 ]
}
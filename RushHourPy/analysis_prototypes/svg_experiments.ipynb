{
 "cells": [
  {
   "cell_type": "code",
   "execution_count": 3,
   "metadata": {
    "collapsed": false
   },
   "outputs": [],
   "source": [
    "from IPython.display import SVG\n",
    "from IPython.display import HTML"
   ]
  },
  {
   "cell_type": "code",
   "execution_count": 2,
   "metadata": {
    "collapsed": false
   },
   "outputs": [],
   "source": [
    "svg = \"\"\"<?xml version=\"1.0\" encoding=\"iso-8859-1\"?>\n",
    "<!DOCTYPE svg PUBLIC \"-//W3C//DTD SVG 20010904//EN\"\n",
    "  \"http://www.w3.org/TR/2001/REC-SVG-20010904/DTD/svg10.dtd\">\n",
    "\n",
    "<svg width=\"100%\" height=\"200%\">\n",
    "<defs>\n",
    "  <radialGradient id=\"gradientDefinition\"\n",
    "     gradientUnits=\"userSpaceOnUse\">\n",
    "     <stop stop-color=\"yellow\" offset=\"0%\"/>\n",
    "     <stop stop-color=\"black\"  offset=\"100%\"/>\n",
    "  </radialGradient>\n",
    "  </defs>\n",
    "\n",
    "  <ellipse\n",
    "     cx=\"265\" cy=\"165\" rx=\"200\" ry=\"100\"\n",
    "     stroke-dasharray=\"1 1 1 1\"\n",
    "     stroke=\"white\"\n",
    "     stroke-width=\"4\"\n",
    "     fill=\"black\"/>\n",
    "\n",
    "  <ellipse\n",
    "     cx=\"250\" cy=\"150\" rx=\"200\" ry=\"100\"\n",
    "     stroke=\"white\"\n",
    "     stroke-width=\"1\"\n",
    "     stroke-dasharray=\"1 1 1 1\"\n",
    "     style=\"fill:url(#gradientDefinition)\"/>\n",
    "</svg>\"\"\"\n",
    "\n"
   ]
  },
  {
   "cell_type": "code",
   "execution_count": 5,
   "metadata": {
    "collapsed": false
   },
   "outputs": [
    {
     "ename": "SyntaxError",
     "evalue": "(unicode error) 'unicodeescape' codec can't decode bytes in position 2-3: truncated \\UXXXXXXXX escape (<ipython-input-5-88f1de42f32f>, line 1)",
     "output_type": "error",
     "traceback": [
      "\u001b[1;36m  File \u001b[1;32m\"<ipython-input-5-88f1de42f32f>\"\u001b[1;36m, line \u001b[1;32m1\u001b[0m\n\u001b[1;33m    SVG(filename=\"C:\\Users\\chaithcock\\Desktop\\svg_001.svg\")\u001b[0m\n\u001b[1;37m                ^\u001b[0m\n\u001b[1;31mSyntaxError\u001b[0m\u001b[1;31m:\u001b[0m (unicode error) 'unicodeescape' codec can't decode bytes in position 2-3: truncated \\UXXXXXXXX escape\n"
     ]
    }
   ],
   "source": [
    " SVG(filename=\"C:\\Users\\chaithcock\\Desktop\\svg_001.svg\")"
   ]
  },
  {
   "cell_type": "code",
   "execution_count": 4,
   "metadata": {
    "collapsed": false
   },
   "outputs": [
    {
     "data": {
      "text/html": [
       "<?xml version=\"1.0\" encoding=\"iso-8859-1\"?>\n",
       "<!DOCTYPE svg PUBLIC \"-//W3C//DTD SVG 20010904//EN\"\n",
       "  \"http://www.w3.org/TR/2001/REC-SVG-20010904/DTD/svg10.dtd\">\n",
       "\n",
       "<svg width=\"100%\" height=\"200%\">\n",
       "<defs>\n",
       "  <radialGradient id=\"gradientDefinition\"\n",
       "     gradientUnits=\"userSpaceOnUse\">\n",
       "     <stop stop-color=\"yellow\" offset=\"0%\"/>\n",
       "     <stop stop-color=\"black\"  offset=\"100%\"/>\n",
       "  </radialGradient>\n",
       "  </defs>\n",
       "\n",
       "  <ellipse\n",
       "     cx=\"265\" cy=\"165\" rx=\"200\" ry=\"100\"\n",
       "     stroke-dasharray=\"1 1 1 1\"\n",
       "     stroke=\"white\"\n",
       "     stroke-width=\"4\"\n",
       "     fill=\"black\"/>\n",
       "\n",
       "  <ellipse\n",
       "     cx=\"250\" cy=\"150\" rx=\"200\" ry=\"100\"\n",
       "     stroke=\"white\"\n",
       "     stroke-width=\"1\"\n",
       "     stroke-dasharray=\"1 1 1 1\"\n",
       "     style=\"fill:url(#gradientDefinition)\"/>\n",
       "</svg>"
      ],
      "text/plain": [
       "<IPython.core.display.HTML object>"
      ]
     },
     "execution_count": 4,
     "metadata": {},
     "output_type": "execute_result"
    }
   ],
   "source": [
    "HTML(svg)"
   ]
  },
  {
   "cell_type": "code",
   "execution_count": 66,
   "metadata": {
    "collapsed": false,
    "scrolled": true
   },
   "outputs": [
    {
     "data": {
      "text/html": [
       "<?xml version=\"1.0\"?>\n",
       "<!DOCTYPE svg PUBLIC \"-//W3C//DTD SVG 1.1//EN\"\n",
       "  \"http://www.w3.org/Graphics/SVG/1.1/DTD/svg11.dtd\">\n",
       "\n",
       "<svg width=\"400\" height=\"400\"\n",
       "  xmlns=\"http://www.w3.org/2000/svg\" >\n",
       "<title>Cat</title>\n",
       "<desc>Stick Figure of a Cat</desc>\n",
       "\n",
       "<!-- outer rectangle -->\n",
       "  <rect x=\"10\" y=\"70\" width=\"300\" height=\"300\"\n",
       "    style=\"fill: #D3D3D3;\n",
       "      stroke: black; stroke-width: 2; stroke-opacity: 0.5;\"/>\n",
       " \n",
       " <line x1=\"60\" y1=\"70\" x2=\"60\" y2=\"370\" style=\"stroke: black;\"/>\n",
       " <line x1=\"110\" y1=\"70\" x2=\"110\" y2=\"370\" style=\"stroke: black;\"/>\n",
       " <line x1=\"160\" y1=\"70\" x2=\"160\" y2=\"370\" style=\"stroke: black;\"/>\n",
       " <line x1=\"210\" y1=\"70\" x2=\"210\" y2=\"370\" style=\"stroke: black;\"/>\n",
       " <line x1=\"260\" y1=\"70\" x2=\"260\" y2=\"370\" style=\"stroke: black;\"/>\n",
       " \n",
       " <line x1=\"10\" y1=\"120\" x2=\"310\" y2=\"120\" style=\"stroke: black;\"/>\n",
       " <line x1=\"10\" y1=\"170\" x2=\"310\" y2=\"170\" style=\"stroke: black;\"/>\n",
       " <line x1=\"10\" y1=\"220\" x2=\"310\" y2=\"220\" style=\"stroke: black;\"/>\n",
       " <line x1=\"10\" y1=\"270\" x2=\"310\" y2=\"270\" style=\"stroke: black;\"/>\n",
       " <line x1=\"10\" y1=\"320\" x2=\"310\" y2=\"320\" style=\"stroke: black;\"/>\n",
       " \n",
       " <rect x=\"61\" y=\"171\" width=\"98\" height=\"48\" rx=\"5\"\n",
       "    style=\"stroke: none; fill: red;\"/>\n",
       "    \n",
       " <rect x=\"61\" y=\"271\" width=\"98\" height=\"48\" rx=\"5\"\n",
       "    style=\"stroke: none; fill: green\"/>\n",
       "\n",
       " <text x=\"111\" y=\"195\" style=\"alignment-baseline:middle;font-size:18pt;font-weight:bold;text-anchor: middle\">X</text>\n",
       "\n",
       "</svg>"
      ],
      "text/plain": [
       "<IPython.core.display.HTML object>"
      ]
     },
     "execution_count": 66,
     "metadata": {},
     "output_type": "execute_result"
    }
   ],
   "source": [
    "HTML(\"\"\"<?xml version=\"1.0\"?>\n",
    "<!DOCTYPE svg PUBLIC \"-//W3C//DTD SVG 1.1//EN\"\n",
    "  \"http://www.w3.org/Graphics/SVG/1.1/DTD/svg11.dtd\">\n",
    "\n",
    "<svg width=\"400\" height=\"400\"\n",
    "  xmlns=\"http://www.w3.org/2000/svg\" >\n",
    "<title>Cat</title>\n",
    "<desc>Stick Figure of a Cat</desc>\n",
    "\n",
    "<!-- outer rectangle -->\n",
    "  <rect x=\"10\" y=\"70\" width=\"300\" height=\"300\"\n",
    "    style=\"fill: #D3D3D3;\n",
    "      stroke: black; stroke-width: 2; stroke-opacity: 0.5;\"/>\n",
    " \n",
    " <line x1=\"60\" y1=\"70\" x2=\"60\" y2=\"370\" style=\"stroke: black;\"/>\n",
    " <line x1=\"110\" y1=\"70\" x2=\"110\" y2=\"370\" style=\"stroke: black;\"/>\n",
    " <line x1=\"160\" y1=\"70\" x2=\"160\" y2=\"370\" style=\"stroke: black;\"/>\n",
    " <line x1=\"210\" y1=\"70\" x2=\"210\" y2=\"370\" style=\"stroke: black;\"/>\n",
    " <line x1=\"260\" y1=\"70\" x2=\"260\" y2=\"370\" style=\"stroke: black;\"/>\n",
    " \n",
    " <line x1=\"10\" y1=\"120\" x2=\"310\" y2=\"120\" style=\"stroke: black;\"/>\n",
    " <line x1=\"10\" y1=\"170\" x2=\"310\" y2=\"170\" style=\"stroke: black;\"/>\n",
    " <line x1=\"10\" y1=\"220\" x2=\"310\" y2=\"220\" style=\"stroke: black;\"/>\n",
    " <line x1=\"10\" y1=\"270\" x2=\"310\" y2=\"270\" style=\"stroke: black;\"/>\n",
    " <line x1=\"10\" y1=\"320\" x2=\"310\" y2=\"320\" style=\"stroke: black;\"/>\n",
    " \n",
    " <rect x=\"61\" y=\"171\" width=\"98\" height=\"48\" rx=\"5\"\n",
    "    style=\"stroke: none; fill: red;\"/>\n",
    "    \n",
    " <rect x=\"61\" y=\"271\" width=\"98\" height=\"48\" rx=\"5\"\n",
    "    style=\"stroke: none; fill: green\"/>\n",
    "\n",
    " <text x=\"111\" y=\"195\" style=\"alignment-baseline:middle;font-size:18pt;font-weight:bold;text-anchor: middle\">X</text>\n",
    "\n",
    "</svg>\"\"\")"
   ]
  },
  {
   "cell_type": "code",
   "execution_count": null,
   "metadata": {
    "collapsed": true
   },
   "outputs": [],
   "source": []
  },
  {
   "cell_type": "code",
   "execution_count": null,
   "metadata": {
    "collapsed": true
   },
   "outputs": [],
   "source": []
  },
  {
   "cell_type": "code",
   "execution_count": null,
   "metadata": {
    "collapsed": true
   },
   "outputs": [],
   "source": []
  },
  {
   "cell_type": "code",
   "execution_count": null,
   "metadata": {
    "collapsed": true
   },
   "outputs": [],
   "source": []
  },
  {
   "cell_type": "code",
   "execution_count": null,
   "metadata": {
    "collapsed": true
   },
   "outputs": [],
   "source": []
  }
 ],
 "metadata": {
  "kernelspec": {
   "display_name": "Python 3",
   "language": "python",
   "name": "python3"
  },
  "language_info": {
   "codemirror_mode": {
    "name": "ipython",
    "version": 3
   },
   "file_extension": ".py",
   "mimetype": "text/x-python",
   "name": "python",
   "nbconvert_exporter": "python",
   "pygments_lexer": "ipython3",
   "version": "3.5.2"
  }
 },
 "nbformat": 4,
 "nbformat_minor": 0
}

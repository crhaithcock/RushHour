{
 "metadata": {
  "name": "Rush Hour"
 },
 "nbformat": 3,
 "nbformat_minor": 0,
 "worksheets": [
  {
   "cells": [
    {
     "cell_type": "markdown",
     "metadata": {},
     "source": [
      "See the board game/puzzle Rush Hour.\n",
      "\n",
      "Througout this work, terminology from graph theory and finite state machines will be used interchangeably.\n",
      "\n",
      "We consider the RH Graph. The nodes represent a given placement of cars and trucks on the RH board given the constraint that the red car is in the proper exit row. The edges represent a legal RH move of a single vehicle a single space.\n",
      "\n",
      "The remainder of the notebook is focused on the following topics\n",
      "\n",
      "* Constructing the RH Graph \n",
      "    * Defining feasibly computable subsests of the nodes of the RH Graph  \n",
      "\n",
      "        * combinatorial class\n",
      "\n",
      "            Two nodes $v_1$ and $v_2$ corresponding to RH boards $b_1$, $b_2$ are topologically equivalent if $b_1$ and $b_2$ have the same number of cars and if $b_1$ and $b_2$ have the same number of trucks.\n",
      "\n",
      "            A combinatorial class is the natural class from the partition induced by combinatorial equivalence.\n",
      "\n",
      "\n",
      "        * topological class \n",
      "\n",
      "            Two nodes $v_1$ and $v_2$ corresponding to RH boards $b_1$, $b_2$ are topologically equivalent if for each row $r_i$ in $b_1$ and $b_2$ have the same number cars and trucks in the same order.\n",
      "\n",
      "            A topological class is the natural class from the partition induced by topological equivalence.\n",
      "\n",
      "            TODO: insert examples of topologically equivalent nodes\n",
      "\n",
      "\n",
      "    * Brute force construction of all possible nodes (i.e. all possible arrangements of vehicles on RH board) within a defined subset of V(RH) \n",
      "        Recursive algorithm coupled with generating function\n",
      "\n",
      "\n",
      "    * Compute Edges and Components \n",
      "        * Compute breadth-first forrest of a given topological class.\n",
      "            * Start with list of all nodes for a given topological class\n",
      "            * Explicitly construct neighbors for a given node. \n",
      "            * Apply bookeeping to the list to the list of nodes\n",
      "        * Compute Solution Paths \n",
      "\n",
      "* Graphical Node Traversal of RH Graph \n",
      "    * Display a given node as an RH board \n",
      "    * Display all possible neighbors for a given RH board \n",
      "    * Display steps to solve \n",
      "    * Display hints \n",
      "\n",
      "* Graph Analytics \n",
      "    * Global metrics\n",
      "        * |V(RH)|\n",
      "        * |E(RH)|\n",
      "\n",
      "    * Component Analysis\n",
      "        * Num nodes in component\n",
      "        * Num edges in component\n",
      "        * degree sequence for component\n",
      "        *  \n",
      "        * Max steps to solve \n",
      "        * Num distinct paths of max length \n",
      "        * Metric for 'hardness' \n",
      "\n",
      "\n",
      "\n",
      "\n",
      "\n",
      "\n",
      "\n",
      "\n",
      "We assume the red car is in the proper exit row. Given this assumption, possible arrangement of cars and trucks represents a state. A legal Rush Hour move represents a transition from one state to another.\n",
      "\n",
      "Back of the napkin suggest the set of states alone is nearly a 1TB of data.\n",
      "\n",
      "My approach requires having a full graph in ram. The first step is to cut down the state graph to sub graphs containing a reasonable number of connected components.\n",
      "\n",
      "From the state graph, we compute nested subsets of states based on numerical or geometric propeties. From there we produce connected components. Then starting with the final states, we compute the minimal solution paths. All nested structures and solution paths are persisted to a database.\n",
      "\n",
      "\n",
      "* **Combinatorial Class**\n",
      "\n",
      "First consider segmenting the set of states purely by the number of cars and trucks $(c,t)$ on the board. With the red car fixed to the exit row, this gives us 60 combinatorial classes.\n",
      "\n",
      "\n",
      "* **Topological Class**\n",
      "\n",
      "Given two states $x, y$ with rows $x_{r_i}$ and columns $x_{c_i}$ with $0 < i <7$ and $y$ with with $y_{r_i}$ and ${y_{c_i}$. Then $x$ and $y$ are topologically equivalent if and only if $x_{r_i}$ has the same number of cars and trucks as $y_{r_i}$ and $x_{c_j}$ has the same number of cars and trucks as $y_{c_j}$. Note, a topological class is a subgraph of the full RH Graph, but that topological graph is not necessarily connected.\n",
      "\n",
      "* **Connected Component**\n",
      "\n",
      "\n",
      "* **Solution State**\n",
      "The final states are those in which the red car is in the rightmost position of the exit row.\n",
      "\n",
      "\n",
      "* **Solution Path**\n",
      "Given a subgraph G of the RH Graph with final states $\\mathbb{F}$ compute the forest of minimum spanning trees.\n",
      "\n",
      "\n",
      "* **Solvable**\n",
      "\n",
      "A state S in the RH Graph is solvable if there is a solution path that contains $s$. \n",
      "\n",
      "## Open Questions\n",
      "* How many states are there in the RH Graph?\n",
      "* How many states within a given combinatorial class? topological class?\n",
      "* What does a hard puzzle look like? Long path to solution with few turns? Or very bushy graph with many false turns?\n",
      "\n",
      "\n",
      "## Questions Addressed In This Work\n",
      "The full set of states in the RH Graph is brute force computed one combinatorial class at a time.\n",
      "\n",
      "<b>Configuration<b>\n",
      "    "
     ]
    },
    {
     "cell_type": "code",
     "collapsed": false,
     "input": [
      "CombClasses = [(c,t) for c in range(1,13) for t in (0,1,2,3,4)]"
     ],
     "language": "python",
     "metadata": {},
     "outputs": [],
     "prompt_number": 5
    },
    {
     "cell_type": "code",
     "collapsed": true,
     "input": [
      "len(CombClasses)"
     ],
     "language": "python",
     "metadata": {},
     "outputs": [
      {
       "output_type": "pyout",
       "prompt_number": 6,
       "text": [
        "60"
       ]
      }
     ],
     "prompt_number": 6
    },
    {
     "cell_type": "code",
     "collapsed": false,
     "input": [
      "from matplotlib.path import Path\n",
      "import matplotlib.patches as patches\n",
      "\n",
      "board_background = [[\"\",\"0.75\",[(x,y) for x in range(6) for y in range(6)]]]\n",
      "placements = board_background + [ [\"X\",\"red\",[(2,1),(2,2)]] ,[\"Q\",\"green\",[(2,4),(3,4),(4,4)] ], [\"R\",'pink',[(5,2),(5,3)] ]]\n",
      "codes = [Path.MOVETO,Path.LINETO,Path.LINETO,Path.LINETO,Path.CLOSEPOLY]\n",
      "\n",
      "fig = plt.figure()\n",
      "ax = fig.add_subplot(231)\n",
      "plt.axis('off')\n",
      "ax.set_xlim(0,7.)\n",
      "ax.set_ylim(0,7.)\n",
      "\n",
      "for x in placements:\n",
      "    color = x[1]\n",
      "    text = x[0]\n",
      "    for y in x[2]:\n",
      "        verts = [(y[1],6-y[0]), (y[1]+1,6-y[0]), (y[1]+1,6-y[0]-1),(y[1],6-y[0]-1),(0.,0.)]\n",
      "        path = Path(verts,codes)\n",
      "        patch = patches.PathPatch(path, facecolor=color,lw=1)\n",
      "        ax.add_patch(patch)\n",
      "        ax.text( y[1]+.5,6 - y[0]-.5,text,horizontalalignment='center',verticalalignment='center',weight='bold')\n",
      "\n",
      "        \n",
      "ax = fig.add_subplot(233)\n",
      "plt.axis('off')\n",
      "ax.set_xlim(0,6.)\n",
      "ax.set_ylim(0,6.)\n",
      "\n",
      "offset = 0\n",
      "\n",
      "for x in placements:\n",
      "    color = x[1]\n",
      "    text = x[0]\n",
      "    for y in x[2]:\n",
      "        verts = [(y[1],6-y[0]), (y[1]+1,6-y[0]), (y[1]+1,6-y[0]-1),(y[1],6-y[0]-1),(0.,0.)]\n",
      "        path = Path(verts,codes)\n",
      "        patch = patches.PathPatch(path, facecolor=color,lw=1)\n",
      "        ax.add_patch(patch)\n",
      "        ax.text( y[1]+.5,6 - y[0]-.5,text,horizontalalignment='center',verticalalignment='center',weight='bold')\n",
      "\n",
      "ax = fig.add_subplot(232)\n",
      "plt.axis('off')\n",
      "ax.set_xlim(0,3)\n",
      "ax.set_ylim(0,6)\n",
      "ax.arrow(0,3,3,0, head_width=.5, head_length=.5,shape=\"full\",length_includes_head=\"True\",color=\"Black\")\n",
      "            \n",
      "plt.show()\n",
      "    \n"
     ],
     "language": "python",
     "metadata": {},
     "outputs": [
      {
       "output_type": "display_data",
       "png": "[encoded data removed]"
      }
     ],
     "prompt_number": 50
    },
    {
     "cell_type": "markdown",
     "metadata": {},
     "source": [
      "We now start with computing the states of the RH Graph. We compute the states for a single given combainatorial class at a time. This approach permits a natural recursive solution that is relatively straight forward to reason thorugh for correctness. We make use of generators to compute the states for two reasons: we can compute the very large sets of states within limited RAM and we are able to decouple the computation of the states from the persistence logic."
     ]
    },
    {
     "cell_type": "code",
     "collapsed": false,
     "input": [],
     "language": "python",
     "metadata": {},
     "outputs": []
    },
    {
     "cell_type": "markdown",
     "metadata": {},
     "source": [
      "## Overview"
     ]
    },
    {
     "cell_type": "markdown",
     "metadata": {},
     "source": [
      "## Constructing the RH Graph\n",
      "\n",
      "The RH Graph has far too many vertices to hold in RAM on my machine. Furthermore, computing edges and additional structures puts further pressure on memory. The next section describes approaches to build subgraphs of the RH Graph.\n",
      "\n",
      "### Defining Feasibly Computable Subgraphs of the RH Graph\n",
      "\n",
      "_Combinatorial Class_\n",
      "\n",
      "Two vertices $v_1$ and $v_2$ in the RH Graph are in the same combinatorial class if the associated boards $b_1$ and $b_2$ have the same number of cars and trucks. Since any edge in the RH Graph must connect two vertices with the same number of cars and trucks, we can see that the vertices in a given combinatorial class induce a subgraph of the RH graph. \n",
      "     \n",
      "* * *\n",
      "\n",
      "_Topological Class_ \n",
      "\n",
      "Two vertices $v_1$ and $v_2$ are in the same topological class if the associated boards $b_1$ and $b_2$ exhibit the following properties:\n",
      "\n",
      "* Each row in $b_1$ and $b_2$ has the same number of cars and trucks in the same order.\n",
      "* Each columns in $b_1$ and $b_2$ has the same number of cars and trucks in the same order.\n",
      "\n",
      "Note that a topological class is a refinement of a combinatorial class.\n",
      "\n",
      "\n",
      "We have a straight forward recursive algorithm to generate all vertices within a given combinatorial class. At the time a vertex $v$ is generated, we can ascertain and note that the topological class of that $v$.\n",
      "\n",
      "* * * \n",
      "\n",
      "### Computing Edges And Components\n",
      "\n",
      "\n",
      "\n"
     ]
    },
    {
     "cell_type": "code",
     "collapsed": false,
     "input": [
      "topological_class = 10\n"
     ],
     "language": "python",
     "metadata": {},
     "outputs": []
    },
    {
     "cell_type": "markdown",
     "metadata": {},
     "source": [
      "### Definining Feasibly Computable "
     ]
    },
    {
     "cell_type": "code",
     "collapsed": false,
     "input": [],
     "language": "python",
     "metadata": {},
     "outputs": []
    }
   ],
   "metadata": {}
  }
 ]
}
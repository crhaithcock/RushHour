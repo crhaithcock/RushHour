{
 "metadata": {
  "name": "",
  "signature": "sha256:1150e1c2be92e4a0e7533ff9423995d3fc821903b7d45d8517672d30208cd2b3"
 },
 "nbformat": 3,
 "nbformat_minor": 0,
 "worksheets": [
  {
   "cells": [
    {
     "cell_type": "code",
     "collapsed": false,
     "input": [
      "from IPython.display import HTML"
     ],
     "language": "python",
     "metadata": {},
     "outputs": [],
     "prompt_number": 1
    },
    {
     "cell_type": "code",
     "collapsed": false,
     "input": [
      "%run \"../display_utilities.py\""
     ],
     "language": "python",
     "metadata": {},
     "outputs": [],
     "prompt_number": 9
    },
    {
     "cell_type": "code",
     "collapsed": false,
     "input": [
      "board_bit_str = '000000000000000000000000000000000000011011000000000000000000000000000000000000000000000000000000000000000000'\n",
      "red_car_end_a = 12"
     ],
     "language": "python",
     "metadata": {},
     "outputs": [],
     "prompt_number": 2
    },
    {
     "cell_type": "code",
     "collapsed": false,
     "input": [
      "def move_car_left(board,end_a):\n",
      "    new_board = list(board)\n",
      "    new_board[end_a - 1] = HORIZONTAL_CAR\n",
      "    new_board[end_a + 1] = BLANK_SPACE\n",
      "    return new_board\n",
      "\n",
      "def move_car_right(board,end_b):\n",
      "    new_board = list(board)\n",
      "    new_board[end_b + 1] = HORIZONTAL_CAR\n",
      "    new_board[end_b - 1] = BLANK_SPACE\n",
      "    return new_board\n",
      "\n",
      "def move_car_up(board,end_a):\n",
      "    new_board = list(board)\n",
      "    new_board[end_a - 6] = VERTICAL_CAR\n",
      "    new_board[end_a + 6] = BLANK_SPACE\n",
      "    return new_board\n",
      "\n",
      "def move_car_down(board, end_b):\n",
      "    new_board = list(board)\n",
      "    new_board[end_b + 6] = VERTICAL_CAR\n",
      "    new_board[end_b - 6] = BLANK_SPACE\n",
      "    return new_board\n",
      "\n",
      "def move_truck_left(board, end_a):\n",
      "    new_board = list(board)\n",
      "    new_board[end_a - 1] = HORIZONTAL_TRUCK\n",
      "    new_board[end_a + 2] = BLANK_SPACE\n",
      "    return new_board\n",
      "\n",
      "def move_truck_right(board, end_b):\n",
      "    new_board = list(board)\n",
      "    new_board[end_b + 1] = HORIZONTAL_CAR\n",
      "    new_board[end_b - 2] = BLANK_SPACE\n",
      "    return new_board\n",
      "\n",
      "def move_truck_up(board, end_a):\n",
      "    new_board = list(board)\n",
      "    new_board[end_a - 6] = VERTICAL_TRUCK\n",
      "    new_board[end_a + 12] = BLANK_SPACE\n",
      "    return new_board\n",
      "\n",
      "def move_truck_down(board,end_b):\n",
      "    new_board = list(board)\n",
      "    new_board[end_b + 6] = VERTICAL_TRUCK\n",
      "    new_board[end_b - 12] = VERTICAL_TRUCK\n",
      "    return new_board\n"
     ],
     "language": "python",
     "metadata": {},
     "outputs": [],
     "prompt_number": 3
    },
    {
     "cell_type": "code",
     "collapsed": false,
     "input": [
      "\n",
      "# find all the pieces within the board encoded as a single string\n",
      "\n",
      "BLANK_SPACE = '000'\n",
      "VERTICAL_CAR = '001'\n",
      "HORIZONTAL_CAR = '011'\n",
      "VERTICAL_TRUCK = '100'\n",
      "HORIZONTAL_TRUCK = '010'\n",
      "\n",
      "board = [board_bit_str[i:i+3] for i in range(0,108,3)]\n",
      "indexed_board = zip(range(36),board)\n",
      "neighbors = []\n",
      "occupied_spaces = [x for x in indexed_board if x[1] != BLANK_SPACE]\n",
      "\n",
      "for indexed_space in occupied_spaces:\n",
      "    \n",
      "    # if horizontal car not on left edge and space to left is blank, move car left one space. Take note if red car is moving.\n",
      "    if indexed_space[1] == HORIZONTAL_CAR and indexed_space[0] %6 > 0 and board[indexed_space[0] - 1] == BLANK_SPACE:\n",
      "        nbr_board = move_car_left(board,indexed_space[0])\n",
      "        if indexed_space[1] == red_car_end_a:\n",
      "            neighbors.append( (nbr_board, red_car_end_a - 1))\n",
      "        else:\n",
      "            neighbors.append( (nbr_board,red_car_end_a))\n",
      "    \n",
      "    # if horizontal car not on right edge and space to right is blank, move car right one space. Take note if red car is moving.\n",
      "    if indexed_space[1] == HORIZONTAL_CAR and indexed_space[0] %6 < 4 and board[indexed_space[0] + 2] == BLANK_SPACE:\n",
      "        nbr_board = move_car_right(board,indexed_space[0]+1)\n",
      "        if indexed_space[1] == red_car_end_a:\n",
      "            neighbors.append( (nbr_board, red_car_end_a - 1))\n",
      "        else:\n",
      "            neighbors.append( (nbr_board,red_car_end_a))\n",
      "    \n",
      "    # if vertical car not on top edge and space above is blank, move car up\n",
      "    if indexed_space[1] == VERTICAL_CAR and indexed_space[0] > 5 and board[indexed_space[0] - 6] == BLANK_SPACE:\n",
      "        neighbors.append( (move_car_up(board,indexed_space[0]), red_car_end_a) )\n",
      "    \n",
      "    # if vertical car not on bottom edge and space below is blank, move car down\n",
      "    if indexed_space[1] == VERTICAL_CAR and indexed_space[0] < 24 and board[indexed_space[0] + 12] == BLANK_SPACE:\n",
      "        neighbors.append( (move_car_down(board,indexed_space[0] + 6), red_car_end_a) )\n",
      "    \n",
      "    # if horizontal truck not on left edge and space to left is blank, move truck left\n",
      "    if indexed_space[1] == HORIZONTAL_TRUCK and indexed_space[0]%6 > 0 and board[indexed_space[0]-1] == BLANK_SPACE:\n",
      "        neighbors.append( (move_truck_left(board,indexed_space[0]) ,red_car_end_a ) )\n",
      "    \n",
      "    # if horizontal truck not on right edge and space to right is blank, move truck right\n",
      "    if indexed_space[1] == HORIZONTAL_TRUCK and indexed_space[0]%6 < 3 and board[indexed_space[0]+3] == BLANK_SPACE:\n",
      "        neighbors.append( (move_truck_right(board,indexed_space[0]+2), red_car_end_a) )\n",
      "        \n",
      "    # if vertical truck not on top edge and space above is blank, move truck up\n",
      "    if indexed_space[1] == VERTICAL_TRUCK and indexed_space[0] > 5 and board[indexed_space[0] - 6] == BLANK_SPACE:\n",
      "        neigbors.append( (move_truck_up(board,indexed_space[0]), red_car_end_a) )\n",
      "        \n",
      "    # if vertical truck and not on bottom edge and space below is blank, move truck down\n",
      "    if indexed_space[1] == VERTICAL_TRUCK and indexed_space[0] < 18 and board[indexed_space[0] + 18] == BLANK_SPACE:\n",
      "        neighbors.append( (move_truck_down(board,indexed_space[0] + 12), red_car_end_a) )\n",
      "        \n",
      "\n",
      "        "
     ],
     "language": "python",
     "metadata": {},
     "outputs": [],
     "prompt_number": 6
    },
    {
     "cell_type": "code",
     "collapsed": false,
     "input": [
      "HTML(html_table_for_board_bit_string_construction_coloring(board_bit_str,red_car_end_a))"
     ],
     "language": "python",
     "metadata": {},
     "outputs": [
      {
       "html": [
        "<table><tr><td bgcolor=\"#E6E6E6\" style=\"width:30px; height:30px; vertical-align:middle; text-align:center\"></td><td bgcolor=\"#E6E6E6\" style=\"width:30px; height:30px; vertical-align:middle; text-align:center\"></td><td bgcolor=\"#E6E6E6\" style=\"width:30px; height:30px; vertical-align:middle; text-align:center\"></td><td bgcolor=\"#E6E6E6\" style=\"width:30px; height:30px; vertical-align:middle; text-align:center\"></td><td bgcolor=\"#E6E6E6\" style=\"width:30px; height:30px; vertical-align:middle; text-align:center\"></td><td bgcolor=\"#E6E6E6\" style=\"width:30px; height:30px; vertical-align:middle; text-align:center\"></td></tr><tr><td bgcolor=\"#E6E6E6\" style=\"width:30px; height:30px; vertical-align:middle; text-align:center\"></td><td bgcolor=\"#E6E6E6\" style=\"width:30px; height:30px; vertical-align:middle; text-align:center\"></td><td bgcolor=\"#E6E6E6\" style=\"width:30px; height:30px; vertical-align:middle; text-align:center\"></td><td bgcolor=\"#E6E6E6\" style=\"width:30px; height:30px; vertical-align:middle; text-align:center\"></td><td bgcolor=\"#E6E6E6\" style=\"width:30px; height:30px; vertical-align:middle; text-align:center\"></td><td bgcolor=\"#E6E6E6\" style=\"width:30px; height:30px; vertical-align:middle; text-align:center\"></td></tr><tr><td bgcolor=\"#FF0000\" style=\"width:30px; height:30px; vertical-align:middle; text-align:center\">X</td><td bgcolor=\"#FF0000\" style=\"width:30px; height:30px; vertical-align:middle; text-align:center\">X</td><td bgcolor=\"#E6E6E6\" style=\"width:30px; height:30px; vertical-align:middle; text-align:center\"></td><td bgcolor=\"#E6E6E6\" style=\"width:30px; height:30px; vertical-align:middle; text-align:center\"></td><td bgcolor=\"#E6E6E6\" style=\"width:30px; height:30px; vertical-align:middle; text-align:center\"></td><td bgcolor=\"#E6E6E6\" style=\"width:30px; height:30px; vertical-align:middle; text-align:center\"></td></tr><tr><td bgcolor=\"#E6E6E6\" style=\"width:30px; height:30px; vertical-align:middle; text-align:center\"></td><td bgcolor=\"#E6E6E6\" style=\"width:30px; height:30px; vertical-align:middle; text-align:center\"></td><td bgcolor=\"#E6E6E6\" style=\"width:30px; height:30px; vertical-align:middle; text-align:center\"></td><td bgcolor=\"#E6E6E6\" style=\"width:30px; height:30px; vertical-align:middle; text-align:center\"></td><td bgcolor=\"#E6E6E6\" style=\"width:30px; height:30px; vertical-align:middle; text-align:center\"></td><td bgcolor=\"#E6E6E6\" style=\"width:30px; height:30px; vertical-align:middle; text-align:center\"></td></tr><tr><td bgcolor=\"#E6E6E6\" style=\"width:30px; height:30px; vertical-align:middle; text-align:center\"></td><td bgcolor=\"#E6E6E6\" style=\"width:30px; height:30px; vertical-align:middle; text-align:center\"></td><td bgcolor=\"#E6E6E6\" style=\"width:30px; height:30px; vertical-align:middle; text-align:center\"></td><td bgcolor=\"#E6E6E6\" style=\"width:30px; height:30px; vertical-align:middle; text-align:center\"></td><td bgcolor=\"#E6E6E6\" style=\"width:30px; height:30px; vertical-align:middle; text-align:center\"></td><td bgcolor=\"#E6E6E6\" style=\"width:30px; height:30px; vertical-align:middle; text-align:center\"></td></tr><tr><td bgcolor=\"#E6E6E6\" style=\"width:30px; height:30px; vertical-align:middle; text-align:center\"></td><td bgcolor=\"#E6E6E6\" style=\"width:30px; height:30px; vertical-align:middle; text-align:center\"></td><td bgcolor=\"#E6E6E6\" style=\"width:30px; height:30px; vertical-align:middle; text-align:center\"></td><td bgcolor=\"#E6E6E6\" style=\"width:30px; height:30px; vertical-align:middle; text-align:center\"></td><td bgcolor=\"#E6E6E6\" style=\"width:30px; height:30px; vertical-align:middle; text-align:center\"></td><td bgcolor=\"#E6E6E6\" style=\"width:30px; height:30px; vertical-align:middle; text-align:center\"></td></tr></table>"
       ],
       "metadata": {},
       "output_type": "pyout",
       "prompt_number": 13,
       "text": [
        "<IPython.core.display.HTML at 0x4072630>"
       ]
      }
     ],
     "prompt_number": 13
    },
    {
     "cell_type": "code",
     "collapsed": false,
     "input": [
      "HTML(html_table_for_board_array_construction_coloring(neighbors[0][0],neighbors[0][1]))"
     ],
     "language": "python",
     "metadata": {},
     "outputs": [
      {
       "html": [
        "<table><tr><td bgcolor=\"#E6E6E6\" style=\"width:30px; height:30px; vertical-align:middle; text-align:center\"></td><td bgcolor=\"#E6E6E6\" style=\"width:30px; height:30px; vertical-align:middle; text-align:center\"></td><td bgcolor=\"#E6E6E6\" style=\"width:30px; height:30px; vertical-align:middle; text-align:center\"></td><td bgcolor=\"#E6E6E6\" style=\"width:30px; height:30px; vertical-align:middle; text-align:center\"></td><td bgcolor=\"#E6E6E6\" style=\"width:30px; height:30px; vertical-align:middle; text-align:center\"></td><td bgcolor=\"#E6E6E6\" style=\"width:30px; height:30px; vertical-align:middle; text-align:center\"></td></tr><tr><td bgcolor=\"#E6E6E6\" style=\"width:30px; height:30px; vertical-align:middle; text-align:center\"></td><td bgcolor=\"#E6E6E6\" style=\"width:30px; height:30px; vertical-align:middle; text-align:center\"></td><td bgcolor=\"#E6E6E6\" style=\"width:30px; height:30px; vertical-align:middle; text-align:center\"></td><td bgcolor=\"#E6E6E6\" style=\"width:30px; height:30px; vertical-align:middle; text-align:center\"></td><td bgcolor=\"#E6E6E6\" style=\"width:30px; height:30px; vertical-align:middle; text-align:center\"></td><td bgcolor=\"#E6E6E6\" style=\"width:30px; height:30px; vertical-align:middle; text-align:center\"></td></tr><tr><td bgcolor=\"#FF0000\" style=\"width:30px; height:30px; vertical-align:middle; text-align:center\">X</td><td bgcolor=\"#FF0000\" style=\"width:30px; height:30px; vertical-align:middle; text-align:center\">X</td><td bgcolor=\"#7FFF00\" style=\"width:30px; height:30px; vertical-align:middle; text-align:center\">Q</td><td bgcolor=\"#7FFF00\" style=\"width:30px; height:30px; vertical-align:middle; text-align:center\">Q</td><td bgcolor=\"#E6E6E6\" style=\"width:30px; height:30px; vertical-align:middle; text-align:center\"></td><td bgcolor=\"#E6E6E6\" style=\"width:30px; height:30px; vertical-align:middle; text-align:center\"></td></tr><tr><td bgcolor=\"#E6E6E6\" style=\"width:30px; height:30px; vertical-align:middle; text-align:center\"></td><td bgcolor=\"#E6E6E6\" style=\"width:30px; height:30px; vertical-align:middle; text-align:center\"></td><td bgcolor=\"#E6E6E6\" style=\"width:30px; height:30px; vertical-align:middle; text-align:center\"></td><td bgcolor=\"#E6E6E6\" style=\"width:30px; height:30px; vertical-align:middle; text-align:center\"></td><td bgcolor=\"#E6E6E6\" style=\"width:30px; height:30px; vertical-align:middle; text-align:center\"></td><td bgcolor=\"#E6E6E6\" style=\"width:30px; height:30px; vertical-align:middle; text-align:center\"></td></tr><tr><td bgcolor=\"#E6E6E6\" style=\"width:30px; height:30px; vertical-align:middle; text-align:center\"></td><td bgcolor=\"#E6E6E6\" style=\"width:30px; height:30px; vertical-align:middle; text-align:center\"></td><td bgcolor=\"#E6E6E6\" style=\"width:30px; height:30px; vertical-align:middle; text-align:center\"></td><td bgcolor=\"#E6E6E6\" style=\"width:30px; height:30px; vertical-align:middle; text-align:center\"></td><td bgcolor=\"#E6E6E6\" style=\"width:30px; height:30px; vertical-align:middle; text-align:center\"></td><td bgcolor=\"#E6E6E6\" style=\"width:30px; height:30px; vertical-align:middle; text-align:center\"></td></tr><tr><td bgcolor=\"#E6E6E6\" style=\"width:30px; height:30px; vertical-align:middle; text-align:center\"></td><td bgcolor=\"#E6E6E6\" style=\"width:30px; height:30px; vertical-align:middle; text-align:center\"></td><td bgcolor=\"#E6E6E6\" style=\"width:30px; height:30px; vertical-align:middle; text-align:center\"></td><td bgcolor=\"#E6E6E6\" style=\"width:30px; height:30px; vertical-align:middle; text-align:center\"></td><td bgcolor=\"#E6E6E6\" style=\"width:30px; height:30px; vertical-align:middle; text-align:center\"></td><td bgcolor=\"#E6E6E6\" style=\"width:30px; height:30px; vertical-align:middle; text-align:center\"></td></tr></table>"
       ],
       "metadata": {},
       "output_type": "pyout",
       "prompt_number": 17,
       "text": [
        "<IPython.core.display.HTML at 0x408e7b8>"
       ]
      }
     ],
     "prompt_number": 17
    },
    {
     "cell_type": "code",
     "collapsed": false,
     "input": [],
     "language": "python",
     "metadata": {},
     "outputs": []
    }
   ],
   "metadata": {}
  }
 ]
}
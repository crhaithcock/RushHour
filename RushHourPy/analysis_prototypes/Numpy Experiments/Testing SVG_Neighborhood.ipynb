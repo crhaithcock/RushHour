{
 "cells": [
  {
   "cell_type": "code",
   "execution_count": 2,
   "metadata": {},
   "outputs": [],
   "source": [
    "import numpy as np\n",
    "import networkx as nx\n",
    "import matplotlib.pyplot as plt\n",
    "import os\n",
    "\n",
    "from IPython.display import SVG\n",
    "from IPython.display import HTML\n",
    "\n",
    "os.chdir('./RushHour/RushHourPy')"
   ]
  },
  {
   "cell_type": "code",
   "execution_count": 3,
   "metadata": {},
   "outputs": [],
   "source": [
    "%run constants.py\n",
    "%run numpy_neighbors.py\n",
    "%run numpy_display.py\n"
   ]
  },
  {
   "cell_type": "code",
   "execution_count": 4,
   "metadata": {},
   "outputs": [
    {
     "data": {
      "text/plain": [
       "array([[0, 0, 0, 0, 0, 0],\n",
       "       [0, 0, 0, 0, 0, 0],\n",
       "       [0, 0, 0, 6, 6, 0],\n",
       "       [0, 0, 0, 0, 0, 0],\n",
       "       [0, 6, 6, 0, 0, 0],\n",
       "       [0, 0, 0, 0, 0, 0]])"
      ]
     },
     "execution_count": 4,
     "metadata": {},
     "output_type": "execute_result"
    }
   ],
   "source": [
    "v1 = np.array([blank]*36).reshape(6,6)\n",
    "\n",
    "v1[2,3:5] = hcar\n",
    "v1[4,1:3] = hcar\n",
    "#v1[2:4,0] = vcar\n",
    "#v1[3:,5] = vtruck\n",
    "v1"
   ]
  },
  {
   "cell_type": "code",
   "execution_count": 6,
   "metadata": {},
   "outputs": [
    {
     "data": {
      "text/html": [
       "<svg baseProfile=\"full\" height=\"180\" version=\"1.1\" width=\"180\" xmlns=\"http://www.w3.org/2000/svg\" xmlns:ev=\"http://www.w3.org/2001/xml-events\" xmlns:xlink=\"http://www.w3.org/1999/xlink\"><defs /><rect fill=\"#E6E6E6\" height=\"180\" width=\"180\" x=\"0\" y=\"0\" /><line stroke=\"black\" stroke-width=\"2\" x1=\"0\" x2=\"0\" y1=\"0\" y2=\"180\" /><line stroke=\"black\" stroke-width=\"2\" x1=\"0\" x2=\"180\" y1=\"0\" y2=\"0\" /><line stroke=\"black\" stroke-width=\"2\" x1=\"30\" x2=\"30\" y1=\"0\" y2=\"180\" /><line stroke=\"black\" stroke-width=\"2\" x1=\"0\" x2=\"180\" y1=\"30\" y2=\"30\" /><line stroke=\"black\" stroke-width=\"2\" x1=\"60\" x2=\"60\" y1=\"0\" y2=\"180\" /><line stroke=\"black\" stroke-width=\"2\" x1=\"0\" x2=\"180\" y1=\"60\" y2=\"60\" /><line stroke=\"black\" stroke-width=\"2\" x1=\"90\" x2=\"90\" y1=\"0\" y2=\"180\" /><line stroke=\"black\" stroke-width=\"2\" x1=\"0\" x2=\"180\" y1=\"90\" y2=\"90\" /><line stroke=\"black\" stroke-width=\"2\" x1=\"120\" x2=\"120\" y1=\"0\" y2=\"180\" /><line stroke=\"black\" stroke-width=\"2\" x1=\"0\" x2=\"180\" y1=\"120\" y2=\"120\" /><line stroke=\"black\" stroke-width=\"2\" x1=\"150\" x2=\"150\" y1=\"0\" y2=\"180\" /><line stroke=\"black\" stroke-width=\"2\" x1=\"0\" x2=\"180\" y1=\"150\" y2=\"150\" /><line stroke=\"black\" stroke-width=\"2\" x1=\"180\" x2=\"180\" y1=\"0\" y2=\"180\" /><line stroke=\"black\" stroke-width=\"2\" x1=\"0\" x2=\"180\" y1=\"180\" y2=\"180\" /><rect fill=\"#FF0000\" height=\"24\" rx=\"5\" ry=\"5\" stroke-width=\"3\" width=\"54\" x=\"93\" y=\"63\" /><text style=\"fill:black;text-anchor:middle;alignment-baseline:central\" x=\"120.0\" y=\"75.0\">X</text><rect fill=\"#F0E68C\" height=\"24\" rx=\"5\" ry=\"5\" stroke-width=\"3\" width=\"54\" x=\"33\" y=\"123\" /><text style=\"fill:black;text-anchor:middle;alignment-baseline:central\" x=\"60.0\" y=\"135.0\">L</text></svg>"
      ],
      "text/plain": [
       "<IPython.core.display.HTML object>"
      ]
     },
     "execution_count": 6,
     "metadata": {},
     "output_type": "execute_result"
    }
   ],
   "source": [
    "HTML(svg_from_state(board_to_int(v1),4))"
   ]
  },
  {
   "cell_type": "code",
   "execution_count": 55,
   "metadata": {},
   "outputs": [
    {
     "data": {
      "text/html": [
       "<svg xmlns=\"http://www.w3.org/2000/svg\" xmlns:xlink=\"http://www.w3.org/1999/xlink\" width=\"600\" height=\"600\"><line stroke=\"black\" stroke-width=\"2\" x1=\"245\" x2=\"408\" y1=\"245\" y2=\"130\" /><svg x=\"363\" y = \"85\"><g transform = \"scale(.5)\"><svg baseProfile=\"full\" height=\"180\" version=\"1.1\" width=\"180\" xmlns=\"http://www.w3.org/2000/svg\" xmlns:ev=\"http://www.w3.org/2001/xml-events\" xmlns:xlink=\"http://www.w3.org/1999/xlink\"><defs /><rect fill=\"#E6E6E6\" height=\"180\" width=\"180\" x=\"0\" y=\"0\" /><line stroke=\"black\" stroke-width=\"2\" x1=\"0\" x2=\"0\" y1=\"0\" y2=\"180\" /><line stroke=\"black\" stroke-width=\"2\" x1=\"0\" x2=\"180\" y1=\"0\" y2=\"0\" /><line stroke=\"black\" stroke-width=\"2\" x1=\"30\" x2=\"30\" y1=\"0\" y2=\"180\" /><line stroke=\"black\" stroke-width=\"2\" x1=\"0\" x2=\"180\" y1=\"30\" y2=\"30\" /><line stroke=\"black\" stroke-width=\"2\" x1=\"60\" x2=\"60\" y1=\"0\" y2=\"180\" /><line stroke=\"black\" stroke-width=\"2\" x1=\"0\" x2=\"180\" y1=\"60\" y2=\"60\" /><line stroke=\"black\" stroke-width=\"2\" x1=\"90\" x2=\"90\" y1=\"0\" y2=\"180\" /><line stroke=\"black\" stroke-width=\"2\" x1=\"0\" x2=\"180\" y1=\"90\" y2=\"90\" /><line stroke=\"black\" stroke-width=\"2\" x1=\"120\" x2=\"120\" y1=\"0\" y2=\"180\" /><line stroke=\"black\" stroke-width=\"2\" x1=\"0\" x2=\"180\" y1=\"120\" y2=\"120\" /><line stroke=\"black\" stroke-width=\"2\" x1=\"150\" x2=\"150\" y1=\"0\" y2=\"180\" /><line stroke=\"black\" stroke-width=\"2\" x1=\"0\" x2=\"180\" y1=\"150\" y2=\"150\" /><line stroke=\"black\" stroke-width=\"2\" x1=\"180\" x2=\"180\" y1=\"0\" y2=\"180\" /><line stroke=\"black\" stroke-width=\"2\" x1=\"0\" x2=\"180\" y1=\"180\" y2=\"180\" /><rect fill=\"#FF0000\" height=\"24\" rx=\"5\" ry=\"5\" stroke-width=\"3\" width=\"54\" x=\"93\" y=\"63\" /><text style=\"fill:black;text-anchor:middle;alignment-baseline:central\" x=\"120.0\" y=\"75.0\">X</text><rect fill=\"#F0E68C\" height=\"24\" rx=\"5\" ry=\"5\" stroke-width=\"3\" width=\"54\" x=\"63\" y=\"123\" /><text style=\"fill:black;text-anchor:middle;alignment-baseline:central\" x=\"90.0\" y=\"135.0\">L</text></svg></g></svg><line stroke=\"black\" stroke-width=\"2\" x1=\"245\" x2=\"245\" y1=\"245\" y2=\"445\" /><svg x=\"200\" y = \"400\"><g transform = \"scale(.5)\"><svg baseProfile=\"full\" height=\"180\" version=\"1.1\" width=\"180\" xmlns=\"http://www.w3.org/2000/svg\" xmlns:ev=\"http://www.w3.org/2001/xml-events\" xmlns:xlink=\"http://www.w3.org/1999/xlink\"><defs /><rect fill=\"#E6E6E6\" height=\"180\" width=\"180\" x=\"0\" y=\"0\" /><line stroke=\"black\" stroke-width=\"2\" x1=\"0\" x2=\"0\" y1=\"0\" y2=\"180\" /><line stroke=\"black\" stroke-width=\"2\" x1=\"0\" x2=\"180\" y1=\"0\" y2=\"0\" /><line stroke=\"black\" stroke-width=\"2\" x1=\"30\" x2=\"30\" y1=\"0\" y2=\"180\" /><line stroke=\"black\" stroke-width=\"2\" x1=\"0\" x2=\"180\" y1=\"30\" y2=\"30\" /><line stroke=\"black\" stroke-width=\"2\" x1=\"60\" x2=\"60\" y1=\"0\" y2=\"180\" /><line stroke=\"black\" stroke-width=\"2\" x1=\"0\" x2=\"180\" y1=\"60\" y2=\"60\" /><line stroke=\"black\" stroke-width=\"2\" x1=\"90\" x2=\"90\" y1=\"0\" y2=\"180\" /><line stroke=\"black\" stroke-width=\"2\" x1=\"0\" x2=\"180\" y1=\"90\" y2=\"90\" /><line stroke=\"black\" stroke-width=\"2\" x1=\"120\" x2=\"120\" y1=\"0\" y2=\"180\" /><line stroke=\"black\" stroke-width=\"2\" x1=\"0\" x2=\"180\" y1=\"120\" y2=\"120\" /><line stroke=\"black\" stroke-width=\"2\" x1=\"150\" x2=\"150\" y1=\"0\" y2=\"180\" /><line stroke=\"black\" stroke-width=\"2\" x1=\"0\" x2=\"180\" y1=\"150\" y2=\"150\" /><line stroke=\"black\" stroke-width=\"2\" x1=\"180\" x2=\"180\" y1=\"0\" y2=\"180\" /><line stroke=\"black\" stroke-width=\"2\" x1=\"0\" x2=\"180\" y1=\"180\" y2=\"180\" /><rect fill=\"#FF0000\" height=\"24\" rx=\"5\" ry=\"5\" stroke-width=\"3\" width=\"54\" x=\"123\" y=\"63\" /><text style=\"fill:black;text-anchor:middle;alignment-baseline:central\" x=\"150.0\" y=\"75.0\">X</text><rect fill=\"#F0E68C\" height=\"24\" rx=\"5\" ry=\"5\" stroke-width=\"3\" width=\"54\" x=\"33\" y=\"123\" /><text style=\"fill:black;text-anchor:middle;alignment-baseline:central\" x=\"60.0\" y=\"135.0\">L</text></svg></g></svg><line stroke=\"black\" stroke-width=\"2\" x1=\"245\" x2=\"408\" y1=\"245\" y2=\"130\" /><svg x=\"363\" y = \"85\"><g transform = \"scale(.5)\"><svg baseProfile=\"full\" height=\"180\" version=\"1.1\" width=\"180\" xmlns=\"http://www.w3.org/2000/svg\" xmlns:ev=\"http://www.w3.org/2001/xml-events\" xmlns:xlink=\"http://www.w3.org/1999/xlink\"><defs /><rect fill=\"#E6E6E6\" height=\"180\" width=\"180\" x=\"0\" y=\"0\" /><line stroke=\"black\" stroke-width=\"2\" x1=\"0\" x2=\"0\" y1=\"0\" y2=\"180\" /><line stroke=\"black\" stroke-width=\"2\" x1=\"0\" x2=\"180\" y1=\"0\" y2=\"0\" /><line stroke=\"black\" stroke-width=\"2\" x1=\"30\" x2=\"30\" y1=\"0\" y2=\"180\" /><line stroke=\"black\" stroke-width=\"2\" x1=\"0\" x2=\"180\" y1=\"30\" y2=\"30\" /><line stroke=\"black\" stroke-width=\"2\" x1=\"60\" x2=\"60\" y1=\"0\" y2=\"180\" /><line stroke=\"black\" stroke-width=\"2\" x1=\"0\" x2=\"180\" y1=\"60\" y2=\"60\" /><line stroke=\"black\" stroke-width=\"2\" x1=\"90\" x2=\"90\" y1=\"0\" y2=\"180\" /><line stroke=\"black\" stroke-width=\"2\" x1=\"0\" x2=\"180\" y1=\"90\" y2=\"90\" /><line stroke=\"black\" stroke-width=\"2\" x1=\"120\" x2=\"120\" y1=\"0\" y2=\"180\" /><line stroke=\"black\" stroke-width=\"2\" x1=\"0\" x2=\"180\" y1=\"120\" y2=\"120\" /><line stroke=\"black\" stroke-width=\"2\" x1=\"150\" x2=\"150\" y1=\"0\" y2=\"180\" /><line stroke=\"black\" stroke-width=\"2\" x1=\"0\" x2=\"180\" y1=\"150\" y2=\"150\" /><line stroke=\"black\" stroke-width=\"2\" x1=\"180\" x2=\"180\" y1=\"0\" y2=\"180\" /><line stroke=\"black\" stroke-width=\"2\" x1=\"0\" x2=\"180\" y1=\"180\" y2=\"180\" /><rect fill=\"#FF0000\" height=\"24\" rx=\"5\" ry=\"5\" stroke-width=\"3\" width=\"54\" x=\"93\" y=\"63\" /><text style=\"fill:black;text-anchor:middle;alignment-baseline:central\" x=\"120.0\" y=\"75.0\">X</text><rect fill=\"#F0E68C\" height=\"24\" rx=\"5\" ry=\"5\" stroke-width=\"3\" width=\"54\" x=\"3\" y=\"123\" /><text style=\"fill:black;text-anchor:middle;alignment-baseline:central\" x=\"30.0\" y=\"135.0\">L</text></svg></g></svg><line stroke=\"black\" stroke-width=\"2\" x1=\"245\" x2=\"245\" y1=\"245\" y2=\"445\" /><svg x=\"200\" y = \"400\"><g transform = \"scale(.5)\"><svg baseProfile=\"full\" height=\"180\" version=\"1.1\" width=\"180\" xmlns=\"http://www.w3.org/2000/svg\" xmlns:ev=\"http://www.w3.org/2001/xml-events\" xmlns:xlink=\"http://www.w3.org/1999/xlink\"><defs /><rect fill=\"#E6E6E6\" height=\"180\" width=\"180\" x=\"0\" y=\"0\" /><line stroke=\"black\" stroke-width=\"2\" x1=\"0\" x2=\"0\" y1=\"0\" y2=\"180\" /><line stroke=\"black\" stroke-width=\"2\" x1=\"0\" x2=\"180\" y1=\"0\" y2=\"0\" /><line stroke=\"black\" stroke-width=\"2\" x1=\"30\" x2=\"30\" y1=\"0\" y2=\"180\" /><line stroke=\"black\" stroke-width=\"2\" x1=\"0\" x2=\"180\" y1=\"30\" y2=\"30\" /><line stroke=\"black\" stroke-width=\"2\" x1=\"60\" x2=\"60\" y1=\"0\" y2=\"180\" /><line stroke=\"black\" stroke-width=\"2\" x1=\"0\" x2=\"180\" y1=\"60\" y2=\"60\" /><line stroke=\"black\" stroke-width=\"2\" x1=\"90\" x2=\"90\" y1=\"0\" y2=\"180\" /><line stroke=\"black\" stroke-width=\"2\" x1=\"0\" x2=\"180\" y1=\"90\" y2=\"90\" /><line stroke=\"black\" stroke-width=\"2\" x1=\"120\" x2=\"120\" y1=\"0\" y2=\"180\" /><line stroke=\"black\" stroke-width=\"2\" x1=\"0\" x2=\"180\" y1=\"120\" y2=\"120\" /><line stroke=\"black\" stroke-width=\"2\" x1=\"150\" x2=\"150\" y1=\"0\" y2=\"180\" /><line stroke=\"black\" stroke-width=\"2\" x1=\"0\" x2=\"180\" y1=\"150\" y2=\"150\" /><line stroke=\"black\" stroke-width=\"2\" x1=\"180\" x2=\"180\" y1=\"0\" y2=\"180\" /><line stroke=\"black\" stroke-width=\"2\" x1=\"0\" x2=\"180\" y1=\"180\" y2=\"180\" /><rect fill=\"#FF0000\" height=\"24\" rx=\"5\" ry=\"5\" stroke-width=\"3\" width=\"54\" x=\"63\" y=\"63\" /><text style=\"fill:black;text-anchor:middle;alignment-baseline:central\" x=\"90.0\" y=\"75.0\">X</text><rect fill=\"#F0E68C\" height=\"24\" rx=\"5\" ry=\"5\" stroke-width=\"3\" width=\"54\" x=\"33\" y=\"123\" /><text style=\"fill:black;text-anchor:middle;alignment-baseline:central\" x=\"60.0\" y=\"135.0\">L</text></svg></g></svg><svg x=\"200\" y = \"200\"><g transform = \"scale(.5)\"><svg baseProfile=\"full\" height=\"180\" version=\"1.1\" width=\"180\" xmlns=\"http://www.w3.org/2000/svg\" xmlns:ev=\"http://www.w3.org/2001/xml-events\" xmlns:xlink=\"http://www.w3.org/1999/xlink\"><defs /><rect fill=\"#E6E6E6\" height=\"180\" width=\"180\" x=\"0\" y=\"0\" /><line stroke=\"black\" stroke-width=\"2\" x1=\"0\" x2=\"0\" y1=\"0\" y2=\"180\" /><line stroke=\"black\" stroke-width=\"2\" x1=\"0\" x2=\"180\" y1=\"0\" y2=\"0\" /><line stroke=\"black\" stroke-width=\"2\" x1=\"30\" x2=\"30\" y1=\"0\" y2=\"180\" /><line stroke=\"black\" stroke-width=\"2\" x1=\"0\" x2=\"180\" y1=\"30\" y2=\"30\" /><line stroke=\"black\" stroke-width=\"2\" x1=\"60\" x2=\"60\" y1=\"0\" y2=\"180\" /><line stroke=\"black\" stroke-width=\"2\" x1=\"0\" x2=\"180\" y1=\"60\" y2=\"60\" /><line stroke=\"black\" stroke-width=\"2\" x1=\"90\" x2=\"90\" y1=\"0\" y2=\"180\" /><line stroke=\"black\" stroke-width=\"2\" x1=\"0\" x2=\"180\" y1=\"90\" y2=\"90\" /><line stroke=\"black\" stroke-width=\"2\" x1=\"120\" x2=\"120\" y1=\"0\" y2=\"180\" /><line stroke=\"black\" stroke-width=\"2\" x1=\"0\" x2=\"180\" y1=\"120\" y2=\"120\" /><line stroke=\"black\" stroke-width=\"2\" x1=\"150\" x2=\"150\" y1=\"0\" y2=\"180\" /><line stroke=\"black\" stroke-width=\"2\" x1=\"0\" x2=\"180\" y1=\"150\" y2=\"150\" /><line stroke=\"black\" stroke-width=\"2\" x1=\"180\" x2=\"180\" y1=\"0\" y2=\"180\" /><line stroke=\"black\" stroke-width=\"2\" x1=\"0\" x2=\"180\" y1=\"180\" y2=\"180\" /><rect fill=\"#FF0000\" height=\"24\" rx=\"5\" ry=\"5\" stroke-width=\"3\" width=\"54\" x=\"63\" y=\"63\" /><text style=\"fill:black;text-anchor:middle;alignment-baseline:central\" x=\"90.0\" y=\"75.0\">X</text><rect fill=\"#F0E68C\" height=\"24\" rx=\"5\" ry=\"5\" stroke-width=\"3\" width=\"54\" x=\"33\" y=\"123\" /><text style=\"fill:black;text-anchor:middle;alignment-baseline:central\" x=\"60.0\" y=\"135.0\">L</text></svg></g></svg></svg>"
      ],
      "text/plain": [
       "<IPython.core.display.HTML object>"
      ]
     },
     "execution_count": 55,
     "metadata": {},
     "output_type": "execute_result"
    }
   ],
   "source": [
    "#%run numpy_neighbors.py\n",
    "%run numpy_display.py\n",
    "\n",
    "svg = svg_neighborhood(board_to_int(v1),4)\n",
    "HTML(svg)"
   ]
  },
  {
   "cell_type": "code",
   "execution_count": 79,
   "metadata": {},
   "outputs": [
    {
     "data": {
      "text/html": [
       "<svg xmlns=\"http://www.w3.org/2000/svg\" xmlns:xlink=\"http://www.w3.org/1999/xlink\" width=\"600\" height=\"600\"><line stroke=\"black\" stroke-width=\"2\" x1=\"245\" x2=\"408\" y1=\"245\" y2=\"130\" /><svg x=\"363\" y = \"85\"><g transform = \"scale(.5)\"><svg baseProfile=\"full\" height=\"180\" version=\"1.1\" width=\"180\" xmlns=\"http://www.w3.org/2000/svg\" xmlns:ev=\"http://www.w3.org/2001/xml-events\" xmlns:xlink=\"http://www.w3.org/1999/xlink\"><defs /><rect fill=\"#E6E6E6\" height=\"180\" width=\"180\" x=\"0\" y=\"0\" /><line stroke=\"black\" stroke-width=\"2\" x1=\"0\" x2=\"0\" y1=\"0\" y2=\"180\" /><line stroke=\"black\" stroke-width=\"2\" x1=\"0\" x2=\"180\" y1=\"0\" y2=\"0\" /><line stroke=\"black\" stroke-width=\"2\" x1=\"30\" x2=\"30\" y1=\"0\" y2=\"180\" /><line stroke=\"black\" stroke-width=\"2\" x1=\"0\" x2=\"180\" y1=\"30\" y2=\"30\" /><line stroke=\"black\" stroke-width=\"2\" x1=\"60\" x2=\"60\" y1=\"0\" y2=\"180\" /><line stroke=\"black\" stroke-width=\"2\" x1=\"0\" x2=\"180\" y1=\"60\" y2=\"60\" /><line stroke=\"black\" stroke-width=\"2\" x1=\"90\" x2=\"90\" y1=\"0\" y2=\"180\" /><line stroke=\"black\" stroke-width=\"2\" x1=\"0\" x2=\"180\" y1=\"90\" y2=\"90\" /><line stroke=\"black\" stroke-width=\"2\" x1=\"120\" x2=\"120\" y1=\"0\" y2=\"180\" /><line stroke=\"black\" stroke-width=\"2\" x1=\"0\" x2=\"180\" y1=\"120\" y2=\"120\" /><line stroke=\"black\" stroke-width=\"2\" x1=\"150\" x2=\"150\" y1=\"0\" y2=\"180\" /><line stroke=\"black\" stroke-width=\"2\" x1=\"0\" x2=\"180\" y1=\"150\" y2=\"150\" /><line stroke=\"black\" stroke-width=\"2\" x1=\"180\" x2=\"180\" y1=\"0\" y2=\"180\" /><line stroke=\"black\" stroke-width=\"2\" x1=\"0\" x2=\"180\" y1=\"180\" y2=\"180\" /><rect fill=\"#FF0000\" height=\"24\" rx=\"5\" ry=\"5\" stroke-width=\"3\" width=\"54\" x=\"93\" y=\"63\" /><text style=\"fill:black;text-anchor:middle;alignment-baseline:central\" x=\"120.0\" y=\"75.0\">X</text><rect fill=\"#F0E68C\" height=\"54\" rx=\"5\" ry=\"5\" stroke-width=\"3\" width=\"24\" x=\"3\" y=\"63\" /><text style=\"fill:black;text-anchor:middle;alignment-baseline:central\" x=\"15.0\" y=\"90.0\">L</text><rect fill=\"#CD5C5C\" height=\"24\" rx=\"5\" ry=\"5\" stroke-width=\"3\" width=\"54\" x=\"63\" y=\"123\" /><text style=\"fill:black;text-anchor:middle;alignment-baseline:central\" x=\"90.0\" y=\"135.0\">K</text></svg></g></svg><line stroke=\"black\" stroke-width=\"2\" x1=\"245\" x2=\"408\" y1=\"245\" y2=\"359\" /><svg x=\"363\" y = \"314\"><g transform = \"scale(.5)\"><svg baseProfile=\"full\" height=\"180\" version=\"1.1\" width=\"180\" xmlns=\"http://www.w3.org/2000/svg\" xmlns:ev=\"http://www.w3.org/2001/xml-events\" xmlns:xlink=\"http://www.w3.org/1999/xlink\"><defs /><rect fill=\"#E6E6E6\" height=\"180\" width=\"180\" x=\"0\" y=\"0\" /><line stroke=\"black\" stroke-width=\"2\" x1=\"0\" x2=\"0\" y1=\"0\" y2=\"180\" /><line stroke=\"black\" stroke-width=\"2\" x1=\"0\" x2=\"180\" y1=\"0\" y2=\"0\" /><line stroke=\"black\" stroke-width=\"2\" x1=\"30\" x2=\"30\" y1=\"0\" y2=\"180\" /><line stroke=\"black\" stroke-width=\"2\" x1=\"0\" x2=\"180\" y1=\"30\" y2=\"30\" /><line stroke=\"black\" stroke-width=\"2\" x1=\"60\" x2=\"60\" y1=\"0\" y2=\"180\" /><line stroke=\"black\" stroke-width=\"2\" x1=\"0\" x2=\"180\" y1=\"60\" y2=\"60\" /><line stroke=\"black\" stroke-width=\"2\" x1=\"90\" x2=\"90\" y1=\"0\" y2=\"180\" /><line stroke=\"black\" stroke-width=\"2\" x1=\"0\" x2=\"180\" y1=\"90\" y2=\"90\" /><line stroke=\"black\" stroke-width=\"2\" x1=\"120\" x2=\"120\" y1=\"0\" y2=\"180\" /><line stroke=\"black\" stroke-width=\"2\" x1=\"0\" x2=\"180\" y1=\"120\" y2=\"120\" /><line stroke=\"black\" stroke-width=\"2\" x1=\"150\" x2=\"150\" y1=\"0\" y2=\"180\" /><line stroke=\"black\" stroke-width=\"2\" x1=\"0\" x2=\"180\" y1=\"150\" y2=\"150\" /><line stroke=\"black\" stroke-width=\"2\" x1=\"180\" x2=\"180\" y1=\"0\" y2=\"180\" /><line stroke=\"black\" stroke-width=\"2\" x1=\"0\" x2=\"180\" y1=\"180\" y2=\"180\" /><rect fill=\"#FF0000\" height=\"24\" rx=\"5\" ry=\"5\" stroke-width=\"3\" width=\"54\" x=\"123\" y=\"63\" /><text style=\"fill:black;text-anchor:middle;alignment-baseline:central\" x=\"150.0\" y=\"75.0\">X</text><rect fill=\"#F0E68C\" height=\"54\" rx=\"5\" ry=\"5\" stroke-width=\"3\" width=\"24\" x=\"3\" y=\"63\" /><text style=\"fill:black;text-anchor:middle;alignment-baseline:central\" x=\"15.0\" y=\"90.0\">L</text><rect fill=\"#CD5C5C\" height=\"24\" rx=\"5\" ry=\"5\" stroke-width=\"3\" width=\"54\" x=\"33\" y=\"123\" /><text style=\"fill:black;text-anchor:middle;alignment-baseline:central\" x=\"60.0\" y=\"135.0\">K</text></svg></g></svg><line stroke=\"black\" stroke-width=\"2\" x1=\"245\" x2=\"359\" y1=\"245\" y2=\"408\" /><svg x=\"314\" y = \"363\"><g transform = \"scale(.5)\"><svg baseProfile=\"full\" height=\"180\" version=\"1.1\" width=\"180\" xmlns=\"http://www.w3.org/2000/svg\" xmlns:ev=\"http://www.w3.org/2001/xml-events\" xmlns:xlink=\"http://www.w3.org/1999/xlink\"><defs /><rect fill=\"#E6E6E6\" height=\"180\" width=\"180\" x=\"0\" y=\"0\" /><line stroke=\"black\" stroke-width=\"2\" x1=\"0\" x2=\"0\" y1=\"0\" y2=\"180\" /><line stroke=\"black\" stroke-width=\"2\" x1=\"0\" x2=\"180\" y1=\"0\" y2=\"0\" /><line stroke=\"black\" stroke-width=\"2\" x1=\"30\" x2=\"30\" y1=\"0\" y2=\"180\" /><line stroke=\"black\" stroke-width=\"2\" x1=\"0\" x2=\"180\" y1=\"30\" y2=\"30\" /><line stroke=\"black\" stroke-width=\"2\" x1=\"60\" x2=\"60\" y1=\"0\" y2=\"180\" /><line stroke=\"black\" stroke-width=\"2\" x1=\"0\" x2=\"180\" y1=\"60\" y2=\"60\" /><line stroke=\"black\" stroke-width=\"2\" x1=\"90\" x2=\"90\" y1=\"0\" y2=\"180\" /><line stroke=\"black\" stroke-width=\"2\" x1=\"0\" x2=\"180\" y1=\"90\" y2=\"90\" /><line stroke=\"black\" stroke-width=\"2\" x1=\"120\" x2=\"120\" y1=\"0\" y2=\"180\" /><line stroke=\"black\" stroke-width=\"2\" x1=\"0\" x2=\"180\" y1=\"120\" y2=\"120\" /><line stroke=\"black\" stroke-width=\"2\" x1=\"150\" x2=\"150\" y1=\"0\" y2=\"180\" /><line stroke=\"black\" stroke-width=\"2\" x1=\"0\" x2=\"180\" y1=\"150\" y2=\"150\" /><line stroke=\"black\" stroke-width=\"2\" x1=\"180\" x2=\"180\" y1=\"0\" y2=\"180\" /><line stroke=\"black\" stroke-width=\"2\" x1=\"0\" x2=\"180\" y1=\"180\" y2=\"180\" /><rect fill=\"#FF0000\" height=\"24\" rx=\"5\" ry=\"5\" stroke-width=\"3\" width=\"54\" x=\"93\" y=\"63\" /><text style=\"fill:black;text-anchor:middle;alignment-baseline:central\" x=\"120.0\" y=\"75.0\">X</text><rect fill=\"#F0E68C\" height=\"54\" rx=\"5\" ry=\"5\" stroke-width=\"3\" width=\"24\" x=\"3\" y=\"33\" /><text style=\"fill:black;text-anchor:middle;alignment-baseline:central\" x=\"15.0\" y=\"60.0\">L</text><rect fill=\"#CD5C5C\" height=\"24\" rx=\"5\" ry=\"5\" stroke-width=\"3\" width=\"54\" x=\"33\" y=\"123\" /><text style=\"fill:black;text-anchor:middle;alignment-baseline:central\" x=\"60.0\" y=\"135.0\">K</text></svg></g></svg><line stroke=\"black\" stroke-width=\"2\" x1=\"245\" x2=\"81\" y1=\"245\" y2=\"359\" /><svg x=\"36\" y = \"314\"><g transform = \"scale(.5)\"><svg baseProfile=\"full\" height=\"180\" version=\"1.1\" width=\"180\" xmlns=\"http://www.w3.org/2000/svg\" xmlns:ev=\"http://www.w3.org/2001/xml-events\" xmlns:xlink=\"http://www.w3.org/1999/xlink\"><defs /><rect fill=\"#E6E6E6\" height=\"180\" width=\"180\" x=\"0\" y=\"0\" /><line stroke=\"black\" stroke-width=\"2\" x1=\"0\" x2=\"0\" y1=\"0\" y2=\"180\" /><line stroke=\"black\" stroke-width=\"2\" x1=\"0\" x2=\"180\" y1=\"0\" y2=\"0\" /><line stroke=\"black\" stroke-width=\"2\" x1=\"30\" x2=\"30\" y1=\"0\" y2=\"180\" /><line stroke=\"black\" stroke-width=\"2\" x1=\"0\" x2=\"180\" y1=\"30\" y2=\"30\" /><line stroke=\"black\" stroke-width=\"2\" x1=\"60\" x2=\"60\" y1=\"0\" y2=\"180\" /><line stroke=\"black\" stroke-width=\"2\" x1=\"0\" x2=\"180\" y1=\"60\" y2=\"60\" /><line stroke=\"black\" stroke-width=\"2\" x1=\"90\" x2=\"90\" y1=\"0\" y2=\"180\" /><line stroke=\"black\" stroke-width=\"2\" x1=\"0\" x2=\"180\" y1=\"90\" y2=\"90\" /><line stroke=\"black\" stroke-width=\"2\" x1=\"120\" x2=\"120\" y1=\"0\" y2=\"180\" /><line stroke=\"black\" stroke-width=\"2\" x1=\"0\" x2=\"180\" y1=\"120\" y2=\"120\" /><line stroke=\"black\" stroke-width=\"2\" x1=\"150\" x2=\"150\" y1=\"0\" y2=\"180\" /><line stroke=\"black\" stroke-width=\"2\" x1=\"0\" x2=\"180\" y1=\"150\" y2=\"150\" /><line stroke=\"black\" stroke-width=\"2\" x1=\"180\" x2=\"180\" y1=\"0\" y2=\"180\" /><line stroke=\"black\" stroke-width=\"2\" x1=\"0\" x2=\"180\" y1=\"180\" y2=\"180\" /><rect fill=\"#FF0000\" height=\"24\" rx=\"5\" ry=\"5\" stroke-width=\"3\" width=\"54\" x=\"93\" y=\"63\" /><text style=\"fill:black;text-anchor:middle;alignment-baseline:central\" x=\"120.0\" y=\"75.0\">X</text><rect fill=\"#F0E68C\" height=\"54\" rx=\"5\" ry=\"5\" stroke-width=\"3\" width=\"24\" x=\"3\" y=\"63\" /><text style=\"fill:black;text-anchor:middle;alignment-baseline:central\" x=\"15.0\" y=\"90.0\">L</text><rect fill=\"#CD5C5C\" height=\"24\" rx=\"5\" ry=\"5\" stroke-width=\"3\" width=\"54\" x=\"3\" y=\"123\" /><text style=\"fill:black;text-anchor:middle;alignment-baseline:central\" x=\"30.0\" y=\"135.0\">K</text></svg></g></svg><line stroke=\"black\" stroke-width=\"2\" x1=\"245\" x2=\"81\" y1=\"245\" y2=\"130\" /><svg x=\"36\" y = \"85\"><g transform = \"scale(.5)\"><svg baseProfile=\"full\" height=\"180\" version=\"1.1\" width=\"180\" xmlns=\"http://www.w3.org/2000/svg\" xmlns:ev=\"http://www.w3.org/2001/xml-events\" xmlns:xlink=\"http://www.w3.org/1999/xlink\"><defs /><rect fill=\"#E6E6E6\" height=\"180\" width=\"180\" x=\"0\" y=\"0\" /><line stroke=\"black\" stroke-width=\"2\" x1=\"0\" x2=\"0\" y1=\"0\" y2=\"180\" /><line stroke=\"black\" stroke-width=\"2\" x1=\"0\" x2=\"180\" y1=\"0\" y2=\"0\" /><line stroke=\"black\" stroke-width=\"2\" x1=\"30\" x2=\"30\" y1=\"0\" y2=\"180\" /><line stroke=\"black\" stroke-width=\"2\" x1=\"0\" x2=\"180\" y1=\"30\" y2=\"30\" /><line stroke=\"black\" stroke-width=\"2\" x1=\"60\" x2=\"60\" y1=\"0\" y2=\"180\" /><line stroke=\"black\" stroke-width=\"2\" x1=\"0\" x2=\"180\" y1=\"60\" y2=\"60\" /><line stroke=\"black\" stroke-width=\"2\" x1=\"90\" x2=\"90\" y1=\"0\" y2=\"180\" /><line stroke=\"black\" stroke-width=\"2\" x1=\"0\" x2=\"180\" y1=\"90\" y2=\"90\" /><line stroke=\"black\" stroke-width=\"2\" x1=\"120\" x2=\"120\" y1=\"0\" y2=\"180\" /><line stroke=\"black\" stroke-width=\"2\" x1=\"0\" x2=\"180\" y1=\"120\" y2=\"120\" /><line stroke=\"black\" stroke-width=\"2\" x1=\"150\" x2=\"150\" y1=\"0\" y2=\"180\" /><line stroke=\"black\" stroke-width=\"2\" x1=\"0\" x2=\"180\" y1=\"150\" y2=\"150\" /><line stroke=\"black\" stroke-width=\"2\" x1=\"180\" x2=\"180\" y1=\"0\" y2=\"180\" /><line stroke=\"black\" stroke-width=\"2\" x1=\"0\" x2=\"180\" y1=\"180\" y2=\"180\" /><rect fill=\"#FF0000\" height=\"24\" rx=\"5\" ry=\"5\" stroke-width=\"3\" width=\"54\" x=\"63\" y=\"63\" /><text style=\"fill:black;text-anchor:middle;alignment-baseline:central\" x=\"90.0\" y=\"75.0\">X</text><rect fill=\"#F0E68C\" height=\"54\" rx=\"5\" ry=\"5\" stroke-width=\"3\" width=\"24\" x=\"3\" y=\"63\" /><text style=\"fill:black;text-anchor:middle;alignment-baseline:central\" x=\"15.0\" y=\"90.0\">L</text><rect fill=\"#CD5C5C\" height=\"24\" rx=\"5\" ry=\"5\" stroke-width=\"3\" width=\"54\" x=\"33\" y=\"123\" /><text style=\"fill:black;text-anchor:middle;alignment-baseline:central\" x=\"60.0\" y=\"135.0\">K</text></svg></g></svg><line stroke=\"black\" stroke-width=\"2\" x1=\"245\" x2=\"130\" y1=\"245\" y2=\"81\" /><svg x=\"85\" y = \"36\"><g transform = \"scale(.5)\"><svg baseProfile=\"full\" height=\"180\" version=\"1.1\" width=\"180\" xmlns=\"http://www.w3.org/2000/svg\" xmlns:ev=\"http://www.w3.org/2001/xml-events\" xmlns:xlink=\"http://www.w3.org/1999/xlink\"><defs /><rect fill=\"#E6E6E6\" height=\"180\" width=\"180\" x=\"0\" y=\"0\" /><line stroke=\"black\" stroke-width=\"2\" x1=\"0\" x2=\"0\" y1=\"0\" y2=\"180\" /><line stroke=\"black\" stroke-width=\"2\" x1=\"0\" x2=\"180\" y1=\"0\" y2=\"0\" /><line stroke=\"black\" stroke-width=\"2\" x1=\"30\" x2=\"30\" y1=\"0\" y2=\"180\" /><line stroke=\"black\" stroke-width=\"2\" x1=\"0\" x2=\"180\" y1=\"30\" y2=\"30\" /><line stroke=\"black\" stroke-width=\"2\" x1=\"60\" x2=\"60\" y1=\"0\" y2=\"180\" /><line stroke=\"black\" stroke-width=\"2\" x1=\"0\" x2=\"180\" y1=\"60\" y2=\"60\" /><line stroke=\"black\" stroke-width=\"2\" x1=\"90\" x2=\"90\" y1=\"0\" y2=\"180\" /><line stroke=\"black\" stroke-width=\"2\" x1=\"0\" x2=\"180\" y1=\"90\" y2=\"90\" /><line stroke=\"black\" stroke-width=\"2\" x1=\"120\" x2=\"120\" y1=\"0\" y2=\"180\" /><line stroke=\"black\" stroke-width=\"2\" x1=\"0\" x2=\"180\" y1=\"120\" y2=\"120\" /><line stroke=\"black\" stroke-width=\"2\" x1=\"150\" x2=\"150\" y1=\"0\" y2=\"180\" /><line stroke=\"black\" stroke-width=\"2\" x1=\"0\" x2=\"180\" y1=\"150\" y2=\"150\" /><line stroke=\"black\" stroke-width=\"2\" x1=\"180\" x2=\"180\" y1=\"0\" y2=\"180\" /><line stroke=\"black\" stroke-width=\"2\" x1=\"0\" x2=\"180\" y1=\"180\" y2=\"180\" /><rect fill=\"#FF0000\" height=\"24\" rx=\"5\" ry=\"5\" stroke-width=\"3\" width=\"54\" x=\"93\" y=\"63\" /><text style=\"fill:black;text-anchor:middle;alignment-baseline:central\" x=\"120.0\" y=\"75.0\">X</text><rect fill=\"#F0E68C\" height=\"54\" rx=\"5\" ry=\"5\" stroke-width=\"3\" width=\"24\" x=\"3\" y=\"93\" /><text style=\"fill:black;text-anchor:middle;alignment-baseline:central\" x=\"15.0\" y=\"120.0\">L</text><rect fill=\"#CD5C5C\" height=\"24\" rx=\"5\" ry=\"5\" stroke-width=\"3\" width=\"54\" x=\"33\" y=\"123\" /><text style=\"fill:black;text-anchor:middle;alignment-baseline:central\" x=\"60.0\" y=\"135.0\">K</text></svg></g></svg><svg x=\"200\" y = \"200\"><g transform = \"scale(.5)\"><svg baseProfile=\"full\" height=\"180\" version=\"1.1\" width=\"180\" xmlns=\"http://www.w3.org/2000/svg\" xmlns:ev=\"http://www.w3.org/2001/xml-events\" xmlns:xlink=\"http://www.w3.org/1999/xlink\"><defs /><rect fill=\"#E6E6E6\" height=\"180\" width=\"180\" x=\"0\" y=\"0\" /><line stroke=\"black\" stroke-width=\"2\" x1=\"0\" x2=\"0\" y1=\"0\" y2=\"180\" /><line stroke=\"black\" stroke-width=\"2\" x1=\"0\" x2=\"180\" y1=\"0\" y2=\"0\" /><line stroke=\"black\" stroke-width=\"2\" x1=\"30\" x2=\"30\" y1=\"0\" y2=\"180\" /><line stroke=\"black\" stroke-width=\"2\" x1=\"0\" x2=\"180\" y1=\"30\" y2=\"30\" /><line stroke=\"black\" stroke-width=\"2\" x1=\"60\" x2=\"60\" y1=\"0\" y2=\"180\" /><line stroke=\"black\" stroke-width=\"2\" x1=\"0\" x2=\"180\" y1=\"60\" y2=\"60\" /><line stroke=\"black\" stroke-width=\"2\" x1=\"90\" x2=\"90\" y1=\"0\" y2=\"180\" /><line stroke=\"black\" stroke-width=\"2\" x1=\"0\" x2=\"180\" y1=\"90\" y2=\"90\" /><line stroke=\"black\" stroke-width=\"2\" x1=\"120\" x2=\"120\" y1=\"0\" y2=\"180\" /><line stroke=\"black\" stroke-width=\"2\" x1=\"0\" x2=\"180\" y1=\"120\" y2=\"120\" /><line stroke=\"black\" stroke-width=\"2\" x1=\"150\" x2=\"150\" y1=\"0\" y2=\"180\" /><line stroke=\"black\" stroke-width=\"2\" x1=\"0\" x2=\"180\" y1=\"150\" y2=\"150\" /><line stroke=\"black\" stroke-width=\"2\" x1=\"180\" x2=\"180\" y1=\"0\" y2=\"180\" /><line stroke=\"black\" stroke-width=\"2\" x1=\"0\" x2=\"180\" y1=\"180\" y2=\"180\" /><rect fill=\"#FF0000\" height=\"24\" rx=\"5\" ry=\"5\" stroke-width=\"3\" width=\"54\" x=\"93\" y=\"63\" /><text style=\"fill:black;text-anchor:middle;alignment-baseline:central\" x=\"120.0\" y=\"75.0\">X</text><rect fill=\"#F0E68C\" height=\"54\" rx=\"5\" ry=\"5\" stroke-width=\"3\" width=\"24\" x=\"3\" y=\"63\" /><text style=\"fill:black;text-anchor:middle;alignment-baseline:central\" x=\"15.0\" y=\"90.0\">L</text><rect fill=\"#CD5C5C\" height=\"24\" rx=\"5\" ry=\"5\" stroke-width=\"3\" width=\"54\" x=\"33\" y=\"123\" /><text style=\"fill:black;text-anchor:middle;alignment-baseline:central\" x=\"60.0\" y=\"135.0\">K</text></svg></g></svg></svg>"
      ],
      "text/plain": [
       "<IPython.core.display.HTML object>"
      ]
     },
     "execution_count": 79,
     "metadata": {},
     "output_type": "execute_result"
    }
   ],
   "source": [
    "def svg_neighborhood(v,red_col):\n",
    "    ''''\n",
    "        Input: v: integer encoding of ndarray\n",
    "               red_col: rightmost column (0...5) covered by the red car\n",
    "\n",
    "        Ouptput:    string consisting of svg markup\n",
    "\n",
    "\n",
    "    '''\n",
    "\n",
    "\n",
    "    (all_nbrs,right_nbrs,up_nbrs,left_nbrs,down_nbrs) = state_nbrs(v, int(red_col) )\n",
    "\n",
    "    ordered_nbrs = [[],[],[],[]]\n",
    "    ordered_nbrs[0] = sorted(list(right_nbrs), reverse=True)\n",
    "    ordered_nbrs[1] = sorted(list(up_nbrs))\n",
    "    ordered_nbrs[2] = sorted(list(left_nbrs))\n",
    "    ordered_nbrs[3] = sorted(list(down_nbrs))\n",
    "\n",
    "\n",
    "\n",
    "    # use nested SVG to map these out.\n",
    "\n",
    "    r = 200\n",
    "    cx = cy = 200\n",
    "\n",
    "    \n",
    "    \n",
    "    # define lower and upper bounds for 4 regions of unit circle    \n",
    "    a = [-45+10,45+10,135+10,225+10]\n",
    "    b = [45-10,135-10,225-10,-45-10]\n",
    "    counts = [len(right_nbrs), len(up_nbrs),len(left_nbrs),len(down_nbrs)]\n",
    "    nbrs_x = [ [], [], [], [] ]\n",
    "    nbrs_y = [ [], [], [], [] ]\n",
    "\n",
    "    for i in range(4):\n",
    "        n = counts[i]\n",
    "        if n > 0:\n",
    "            c = a[i]\n",
    "            d = b[i]\n",
    "            denom = max(1,n-1)\n",
    "            rads =  [(math.pi/180)*(c+((d-c)/(denom))*i)  for i in range(n)]\n",
    "            nbrs_x[i] = [ cy + r*math.cos(rad) for rad in rads]\n",
    "            nbrs_y[i] = [ cy + r*math.sin(rad) for rad in rads]\n",
    "           \n",
    "   \n",
    "    #n = len(all_nbrs)\n",
    "    #b = 360 - 360/(n-1)\n",
    "    #a = 0\n",
    "    #rads = [(math.pi/180)*(a+((b-a)/(n-1))*i)  for i in range(n)]\n",
    "    #nbrs_x = [ cy + r*math.cos(rad) for rad in rads]\n",
    "    #nbrs_y = [ cy + r*math.sin(rad) for rad in rads]\n",
    "\n",
    "    svg = '<svg xmlns=\"http://www.w3.org/2000/svg\" xmlns:xlink=\"http://www.w3.org/1999/xlink\" width=\"600\" height=\"600\">'\n",
    "\n",
    "    for i in range(4):\n",
    "        for j in range( counts[i]):\n",
    "            x = nbrs_x[i][j]\n",
    "            y = nbrs_y[i][j]\n",
    "            states,red_col_y = ordered_nbrs[i][j]\n",
    "\n",
    "            svg += '<line stroke=\"black\" stroke-width=\"2\" x1=\"%d\" x2=\"%d\" y1=\"%d\" y2=\"%d\" />'%(cx+45,x+45,cy+45,y+45)\n",
    "\n",
    "            svg += '<svg x=\"%d\" y = \"%d\">'%(x,y)\n",
    "            svg += '<g transform = \"scale(.5)\">'\n",
    "            svg += svg_from_state(states,red_col_y)\n",
    "            svg += '</g></svg>'\n",
    "\n",
    "\n",
    "    svg += '<svg x=\"%d\" y = \"%d\">'%(cx,cy)\n",
    "    svg += '<g transform = \"scale(.5)\">'\n",
    "    svg += svg_from_state(v,red_col)\n",
    "    svg += '</g></svg>'\n",
    "\n",
    "\n",
    "    svg += '</svg>'\n",
    "\n",
    "\n",
    "\n",
    "    return svg\n",
    "\n",
    "\n",
    "v1 = np.array([blank]*36).reshape(6,6)\n",
    "\n",
    "v1[2,3:5] = hcar \n",
    "v1_red_car = 4\n",
    "\n",
    "v1[4,1:3] = hcar\n",
    "v1[2:4,0] = vcar\n",
    "#v1[3:,5] = vtruck\n",
    "\n",
    "svg = svg_neighborhood(board_to_int(v1),4)\n",
    "HTML(svg)"
   ]
  },
  {
   "cell_type": "code",
   "execution_count": 60,
   "metadata": {},
   "outputs": [],
   "source": [
    "(all_nbrs,right_nbrs,up_nbrs,left_nbrs,down_nbrs) = state_nbrs(board_to_int(v1), 4 )\n",
    "\n"
   ]
  },
  {
   "cell_type": "code",
   "execution_count": 61,
   "metadata": {},
   "outputs": [
    {
     "data": {
      "text/plain": [
       "{(972777526759784448, 5),\n",
       " (7782220157002186752, 4),\n",
       " (7782220214078275584, 4),\n",
       " (62257761256017494016, 3)}"
      ]
     },
     "execution_count": 61,
     "metadata": {},
     "output_type": "execute_result"
    }
   ],
   "source": [
    "all_nbrs"
   ]
  },
  {
   "cell_type": "code",
   "execution_count": 73,
   "metadata": {},
   "outputs": [
    {
     "data": {
      "text/plain": [
       "({(972777526759784448, 5), (7782220157002186752, 4)},\n",
       " [(7782220157002186752, 4), (972777526759784448, 5)],\n",
       " {(7782220214078275584, 4), (62257761256017494016, 3)})"
      ]
     },
     "execution_count": 73,
     "metadata": {},
     "output_type": "execute_result"
    }
   ],
   "source": [
    "right_nbrs, sorted(right_nbrs,key=lambda state: state[0],reverse=True),left_nbrs"
   ]
  },
  {
   "cell_type": "code",
   "execution_count": 69,
   "metadata": {},
   "outputs": [
    {
     "data": {
      "text/html": [
       "<table><tr><td><svg baseProfile=\"full\" height=\"180\" version=\"1.1\" width=\"180\" xmlns=\"http://www.w3.org/2000/svg\" xmlns:ev=\"http://www.w3.org/2001/xml-events\" xmlns:xlink=\"http://www.w3.org/1999/xlink\"><defs /><rect fill=\"#E6E6E6\" height=\"180\" width=\"180\" x=\"0\" y=\"0\" /><line stroke=\"black\" stroke-width=\"2\" x1=\"0\" x2=\"0\" y1=\"0\" y2=\"180\" /><line stroke=\"black\" stroke-width=\"2\" x1=\"0\" x2=\"180\" y1=\"0\" y2=\"0\" /><line stroke=\"black\" stroke-width=\"2\" x1=\"30\" x2=\"30\" y1=\"0\" y2=\"180\" /><line stroke=\"black\" stroke-width=\"2\" x1=\"0\" x2=\"180\" y1=\"30\" y2=\"30\" /><line stroke=\"black\" stroke-width=\"2\" x1=\"60\" x2=\"60\" y1=\"0\" y2=\"180\" /><line stroke=\"black\" stroke-width=\"2\" x1=\"0\" x2=\"180\" y1=\"60\" y2=\"60\" /><line stroke=\"black\" stroke-width=\"2\" x1=\"90\" x2=\"90\" y1=\"0\" y2=\"180\" /><line stroke=\"black\" stroke-width=\"2\" x1=\"0\" x2=\"180\" y1=\"90\" y2=\"90\" /><line stroke=\"black\" stroke-width=\"2\" x1=\"120\" x2=\"120\" y1=\"0\" y2=\"180\" /><line stroke=\"black\" stroke-width=\"2\" x1=\"0\" x2=\"180\" y1=\"120\" y2=\"120\" /><line stroke=\"black\" stroke-width=\"2\" x1=\"150\" x2=\"150\" y1=\"0\" y2=\"180\" /><line stroke=\"black\" stroke-width=\"2\" x1=\"0\" x2=\"180\" y1=\"150\" y2=\"150\" /><line stroke=\"black\" stroke-width=\"2\" x1=\"180\" x2=\"180\" y1=\"0\" y2=\"180\" /><line stroke=\"black\" stroke-width=\"2\" x1=\"0\" x2=\"180\" y1=\"180\" y2=\"180\" /><rect fill=\"#FF0000\" height=\"24\" rx=\"5\" ry=\"5\" stroke-width=\"3\" width=\"54\" x=\"93\" y=\"63\" /><text style=\"fill:black;text-anchor:middle;alignment-baseline:central\" x=\"120.0\" y=\"75.0\">X</text><rect fill=\"#F0E68C\" height=\"24\" rx=\"5\" ry=\"5\" stroke-width=\"3\" width=\"54\" x=\"33\" y=\"123\" /><text style=\"fill:black;text-anchor:middle;alignment-baseline:central\" x=\"60.0\" y=\"135.0\">L</text></svg></td><td> <svg baseProfile=\"full\" height=\"180\" version=\"1.1\" width=\"180\" xmlns=\"http://www.w3.org/2000/svg\" xmlns:ev=\"http://www.w3.org/2001/xml-events\" xmlns:xlink=\"http://www.w3.org/1999/xlink\"><defs /><rect fill=\"#E6E6E6\" height=\"180\" width=\"180\" x=\"0\" y=\"0\" /><line stroke=\"black\" stroke-width=\"2\" x1=\"0\" x2=\"0\" y1=\"0\" y2=\"180\" /><line stroke=\"black\" stroke-width=\"2\" x1=\"0\" x2=\"180\" y1=\"0\" y2=\"0\" /><line stroke=\"black\" stroke-width=\"2\" x1=\"30\" x2=\"30\" y1=\"0\" y2=\"180\" /><line stroke=\"black\" stroke-width=\"2\" x1=\"0\" x2=\"180\" y1=\"30\" y2=\"30\" /><line stroke=\"black\" stroke-width=\"2\" x1=\"60\" x2=\"60\" y1=\"0\" y2=\"180\" /><line stroke=\"black\" stroke-width=\"2\" x1=\"0\" x2=\"180\" y1=\"60\" y2=\"60\" /><line stroke=\"black\" stroke-width=\"2\" x1=\"90\" x2=\"90\" y1=\"0\" y2=\"180\" /><line stroke=\"black\" stroke-width=\"2\" x1=\"0\" x2=\"180\" y1=\"90\" y2=\"90\" /><line stroke=\"black\" stroke-width=\"2\" x1=\"120\" x2=\"120\" y1=\"0\" y2=\"180\" /><line stroke=\"black\" stroke-width=\"2\" x1=\"0\" x2=\"180\" y1=\"120\" y2=\"120\" /><line stroke=\"black\" stroke-width=\"2\" x1=\"150\" x2=\"150\" y1=\"0\" y2=\"180\" /><line stroke=\"black\" stroke-width=\"2\" x1=\"0\" x2=\"180\" y1=\"150\" y2=\"150\" /><line stroke=\"black\" stroke-width=\"2\" x1=\"180\" x2=\"180\" y1=\"0\" y2=\"180\" /><line stroke=\"black\" stroke-width=\"2\" x1=\"0\" x2=\"180\" y1=\"180\" y2=\"180\" /><rect fill=\"#FF0000\" height=\"24\" rx=\"5\" ry=\"5\" stroke-width=\"3\" width=\"54\" x=\"63\" y=\"63\" /><text style=\"fill:black;text-anchor:middle;alignment-baseline:central\" x=\"90.0\" y=\"75.0\">X</text><rect fill=\"#F0E68C\" height=\"24\" rx=\"5\" ry=\"5\" stroke-width=\"3\" width=\"54\" x=\"33\" y=\"123\" /><text style=\"fill:black;text-anchor:middle;alignment-baseline:central\" x=\"60.0\" y=\"135.0\">L</text></svg><td><td> <svg baseProfile=\"full\" height=\"180\" version=\"1.1\" width=\"180\" xmlns=\"http://www.w3.org/2000/svg\" xmlns:ev=\"http://www.w3.org/2001/xml-events\" xmlns:xlink=\"http://www.w3.org/1999/xlink\"><defs /><rect fill=\"#E6E6E6\" height=\"180\" width=\"180\" x=\"0\" y=\"0\" /><line stroke=\"black\" stroke-width=\"2\" x1=\"0\" x2=\"0\" y1=\"0\" y2=\"180\" /><line stroke=\"black\" stroke-width=\"2\" x1=\"0\" x2=\"180\" y1=\"0\" y2=\"0\" /><line stroke=\"black\" stroke-width=\"2\" x1=\"30\" x2=\"30\" y1=\"0\" y2=\"180\" /><line stroke=\"black\" stroke-width=\"2\" x1=\"0\" x2=\"180\" y1=\"30\" y2=\"30\" /><line stroke=\"black\" stroke-width=\"2\" x1=\"60\" x2=\"60\" y1=\"0\" y2=\"180\" /><line stroke=\"black\" stroke-width=\"2\" x1=\"0\" x2=\"180\" y1=\"60\" y2=\"60\" /><line stroke=\"black\" stroke-width=\"2\" x1=\"90\" x2=\"90\" y1=\"0\" y2=\"180\" /><line stroke=\"black\" stroke-width=\"2\" x1=\"0\" x2=\"180\" y1=\"90\" y2=\"90\" /><line stroke=\"black\" stroke-width=\"2\" x1=\"120\" x2=\"120\" y1=\"0\" y2=\"180\" /><line stroke=\"black\" stroke-width=\"2\" x1=\"0\" x2=\"180\" y1=\"120\" y2=\"120\" /><line stroke=\"black\" stroke-width=\"2\" x1=\"150\" x2=\"150\" y1=\"0\" y2=\"180\" /><line stroke=\"black\" stroke-width=\"2\" x1=\"0\" x2=\"180\" y1=\"150\" y2=\"150\" /><line stroke=\"black\" stroke-width=\"2\" x1=\"180\" x2=\"180\" y1=\"0\" y2=\"180\" /><line stroke=\"black\" stroke-width=\"2\" x1=\"0\" x2=\"180\" y1=\"180\" y2=\"180\" /><rect fill=\"#FF0000\" height=\"24\" rx=\"5\" ry=\"5\" stroke-width=\"3\" width=\"54\" x=\"93\" y=\"63\" /><text style=\"fill:black;text-anchor:middle;alignment-baseline:central\" x=\"120.0\" y=\"75.0\">X</text><rect fill=\"#F0E68C\" height=\"24\" rx=\"5\" ry=\"5\" stroke-width=\"3\" width=\"54\" x=\"3\" y=\"123\" /><text style=\"fill:black;text-anchor:middle;alignment-baseline:central\" x=\"30.0\" y=\"135.0\">L</text></svg><td></tr></table>"
      ],
      "text/plain": [
       "<IPython.core.display.HTML object>"
      ]
     },
     "execution_count": 69,
     "metadata": {},
     "output_type": "execute_result"
    }
   ],
   "source": [
    "\n",
    "html = '<table><tr>'\n",
    "html += '<td>' + svg_from_state(board_to_int(v1),int(4)) + '</td>'\n",
    "for x,red_col in sorted(left_nbrs,reverse=True):\n",
    "    html += '<td> '+ svg_from_state(x,red_col) + '<td>'\n",
    "html += '</tr></table>'\n",
    "HTML(html)"
   ]
  },
  {
   "cell_type": "code",
   "execution_count": 35,
   "metadata": {},
   "outputs": [
    {
     "data": {
      "text/plain": [
       "(2, -35, 35, [-0.6108652381980153, 1.3671745807288913])"
      ]
     },
     "execution_count": 35,
     "metadata": {},
     "output_type": "execute_result"
    }
   ],
   "source": [
    "i = 0\n",
    "n = counts[i]\n",
    "if n > 0:\n",
    "    rads = [(math.pi/180)*(a[i]+((b[i]-a[i])/(n+1))*i)  for i in range(n)]\n",
    "n,a[i],b[i],rads    "
   ]
  },
  {
   "cell_type": "code",
   "execution_count": 36,
   "metadata": {},
   "outputs": [
    {
     "data": {
      "text/plain": [
       "(2, 145, 215, [-0.6108652381980153, 1.3671745807288913])"
      ]
     },
     "execution_count": 36,
     "metadata": {},
     "output_type": "execute_result"
    }
   ],
   "source": [
    "i = 2\n",
    "n = counts[i]\n",
    "if n > 0:\n",
    "    rads = [(math.pi/180)*(a[i]+((b[i]-a[i])/(n+1))*i)  for i in range(n)]\n",
    "    nbrs_x[i] = [ cy + r*math.cos(rad) for rad in rads]\n",
    "    nbrs_y[i] = [ cy + r*math.sin(rad) for rad in rads]\n",
    "n,a[i],b[i],rads  "
   ]
  },
  {
   "cell_type": "code",
   "execution_count": 42,
   "metadata": {},
   "outputs": [
    {
     "data": {
      "text/plain": [
       "([-0.6108652381980153, -0.20362174606600514],\n",
       " [-35, 55, 145, 235],\n",
       " [35, 125, 215, -55])"
      ]
     },
     "execution_count": 42,
     "metadata": {},
     "output_type": "execute_result"
    }
   ],
   "source": [
    "a_i = a[0]\n",
    "b_i = b[0]\n",
    "n = 2\n",
    "[(math.pi/180)*(a_i+((b_i-a_i)/(n+1))*i)  for i in range(n)],a,b\n",
    "nbrs_x[i] = [ cy + r*math.cos(rad) for rad in rads]\n",
    "nbrs_y[i] = [ cy + r*math.sin(rad) for rad in rads]\n"
   ]
  },
  {
   "cell_type": "code",
   "execution_count": 44,
   "metadata": {},
   "outputs": [
    {
     "data": {
      "text/plain": [
       "([2.530727415391778, 2.937970907523788],\n",
       " [-35, 55, 145, 235],\n",
       " [35, 125, 215, -55])"
      ]
     },
     "execution_count": 44,
     "metadata": {},
     "output_type": "execute_result"
    }
   ],
   "source": [
    "a_i = a[2]\n",
    "b_i = b[2]\n",
    "n = 2\n",
    "[(math.pi/180)*(a_i+((b_i-a_i)/(n+1))*i)  for i in range(n)],a,b"
   ]
  },
  {
   "cell_type": "code",
   "execution_count": null,
   "metadata": {},
   "outputs": [],
   "source": []
  }
 ],
 "metadata": {
  "kernelspec": {
   "display_name": "Python 3",
   "language": "python",
   "name": "python3"
  },
  "language_info": {
   "codemirror_mode": {
    "name": "ipython",
    "version": 3
   },
   "file_extension": ".py",
   "mimetype": "text/x-python",
   "name": "python",
   "nbconvert_exporter": "python",
   "pygments_lexer": "ipython3",
   "version": "3.6.2"
  }
 },
 "nbformat": 4,
 "nbformat_minor": 2
}

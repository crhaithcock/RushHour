{
 "cells": [
  {
   "cell_type": "code",
   "execution_count": 230,
   "metadata": {},
   "outputs": [],
   "source": [
    "import numpy as np\n",
    "import svgwrite\n",
    "from IPython.display import SVG\n",
    "from IPython.display import HTML\n",
    "\n",
    "\n"
   ]
  },
  {
   "cell_type": "code",
   "execution_count": 6,
   "metadata": {},
   "outputs": [],
   "source": [
    "blank = 0\n",
    "vcar = 4\n",
    "vtruck = 5\n",
    "hcar = 6\n",
    "htruck = 7\n",
    "\n",
    "CAR_SYMBOLS = ['Q', 'A', 'B', 'C', 'D', 'E', 'F', 'G', 'H', 'J', 'K', 'L']\n",
    "TRUCK_SYMBOLS = ['T', 'R', 'W', 'Z']\n",
    "\n",
    "CAR_COLORS = ['#7FFF00', '#7FFFD4', '#D2691E', '#8B008B', '#BDB76B'\\\n",
    "              '#8B0000', '#FF1493', '#1E90FF', '#FFD700', '#ADFF2F',\\\n",
    "              '#CD5C5C', '#F0E68C']\n",
    "\n",
    "TRUCK_COLORS = ['#F08080', '#FFA07A', '#FF00FF', '#00FA9A']\n",
    "\n",
    "RED_COLOR = '#FF0000'\n",
    "RED_SYMBOL = 'X'\n"
   ]
  },
  {
   "cell_type": "markdown",
   "metadata": {},
   "source": [
    "Create a baseline svg image upon which specific car layouts will be drawn"
   ]
  },
  {
   "cell_type": "code",
   "execution_count": 216,
   "metadata": {},
   "outputs": [
    {
     "data": {
      "text/html": [
       "<svg baseProfile=\"full\" height=\"180\" version=\"1.1\" width=\"180\" xmlns=\"http://www.w3.org/2000/svg\" xmlns:ev=\"http://www.w3.org/2001/xml-events\" xmlns:xlink=\"http://www.w3.org/1999/xlink\"><defs /><rect fill=\"#E6E6E6\" height=\"180\" width=\"180\" x=\"0\" y=\"0\" /><line stroke=\"black\" stroke-width=\"2\" x1=\"0\" x2=\"0\" y1=\"0\" y2=\"180\" /><line stroke=\"black\" stroke-width=\"2\" x1=\"0\" x2=\"180\" y1=\"0\" y2=\"0\" /><line stroke=\"black\" stroke-width=\"2\" x1=\"30\" x2=\"30\" y1=\"0\" y2=\"180\" /><line stroke=\"black\" stroke-width=\"2\" x1=\"0\" x2=\"180\" y1=\"30\" y2=\"30\" /><line stroke=\"black\" stroke-width=\"2\" x1=\"60\" x2=\"60\" y1=\"0\" y2=\"180\" /><line stroke=\"black\" stroke-width=\"2\" x1=\"0\" x2=\"180\" y1=\"60\" y2=\"60\" /><line stroke=\"black\" stroke-width=\"2\" x1=\"90\" x2=\"90\" y1=\"0\" y2=\"180\" /><line stroke=\"black\" stroke-width=\"2\" x1=\"0\" x2=\"180\" y1=\"90\" y2=\"90\" /><line stroke=\"black\" stroke-width=\"2\" x1=\"120\" x2=\"120\" y1=\"0\" y2=\"180\" /><line stroke=\"black\" stroke-width=\"2\" x1=\"0\" x2=\"180\" y1=\"120\" y2=\"120\" /><line stroke=\"black\" stroke-width=\"2\" x1=\"150\" x2=\"150\" y1=\"0\" y2=\"180\" /><line stroke=\"black\" stroke-width=\"2\" x1=\"0\" x2=\"180\" y1=\"150\" y2=\"150\" /><line stroke=\"black\" stroke-width=\"2\" x1=\"180\" x2=\"180\" y1=\"0\" y2=\"180\" /><line stroke=\"black\" stroke-width=\"2\" x1=\"0\" x2=\"180\" y1=\"180\" y2=\"180\" /></svg>"
      ],
      "text/plain": [
       "<IPython.core.display.HTML object>"
      ]
     },
     "execution_count": 216,
     "metadata": {},
     "output_type": "execute_result"
    }
   ],
   "source": [
    "space_size = 30\n",
    "board_size = 6*space_size\n",
    "\n",
    "def svg_base():\n",
    "    dwg = svgwrite.Drawing('nosave.svg',(board_size,board_size),debug=True)\n",
    "\n",
    "    dwg.add(dwg.rect(insert=(0,0),size=(board_size,board_size),fill='#E6E6E6'))\n",
    "    #dwg.add(dwg.rect(insert=(0,0),size=(board_size,board_size),fill='rgb(211,211,211)'))\n",
    "    for x in range(7):\n",
    "        dwg.add(dwg.line((30*x,0),(30*x,180),stroke='black',stroke_width=2))\n",
    "        dwg.add(dwg.line((0,30*x),(180,30*x),stroke='black',stroke_width=2))\n",
    "    return dwg\n",
    "\n",
    "# TEST\n",
    "dwg = svg_base()\n",
    "HTML(dwg.tostring())\n"
   ]
  },
  {
   "cell_type": "code",
   "execution_count": 217,
   "metadata": {},
   "outputs": [
    {
     "data": {
      "text/html": [
       "<svg baseProfile=\"full\" height=\"180\" version=\"1.1\" width=\"180\" xmlns=\"http://www.w3.org/2000/svg\" xmlns:ev=\"http://www.w3.org/2001/xml-events\" xmlns:xlink=\"http://www.w3.org/1999/xlink\"><defs /><rect fill=\"#E6E6E6\" height=\"180\" width=\"180\" x=\"0\" y=\"0\" /><line stroke=\"black\" stroke-width=\"2\" x1=\"0\" x2=\"0\" y1=\"0\" y2=\"180\" /><line stroke=\"black\" stroke-width=\"2\" x1=\"0\" x2=\"180\" y1=\"0\" y2=\"0\" /><line stroke=\"black\" stroke-width=\"2\" x1=\"30\" x2=\"30\" y1=\"0\" y2=\"180\" /><line stroke=\"black\" stroke-width=\"2\" x1=\"0\" x2=\"180\" y1=\"30\" y2=\"30\" /><line stroke=\"black\" stroke-width=\"2\" x1=\"60\" x2=\"60\" y1=\"0\" y2=\"180\" /><line stroke=\"black\" stroke-width=\"2\" x1=\"0\" x2=\"180\" y1=\"60\" y2=\"60\" /><line stroke=\"black\" stroke-width=\"2\" x1=\"90\" x2=\"90\" y1=\"0\" y2=\"180\" /><line stroke=\"black\" stroke-width=\"2\" x1=\"0\" x2=\"180\" y1=\"90\" y2=\"90\" /><line stroke=\"black\" stroke-width=\"2\" x1=\"120\" x2=\"120\" y1=\"0\" y2=\"180\" /><line stroke=\"black\" stroke-width=\"2\" x1=\"0\" x2=\"180\" y1=\"120\" y2=\"120\" /><line stroke=\"black\" stroke-width=\"2\" x1=\"150\" x2=\"150\" y1=\"0\" y2=\"180\" /><line stroke=\"black\" stroke-width=\"2\" x1=\"0\" x2=\"180\" y1=\"150\" y2=\"150\" /><line stroke=\"black\" stroke-width=\"2\" x1=\"180\" x2=\"180\" y1=\"0\" y2=\"180\" /><line stroke=\"black\" stroke-width=\"2\" x1=\"0\" x2=\"180\" y1=\"180\" y2=\"180\" /><rect fill=\"blue\" height=\"54\" rx=\"5\" ry=\"5\" stroke-width=\"3\" width=\"24\" x=\"3\" y=\"3\" /><text style=\"fill:black;text-anchor:middle;alignment-baseline:central\" x=\"15.0\" y=\"30.0\">P</text><rect fill=\"pink\" height=\"24\" rx=\"5\" ry=\"5\" stroke-width=\"3\" width=\"54\" x=\"33\" y=\"33\" /><text style=\"fill:black;text-anchor:middle;alignment-baseline:central\" x=\"60.0\" y=\"45.0\">Q</text><rect fill=\"green\" height=\"84\" rx=\"5\" ry=\"5\" stroke-width=\"3\" width=\"24\" x=\"63\" y=\"63\" /><text style=\"fill:black;text-anchor:middle;alignment-baseline:central\" x=\"75.0\" y=\"105.0\">R</text><rect fill=\"yellow\" height=\"24\" rx=\"5\" ry=\"5\" stroke-width=\"3\" width=\"84\" x=\"93\" y=\"93\" /><text style=\"fill:black;text-anchor:middle;alignment-baseline:central\" x=\"135.0\" y=\"105.0\">T</text></svg>"
      ],
      "text/plain": [
       "<IPython.core.display.HTML object>"
      ]
     },
     "execution_count": 217,
     "metadata": {},
     "output_type": "execute_result"
    }
   ],
   "source": [
    "# orientation values: 'vcar',hcar',vtruck','htruck'\n",
    "# color is hex value color (e.g. #7FFFD4)\n",
    "space_size = 30\n",
    "board_size = 6 * space_size\n",
    "svg_border = 3 \n",
    "svg_round_radius = 5\n",
    "\n",
    "svg_size = {}\n",
    "svg_size['hcar'] = (2*space_size - 2*svg_border , space_size - 2*svg_border)\n",
    "svg_size['vcar'] = (space_size - 2*svg_border,  2*space_size - 2*svg_border)\n",
    "svg_size['vtruck'] = (space_size - 2*svg_border , 3*space_size - 2*svg_border)\n",
    "svg_size['htruck'] = (3*space_size - 2*svg_border, space_size - 2*svg_border)\n",
    "\n",
    "#dwg.add(dwg.rect(insert=(65, 35), size=(50, 20),rx=5,ry=5,fill='green',  stroke_width=3))\n",
    "def svg_add_piece(dwg,nd_x,nd_y,orientation,color,text):\n",
    "    car_x = nd_y* space_size + svg_border\n",
    "    car_y = nd_x*space_size + svg_border\n",
    "    \n",
    "    size = svg_size[orientation]\n",
    "    \n",
    "    dwg.add(dwg.rect(insert=(car_x,car_y),size=size,rx=svg_round_radius,ry=svg_round_radius,fill=color, stroke_width=3))\n",
    "    \n",
    "    c_x = car_x + size[0]/2.0\n",
    "    c_y = car_y + size[1]/2.0\n",
    "    dwg.add(dwg.text(text,insert=(c_x,c_y),style='fill:black;text-anchor:middle;alignment-baseline:central'))\n",
    "    return dwg\n",
    "\n",
    "\n",
    "# TEST\n",
    "dwg = svg_base()\n",
    "dwg = svg_add_piece(dwg, 0,0,'vcar','blue','P')\n",
    "dwg = svg_add_piece(dwg, 1,1,'hcar','pink','Q')\n",
    "dwg = svg_add_piece(dwg, 2,2,'vtruck','green','R')\n",
    "dwg = svg_add_piece(dwg, 3,3,'htruck','yellow','T')\n",
    "\n",
    "\n",
    "\n",
    "\n",
    "HTML(dwg.tostring())\n",
    "        "
   ]
  },
  {
   "cell_type": "code",
   "execution_count": 14,
   "metadata": {},
   "outputs": [],
   "source": [
    "def svg_from_state(t,red_cols):\n",
    "    ''' \n",
    "        input t: numpy array modeling a RH board configuration\n",
    "        input red_cols: 2-element array [c1,c2] that marks the columns of the red car \n",
    "\n",
    "        output: instance of svgwrite drawing\n",
    "        \n",
    "    '''\n",
    "    \n",
    "    v = np.copy(t)\n",
    "    c1,c2 = red_cols\n",
    "    \n",
    "    car_colors = CAR_COLORS[:]\n",
    "    truck_colors = TRUCK_COLORS[:]\n",
    "    \n",
    "    truck_symbols = TRUCK_SYMBOLS[:]\n",
    "    car_symbols = CAR_SYMBOLS[:]\n",
    "    \n",
    "    dwg = svg_base()\n",
    "    \n",
    "    # zero out red car. We explicitly know how to mark it visually\n",
    "    v[2,c1] = blank\n",
    "    v[2,c2] = blank\n",
    "    dwg = svg_add_piece(dwg,2,c1,'hcar',RED_COLOR,RED_SYMBOL)\n",
    "    \n",
    "    vcars_y =np.unique(np.where(v==vcar)[1])\n",
    "    for y in vcars_y:\n",
    "        for x in np.where(v[:,y] == vcar)[0][0::2]:          \n",
    "            dwg = svg_add_piece(dwg,int(x),int(y),'vcar',car_colors.pop(),car_symbols.pop())\n",
    "    \n",
    "    hcars_x = np.unique(np.where(v==hcar)[0])\n",
    "    for x in hcars_x:\n",
    "        for y in np.where(v[x,:]==hcar)[0][0::2]:\n",
    "            dwg = svg_add_piece(dwg,int(x),int(y),'hcar',car_colors.pop(),car_symbols.pop())\n",
    "    \n",
    "    vtrucks_y = np.unique(np.where(v==vtruck)[1])\n",
    "    for y in vtrucks_y:\n",
    "        for x in np.where(v[:,y] == vtruck)[0][0::3]:\n",
    "            dwg = svg_add_piece(dwg,int(x),int(y),'vtruck',truck_colors.pop(),truck_symbols.pop())\n",
    "    \n",
    "    htrucks_x = np.unique(np.where(v==htruck)[0])\n",
    "    for x in htrucks_x:\n",
    "        for y in np.where(v[x,:]==htruck)[0][0::3]:\n",
    "            dwg = svg_add_piece(dwg,int(x),int(y),'htruck',truck_colors.pop(),truck_symbols.pop())\n",
    "    \n",
    "    return dwg"
   ]
  },
  {
   "cell_type": "code",
   "execution_count": 19,
   "metadata": {},
   "outputs": [
    {
     "data": {
      "text/plain": [
       "array([[0, 7, 7, 7, 0, 0],\n",
       "       [0, 0, 0, 0, 6, 6],\n",
       "       [6, 6, 0, 0, 4, 0],\n",
       "       [0, 0, 5, 0, 4, 0],\n",
       "       [4, 0, 5, 0, 0, 0],\n",
       "       [4, 0, 5, 0, 0, 0]])"
      ]
     },
     "execution_count": 19,
     "metadata": {},
     "output_type": "execute_result"
    }
   ],
   "source": [
    "# TEST\n",
    "\n",
    "t = np.zeros((6,6),dtype=int)\n",
    "t[2,0:2] = hcar\n",
    "t[1,4:6] = hcar\n",
    "t[2:4,4] = vcar\n",
    "\n",
    "#t[0,2:5] = htruck\n",
    "t[0,1:4] = htruck\n",
    "\n",
    "t[3:6,2] = vtruck\n",
    "t[4:,0] = vcar\n",
    "t"
   ]
  },
  {
   "cell_type": "code",
   "execution_count": 20,
   "metadata": {},
   "outputs": [
    {
     "data": {
      "text/html": [
       "<svg baseProfile=\"full\" height=\"180\" version=\"1.1\" width=\"180\" xmlns=\"http://www.w3.org/2000/svg\" xmlns:ev=\"http://www.w3.org/2001/xml-events\" xmlns:xlink=\"http://www.w3.org/1999/xlink\"><defs /><rect fill=\"#E6E6E6\" height=\"180\" width=\"180\" x=\"0\" y=\"0\" /><line stroke=\"black\" stroke-width=\"2\" x1=\"0\" x2=\"0\" y1=\"0\" y2=\"180\" /><line stroke=\"black\" stroke-width=\"2\" x1=\"0\" x2=\"180\" y1=\"0\" y2=\"0\" /><line stroke=\"black\" stroke-width=\"2\" x1=\"30\" x2=\"30\" y1=\"0\" y2=\"180\" /><line stroke=\"black\" stroke-width=\"2\" x1=\"0\" x2=\"180\" y1=\"30\" y2=\"30\" /><line stroke=\"black\" stroke-width=\"2\" x1=\"60\" x2=\"60\" y1=\"0\" y2=\"180\" /><line stroke=\"black\" stroke-width=\"2\" x1=\"0\" x2=\"180\" y1=\"60\" y2=\"60\" /><line stroke=\"black\" stroke-width=\"2\" x1=\"90\" x2=\"90\" y1=\"0\" y2=\"180\" /><line stroke=\"black\" stroke-width=\"2\" x1=\"0\" x2=\"180\" y1=\"90\" y2=\"90\" /><line stroke=\"black\" stroke-width=\"2\" x1=\"120\" x2=\"120\" y1=\"0\" y2=\"180\" /><line stroke=\"black\" stroke-width=\"2\" x1=\"0\" x2=\"180\" y1=\"120\" y2=\"120\" /><line stroke=\"black\" stroke-width=\"2\" x1=\"150\" x2=\"150\" y1=\"0\" y2=\"180\" /><line stroke=\"black\" stroke-width=\"2\" x1=\"0\" x2=\"180\" y1=\"150\" y2=\"150\" /><line stroke=\"black\" stroke-width=\"2\" x1=\"180\" x2=\"180\" y1=\"0\" y2=\"180\" /><line stroke=\"black\" stroke-width=\"2\" x1=\"0\" x2=\"180\" y1=\"180\" y2=\"180\" /><rect fill=\"#FF0000\" height=\"24\" rx=\"5\" ry=\"5\" stroke-width=\"3\" width=\"54\" x=\"3\" y=\"63\" /><text style=\"fill:black;text-anchor:middle;alignment-baseline:central\" x=\"30.0\" y=\"75.0\">X</text><rect fill=\"#F0E68C\" height=\"54\" rx=\"5\" ry=\"5\" stroke-width=\"3\" width=\"24\" x=\"3\" y=\"123\" /><text style=\"fill:black;text-anchor:middle;alignment-baseline:central\" x=\"15.0\" y=\"150.0\">L</text><rect fill=\"#CD5C5C\" height=\"54\" rx=\"5\" ry=\"5\" stroke-width=\"3\" width=\"24\" x=\"123\" y=\"63\" /><text style=\"fill:black;text-anchor:middle;alignment-baseline:central\" x=\"135.0\" y=\"90.0\">K</text><rect fill=\"#ADFF2F\" height=\"24\" rx=\"5\" ry=\"5\" stroke-width=\"3\" width=\"54\" x=\"123\" y=\"33\" /><text style=\"fill:black;text-anchor:middle;alignment-baseline:central\" x=\"150.0\" y=\"45.0\">J</text><rect fill=\"#00FA9A\" height=\"84\" rx=\"5\" ry=\"5\" stroke-width=\"3\" width=\"24\" x=\"63\" y=\"93\" /><text style=\"fill:black;text-anchor:middle;alignment-baseline:central\" x=\"75.0\" y=\"135.0\">Z</text><rect fill=\"#FF00FF\" height=\"24\" rx=\"5\" ry=\"5\" stroke-width=\"3\" width=\"84\" x=\"33\" y=\"3\" /><text style=\"fill:black;text-anchor:middle;alignment-baseline:central\" x=\"75.0\" y=\"15.0\">W</text></svg>"
      ],
      "text/plain": [
       "<IPython.core.display.HTML object>"
      ]
     },
     "execution_count": 20,
     "metadata": {},
     "output_type": "execute_result"
    }
   ],
   "source": [
    "dwg = svg_from_state(t,[0,1])\n",
    "HTML(dwg.tostring())"
   ]
  },
  {
   "cell_type": "code",
   "execution_count": null,
   "metadata": {},
   "outputs": [],
   "source": []
  },
  {
   "cell_type": "code",
   "execution_count": null,
   "metadata": {},
   "outputs": [],
   "source": []
  },
  {
   "cell_type": "code",
   "execution_count": null,
   "metadata": {},
   "outputs": [],
   "source": []
  },
  {
   "cell_type": "code",
   "execution_count": null,
   "metadata": {},
   "outputs": [],
   "source": []
  },
  {
   "cell_type": "code",
   "execution_count": null,
   "metadata": {},
   "outputs": [],
   "source": []
  },
  {
   "cell_type": "code",
   "execution_count": null,
   "metadata": {},
   "outputs": [],
   "source": []
  },
  {
   "cell_type": "code",
   "execution_count": null,
   "metadata": {},
   "outputs": [],
   "source": []
  },
  {
   "cell_type": "code",
   "execution_count": null,
   "metadata": {},
   "outputs": [],
   "source": []
  },
  {
   "cell_type": "code",
   "execution_count": null,
   "metadata": {},
   "outputs": [],
   "source": []
  },
  {
   "cell_type": "code",
   "execution_count": 246,
   "metadata": {},
   "outputs": [],
   "source": [
    "def svg_from_state_generated_order(v,red_cols):\n",
    "    \n",
    "    v = np.copy(t)\n",
    "\n",
    "    c1,c2 = red_cols\n",
    "\n",
    "    car_colors = CAR_COLORS[:]\n",
    "    truck_colors = TRUCK_COLORS[:]\n",
    "\n",
    "    truck_symbols = TRUCK_SYMBOLS[:]\n",
    "    car_symbols = CAR_SYMBOLS[:]\n",
    "\n",
    "    dwg = svg_base();\n",
    "\n",
    "    # zero out red car. We explicitly know how to mark it visually\n",
    "    v[2,c1] = blank\n",
    "    v[2,c2] = blank\n",
    "    dwg = svg_add_piece(dwg,2,c1,'hcar',RED_COLOR,RED_SYMBOL)\n",
    "\n",
    "    end_positions = []\n",
    "    \n",
    "    vcars_y =np.unique(np.where(v==vcar)[1])\n",
    "    for y in vcars_y:\n",
    "        for x in np.where(v[:,y] == vcar)[0][0::2]:          \n",
    "            #dwg = svg_add_piece(dwg,int(x),int(y),'vcar',car_colors.pop(),car_symbols.pop())\n",
    "            end_positions.append([int(x),int(y)])\n",
    "\n",
    "    hcars_x = np.unique(np.where(v==hcar)[0])\n",
    "    for x in hcars_x:\n",
    "        for y in np.where(v[x,:]==hcar)[0][0::2]:\n",
    "            #dwg = svg_add_piece(dwg,int(x),int(y),'hcar',car_colors.pop(),car_symbols.pop())\n",
    "            end_positions.append([int(x),int(y)])\n",
    "\n",
    "    vtrucks_y = np.unique(np.where(v==vtruck)[1])\n",
    "    for y in vtrucks_y:\n",
    "        for x in np.where(v[:,y] == vtruck)[0][0::3]:\n",
    "            #dwg = svg_add_piece(dwg,int(x),int(y),'vtruck',truck_colors.pop(),truck_symbols.pop())\n",
    "            end_positions.append([int(x),int(y)])\n",
    "\n",
    "    htrucks_x = np.unique(np.where(v==htruck)[0])\n",
    "    for x in htrucks_x:\n",
    "        for y in np.where(v[x,:]==htruck)[0][0::3]:\n",
    "            #dwg = svg_add_piece(dwg,int(x),int(y),'htruck',truck_colors.pop(),truck_symbols.pop())\n",
    "            end_positions.append([int(x),int(y)])\n",
    "\n",
    "    end_positions = sorted(end_positions)\n",
    "    for row,col in end_positions:\n",
    "        if v[row,col] == hcar:\n",
    "            dwg = svg_add_piece(dwg,int(row),int(col),'hcar',car_colors.pop(),car_symbols.pop() )\n",
    "        elif v[row,col] == vcar:\n",
    "            dwg = svg_add_piece(dwg,int(row),int(col),'vcar',car_colors.pop(),car_symbols.pop() )\n",
    "        elif v[row,col] == htruck:\n",
    "            dwg = svg_add_piece(dwg,int(row),int(col),'htruck',truck_colors.pop(),truck_symbols.pop() )\n",
    "        else:\n",
    "            dwg = svg_add_piece(dwg,int(row),int(col),'vtruck',truck_colors.pop(),truck_symbols.pop() )\n",
    "    return dwg\n"
   ]
  },
  {
   "cell_type": "code",
   "execution_count": 247,
   "metadata": {},
   "outputs": [
    {
     "data": {
      "text/html": [
       "<svg baseProfile=\"full\" height=\"180\" version=\"1.1\" width=\"180\" xmlns=\"http://www.w3.org/2000/svg\" xmlns:ev=\"http://www.w3.org/2001/xml-events\" xmlns:xlink=\"http://www.w3.org/1999/xlink\"><defs /><rect fill=\"#E6E6E6\" height=\"180\" width=\"180\" x=\"0\" y=\"0\" /><line stroke=\"black\" stroke-width=\"2\" x1=\"0\" x2=\"0\" y1=\"0\" y2=\"180\" /><line stroke=\"black\" stroke-width=\"2\" x1=\"0\" x2=\"180\" y1=\"0\" y2=\"0\" /><line stroke=\"black\" stroke-width=\"2\" x1=\"30\" x2=\"30\" y1=\"0\" y2=\"180\" /><line stroke=\"black\" stroke-width=\"2\" x1=\"0\" x2=\"180\" y1=\"30\" y2=\"30\" /><line stroke=\"black\" stroke-width=\"2\" x1=\"60\" x2=\"60\" y1=\"0\" y2=\"180\" /><line stroke=\"black\" stroke-width=\"2\" x1=\"0\" x2=\"180\" y1=\"60\" y2=\"60\" /><line stroke=\"black\" stroke-width=\"2\" x1=\"90\" x2=\"90\" y1=\"0\" y2=\"180\" /><line stroke=\"black\" stroke-width=\"2\" x1=\"0\" x2=\"180\" y1=\"90\" y2=\"90\" /><line stroke=\"black\" stroke-width=\"2\" x1=\"120\" x2=\"120\" y1=\"0\" y2=\"180\" /><line stroke=\"black\" stroke-width=\"2\" x1=\"0\" x2=\"180\" y1=\"120\" y2=\"120\" /><line stroke=\"black\" stroke-width=\"2\" x1=\"150\" x2=\"150\" y1=\"0\" y2=\"180\" /><line stroke=\"black\" stroke-width=\"2\" x1=\"0\" x2=\"180\" y1=\"150\" y2=\"150\" /><line stroke=\"black\" stroke-width=\"2\" x1=\"180\" x2=\"180\" y1=\"0\" y2=\"180\" /><line stroke=\"black\" stroke-width=\"2\" x1=\"0\" x2=\"180\" y1=\"180\" y2=\"180\" /><rect fill=\"#FF0000\" height=\"24\" rx=\"5\" ry=\"5\" stroke-width=\"3\" width=\"54\" x=\"3\" y=\"63\" /><text style=\"fill:black;text-anchor:middle;alignment-baseline:central\" x=\"30.0\" y=\"75.0\">X</text><rect fill=\"#00FA9A\" height=\"24\" rx=\"5\" ry=\"5\" stroke-width=\"3\" width=\"84\" x=\"33\" y=\"3\" /><text style=\"fill:black;text-anchor:middle;alignment-baseline:central\" x=\"75.0\" y=\"15.0\">Z</text><rect fill=\"#F0E68C\" height=\"24\" rx=\"5\" ry=\"5\" stroke-width=\"3\" width=\"54\" x=\"123\" y=\"33\" /><text style=\"fill:black;text-anchor:middle;alignment-baseline:central\" x=\"150.0\" y=\"45.0\">L</text><rect fill=\"#CD5C5C\" height=\"54\" rx=\"5\" ry=\"5\" stroke-width=\"3\" width=\"24\" x=\"123\" y=\"63\" /><text style=\"fill:black;text-anchor:middle;alignment-baseline:central\" x=\"135.0\" y=\"90.0\">K</text><rect fill=\"#FF00FF\" height=\"84\" rx=\"5\" ry=\"5\" stroke-width=\"3\" width=\"24\" x=\"63\" y=\"93\" /><text style=\"fill:black;text-anchor:middle;alignment-baseline:central\" x=\"75.0\" y=\"135.0\">W</text><rect fill=\"#ADFF2F\" height=\"54\" rx=\"5\" ry=\"5\" stroke-width=\"3\" width=\"24\" x=\"3\" y=\"123\" /><text style=\"fill:black;text-anchor:middle;alignment-baseline:central\" x=\"15.0\" y=\"150.0\">J</text></svg>"
      ],
      "text/plain": [
       "<IPython.core.display.HTML object>"
      ]
     },
     "execution_count": 247,
     "metadata": {},
     "output_type": "execute_result"
    }
   ],
   "source": [
    "HTML(svg_from_state_generated_order(t,[0,1]).tostring())"
   ]
  },
  {
   "cell_type": "code",
   "execution_count": 241,
   "metadata": {},
   "outputs": [
    {
     "data": {
      "text/plain": [
       "[[0, 1], [1, 4], [2, 4], [3, 2], [4, 0]]"
      ]
     },
     "execution_count": 241,
     "metadata": {},
     "output_type": "execute_result"
    }
   ],
   "source": [
    "sorted(end_positions)"
   ]
  },
  {
   "cell_type": "code",
   "execution_count": null,
   "metadata": {},
   "outputs": [],
   "source": []
  }
 ],
 "metadata": {
  "kernelspec": {
   "display_name": "Python 3",
   "language": "python",
   "name": "python3"
  },
  "language_info": {
   "codemirror_mode": {
    "name": "ipython",
    "version": 3
   },
   "file_extension": ".py",
   "mimetype": "text/x-python",
   "name": "python",
   "nbconvert_exporter": "python",
   "pygments_lexer": "ipython3",
   "version": "3.6.2"
  }
 },
 "nbformat": 4,
 "nbformat_minor": 2
}

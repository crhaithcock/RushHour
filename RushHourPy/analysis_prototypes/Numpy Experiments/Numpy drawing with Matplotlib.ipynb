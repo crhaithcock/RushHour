{
 "cells": [
  {
   "cell_type": "markdown",
   "metadata": {},
   "source": [
    "Below are experiments using Matplotlib to draw a representation of the RH board.\n",
    "\n",
    "Farther down are experiments using svgwriter to create SVG images."
   ]
  },
  {
   "cell_type": "code",
   "execution_count": 82,
   "metadata": {},
   "outputs": [],
   "source": [
    "%matplotlib inline\n",
    "\n",
    "import matplotlib\n",
    "import numpy as np\n",
    "import matplotlib.pyplot as plt\n",
    "import matplotlib.lines as lines\n",
    "\n",
    "    "
   ]
  },
  {
   "cell_type": "code",
   "execution_count": 83,
   "metadata": {},
   "outputs": [
    {
     "data": {
      "text/plain": [
       "array([[0, 0, 0, 0, 0, 0],\n",
       "       [0, 0, 0, 0, 0, 0],\n",
       "       [0, 0, 0, 7, 0, 0],\n",
       "       [0, 0, 0, 7, 5, 5],\n",
       "       [0, 0, 0, 0, 0, 0],\n",
       "       [0, 0, 0, 0, 0, 0]])"
      ]
     },
     "execution_count": 83,
     "metadata": {},
     "output_type": "execute_result"
    }
   ],
   "source": [
    "t = np.zeros((6,6),dtype=int)\n",
    "t[3,4:6] = 5\n",
    "t[2:4,3] = 7\n",
    "t"
   ]
  },
  {
   "cell_type": "code",
   "execution_count": 12,
   "metadata": {},
   "outputs": [],
   "source": [
    "black =  [1,1,1]\n",
    "red = [1,0,0]\n",
    "white = [0,0,0]"
   ]
  },
  {
   "cell_type": "code",
   "execution_count": 13,
   "metadata": {},
   "outputs": [
    {
     "data": {
      "text/plain": [
       "array([[[ 0.78431373,  0.78431373,  0.78431373],\n",
       "        [ 0.66666667,  1.        ,  0.96078431],\n",
       "        [ 0.78431373,  0.78431373,  0.78431373]],\n",
       "\n",
       "       [[ 0.24705882,  0.64705882,  0.29803922],\n",
       "        [ 0.81568627,  0.50980392,  0.15686275],\n",
       "        [ 0.78431373,  0.78431373,  0.78431373]],\n",
       "\n",
       "       [[ 0.66666667,  1.        ,  0.96078431],\n",
       "        [ 0.66666667,  1.        ,  0.96078431],\n",
       "        [ 0.24705882,  0.64705882,  0.29803922]],\n",
       "\n",
       "       [[ 0.81568627,  0.50980392,  0.15686275],\n",
       "        [ 0.81568627,  0.50980392,  0.15686275],\n",
       "        [ 0.81568627,  0.50980392,  0.15686275]]])"
      ]
     },
     "execution_count": 13,
     "metadata": {},
     "output_type": "execute_result"
    }
   ],
   "source": [
    "a =np.array([[156, 138, 156],\n",
    "             [1300, 137, 156],\n",
    "             [138, 138, 1300],\n",
    "             [137, 137, 137]])\n",
    "\n",
    "ca = np.array([[156,200,200,200],\n",
    "               [138,170,255,245],\n",
    "               [137,208,130,40],\n",
    "               [1300,63,165,76]])\n",
    "\n",
    "u, ind = np.unique(a, return_inverse=True)\n",
    "\n",
    "c = ca[ca[:,0].argsort()][:,1:]/255.\n",
    "\n",
    "b =  np.moveaxis(c[ind][:,:,np.newaxis],1,2).reshape((a.shape[0],a.shape[1],3))\n",
    "b"
   ]
  },
  {
   "cell_type": "code",
   "execution_count": 16,
   "metadata": {},
   "outputs": [
    {
     "data": {
      "text/plain": [
       "(array([ 137,  138,  156, 1300]),\n",
       " array([2, 1, 2, 3, 0, 2, 1, 1, 3, 0, 0, 0], dtype=int64))"
      ]
     },
     "execution_count": 16,
     "metadata": {},
     "output_type": "execute_result"
    }
   ],
   "source": [
    "u,ind"
   ]
  },
  {
   "cell_type": "code",
   "execution_count": 17,
   "metadata": {},
   "outputs": [
    {
     "data": {
      "text/plain": [
       "array([[0, 0, 0, 0, 0, 0],\n",
       "       [0, 0, 0, 0, 0, 0],\n",
       "       [0, 0, 0, 7, 0, 0],\n",
       "       [0, 0, 0, 7, 5, 5],\n",
       "       [0, 0, 0, 0, 0, 0],\n",
       "       [0, 0, 0, 0, 0, 0]])"
      ]
     },
     "execution_count": 17,
     "metadata": {},
     "output_type": "execute_result"
    }
   ],
   "source": [
    "t"
   ]
  },
  {
   "cell_type": "code",
   "execution_count": 25,
   "metadata": {},
   "outputs": [
    {
     "data": {
      "text/plain": [
       "array([[2, 3],\n",
       "       [3, 3]], dtype=int64)"
      ]
     },
     "execution_count": 25,
     "metadata": {},
     "output_type": "execute_result"
    }
   ],
   "source": [
    "match_7 = np.where(t==7)\n",
    "np.array(list((zip(match_7[0],match_7[1]))))\n"
   ]
  },
  {
   "cell_type": "code",
   "execution_count": 29,
   "metadata": {},
   "outputs": [],
   "source": [
    "blank_rgb = [211,211,211]\n",
    "car_pink = [250,211,160]\n",
    "truck_black = [0,0,0]\n",
    "\n"
   ]
  },
  {
   "cell_type": "code",
   "execution_count": 30,
   "metadata": {},
   "outputs": [
    {
     "data": {
      "text/plain": [
       "array([0, 0, 0, 0, 0, 0])"
      ]
     },
     "execution_count": 30,
     "metadata": {},
     "output_type": "execute_result"
    }
   ],
   "source": [
    "t[0]"
   ]
  },
  {
   "cell_type": "code",
   "execution_count": 34,
   "metadata": {},
   "outputs": [
    {
     "ename": "ValueError",
     "evalue": "invalid literal for int() with base 10: 'hello'",
     "output_type": "error",
     "traceback": [
      "\u001b[1;31m---------------------------------------------------------------------------\u001b[0m",
      "\u001b[1;31mValueError\u001b[0m                                Traceback (most recent call last)",
      "\u001b[1;32m<ipython-input-34-0695b7b9db58>\u001b[0m in \u001b[0;36m<module>\u001b[1;34m()\u001b[0m\n\u001b[0;32m      1\u001b[0m \u001b[0mr\u001b[0m \u001b[1;33m=\u001b[0m \u001b[0mnp\u001b[0m\u001b[1;33m.\u001b[0m\u001b[0mcopy\u001b[0m\u001b[1;33m(\u001b[0m\u001b[0mt\u001b[0m\u001b[1;33m)\u001b[0m\u001b[1;33m\u001b[0m\u001b[0m\n\u001b[1;32m----> 2\u001b[1;33m \u001b[0mr\u001b[0m\u001b[1;33m[\u001b[0m\u001b[1;36m4\u001b[0m\u001b[1;33m,\u001b[0m\u001b[1;36m5\u001b[0m\u001b[1;33m]\u001b[0m \u001b[1;33m=\u001b[0m \u001b[1;34m'hello'\u001b[0m\u001b[1;33m\u001b[0m\u001b[0m\n\u001b[0m\u001b[0;32m      3\u001b[0m \u001b[0mr\u001b[0m\u001b[1;33m\u001b[0m\u001b[0m\n",
      "\u001b[1;31mValueError\u001b[0m: invalid literal for int() with base 10: 'hello'"
     ]
    }
   ],
   "source": []
  },
  {
   "cell_type": "code",
   "execution_count": 35,
   "metadata": {},
   "outputs": [
    {
     "data": {
      "text/plain": [
       "numpy.ndarray"
      ]
     },
     "execution_count": 35,
     "metadata": {},
     "output_type": "execute_result"
    }
   ],
   "source": [
    "type(t)"
   ]
  },
  {
   "cell_type": "code",
   "execution_count": 39,
   "metadata": {},
   "outputs": [
    {
     "data": {
      "text/plain": [
       "array([[211, 211, 211],\n",
       "       [211, 211, 211],\n",
       "       [211, 211, 211],\n",
       "       [211, 211, 211],\n",
       "       [211, 211, 211],\n",
       "       [211, 211, 211]])"
      ]
     },
     "execution_count": 39,
     "metadata": {},
     "output_type": "execute_result"
    }
   ],
   "source": [
    "np.array( np.array([blank_rgb]*6) * 1)"
   ]
  },
  {
   "cell_type": "code",
   "execution_count": 82,
   "metadata": {},
   "outputs": [],
   "source": [
    "empty_board = np.array([211]*(6*6*3),dtype='B').reshape(6,6,3)\n",
    "empty_board[3,3] = [0,0,0]\n",
    "#empty_board"
   ]
  },
  {
   "cell_type": "code",
   "execution_count": 164,
   "metadata": {},
   "outputs": [
    {
     "data": {
      "image/png": "[encoded data removed]",
      "text/plain": [
       "<matplotlib.figure.Figure at 0x2a49111edd8>"
      ]
     },
     "metadata": {},
     "output_type": "display_data"
    }
   ],
   "source": [
    "plt.imshow(empty_board,aspect='equal')\n",
    "ax = plt.gca()\n",
    "ax.set_xticks([.5,1.5,2.5,3.5,4.5,5.5])\n",
    "#ax.set_xticklabels(['0','1','2','3','4','5'])\n",
    "ax.set_yticks([.5,1.5,2.5,3.5,4.5,5.5])\n",
    "#ax.minor_ticks_on\n",
    "# test a plain-ol-line\n",
    "#line = lines.Line2D([1,1], [0, 6],lw=2, color='black', axes=ax)\n",
    "#ax.add_line(line)\n",
    "for tic in ax.xaxis.get_major_ticks():\n",
    "    tic.tick1On = tic.tick2On = False\n",
    "    \n",
    "for tic in ax.yaxis.get_major_ticks():\n",
    "    tic.tick1On = tic.tick2On = False\n",
    "    \n",
    "plt.grid(color='black',linewidth=1)\n",
    "plt.show()"
   ]
  },
  {
   "cell_type": "code",
   "execution_count": 165,
   "metadata": {},
   "outputs": [
    {
     "data": {
      "image/png": "[encoded data removed]",
      "text/plain": [
       "<matplotlib.figure.Figure at 0x2a49114ea90>"
      ]
     },
     "metadata": {},
     "output_type": "display_data"
    }
   ],
   "source": [
    "# Make a 9x9 grid...\n",
    "nrows, ncols = 6,6\n",
    "image = np.zeros(nrows*ncols)\n",
    "\n",
    "# Set every other cell to a random number (this would be your data)\n",
    "image[::3] = np.random.random(nrows*ncols //3)\n",
    "\n",
    "# Reshape things into a 9x9 grid.\n",
    "image = image.reshape((nrows, ncols))\n",
    "\n",
    "row_labels = range(nrows)\n",
    "col_labels = range(ncols)\n",
    "plt.matshow(image)\n",
    "plt.xticks(range(ncols), col_labels)\n",
    "plt.yticks(range(nrows), row_labels)\n",
    "\n",
    "plt.show()"
   ]
  },
  {
   "cell_type": "code",
   "execution_count": 132,
   "metadata": {},
   "outputs": [
    {
     "data": {
      "text/plain": [
       "array([ 0.65763165,  0.        ,  0.62892623,  0.        ,  0.57250474,\n",
       "        0.        ,  0.18414462,  0.        ,  0.94251655])"
      ]
     },
     "execution_count": 132,
     "metadata": {},
     "output_type": "execute_result"
    }
   ],
   "source": [
    "image[0]"
   ]
  },
  {
   "cell_type": "code",
   "execution_count": 166,
   "metadata": {},
   "outputs": [
    {
     "data": {
      "image/png": "[encoded data removed]",
      "text/plain": [
       "<matplotlib.figure.Figure at 0x2a49178c208>"
      ]
     },
     "metadata": {},
     "output_type": "display_data"
    }
   ],
   "source": [
    "from matplotlib import colors\n",
    "import numpy as np\n",
    "\n",
    "data = np.random.rand(10, 10) * 20\n",
    "\n",
    "# create discrete colormap\n",
    "cmap = colors.ListedColormap(['red', 'blue'])\n",
    "bounds = [0,10,20]\n",
    "norm = colors.BoundaryNorm(bounds, cmap.N)\n",
    "\n",
    "fig, ax = plt.subplots()\n",
    "#ax.imshow(data, cmap=cmap, norm=norm)\n",
    "ax.imshow(empty_board)\n",
    "# draw gridlines\n",
    "ax.grid(which='major', axis='both', linestyle='-', color='k', linewidth=2)\n",
    "ax.set_xticks(np.arange(-.5, 6, 1));\n",
    "ax.set_yticks(np.arange(-.5, 6, 1));\n",
    "\n",
    "for tic in ax.xaxis.get_major_ticks():\n",
    "    tic.tick1On = tic.tick2On = False\n",
    "    \n",
    "for tic in ax.yaxis.get_major_ticks():\n",
    "    tic.tick1On = tic.tick2On = False\n",
    "\n",
    "plt.show()"
   ]
  },
  {
   "cell_type": "code",
   "execution_count": 155,
   "metadata": {
    "scrolled": true
   },
   "outputs": [
    {
     "data": {
      "image/png": "[encoded data removed]",
      "text/plain": [
       "<matplotlib.figure.Figure at 0x2a492faab00>"
      ]
     },
     "metadata": {},
     "output_type": "display_data"
    }
   ],
   "source": [
    "import matplotlib.pyplot as plt\n",
    "import matplotlib.patches as patches\n",
    "from PIL import Image\n",
    "import numpy as np\n",
    "\n",
    "#im = np.array(Image.open('stinkbug.png'), dtype=np.uint8)\n",
    "\n",
    "# Create figure and axes\n",
    "fig,ax = plt.subplots(1)\n",
    "# Display the image\n",
    "ax.imshow(empty_board)\n",
    "\n",
    "plot([x1, x2], [y1, y2], color='k', linestyle='-', linewidth=2)\n",
    "\n",
    "# Create a Rectangle patch\n",
    "rect = patches.Rectangle((0,0),1,1,linewidth=1,edgecolor='r',facecolor='none')\n",
    "\n",
    "# Add the patch to the Axes\n",
    "ax.add_patch(rect)\n",
    "\n",
    "plt.show()\n",
    "plt."
   ]
  },
  {
   "cell_type": "code",
   "execution_count": 176,
   "metadata": {},
   "outputs": [
    {
     "data": {
      "image/png": "[encoded data removed]",
      "text/plain": [
       "<matplotlib.figure.Figure at 0x2a492cf7048>"
      ]
     },
     "metadata": {},
     "output_type": "display_data"
    }
   ],
   "source": [
    "plt.plot([1,1], [1,2], color='k', linestyle='-', linewidth=2)\n",
    "plt.grid()\n",
    "plt.show()"
   ]
  },
  {
   "cell_type": "code",
   "execution_count": 172,
   "metadata": {},
   "outputs": [
    {
     "data": {
      "image/png": "[encoded data removed]",
      "text/plain": [
       "<matplotlib.figure.Figure at 0x2a4911b51d0>"
      ]
     },
     "metadata": {},
     "output_type": "display_data"
    }
   ],
   "source": [
    "fig,ax = plt.subplots(1)\n",
    "\n",
    "#ax.\n",
    "rect = patches.Rectangle((.5,.5),.25,.25,linewidth=1,edgecolor='r',facecolor='none')\n",
    "\n",
    "# Add the patch to the Axes\n",
    "ax.add_patch(rect)\n",
    "\n",
    "#ax.grid(b=None)\n",
    "for tic in ax.xaxis.get_major_ticks():\n",
    "    tic.tick1On = tic.tick2On = False\n",
    "    \n",
    "for tic in ax.yaxis.get_major_ticks():\n",
    "    tic.tick1On = tic.tick2On = False\n",
    "\n",
    "plt.show()\n"
   ]
  },
  {
   "cell_type": "code",
   "execution_count": 201,
   "metadata": {},
   "outputs": [
    {
     "data": {
      "image/png": "[encoded data removed]",
      "text/plain": [
       "<matplotlib.figure.Figure at 0x2a4917aaeb8>"
      ]
     },
     "metadata": {},
     "output_type": "display_data"
    }
   ],
   "source": [
    "\n",
    "\n",
    "\n",
    "#fig = plt.figure(figsize = (1,1))\n",
    "fig = plt.figure()\n",
    "\n",
    "lines = [ lines.Line2D([x,x],[0,1],transform=fig.transFigure, figure=fig) for x in range(6)]\n",
    "#l1 = lines.Line2D([0, 0], [0, 1] ,transform=fig.transFigure, figure=fig)\n",
    "\n",
    "#l2 = lines.Line2D([1, 1], [0,1], transform=fig.transFigure, figure=fig)\n",
    "\n",
    "fig.lines.extend(lines)\n",
    "\n",
    "plt.show()"
   ]
  },
  {
   "cell_type": "code",
   "execution_count": 254,
   "metadata": {},
   "outputs": [
    {
     "data": {
      "image/png": "[encoded data removed]",
      "text/plain": [
       "<matplotlib.figure.Figure at 0x2a492e52e80>"
      ]
     },
     "metadata": {},
     "output_type": "display_data"
    }
   ],
   "source": [
    "ax = plt.subplot(111) \n",
    "\n",
    "from matplotlib.patches import Rectangle\n",
    "\n",
    "\n",
    "#p = FancyArrow(0.05, 0.5, 0.2, 0.0, width=0.01, \n",
    "#               length_includes_head=False, \n",
    "#               head_width=None, head_length=None, \n",
    "#               shape='full', overhang=0, \n",
    "##               head_starts_at_zero=False, \n",
    "#              transform=ax.figure.transFigure, \n",
    "#               clip_on=False) \n",
    "\n",
    "#p = Rectangle( (.5,.5),.5,.5,facecolor=(211/255.0,211/255.0,211/255.0),edgecolor=(0,0,0))\n",
    "\n",
    "#ax.add_patch(p) \n",
    "\n",
    "#for x in range(6):\n",
    "#    ax.add_patch( Rectangle( (x/6,x/6),1/6,1/6, facecolor=(211/255.0,211/255.0,211/255.0),edgecolor=(0,0,0)))\n",
    "\n",
    "def add_car(x,y,ax):\n",
    "    \n",
    "    border = 1/60.0\n",
    "    \n",
    "    # start with horizontal cars only\n",
    "    x = x * 1/6.0 \n",
    "    y = y * 1/6.0 \n",
    "    height = 1/6.0 - 2*border\n",
    "    width = 2/6.0 -border\n",
    "    \n",
    "    r = Rectangle( (x,y), width, height, facecolor = 'green')\n",
    "    \n",
    "    ax.add_patch(r)\n",
    "        \n",
    "    c_x = x + width/2.0 \n",
    "    c_y = y + height/2.0\n",
    "\n",
    "    ax.text(c_x,c_y,'P',horizontalalignment='center', verticalalignment='center',fontsize=20, color='black')\n",
    "\n",
    "    \n",
    "    \n",
    "ax.invert_yaxis()\n",
    "for row in range(6):\n",
    "    for col in range(6):\n",
    "        ax.add_patch( Rectangle( (row/6,col/6) ,1/6,1/6,facecolor=(211/255.0,211/255.0,211/255.0),edgecolor=(0,0,0)))\n",
    "\n",
    "space_width = 1/6\n",
    "border = 1/60 \n",
    "\n",
    "ax.add_patch(Rectangle( (1/6+border,2/6+border),2/6-2*border,1/6-2*border , color='red' )  )\n",
    "ax.grid(False)\n",
    "# Hide axes ticks\n",
    "ax.set_xticks([])\n",
    "ax.set_yticks([])\n",
    "ax.text(1/6+border + 1/6-border ,2/6+border + 1/12 - border, 'X', horizontalalignment='center', verticalalignment='center',fontsize=20, color='black')\n",
    "add_car(2,4,ax)\n",
    "#ax.axis('off')\n",
    "plt.show()"
   ]
  },
  {
   "cell_type": "code",
   "execution_count": null,
   "metadata": {},
   "outputs": [],
   "source": []
  },
  {
   "cell_type": "code",
   "execution_count": null,
   "metadata": {},
   "outputs": [],
   "source": []
  },
  {
   "cell_type": "code",
   "execution_count": 130,
   "metadata": {},
   "outputs": [
    {
     "data": {
      "image/png": "[encoded data removed]",
      "text/plain": [
       "<matplotlib.figure.Figure at 0x2a4928f6a20>"
      ]
     },
     "metadata": {},
     "output_type": "display_data"
    }
   ],
   "source": [
    "import numpy as np\n",
    "import matplotlib\n",
    "import matplotlib.pyplot as plt\n",
    "# sphinx_gallery_thumbnail_number = 2\n",
    "\n",
    "vegetables = [\"cucumber\", \"tomato\", \"lettuce\", \"asparagus\",\n",
    "              \"potato\", \"wheat\", \"barley\"]\n",
    "farmers = [\"Farmer Joe\", \"Upland Bros.\", \"Smith Gardening\",\n",
    "           \"Agrifun\", \"Organiculture\", \"BioGoods Ltd.\", \"Cornylee Corp.\"]\n",
    "\n",
    "harvest = np.array([[0.8, 2.4, 2.5, 3.9, 0.0, 4.0, 0.0],\n",
    "                    [2.4, 0.0, 4.0, 1.0, 2.7, 0.0, 0.0],\n",
    "                    [1.1, 2.4, 0.8, 4.3, 1.9, 4.4, 0.0],\n",
    "                    [0.6, 0.0, 0.3, 0.0, 3.1, 0.0, 0.0],\n",
    "                    [0.7, 1.7, 0.6, 2.6, 2.2, 6.2, 0.0],\n",
    "                    [1.3, 1.2, 0.0, 0.0, 0.0, 3.2, 5.1],\n",
    "                    [0.1, 2.0, 0.0, 1.4, 0.0, 1.9, 6.3]])\n",
    "\n",
    "\n",
    "fig, ax = plt.subplots()\n",
    "im = ax.imshow(harvest)\n",
    "\n",
    "# We want to show all ticks...\n",
    "ax.set_xticks(np.arange(len(farmers)))\n",
    "ax.set_yticks(np.arange(len(vegetables)))\n",
    "# ... and label them with the respective list entries\n",
    "ax.set_xticklabels(farmers)\n",
    "ax.set_yticklabels(vegetables)\n",
    "\n",
    "# Rotate the tick labels and set their alignment.\n",
    "plt.setp(ax.get_xticklabels(), rotation=45, ha=\"right\",\n",
    "         rotation_mode=\"anchor\")\n",
    "\n",
    "# Loop over data dimensions and create text annotations.\n",
    "#for i in range(len(vegetables)):\n",
    "#    for j in range(len(farmers)):\n",
    "#        text = ax.text(j, i, harvest[i, j],\n",
    "#                       ha=\"center\", va=\"center\", color=\"w\")\n",
    "\n",
    "ax.set_title(\"Harvest of local farmers (in tons/year)\")\n",
    "fig.tight_layout()\n",
    "plt.show()"
   ]
  },
  {
   "cell_type": "code",
   "execution_count": null,
   "metadata": {},
   "outputs": [],
   "source": []
  },
  {
   "cell_type": "code",
   "execution_count": 49,
   "metadata": {},
   "outputs": [
    {
     "data": {
      "image/png": "[encoded data removed]",
      "text/plain": [
       "<matplotlib.figure.Figure at 0x2a490a42ef0>"
      ]
     },
     "metadata": {},
     "output_type": "display_data"
    }
   ],
   "source": [
    "Z = np.random.rand(6, 10)\n",
    "\n",
    "fig, (ax0, ax1) = plt.subplots(2, 1)\n",
    "\n",
    "c = ax0.pcolor(Z)\n",
    "ax0.set_title('default: no edges')\n",
    "\n",
    "c = ax1.pcolor(Z, edgecolors='k', linewidths=4)\n",
    "ax1.set_title('thick edges')\n",
    "\n",
    "fig.tight_layout()\n",
    "plt.show()"
   ]
  },
  {
   "cell_type": "code",
   "execution_count": 53,
   "metadata": {},
   "outputs": [
    {
     "data": {
      "text/plain": [
       "<matplotlib.collections.PolyCollection at 0x2a48fb65c88>"
      ]
     },
     "execution_count": 53,
     "metadata": {},
     "output_type": "execute_result"
    }
   ],
   "source": [
    "c"
   ]
  },
  {
   "cell_type": "code",
   "execution_count": 67,
   "metadata": {},
   "outputs": [
    {
     "data": {
      "text/plain": [
       "<matplotlib.axes._subplots.AxesSubplot at 0x2a49143a748>"
      ]
     },
     "execution_count": 67,
     "metadata": {},
     "output_type": "execute_result"
    }
   ],
   "source": [
    "ax"
   ]
  },
  {
   "cell_type": "code",
   "execution_count": 5,
   "metadata": {},
   "outputs": [],
   "source": [
    "from IPython.display import SVG\n",
    "from IPython.display import HTML"
   ]
  },
  {
   "cell_type": "code",
   "execution_count": 257,
   "metadata": {},
   "outputs": [
    {
     "data": {
      "text/html": [
       "<?xml version=\"1.0\"?>\n",
       "<!DOCTYPE svg PUBLIC \"-//W3C//DTD SVG 1.1//EN\"\n",
       "  \"http://www.w3.org/Graphics/SVG/1.1/DTD/svg11.dtd\">\n",
       "\n",
       "<svg width=\"360\" height=\"360\"\n",
       "  xmlns=\"http://www.w3.org/2000/svg\" >\n",
       "<title>Cat</title>\n",
       "<desc>Stick Figure of a Cat</desc>\n",
       "\n",
       "<!-- outer rectangle -->\n",
       "  <rect x=\"10\" y=\"70\" width=\"300\" height=\"300\"\n",
       "    style=\"fill: #D3D3D3;\n",
       "      stroke: black; stroke-width: 2; stroke-opacity: 0.5;\"/>\n",
       " \n",
       " <line x1=\"60\" y1=\"70\" x2=\"60\" y2=\"370\" style=\"stroke: black;\"/>\n",
       " <line x1=\"110\" y1=\"70\" x2=\"110\" y2=\"370\" style=\"stroke: black;\"/>\n",
       " <line x1=\"160\" y1=\"70\" x2=\"160\" y2=\"370\" style=\"stroke: black;\"/>\n",
       " <line x1=\"210\" y1=\"70\" x2=\"210\" y2=\"370\" style=\"stroke: black;\"/>\n",
       " <line x1=\"260\" y1=\"70\" x2=\"260\" y2=\"370\" style=\"stroke: black;\"/>\n",
       " \n",
       " <line x1=\"10\" y1=\"120\" x2=\"310\" y2=\"120\" style=\"stroke: black;\"/>\n",
       " <line x1=\"10\" y1=\"170\" x2=\"310\" y2=\"170\" style=\"stroke: black;\"/>\n",
       " <line x1=\"10\" y1=\"220\" x2=\"310\" y2=\"220\" style=\"stroke: black;\"/>\n",
       " <line x1=\"10\" y1=\"270\" x2=\"310\" y2=\"270\" style=\"stroke: black;\"/>\n",
       " <line x1=\"10\" y1=\"320\" x2=\"310\" y2=\"320\" style=\"stroke: black;\"/>\n",
       " \n",
       " <rect x=\"61\" y=\"171\" width=\"98\" height=\"48\" rx=\"5\"\n",
       "    style=\"stroke: none; fill: red;\"/>\n",
       "    \n",
       " <rect x=\"61\" y=\"271\" width=\"98\" height=\"48\" rx=\"5\"\n",
       "    style=\"stroke: none; fill: green\"/>\n",
       "\n",
       " <text x=\"111\" y=\"195\" style=\"alignment-baseline:middle;font-size:18pt;font-weight:bold;text-anchor: middle\">X</text>\n",
       "\n",
       "</svg>"
      ],
      "text/plain": [
       "<IPython.core.display.HTML object>"
      ]
     },
     "execution_count": 257,
     "metadata": {},
     "output_type": "execute_result"
    }
   ],
   "source": [
    "HTML(\"\"\"<?xml version=\"1.0\"?>\n",
    "<!DOCTYPE svg PUBLIC \"-//W3C//DTD SVG 1.1//EN\"\n",
    "  \"http://www.w3.org/Graphics/SVG/1.1/DTD/svg11.dtd\">\n",
    "\n",
    "<svg width=\"360\" height=\"360\"\n",
    "  xmlns=\"http://www.w3.org/2000/svg\" >\n",
    "<title>Cat</title>\n",
    "<desc>Stick Figure of a Cat</desc>\n",
    "\n",
    "<!-- outer rectangle -->\n",
    "  <rect x=\"10\" y=\"70\" width=\"300\" height=\"300\"\n",
    "    style=\"fill: #D3D3D3;\n",
    "      stroke: black; stroke-width: 2; stroke-opacity: 0.5;\"/>\n",
    " \n",
    " <line x1=\"60\" y1=\"70\" x2=\"60\" y2=\"370\" style=\"stroke: black;\"/>\n",
    " <line x1=\"110\" y1=\"70\" x2=\"110\" y2=\"370\" style=\"stroke: black;\"/>\n",
    " <line x1=\"160\" y1=\"70\" x2=\"160\" y2=\"370\" style=\"stroke: black;\"/>\n",
    " <line x1=\"210\" y1=\"70\" x2=\"210\" y2=\"370\" style=\"stroke: black;\"/>\n",
    " <line x1=\"260\" y1=\"70\" x2=\"260\" y2=\"370\" style=\"stroke: black;\"/>\n",
    " \n",
    " <line x1=\"10\" y1=\"120\" x2=\"310\" y2=\"120\" style=\"stroke: black;\"/>\n",
    " <line x1=\"10\" y1=\"170\" x2=\"310\" y2=\"170\" style=\"stroke: black;\"/>\n",
    " <line x1=\"10\" y1=\"220\" x2=\"310\" y2=\"220\" style=\"stroke: black;\"/>\n",
    " <line x1=\"10\" y1=\"270\" x2=\"310\" y2=\"270\" style=\"stroke: black;\"/>\n",
    " <line x1=\"10\" y1=\"320\" x2=\"310\" y2=\"320\" style=\"stroke: black;\"/>\n",
    " \n",
    " <rect x=\"61\" y=\"171\" width=\"98\" height=\"48\" rx=\"5\"\n",
    "    style=\"stroke: none; fill: red;\"/>\n",
    "    \n",
    " <rect x=\"61\" y=\"271\" width=\"98\" height=\"48\" rx=\"5\"\n",
    "    style=\"stroke: none; fill: green\"/>\n",
    "\n",
    " <text x=\"111\" y=\"195\" style=\"alignment-baseline:middle;font-size:18pt;font-weight:bold;text-anchor: middle\">X</text>\n",
    "\n",
    "</svg>\"\"\")"
   ]
  },
  {
   "cell_type": "code",
   "execution_count": 1,
   "metadata": {},
   "outputs": [],
   "source": [
    "import svgwrite"
   ]
  },
  {
   "cell_type": "code",
   "execution_count": 78,
   "metadata": {},
   "outputs": [
    {
     "data": {
      "text/html": [
       "<svg baseProfile=\"tiny\" height=\"100%\" version=\"1.2\" width=\"100%\" xmlns=\"http://www.w3.org/2000/svg\" xmlns:ev=\"http://www.w3.org/2001/xml-events\" xmlns:xlink=\"http://www.w3.org/1999/xlink\"><defs /><g id=\"shapes\" /><rect fill=\"rgb(211,211,211)\" height=\"180\" width=\"180\" x=\"0\" y=\"0\" /><line stroke=\"black\" stroke-width=\"2\" x1=\"0\" x2=\"0\" y1=\"0\" y2=\"180\" /><line stroke=\"black\" stroke-width=\"2\" x1=\"0\" x2=\"180\" y1=\"0\" y2=\"0\" /><line stroke=\"black\" stroke-width=\"2\" x1=\"30\" x2=\"30\" y1=\"0\" y2=\"180\" /><line stroke=\"black\" stroke-width=\"2\" x1=\"0\" x2=\"180\" y1=\"30\" y2=\"30\" /><line stroke=\"black\" stroke-width=\"2\" x1=\"60\" x2=\"60\" y1=\"0\" y2=\"180\" /><line stroke=\"black\" stroke-width=\"2\" x1=\"0\" x2=\"180\" y1=\"60\" y2=\"60\" /><line stroke=\"black\" stroke-width=\"2\" x1=\"90\" x2=\"90\" y1=\"0\" y2=\"180\" /><line stroke=\"black\" stroke-width=\"2\" x1=\"0\" x2=\"180\" y1=\"90\" y2=\"90\" /><line stroke=\"black\" stroke-width=\"2\" x1=\"120\" x2=\"120\" y1=\"0\" y2=\"180\" /><line stroke=\"black\" stroke-width=\"2\" x1=\"0\" x2=\"180\" y1=\"120\" y2=\"120\" /><line stroke=\"black\" stroke-width=\"2\" x1=\"150\" x2=\"150\" y1=\"0\" y2=\"180\" /><line stroke=\"black\" stroke-width=\"2\" x1=\"0\" x2=\"180\" y1=\"150\" y2=\"150\" /><line stroke=\"black\" stroke-width=\"2\" x1=\"180\" x2=\"180\" y1=\"0\" y2=\"180\" /><line stroke=\"black\" stroke-width=\"2\" x1=\"0\" x2=\"180\" y1=\"180\" y2=\"180\" /><rect fill=\"red\" height=\"20\" rx=\"5\" ry=\"5\" stroke=\"red\" stroke-width=\"3\" width=\"50\" x=\"35\" y=\"65\" /><text x=\"55\" y=\"80\">X</text><rect fill=\"green\" height=\"20\" rx=\"5\" ry=\"5\" stroke-width=\"3\" width=\"50\" x=\"65\" y=\"35\" /><text x=\"85\" y=\"50\">Q</text></svg>"
      ],
      "text/plain": [
       "<IPython.core.display.HTML object>"
      ]
     },
     "execution_count": 78,
     "metadata": {},
     "output_type": "execute_result"
    }
   ],
   "source": [
    "\n",
    "dwg = svgwrite.Drawing('username.svg', profile='tiny', width=180, height=180)\n",
    "\n",
    "shapes = dwg.add(dwg.g(id='shapes'))\n",
    "\n",
    "dwg.add(dwg.rect(insert=(0,0),size=(180,180),fill='rgb(211,211,211)'))\n",
    "\n",
    "for x in range(7):\n",
    "    dwg.add(dwg.line((30*x,0),(30*x,180),stroke='black',stroke_width=2))\n",
    "    dwg.add(dwg.line((0,30*x),(180,30*x),stroke='black',stroke_width=2))\n",
    "\n",
    "dwg.add(dwg.rect(insert=(35, 65), size=(50, 20),rx=5,ry=5,fill='red', stroke='red', stroke_width=3))\n",
    "dwg.add(dwg.text('X',insert=(55,80)))\n",
    "\n",
    "\n",
    "dwg.add(dwg.rect(insert=(65, 35), size=(50, 20),rx=5,ry=5,fill='green',  stroke_width=3))\n",
    "dwg.add(dwg.text('Q',insert=(85,50)))\n",
    "\n",
    "\n",
    "\n",
    "#dwg.add(drawObj.rect(insert=(10, 10), size=(30, 30), rx=None, ry=None,stroke='green')\n",
    "#drawObj.add(drawObj.line((10, 70), (400, 70), stroke=svgwrite.rgb(0, 0, 0, '%')))\n",
    "HTML(dwg.tostring())"
   ]
  },
  {
   "cell_type": "markdown",
   "metadata": {},
   "source": [
    "Now to create dynamic procedure to convert numpry ndarray into svg representation."
   ]
  },
  {
   "cell_type": "code",
   "execution_count": 84,
   "metadata": {},
   "outputs": [
    {
     "data": {
      "text/plain": [
       "array([[0, 0, 0, 0, 0, 0],\n",
       "       [0, 0, 0, 0, 0, 0],\n",
       "       [0, 0, 0, 7, 0, 0],\n",
       "       [0, 0, 0, 7, 5, 5],\n",
       "       [0, 0, 0, 0, 0, 0],\n",
       "       [0, 0, 0, 0, 0, 0]])"
      ]
     },
     "execution_count": 84,
     "metadata": {},
     "output_type": "execute_result"
    }
   ],
   "source": [
    "t"
   ]
  },
  {
   "cell_type": "code",
   "execution_count": 85,
   "metadata": {},
   "outputs": [
    {
     "data": {
      "text/html": [
       "<svg baseProfile=\"tiny\" height=\"100%\" version=\"1.2\" width=\"100%\" xmlns=\"http://www.w3.org/2000/svg\" xmlns:ev=\"http://www.w3.org/2001/xml-events\" xmlns:xlink=\"http://www.w3.org/1999/xlink\"><defs /><rect fill=\"rgb(211,211,211)\" height=\"180\" width=\"180\" x=\"0\" y=\"0\" /><line stroke=\"black\" stroke-width=\"2\" x1=\"0\" x2=\"0\" y1=\"0\" y2=\"180\" /><line stroke=\"black\" stroke-width=\"2\" x1=\"0\" x2=\"180\" y1=\"0\" y2=\"0\" /><line stroke=\"black\" stroke-width=\"2\" x1=\"30\" x2=\"30\" y1=\"0\" y2=\"180\" /><line stroke=\"black\" stroke-width=\"2\" x1=\"0\" x2=\"180\" y1=\"30\" y2=\"30\" /><line stroke=\"black\" stroke-width=\"2\" x1=\"60\" x2=\"60\" y1=\"0\" y2=\"180\" /><line stroke=\"black\" stroke-width=\"2\" x1=\"0\" x2=\"180\" y1=\"60\" y2=\"60\" /><line stroke=\"black\" stroke-width=\"2\" x1=\"90\" x2=\"90\" y1=\"0\" y2=\"180\" /><line stroke=\"black\" stroke-width=\"2\" x1=\"0\" x2=\"180\" y1=\"90\" y2=\"90\" /><line stroke=\"black\" stroke-width=\"2\" x1=\"120\" x2=\"120\" y1=\"0\" y2=\"180\" /><line stroke=\"black\" stroke-width=\"2\" x1=\"0\" x2=\"180\" y1=\"120\" y2=\"120\" /><line stroke=\"black\" stroke-width=\"2\" x1=\"150\" x2=\"150\" y1=\"0\" y2=\"180\" /><line stroke=\"black\" stroke-width=\"2\" x1=\"0\" x2=\"180\" y1=\"150\" y2=\"150\" /><line stroke=\"black\" stroke-width=\"2\" x1=\"180\" x2=\"180\" y1=\"0\" y2=\"180\" /><line stroke=\"black\" stroke-width=\"2\" x1=\"0\" x2=\"180\" y1=\"180\" y2=\"180\" /></svg>"
      ],
      "text/plain": [
       "<IPython.core.display.HTML object>"
      ]
     },
     "execution_count": 85,
     "metadata": {},
     "output_type": "execute_result"
    }
   ],
   "source": [
    "space_size = 30\n",
    "board_size = 6*space_size\n",
    "\n",
    "dwg = svgwrite.Drawing('username.svg', profile='tiny', width=180, height=180)\n",
    "\n",
    "dwg.add(dwg.rect(insert=(0,0),size=(180,180),fill='rgb(211,211,211)'))\n",
    "\n",
    "for x in range(7):\n",
    "    dwg.add(dwg.line((30*x,0),(30*x,180),stroke='black',stroke_width=2))\n",
    "    dwg.add(dwg.line((0,30*x),(180,30*x),stroke='black',stroke_width=2))\n",
    "    \n",
    "HTML(dwg.tostring())"
   ]
  },
  {
   "cell_type": "code",
   "execution_count": 86,
   "metadata": {},
   "outputs": [
    {
     "data": {
      "text/plain": [
       "array([[0, 0, 0, 0, 0, 0],\n",
       "       [0, 0, 0, 0, 0, 0],\n",
       "       [0, 0, 0, 7, 0, 0],\n",
       "       [0, 0, 0, 7, 5, 5],\n",
       "       [0, 0, 0, 0, 0, 0],\n",
       "       [0, 0, 0, 0, 0, 0]])"
      ]
     },
     "execution_count": 86,
     "metadata": {},
     "output_type": "execute_result"
    }
   ],
   "source": [
    "t"
   ]
  },
  {
   "cell_type": "code",
   "execution_count": null,
   "metadata": {},
   "outputs": [],
   "source": []
  }
 ],
 "metadata": {
  "kernelspec": {
   "display_name": "Python 3",
   "language": "python",
   "name": "python3"
  },
  "language_info": {
   "codemirror_mode": {
    "name": "ipython",
    "version": 3
   },
   "file_extension": ".py",
   "mimetype": "text/x-python",
   "name": "python",
   "nbconvert_exporter": "python",
   "pygments_lexer": "ipython3",
   "version": "3.6.2"
  }
 },
 "nbformat": 4,
 "nbformat_minor": 2
}

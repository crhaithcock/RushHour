{
 "cells": [
  {
   "cell_type": "code",
   "execution_count": 1,
   "metadata": {},
   "outputs": [],
   "source": [
    "import numpy as np\n",
    "import networkx as nx\n",
    "import matplotlib.pyplot as plt\n",
    "import os\n",
    "\n",
    "from IPython.display import SVG\n",
    "from IPython.display import HTML\n",
    "\n"
   ]
  },
  {
   "cell_type": "code",
   "execution_count": 2,
   "metadata": {},
   "outputs": [
    {
     "data": {
      "text/plain": [
       "'C:\\\\Users\\\\chaithcock\\\\Documents\\\\repos\\\\RushHour\\\\RushHourPy\\\\analysis_prototypes\\\\Numpy Experiments'"
      ]
     },
     "execution_count": 2,
     "metadata": {},
     "output_type": "execute_result"
    }
   ],
   "source": [
    "pwd()"
   ]
  },
  {
   "cell_type": "code",
   "execution_count": 3,
   "metadata": {},
   "outputs": [],
   "source": [
    "os.chdir('../..')"
   ]
  },
  {
   "cell_type": "code",
   "execution_count": 4,
   "metadata": {},
   "outputs": [
    {
     "data": {
      "text/plain": [
       "'C:\\\\Users\\\\chaithcock\\\\Documents\\\\repos\\\\RushHour\\\\RushHourPy'"
      ]
     },
     "execution_count": 4,
     "metadata": {},
     "output_type": "execute_result"
    }
   ],
   "source": [
    "pwd()"
   ]
  },
  {
   "cell_type": "code",
   "execution_count": 5,
   "metadata": {},
   "outputs": [],
   "source": [
    "%run numpy_constants.py\n",
    "%run numpy_utilities.py\n",
    "%run numpy_components.py\n",
    "%run numpy_neighbors.py\n",
    "%run numpy_display.py"
   ]
  },
  {
   "cell_type": "code",
   "execution_count": 6,
   "metadata": {},
   "outputs": [],
   "source": [
    "cards = np.zeros((40,1,3),dtype='ulonglong')"
   ]
  },
  {
   "cell_type": "code",
   "execution_count": 7,
   "metadata": {},
   "outputs": [
    {
     "data": {
      "text/plain": [
       "array([0, 0, 0], dtype=uint64)"
      ]
     },
     "execution_count": 7,
     "metadata": {},
     "output_type": "execute_result"
    }
   ],
   "source": [
    "cards[6,0]"
   ]
  },
  {
   "cell_type": "code",
   "execution_count": 8,
   "metadata": {},
   "outputs": [
    {
     "data": {
      "text/html": [
       "<svg baseProfile=\"full\" height=\"180\" version=\"1.1\" width=\"180\" xmlns=\"http://www.w3.org/2000/svg\" xmlns:ev=\"http://www.w3.org/2001/xml-events\" xmlns:xlink=\"http://www.w3.org/1999/xlink\"><defs /><rect fill=\"#E6E6E6\" height=\"180\" width=\"180\" x=\"0\" y=\"0\" /><line stroke=\"black\" stroke-width=\"2\" x1=\"0\" x2=\"0\" y1=\"0\" y2=\"180\" /><line stroke=\"black\" stroke-width=\"2\" x1=\"0\" x2=\"180\" y1=\"0\" y2=\"0\" /><line stroke=\"black\" stroke-width=\"2\" x1=\"30\" x2=\"30\" y1=\"0\" y2=\"180\" /><line stroke=\"black\" stroke-width=\"2\" x1=\"0\" x2=\"180\" y1=\"30\" y2=\"30\" /><line stroke=\"black\" stroke-width=\"2\" x1=\"60\" x2=\"60\" y1=\"0\" y2=\"180\" /><line stroke=\"black\" stroke-width=\"2\" x1=\"0\" x2=\"180\" y1=\"60\" y2=\"60\" /><line stroke=\"black\" stroke-width=\"2\" x1=\"90\" x2=\"90\" y1=\"0\" y2=\"180\" /><line stroke=\"black\" stroke-width=\"2\" x1=\"0\" x2=\"180\" y1=\"90\" y2=\"90\" /><line stroke=\"black\" stroke-width=\"2\" x1=\"120\" x2=\"120\" y1=\"0\" y2=\"180\" /><line stroke=\"black\" stroke-width=\"2\" x1=\"0\" x2=\"180\" y1=\"120\" y2=\"120\" /><line stroke=\"black\" stroke-width=\"2\" x1=\"150\" x2=\"150\" y1=\"0\" y2=\"180\" /><line stroke=\"black\" stroke-width=\"2\" x1=\"0\" x2=\"180\" y1=\"150\" y2=\"150\" /><line stroke=\"black\" stroke-width=\"2\" x1=\"180\" x2=\"180\" y1=\"0\" y2=\"180\" /><line stroke=\"black\" stroke-width=\"2\" x1=\"0\" x2=\"180\" y1=\"180\" y2=\"180\" /><rect fill=\"#FF0000\" height=\"24\" rx=\"5\" ry=\"5\" stroke-width=\"3\" width=\"54\" x=\"33\" y=\"63\" /><text style=\"fill:black;text-anchor:middle;alignment-baseline:central\" x=\"60.0\" y=\"75.0\">X</text><rect fill=\"#F0E68C\" height=\"54\" rx=\"5\" ry=\"5\" stroke-width=\"3\" width=\"24\" x=\"63\" y=\"3\" /><text style=\"fill:black;text-anchor:middle;alignment-baseline:central\" x=\"75.0\" y=\"30.0\">L</text><rect fill=\"#CD5C5C\" height=\"24\" rx=\"5\" ry=\"5\" stroke-width=\"3\" width=\"54\" x=\"3\" y=\"3\" /><text style=\"fill:black;text-anchor:middle;alignment-baseline:central\" x=\"30.0\" y=\"15.0\">K</text><rect fill=\"#ADFF2F\" height=\"24\" rx=\"5\" ry=\"5\" stroke-width=\"3\" width=\"54\" x=\"3\" y=\"33\" /><text style=\"fill:black;text-anchor:middle;alignment-baseline:central\" x=\"30.0\" y=\"45.0\">J</text><rect fill=\"#FFD700\" height=\"24\" rx=\"5\" ry=\"5\" stroke-width=\"3\" width=\"54\" x=\"33\" y=\"123\" /><text style=\"fill:black;text-anchor:middle;alignment-baseline:central\" x=\"60.0\" y=\"135.0\">H</text><rect fill=\"#00FA9A\" height=\"84\" rx=\"5\" ry=\"5\" stroke-width=\"3\" width=\"24\" x=\"3\" y=\"63\" /><text style=\"fill:black;text-anchor:middle;alignment-baseline:central\" x=\"15.0\" y=\"105.0\">Z</text><rect fill=\"#FF00FF\" height=\"84\" rx=\"5\" ry=\"5\" stroke-width=\"3\" width=\"24\" x=\"93\" y=\"3\" /><text style=\"fill:black;text-anchor:middle;alignment-baseline:central\" x=\"105.0\" y=\"45.0\">W</text><rect fill=\"#FFA07A\" height=\"24\" rx=\"5\" ry=\"5\" stroke-width=\"3\" width=\"84\" x=\"33\" y=\"93\" /><text style=\"fill:black;text-anchor:middle;alignment-baseline:central\" x=\"75.0\" y=\"105.0\">R</text><rect fill=\"#F08080\" height=\"24\" rx=\"5\" ry=\"5\" stroke-width=\"3\" width=\"84\" x=\"3\" y=\"153\" /><text style=\"fill:black;text-anchor:middle;alignment-baseline:central\" x=\"45.0\" y=\"165.0\">T</text></svg>"
      ],
      "text/plain": [
       "<IPython.core.display.HTML object>"
      ]
     },
     "execution_count": 8,
     "metadata": {},
     "output_type": "execute_result"
    }
   ],
   "source": [
    "# Card 18 - Itermediate\n",
    "v18 = np.zeros((6,6),dtype=int)\n",
    "v18[0,:2] = hcar\n",
    "v18[1,:2] = hcar\n",
    "v18[2,1:3] = hcar\n",
    "v18[:2,2] = vcar\n",
    "v18[:3,3] = vtruck\n",
    "v18[2:5,0] = vtruck\n",
    "v18[3,1:4] = htruck\n",
    "v18[4,1:3] = hcar\n",
    "v18[5,:3] = htruck\n",
    "\n",
    "i1,i2 = split_int(board_to_int(v18))\n",
    "cards[18] = [i1,i2,2]\n",
    "\n",
    "HTML(svg_from_state(board_to_int(v18),2))"
   ]
  },
  {
   "cell_type": "code",
   "execution_count": 9,
   "metadata": {},
   "outputs": [
    {
     "data": {
      "text/plain": [
       "array([[15362435066293568, 13506451033292288,                 2]], dtype=uint64)"
      ]
     },
     "execution_count": 9,
     "metadata": {},
     "output_type": "execute_result"
    }
   ],
   "source": [
    "cards[18]"
   ]
  },
  {
   "cell_type": "code",
   "execution_count": 10,
   "metadata": {},
   "outputs": [
    {
     "data": {
      "text/html": [
       "<svg baseProfile=\"full\" height=\"180\" version=\"1.1\" width=\"180\" xmlns=\"http://www.w3.org/2000/svg\" xmlns:ev=\"http://www.w3.org/2001/xml-events\" xmlns:xlink=\"http://www.w3.org/1999/xlink\"><defs /><rect fill=\"#E6E6E6\" height=\"180\" width=\"180\" x=\"0\" y=\"0\" /><line stroke=\"black\" stroke-width=\"2\" x1=\"0\" x2=\"0\" y1=\"0\" y2=\"180\" /><line stroke=\"black\" stroke-width=\"2\" x1=\"0\" x2=\"180\" y1=\"0\" y2=\"0\" /><line stroke=\"black\" stroke-width=\"2\" x1=\"30\" x2=\"30\" y1=\"0\" y2=\"180\" /><line stroke=\"black\" stroke-width=\"2\" x1=\"0\" x2=\"180\" y1=\"30\" y2=\"30\" /><line stroke=\"black\" stroke-width=\"2\" x1=\"60\" x2=\"60\" y1=\"0\" y2=\"180\" /><line stroke=\"black\" stroke-width=\"2\" x1=\"0\" x2=\"180\" y1=\"60\" y2=\"60\" /><line stroke=\"black\" stroke-width=\"2\" x1=\"90\" x2=\"90\" y1=\"0\" y2=\"180\" /><line stroke=\"black\" stroke-width=\"2\" x1=\"0\" x2=\"180\" y1=\"90\" y2=\"90\" /><line stroke=\"black\" stroke-width=\"2\" x1=\"120\" x2=\"120\" y1=\"0\" y2=\"180\" /><line stroke=\"black\" stroke-width=\"2\" x1=\"0\" x2=\"180\" y1=\"120\" y2=\"120\" /><line stroke=\"black\" stroke-width=\"2\" x1=\"150\" x2=\"150\" y1=\"0\" y2=\"180\" /><line stroke=\"black\" stroke-width=\"2\" x1=\"0\" x2=\"180\" y1=\"150\" y2=\"150\" /><line stroke=\"black\" stroke-width=\"2\" x1=\"180\" x2=\"180\" y1=\"0\" y2=\"180\" /><line stroke=\"black\" stroke-width=\"2\" x1=\"0\" x2=\"180\" y1=\"180\" y2=\"180\" /><rect fill=\"#FF0000\" height=\"24\" rx=\"5\" ry=\"5\" stroke-width=\"3\" width=\"54\" x=\"33\" y=\"63\" /><text style=\"fill:black;text-anchor:middle;alignment-baseline:central\" x=\"60.0\" y=\"75.0\">X</text><rect fill=\"#F0E68C\" height=\"54\" rx=\"5\" ry=\"5\" stroke-width=\"3\" width=\"24\" x=\"63\" y=\"3\" /><text style=\"fill:black;text-anchor:middle;alignment-baseline:central\" x=\"75.0\" y=\"30.0\">L</text><rect fill=\"#CD5C5C\" height=\"24\" rx=\"5\" ry=\"5\" stroke-width=\"3\" width=\"54\" x=\"3\" y=\"3\" /><text style=\"fill:black;text-anchor:middle;alignment-baseline:central\" x=\"30.0\" y=\"15.0\">K</text><rect fill=\"#ADFF2F\" height=\"24\" rx=\"5\" ry=\"5\" stroke-width=\"3\" width=\"54\" x=\"3\" y=\"33\" /><text style=\"fill:black;text-anchor:middle;alignment-baseline:central\" x=\"30.0\" y=\"45.0\">J</text><rect fill=\"#FFD700\" height=\"24\" rx=\"5\" ry=\"5\" stroke-width=\"3\" width=\"54\" x=\"33\" y=\"123\" /><text style=\"fill:black;text-anchor:middle;alignment-baseline:central\" x=\"60.0\" y=\"135.0\">H</text><rect fill=\"#00FA9A\" height=\"84\" rx=\"5\" ry=\"5\" stroke-width=\"3\" width=\"24\" x=\"3\" y=\"63\" /><text style=\"fill:black;text-anchor:middle;alignment-baseline:central\" x=\"15.0\" y=\"105.0\">Z</text><rect fill=\"#FF00FF\" height=\"84\" rx=\"5\" ry=\"5\" stroke-width=\"3\" width=\"24\" x=\"93\" y=\"3\" /><text style=\"fill:black;text-anchor:middle;alignment-baseline:central\" x=\"105.0\" y=\"45.0\">W</text><rect fill=\"#FFA07A\" height=\"24\" rx=\"5\" ry=\"5\" stroke-width=\"3\" width=\"84\" x=\"33\" y=\"93\" /><text style=\"fill:black;text-anchor:middle;alignment-baseline:central\" x=\"75.0\" y=\"105.0\">R</text><rect fill=\"#F08080\" height=\"24\" rx=\"5\" ry=\"5\" stroke-width=\"3\" width=\"84\" x=\"3\" y=\"153\" /><text style=\"fill:black;text-anchor:middle;alignment-baseline:central\" x=\"45.0\" y=\"165.0\">T</text></svg>"
      ],
      "text/plain": [
       "<IPython.core.display.HTML object>"
      ]
     },
     "execution_count": 10,
     "metadata": {},
     "output_type": "execute_result"
    }
   ],
   "source": [
    "HTML(svg_from_state(combine_ints(cards[18,0,0],cards[18,0,1]),2))"
   ]
  },
  {
   "cell_type": "code",
   "execution_count": 11,
   "metadata": {},
   "outputs": [
    {
     "data": {
      "text/plain": [
       "(276745027360252628944933584371200, (15362435066293568, 13506451033292288))"
      ]
     },
     "execution_count": 11,
     "metadata": {},
     "output_type": "execute_result"
    }
   ],
   "source": [
    "board_to_int(v18),split_int(board_to_int(v18))"
   ]
  },
  {
   "cell_type": "code",
   "execution_count": 97,
   "metadata": {},
   "outputs": [
    {
     "data": {
      "text/html": [
       "<svg baseProfile=\"full\" height=\"180\" version=\"1.1\" width=\"180\" xmlns=\"http://www.w3.org/2000/svg\" xmlns:ev=\"http://www.w3.org/2001/xml-events\" xmlns:xlink=\"http://www.w3.org/1999/xlink\"><defs /><rect fill=\"#E6E6E6\" height=\"180\" width=\"180\" x=\"0\" y=\"0\" /><line stroke=\"black\" stroke-width=\"2\" x1=\"0\" x2=\"0\" y1=\"0\" y2=\"180\" /><line stroke=\"black\" stroke-width=\"2\" x1=\"0\" x2=\"180\" y1=\"0\" y2=\"0\" /><line stroke=\"black\" stroke-width=\"2\" x1=\"30\" x2=\"30\" y1=\"0\" y2=\"180\" /><line stroke=\"black\" stroke-width=\"2\" x1=\"0\" x2=\"180\" y1=\"30\" y2=\"30\" /><line stroke=\"black\" stroke-width=\"2\" x1=\"60\" x2=\"60\" y1=\"0\" y2=\"180\" /><line stroke=\"black\" stroke-width=\"2\" x1=\"0\" x2=\"180\" y1=\"60\" y2=\"60\" /><line stroke=\"black\" stroke-width=\"2\" x1=\"90\" x2=\"90\" y1=\"0\" y2=\"180\" /><line stroke=\"black\" stroke-width=\"2\" x1=\"0\" x2=\"180\" y1=\"90\" y2=\"90\" /><line stroke=\"black\" stroke-width=\"2\" x1=\"120\" x2=\"120\" y1=\"0\" y2=\"180\" /><line stroke=\"black\" stroke-width=\"2\" x1=\"0\" x2=\"180\" y1=\"120\" y2=\"120\" /><line stroke=\"black\" stroke-width=\"2\" x1=\"150\" x2=\"150\" y1=\"0\" y2=\"180\" /><line stroke=\"black\" stroke-width=\"2\" x1=\"0\" x2=\"180\" y1=\"150\" y2=\"150\" /><line stroke=\"black\" stroke-width=\"2\" x1=\"180\" x2=\"180\" y1=\"0\" y2=\"180\" /><line stroke=\"black\" stroke-width=\"2\" x1=\"0\" x2=\"180\" y1=\"180\" y2=\"180\" /><rect fill=\"#FF0000\" height=\"24\" rx=\"5\" ry=\"5\" stroke-width=\"3\" width=\"54\" x=\"3\" y=\"63\" /><text style=\"fill:black;text-anchor:middle;alignment-baseline:central\" x=\"30.0\" y=\"75.0\">X</text><rect fill=\"#F0E68C\" height=\"54\" rx=\"5\" ry=\"5\" stroke-width=\"3\" width=\"24\" x=\"3\" y=\"93\" /><text style=\"fill:black;text-anchor:middle;alignment-baseline:central\" x=\"15.0\" y=\"120.0\">L</text><rect fill=\"#CD5C5C\" height=\"54\" rx=\"5\" ry=\"5\" stroke-width=\"3\" width=\"24\" x=\"33\" y=\"93\" /><text style=\"fill:black;text-anchor:middle;alignment-baseline:central\" x=\"45.0\" y=\"120.0\">K</text><rect fill=\"#ADFF2F\" height=\"54\" rx=\"5\" ry=\"5\" stroke-width=\"3\" width=\"24\" x=\"93\" y=\"3\" /><text style=\"fill:black;text-anchor:middle;alignment-baseline:central\" x=\"105.0\" y=\"30.0\">J</text><rect fill=\"#FFD700\" height=\"24\" rx=\"5\" ry=\"5\" stroke-width=\"3\" width=\"54\" x=\"123\" y=\"33\" /><text style=\"fill:black;text-anchor:middle;alignment-baseline:central\" x=\"150.0\" y=\"45.0\">H</text><rect fill=\"#1E90FF\" height=\"24\" rx=\"5\" ry=\"5\" stroke-width=\"3\" width=\"54\" x=\"93\" y=\"93\" /><text style=\"fill:black;text-anchor:middle;alignment-baseline:central\" x=\"120.0\" y=\"105.0\">G</text><rect fill=\"#FF1493\" height=\"24\" rx=\"5\" ry=\"5\" stroke-width=\"3\" width=\"54\" x=\"3\" y=\"153\" /><text style=\"fill:black;text-anchor:middle;alignment-baseline:central\" x=\"30.0\" y=\"165.0\">F</text><rect fill=\"#8B0000\" height=\"24\" rx=\"5\" ry=\"5\" stroke-width=\"3\" width=\"54\" x=\"63\" y=\"153\" /><text style=\"fill:black;text-anchor:middle;alignment-baseline:central\" x=\"90.0\" y=\"165.0\">E</text><rect fill=\"#00FA9A\" height=\"84\" rx=\"5\" ry=\"5\" stroke-width=\"3\" width=\"24\" x=\"63\" y=\"33\" /><text style=\"fill:black;text-anchor:middle;alignment-baseline:central\" x=\"75.0\" y=\"75.0\">Z</text><rect fill=\"#FF00FF\" height=\"84\" rx=\"5\" ry=\"5\" stroke-width=\"3\" width=\"24\" x=\"153\" y=\"93\" /><text style=\"fill:black;text-anchor:middle;alignment-baseline:central\" x=\"165.0\" y=\"135.0\">W</text><rect fill=\"#FFA07A\" height=\"24\" rx=\"5\" ry=\"5\" stroke-width=\"3\" width=\"84\" x=\"3\" y=\"3\" /><text style=\"fill:black;text-anchor:middle;alignment-baseline:central\" x=\"45.0\" y=\"15.0\">R</text><rect fill=\"#F08080\" height=\"24\" rx=\"5\" ry=\"5\" stroke-width=\"3\" width=\"84\" x=\"63\" y=\"123\" /><text style=\"fill:black;text-anchor:middle;alignment-baseline:central\" x=\"105.0\" y=\"135.0\">T</text></svg>"
      ],
      "text/plain": [
       "<IPython.core.display.HTML object>"
      ]
     },
     "execution_count": 97,
     "metadata": {},
     "output_type": "execute_result"
    }
   ],
   "source": [
    "# Card 28 - Advanced\n",
    "\n",
    "i = 28\n",
    "\n",
    "v = np.zeros((6,6),dtype=int)\n",
    "v[0,:3] = htruck\n",
    "v[2,:2] = hcar\n",
    "v[5,:2] = hcar\n",
    "v[5,2:4] = hcar\n",
    "v[1,4:6] = hcar\n",
    "v[3,3:5] = hcar\n",
    "v[4,2:5] = htruck\n",
    "\n",
    "\n",
    "v[3:5,0] = vcar\n",
    "v[3:5,1] = vcar\n",
    "v[:2,3] = vcar\n",
    "v[1:4,2] = vtruck\n",
    "v[3:6,5] = vtruck\n",
    "\n",
    "\n",
    "i1,i2 = split_int(board_to_int(v))\n",
    "cards[i] = [i1,i2,2]\n",
    "\n",
    "HTML(svg_from_state(board_to_int(v),1))     "
   ]
  },
  {
   "cell_type": "code",
   "execution_count": 119,
   "metadata": {},
   "outputs": [
    {
     "data": {
      "text/html": [
       "<svg baseProfile=\"full\" height=\"180\" version=\"1.1\" width=\"180\" xmlns=\"http://www.w3.org/2000/svg\" xmlns:ev=\"http://www.w3.org/2001/xml-events\" xmlns:xlink=\"http://www.w3.org/1999/xlink\"><defs /><rect fill=\"#E6E6E6\" height=\"180\" width=\"180\" x=\"0\" y=\"0\" /><line stroke=\"black\" stroke-width=\"2\" x1=\"0\" x2=\"0\" y1=\"0\" y2=\"180\" /><line stroke=\"black\" stroke-width=\"2\" x1=\"0\" x2=\"180\" y1=\"0\" y2=\"0\" /><line stroke=\"black\" stroke-width=\"2\" x1=\"30\" x2=\"30\" y1=\"0\" y2=\"180\" /><line stroke=\"black\" stroke-width=\"2\" x1=\"0\" x2=\"180\" y1=\"30\" y2=\"30\" /><line stroke=\"black\" stroke-width=\"2\" x1=\"60\" x2=\"60\" y1=\"0\" y2=\"180\" /><line stroke=\"black\" stroke-width=\"2\" x1=\"0\" x2=\"180\" y1=\"60\" y2=\"60\" /><line stroke=\"black\" stroke-width=\"2\" x1=\"90\" x2=\"90\" y1=\"0\" y2=\"180\" /><line stroke=\"black\" stroke-width=\"2\" x1=\"0\" x2=\"180\" y1=\"90\" y2=\"90\" /><line stroke=\"black\" stroke-width=\"2\" x1=\"120\" x2=\"120\" y1=\"0\" y2=\"180\" /><line stroke=\"black\" stroke-width=\"2\" x1=\"0\" x2=\"180\" y1=\"120\" y2=\"120\" /><line stroke=\"black\" stroke-width=\"2\" x1=\"150\" x2=\"150\" y1=\"0\" y2=\"180\" /><line stroke=\"black\" stroke-width=\"2\" x1=\"0\" x2=\"180\" y1=\"150\" y2=\"150\" /><line stroke=\"black\" stroke-width=\"2\" x1=\"180\" x2=\"180\" y1=\"0\" y2=\"180\" /><line stroke=\"black\" stroke-width=\"2\" x1=\"0\" x2=\"180\" y1=\"180\" y2=\"180\" /><rect fill=\"#FF0000\" height=\"24\" rx=\"5\" ry=\"5\" stroke-width=\"3\" width=\"54\" x=\"63\" y=\"63\" /><text style=\"fill:black;text-anchor:middle;alignment-baseline:central\" x=\"90.0\" y=\"75.0\">X</text><rect fill=\"#F0E68C\" height=\"54\" rx=\"5\" ry=\"5\" stroke-width=\"3\" width=\"24\" x=\"3\" y=\"63\" /><text style=\"fill:black;text-anchor:middle;alignment-baseline:central\" x=\"15.0\" y=\"90.0\">L</text><rect fill=\"#CD5C5C\" height=\"54\" rx=\"5\" ry=\"5\" stroke-width=\"3\" width=\"24\" x=\"33\" y=\"63\" /><text style=\"fill:black;text-anchor:middle;alignment-baseline:central\" x=\"45.0\" y=\"90.0\">K</text><rect fill=\"#ADFF2F\" height=\"54\" rx=\"5\" ry=\"5\" stroke-width=\"3\" width=\"24\" x=\"63\" y=\"3\" /><text style=\"fill:black;text-anchor:middle;alignment-baseline:central\" x=\"75.0\" y=\"30.0\">J</text><rect fill=\"#FFD700\" height=\"54\" rx=\"5\" ry=\"5\" stroke-width=\"3\" width=\"24\" x=\"63\" y=\"123\" /><text style=\"fill:black;text-anchor:middle;alignment-baseline:central\" x=\"75.0\" y=\"150.0\">H</text><rect fill=\"#1E90FF\" height=\"54\" rx=\"5\" ry=\"5\" stroke-width=\"3\" width=\"24\" x=\"123\" y=\"63\" /><text style=\"fill:black;text-anchor:middle;alignment-baseline:central\" x=\"135.0\" y=\"90.0\">G</text><rect fill=\"#FF1493\" height=\"54\" rx=\"5\" ry=\"5\" stroke-width=\"3\" width=\"24\" x=\"153\" y=\"63\" /><text style=\"fill:black;text-anchor:middle;alignment-baseline:central\" x=\"165.0\" y=\"90.0\">F</text><rect fill=\"#8B0000\" height=\"24\" rx=\"5\" ry=\"5\" stroke-width=\"3\" width=\"54\" x=\"3\" y=\"3\" /><text style=\"fill:black;text-anchor:middle;alignment-baseline:central\" x=\"30.0\" y=\"15.0\">E</text><rect fill=\"#BDB76B\" height=\"24\" rx=\"5\" ry=\"5\" stroke-width=\"3\" width=\"54\" x=\"123\" y=\"33\" /><text style=\"fill:black;text-anchor:middle;alignment-baseline:central\" x=\"150.0\" y=\"45.0\">D</text><rect fill=\"#8B008B\" height=\"24\" rx=\"5\" ry=\"5\" stroke-width=\"3\" width=\"54\" x=\"63\" y=\"93\" /><text style=\"fill:black;text-anchor:middle;alignment-baseline:central\" x=\"90.0\" y=\"105.0\">C</text><rect fill=\"#D2691E\" height=\"24\" rx=\"5\" ry=\"5\" stroke-width=\"3\" width=\"54\" x=\"123\" y=\"123\" /><text style=\"fill:black;text-anchor:middle;alignment-baseline:central\" x=\"150.0\" y=\"135.0\">B</text><rect fill=\"#7FFFD4\" height=\"24\" rx=\"5\" ry=\"5\" stroke-width=\"3\" width=\"54\" x=\"3\" y=\"153\" /><text style=\"fill:black;text-anchor:middle;alignment-baseline:central\" x=\"30.0\" y=\"165.0\">A</text></svg>"
      ],
      "text/plain": [
       "<IPython.core.display.HTML object>"
      ]
     },
     "execution_count": 119,
     "metadata": {},
     "output_type": "execute_result"
    }
   ],
   "source": [
    "# Card 14 - intermediate\n",
    "\n",
    "i = 14\n",
    "red_col = 3\n",
    "\n",
    "v = np.zeros((6,6),dtype=int)\n",
    "v[0,:2] = hcar\n",
    "v[1,4:] = hcar\n",
    "v[2,2:4] = hcar\n",
    "v[3,2:4] = hcar\n",
    "v[4,4:] = hcar\n",
    "v[5,:2] = hcar\n",
    "\n",
    "v[2:4,0] = vcar\n",
    "v[2:4,1] = vcar\n",
    "v[2:4,4] = vcar\n",
    "v[2:4,5] = vcar\n",
    "v[4:,2] = vcar\n",
    "v[:2,2] = vcar\n",
    "\n",
    "i1,i2 = split_int(board_to_int(v))\n",
    "cards[i] = [i1,i2,2]\n",
    "\n",
    "HTML(svg_from_state(board_to_int(v),red_col))     "
   ]
  },
  {
   "cell_type": "code",
   "execution_count": 132,
   "metadata": {},
   "outputs": [
    {
     "data": {
      "text/html": [
       "<svg baseProfile=\"full\" height=\"180\" version=\"1.1\" width=\"180\" xmlns=\"http://www.w3.org/2000/svg\" xmlns:ev=\"http://www.w3.org/2001/xml-events\" xmlns:xlink=\"http://www.w3.org/1999/xlink\"><defs /><rect fill=\"#E6E6E6\" height=\"180\" width=\"180\" x=\"0\" y=\"0\" /><line stroke=\"black\" stroke-width=\"2\" x1=\"0\" x2=\"0\" y1=\"0\" y2=\"180\" /><line stroke=\"black\" stroke-width=\"2\" x1=\"0\" x2=\"180\" y1=\"0\" y2=\"0\" /><line stroke=\"black\" stroke-width=\"2\" x1=\"30\" x2=\"30\" y1=\"0\" y2=\"180\" /><line stroke=\"black\" stroke-width=\"2\" x1=\"0\" x2=\"180\" y1=\"30\" y2=\"30\" /><line stroke=\"black\" stroke-width=\"2\" x1=\"60\" x2=\"60\" y1=\"0\" y2=\"180\" /><line stroke=\"black\" stroke-width=\"2\" x1=\"0\" x2=\"180\" y1=\"60\" y2=\"60\" /><line stroke=\"black\" stroke-width=\"2\" x1=\"90\" x2=\"90\" y1=\"0\" y2=\"180\" /><line stroke=\"black\" stroke-width=\"2\" x1=\"0\" x2=\"180\" y1=\"90\" y2=\"90\" /><line stroke=\"black\" stroke-width=\"2\" x1=\"120\" x2=\"120\" y1=\"0\" y2=\"180\" /><line stroke=\"black\" stroke-width=\"2\" x1=\"0\" x2=\"180\" y1=\"120\" y2=\"120\" /><line stroke=\"black\" stroke-width=\"2\" x1=\"150\" x2=\"150\" y1=\"0\" y2=\"180\" /><line stroke=\"black\" stroke-width=\"2\" x1=\"0\" x2=\"180\" y1=\"150\" y2=\"150\" /><line stroke=\"black\" stroke-width=\"2\" x1=\"180\" x2=\"180\" y1=\"0\" y2=\"180\" /><line stroke=\"black\" stroke-width=\"2\" x1=\"0\" x2=\"180\" y1=\"180\" y2=\"180\" /><rect fill=\"#FF0000\" height=\"24\" rx=\"5\" ry=\"5\" stroke-width=\"3\" width=\"54\" x=\"33\" y=\"63\" /><text style=\"fill:black;text-anchor:middle;alignment-baseline:central\" x=\"60.0\" y=\"75.0\">X</text><rect fill=\"#F0E68C\" height=\"54\" rx=\"5\" ry=\"5\" stroke-width=\"3\" width=\"24\" x=\"63\" y=\"3\" /><text style=\"fill:black;text-anchor:middle;alignment-baseline:central\" x=\"75.0\" y=\"30.0\">L</text><rect fill=\"#CD5C5C\" height=\"54\" rx=\"5\" ry=\"5\" stroke-width=\"3\" width=\"24\" x=\"93\" y=\"123\" /><text style=\"fill:black;text-anchor:middle;alignment-baseline:central\" x=\"105.0\" y=\"150.0\">K</text><rect fill=\"#ADFF2F\" height=\"24\" rx=\"5\" ry=\"5\" stroke-width=\"3\" width=\"54\" x=\"3\" y=\"3\" /><text style=\"fill:black;text-anchor:middle;alignment-baseline:central\" x=\"30.0\" y=\"15.0\">J</text><rect fill=\"#FFD700\" height=\"24\" rx=\"5\" ry=\"5\" stroke-width=\"3\" width=\"54\" x=\"123\" y=\"3\" /><text style=\"fill:black;text-anchor:middle;alignment-baseline:central\" x=\"150.0\" y=\"15.0\">H</text><rect fill=\"#1E90FF\" height=\"24\" rx=\"5\" ry=\"5\" stroke-width=\"3\" width=\"54\" x=\"3\" y=\"33\" /><text style=\"fill:black;text-anchor:middle;alignment-baseline:central\" x=\"30.0\" y=\"45.0\">G</text><rect fill=\"#FF1493\" height=\"24\" rx=\"5\" ry=\"5\" stroke-width=\"3\" width=\"54\" x=\"123\" y=\"123\" /><text style=\"fill:black;text-anchor:middle;alignment-baseline:central\" x=\"150.0\" y=\"135.0\">F</text><rect fill=\"#8B0000\" height=\"24\" rx=\"5\" ry=\"5\" stroke-width=\"3\" width=\"54\" x=\"3\" y=\"153\" /><text style=\"fill:black;text-anchor:middle;alignment-baseline:central\" x=\"30.0\" y=\"165.0\">E</text><rect fill=\"#BDB76B\" height=\"24\" rx=\"5\" ry=\"5\" stroke-width=\"3\" width=\"54\" x=\"123\" y=\"153\" /><text style=\"fill:black;text-anchor:middle;alignment-baseline:central\" x=\"150.0\" y=\"165.0\">D</text><rect fill=\"#00FA9A\" height=\"84\" rx=\"5\" ry=\"5\" stroke-width=\"3\" width=\"24\" x=\"3\" y=\"63\" /><text style=\"fill:black;text-anchor:middle;alignment-baseline:central\" x=\"15.0\" y=\"105.0\">Z</text><rect fill=\"#FF00FF\" height=\"84\" rx=\"5\" ry=\"5\" stroke-width=\"3\" width=\"24\" x=\"123\" y=\"33\" /><text style=\"fill:black;text-anchor:middle;alignment-baseline:central\" x=\"135.0\" y=\"75.0\">W</text><rect fill=\"#FFA07A\" height=\"84\" rx=\"5\" ry=\"5\" stroke-width=\"3\" width=\"24\" x=\"153\" y=\"33\" /><text style=\"fill:black;text-anchor:middle;alignment-baseline:central\" x=\"165.0\" y=\"75.0\">R</text><rect fill=\"#F08080\" height=\"24\" rx=\"5\" ry=\"5\" stroke-width=\"3\" width=\"84\" x=\"33\" y=\"93\" /><text style=\"fill:black;text-anchor:middle;alignment-baseline:central\" x=\"75.0\" y=\"105.0\">T</text></svg>"
      ],
      "text/plain": [
       "<IPython.core.display.HTML object>"
      ]
     },
     "execution_count": 132,
     "metadata": {},
     "output_type": "execute_result"
    }
   ],
   "source": [
    "# Card 37 - intermediate\n",
    "\n",
    "i = 37\n",
    "red_col = 2\n",
    "\n",
    "v = np.zeros((6,6),dtype=int)\n",
    "v[0,:2] = hcar\n",
    "v[1,:2] = hcar\n",
    "v[2,1:3] = hcar\n",
    "v[3,1:4] = htruck\n",
    "v[5,:2] = hcar\n",
    "v[0,4:] = hcar\n",
    "v[4,4:] = hcar\n",
    "v[5,4:] = hcar\n",
    "\n",
    "v[2:5,0] = vtruck\n",
    "v[1:4,4] = vtruck\n",
    "v[1:4,5] = vtruck\n",
    "v[4:,3] = vcar\n",
    "v[:2,2] = vcar\n",
    "\n",
    "i1,i2 = split_int(board_to_int(v))\n",
    "cards[i] = [i1,i2,2]\n",
    "\n",
    "HTML(svg_from_state(board_to_int(v),red_col))    "
   ]
  },
  {
   "cell_type": "code",
   "execution_count": 98,
   "metadata": {},
   "outputs": [],
   "source": [
    "comps = components([(board_to_int(v),int(1))])"
   ]
  },
  {
   "cell_type": "code",
   "execution_count": 99,
   "metadata": {},
   "outputs": [
    {
     "data": {
      "text/plain": [
       "[<networkx.classes.graph.Graph at 0x2926c0b3e80>]"
      ]
     },
     "execution_count": 99,
     "metadata": {},
     "output_type": "execute_result"
    }
   ],
   "source": [
    "comps"
   ]
  },
  {
   "cell_type": "code",
   "execution_count": 100,
   "metadata": {},
   "outputs": [],
   "source": [
    "g = comps[0]"
   ]
  },
  {
   "cell_type": "code",
   "execution_count": 101,
   "metadata": {},
   "outputs": [
    {
     "data": {
      "text/plain": [
       "8026"
      ]
     },
     "execution_count": 101,
     "metadata": {},
     "output_type": "execute_result"
    }
   ],
   "source": [
    "g.size()"
   ]
  },
  {
   "cell_type": "code",
   "execution_count": 102,
   "metadata": {},
   "outputs": [
    {
     "data": {
      "text/plain": [
       "2544"
      ]
     },
     "execution_count": 102,
     "metadata": {},
     "output_type": "execute_result"
    }
   ],
   "source": [
    "len(g.nodes())"
   ]
  },
  {
   "cell_type": "code",
   "execution_count": 18,
   "metadata": {},
   "outputs": [],
   "source": [
    "%run numpy_distance_partition.py\n",
    "partition = distance_partition(g)"
   ]
  },
  {
   "cell_type": "code",
   "execution_count": 19,
   "metadata": {},
   "outputs": [
    {
     "data": {
      "text/plain": [
       "61"
      ]
     },
     "execution_count": 19,
     "metadata": {},
     "output_type": "execute_result"
    }
   ],
   "source": [
    "len(partition)"
   ]
  },
  {
   "cell_type": "code",
   "execution_count": 20,
   "metadata": {},
   "outputs": [
    {
     "data": {
      "text/plain": [
       "{(276745027360252628944933584371200, 2)}"
      ]
     },
     "execution_count": 20,
     "metadata": {},
     "output_type": "execute_result"
    }
   ],
   "source": [
    "partition[60]"
   ]
  },
  {
   "cell_type": "code",
   "execution_count": 21,
   "metadata": {},
   "outputs": [
    {
     "data": {
      "text/html": [
       "<svg baseProfile=\"full\" height=\"180\" version=\"1.1\" width=\"180\" xmlns=\"http://www.w3.org/2000/svg\" xmlns:ev=\"http://www.w3.org/2001/xml-events\" xmlns:xlink=\"http://www.w3.org/1999/xlink\"><defs /><rect fill=\"#E6E6E6\" height=\"180\" width=\"180\" x=\"0\" y=\"0\" /><line stroke=\"black\" stroke-width=\"2\" x1=\"0\" x2=\"0\" y1=\"0\" y2=\"180\" /><line stroke=\"black\" stroke-width=\"2\" x1=\"0\" x2=\"180\" y1=\"0\" y2=\"0\" /><line stroke=\"black\" stroke-width=\"2\" x1=\"30\" x2=\"30\" y1=\"0\" y2=\"180\" /><line stroke=\"black\" stroke-width=\"2\" x1=\"0\" x2=\"180\" y1=\"30\" y2=\"30\" /><line stroke=\"black\" stroke-width=\"2\" x1=\"60\" x2=\"60\" y1=\"0\" y2=\"180\" /><line stroke=\"black\" stroke-width=\"2\" x1=\"0\" x2=\"180\" y1=\"60\" y2=\"60\" /><line stroke=\"black\" stroke-width=\"2\" x1=\"90\" x2=\"90\" y1=\"0\" y2=\"180\" /><line stroke=\"black\" stroke-width=\"2\" x1=\"0\" x2=\"180\" y1=\"90\" y2=\"90\" /><line stroke=\"black\" stroke-width=\"2\" x1=\"120\" x2=\"120\" y1=\"0\" y2=\"180\" /><line stroke=\"black\" stroke-width=\"2\" x1=\"0\" x2=\"180\" y1=\"120\" y2=\"120\" /><line stroke=\"black\" stroke-width=\"2\" x1=\"150\" x2=\"150\" y1=\"0\" y2=\"180\" /><line stroke=\"black\" stroke-width=\"2\" x1=\"0\" x2=\"180\" y1=\"150\" y2=\"150\" /><line stroke=\"black\" stroke-width=\"2\" x1=\"180\" x2=\"180\" y1=\"0\" y2=\"180\" /><line stroke=\"black\" stroke-width=\"2\" x1=\"0\" x2=\"180\" y1=\"180\" y2=\"180\" /><rect fill=\"#FF0000\" height=\"24\" rx=\"5\" ry=\"5\" stroke-width=\"3\" width=\"54\" x=\"33\" y=\"63\" /><text style=\"fill:black;text-anchor:middle;alignment-baseline:central\" x=\"60.0\" y=\"75.0\">X</text><rect fill=\"#F0E68C\" height=\"54\" rx=\"5\" ry=\"5\" stroke-width=\"3\" width=\"24\" x=\"63\" y=\"3\" /><text style=\"fill:black;text-anchor:middle;alignment-baseline:central\" x=\"75.0\" y=\"30.0\">L</text><rect fill=\"#CD5C5C\" height=\"24\" rx=\"5\" ry=\"5\" stroke-width=\"3\" width=\"54\" x=\"3\" y=\"3\" /><text style=\"fill:black;text-anchor:middle;alignment-baseline:central\" x=\"30.0\" y=\"15.0\">K</text><rect fill=\"#ADFF2F\" height=\"24\" rx=\"5\" ry=\"5\" stroke-width=\"3\" width=\"54\" x=\"3\" y=\"33\" /><text style=\"fill:black;text-anchor:middle;alignment-baseline:central\" x=\"30.0\" y=\"45.0\">J</text><rect fill=\"#FFD700\" height=\"24\" rx=\"5\" ry=\"5\" stroke-width=\"3\" width=\"54\" x=\"33\" y=\"123\" /><text style=\"fill:black;text-anchor:middle;alignment-baseline:central\" x=\"60.0\" y=\"135.0\">H</text><rect fill=\"#00FA9A\" height=\"84\" rx=\"5\" ry=\"5\" stroke-width=\"3\" width=\"24\" x=\"3\" y=\"63\" /><text style=\"fill:black;text-anchor:middle;alignment-baseline:central\" x=\"15.0\" y=\"105.0\">Z</text><rect fill=\"#FF00FF\" height=\"84\" rx=\"5\" ry=\"5\" stroke-width=\"3\" width=\"24\" x=\"93\" y=\"3\" /><text style=\"fill:black;text-anchor:middle;alignment-baseline:central\" x=\"105.0\" y=\"45.0\">W</text><rect fill=\"#FFA07A\" height=\"24\" rx=\"5\" ry=\"5\" stroke-width=\"3\" width=\"84\" x=\"33\" y=\"93\" /><text style=\"fill:black;text-anchor:middle;alignment-baseline:central\" x=\"75.0\" y=\"105.0\">R</text><rect fill=\"#F08080\" height=\"24\" rx=\"5\" ry=\"5\" stroke-width=\"3\" width=\"84\" x=\"3\" y=\"153\" /><text style=\"fill:black;text-anchor:middle;alignment-baseline:central\" x=\"45.0\" y=\"165.0\">T</text></svg>"
      ],
      "text/plain": [
       "<IPython.core.display.HTML object>"
      ]
     },
     "execution_count": 21,
     "metadata": {},
     "output_type": "execute_result"
    }
   ],
   "source": [
    "HTML(svg_from_state(276745027360252628944933584371200, 2))"
   ]
  },
  {
   "cell_type": "code",
   "execution_count": 22,
   "metadata": {},
   "outputs": [
    {
     "data": {
      "text/html": [
       "<svg xmlns=\"http://www.w3.org/2000/svg\" xmlns:xlink=\"http://www.w3.org/1999/xlink\" width=\"600\" height=\"600\"><line stroke=\"black\" stroke-width=\"2\" x1=\"245\" x2=\"408\" y1=\"245\" y2=\"130\" /><svg x=\"363\" y = \"85\"><g transform = \"scale(.5)\"><svg baseProfile=\"full\" height=\"180\" version=\"1.1\" width=\"180\" xmlns=\"http://www.w3.org/2000/svg\" xmlns:ev=\"http://www.w3.org/2001/xml-events\" xmlns:xlink=\"http://www.w3.org/1999/xlink\"><defs /><rect fill=\"#E6E6E6\" height=\"180\" width=\"180\" x=\"0\" y=\"0\" /><line stroke=\"black\" stroke-width=\"2\" x1=\"0\" x2=\"0\" y1=\"0\" y2=\"180\" /><line stroke=\"black\" stroke-width=\"2\" x1=\"0\" x2=\"180\" y1=\"0\" y2=\"0\" /><line stroke=\"black\" stroke-width=\"2\" x1=\"30\" x2=\"30\" y1=\"0\" y2=\"180\" /><line stroke=\"black\" stroke-width=\"2\" x1=\"0\" x2=\"180\" y1=\"30\" y2=\"30\" /><line stroke=\"black\" stroke-width=\"2\" x1=\"60\" x2=\"60\" y1=\"0\" y2=\"180\" /><line stroke=\"black\" stroke-width=\"2\" x1=\"0\" x2=\"180\" y1=\"60\" y2=\"60\" /><line stroke=\"black\" stroke-width=\"2\" x1=\"90\" x2=\"90\" y1=\"0\" y2=\"180\" /><line stroke=\"black\" stroke-width=\"2\" x1=\"0\" x2=\"180\" y1=\"90\" y2=\"90\" /><line stroke=\"black\" stroke-width=\"2\" x1=\"120\" x2=\"120\" y1=\"0\" y2=\"180\" /><line stroke=\"black\" stroke-width=\"2\" x1=\"0\" x2=\"180\" y1=\"120\" y2=\"120\" /><line stroke=\"black\" stroke-width=\"2\" x1=\"150\" x2=\"150\" y1=\"0\" y2=\"180\" /><line stroke=\"black\" stroke-width=\"2\" x1=\"0\" x2=\"180\" y1=\"150\" y2=\"150\" /><line stroke=\"black\" stroke-width=\"2\" x1=\"180\" x2=\"180\" y1=\"0\" y2=\"180\" /><line stroke=\"black\" stroke-width=\"2\" x1=\"0\" x2=\"180\" y1=\"180\" y2=\"180\" /><rect fill=\"#FF0000\" height=\"24\" rx=\"5\" ry=\"5\" stroke-width=\"3\" width=\"54\" x=\"33\" y=\"63\" /><text style=\"fill:black;text-anchor:middle;alignment-baseline:central\" x=\"60.0\" y=\"75.0\">X</text><rect fill=\"#F0E68C\" height=\"54\" rx=\"5\" ry=\"5\" stroke-width=\"3\" width=\"24\" x=\"63\" y=\"3\" /><text style=\"fill:black;text-anchor:middle;alignment-baseline:central\" x=\"75.0\" y=\"30.0\">L</text><rect fill=\"#CD5C5C\" height=\"24\" rx=\"5\" ry=\"5\" stroke-width=\"3\" width=\"54\" x=\"3\" y=\"3\" /><text style=\"fill:black;text-anchor:middle;alignment-baseline:central\" x=\"30.0\" y=\"15.0\">K</text><rect fill=\"#ADFF2F\" height=\"24\" rx=\"5\" ry=\"5\" stroke-width=\"3\" width=\"54\" x=\"3\" y=\"33\" /><text style=\"fill:black;text-anchor:middle;alignment-baseline:central\" x=\"30.0\" y=\"45.0\">J</text><rect fill=\"#FFD700\" height=\"24\" rx=\"5\" ry=\"5\" stroke-width=\"3\" width=\"54\" x=\"33\" y=\"123\" /><text style=\"fill:black;text-anchor:middle;alignment-baseline:central\" x=\"60.0\" y=\"135.0\">H</text><rect fill=\"#00FA9A\" height=\"84\" rx=\"5\" ry=\"5\" stroke-width=\"3\" width=\"24\" x=\"3\" y=\"63\" /><text style=\"fill:black;text-anchor:middle;alignment-baseline:central\" x=\"15.0\" y=\"105.0\">Z</text><rect fill=\"#FF00FF\" height=\"84\" rx=\"5\" ry=\"5\" stroke-width=\"3\" width=\"24\" x=\"93\" y=\"3\" /><text style=\"fill:black;text-anchor:middle;alignment-baseline:central\" x=\"105.0\" y=\"45.0\">W</text><rect fill=\"#FFA07A\" height=\"24\" rx=\"5\" ry=\"5\" stroke-width=\"3\" width=\"84\" x=\"33\" y=\"93\" /><text style=\"fill:black;text-anchor:middle;alignment-baseline:central\" x=\"75.0\" y=\"105.0\">R</text><rect fill=\"#F08080\" height=\"24\" rx=\"5\" ry=\"5\" stroke-width=\"3\" width=\"84\" x=\"33\" y=\"153\" /><text style=\"fill:black;text-anchor:middle;alignment-baseline:central\" x=\"75.0\" y=\"165.0\">T</text></svg></g></svg><line stroke=\"black\" stroke-width=\"2\" x1=\"245\" x2=\"445\" y1=\"245\" y2=\"245\" /><svg x=\"400\" y = \"200\"><g transform = \"scale(.5)\"><svg baseProfile=\"full\" height=\"180\" version=\"1.1\" width=\"180\" xmlns=\"http://www.w3.org/2000/svg\" xmlns:ev=\"http://www.w3.org/2001/xml-events\" xmlns:xlink=\"http://www.w3.org/1999/xlink\"><defs /><rect fill=\"#E6E6E6\" height=\"180\" width=\"180\" x=\"0\" y=\"0\" /><line stroke=\"black\" stroke-width=\"2\" x1=\"0\" x2=\"0\" y1=\"0\" y2=\"180\" /><line stroke=\"black\" stroke-width=\"2\" x1=\"0\" x2=\"180\" y1=\"0\" y2=\"0\" /><line stroke=\"black\" stroke-width=\"2\" x1=\"30\" x2=\"30\" y1=\"0\" y2=\"180\" /><line stroke=\"black\" stroke-width=\"2\" x1=\"0\" x2=\"180\" y1=\"30\" y2=\"30\" /><line stroke=\"black\" stroke-width=\"2\" x1=\"60\" x2=\"60\" y1=\"0\" y2=\"180\" /><line stroke=\"black\" stroke-width=\"2\" x1=\"0\" x2=\"180\" y1=\"60\" y2=\"60\" /><line stroke=\"black\" stroke-width=\"2\" x1=\"90\" x2=\"90\" y1=\"0\" y2=\"180\" /><line stroke=\"black\" stroke-width=\"2\" x1=\"0\" x2=\"180\" y1=\"90\" y2=\"90\" /><line stroke=\"black\" stroke-width=\"2\" x1=\"120\" x2=\"120\" y1=\"0\" y2=\"180\" /><line stroke=\"black\" stroke-width=\"2\" x1=\"0\" x2=\"180\" y1=\"120\" y2=\"120\" /><line stroke=\"black\" stroke-width=\"2\" x1=\"150\" x2=\"150\" y1=\"0\" y2=\"180\" /><line stroke=\"black\" stroke-width=\"2\" x1=\"0\" x2=\"180\" y1=\"150\" y2=\"150\" /><line stroke=\"black\" stroke-width=\"2\" x1=\"180\" x2=\"180\" y1=\"0\" y2=\"180\" /><line stroke=\"black\" stroke-width=\"2\" x1=\"0\" x2=\"180\" y1=\"180\" y2=\"180\" /><rect fill=\"#FF0000\" height=\"24\" rx=\"5\" ry=\"5\" stroke-width=\"3\" width=\"54\" x=\"33\" y=\"63\" /><text style=\"fill:black;text-anchor:middle;alignment-baseline:central\" x=\"60.0\" y=\"75.0\">X</text><rect fill=\"#F0E68C\" height=\"54\" rx=\"5\" ry=\"5\" stroke-width=\"3\" width=\"24\" x=\"63\" y=\"3\" /><text style=\"fill:black;text-anchor:middle;alignment-baseline:central\" x=\"75.0\" y=\"30.0\">L</text><rect fill=\"#CD5C5C\" height=\"24\" rx=\"5\" ry=\"5\" stroke-width=\"3\" width=\"54\" x=\"3\" y=\"3\" /><text style=\"fill:black;text-anchor:middle;alignment-baseline:central\" x=\"30.0\" y=\"15.0\">K</text><rect fill=\"#ADFF2F\" height=\"24\" rx=\"5\" ry=\"5\" stroke-width=\"3\" width=\"54\" x=\"3\" y=\"33\" /><text style=\"fill:black;text-anchor:middle;alignment-baseline:central\" x=\"30.0\" y=\"45.0\">J</text><rect fill=\"#FFD700\" height=\"24\" rx=\"5\" ry=\"5\" stroke-width=\"3\" width=\"54\" x=\"63\" y=\"123\" /><text style=\"fill:black;text-anchor:middle;alignment-baseline:central\" x=\"90.0\" y=\"135.0\">H</text><rect fill=\"#00FA9A\" height=\"84\" rx=\"5\" ry=\"5\" stroke-width=\"3\" width=\"24\" x=\"3\" y=\"63\" /><text style=\"fill:black;text-anchor:middle;alignment-baseline:central\" x=\"15.0\" y=\"105.0\">Z</text><rect fill=\"#FF00FF\" height=\"84\" rx=\"5\" ry=\"5\" stroke-width=\"3\" width=\"24\" x=\"93\" y=\"3\" /><text style=\"fill:black;text-anchor:middle;alignment-baseline:central\" x=\"105.0\" y=\"45.0\">W</text><rect fill=\"#FFA07A\" height=\"24\" rx=\"5\" ry=\"5\" stroke-width=\"3\" width=\"84\" x=\"33\" y=\"93\" /><text style=\"fill:black;text-anchor:middle;alignment-baseline:central\" x=\"75.0\" y=\"105.0\">R</text><rect fill=\"#F08080\" height=\"24\" rx=\"5\" ry=\"5\" stroke-width=\"3\" width=\"84\" x=\"3\" y=\"153\" /><text style=\"fill:black;text-anchor:middle;alignment-baseline:central\" x=\"45.0\" y=\"165.0\">T</text></svg></g></svg><line stroke=\"black\" stroke-width=\"2\" x1=\"245\" x2=\"408\" y1=\"245\" y2=\"359\" /><svg x=\"363\" y = \"314\"><g transform = \"scale(.5)\"><svg baseProfile=\"full\" height=\"180\" version=\"1.1\" width=\"180\" xmlns=\"http://www.w3.org/2000/svg\" xmlns:ev=\"http://www.w3.org/2001/xml-events\" xmlns:xlink=\"http://www.w3.org/1999/xlink\"><defs /><rect fill=\"#E6E6E6\" height=\"180\" width=\"180\" x=\"0\" y=\"0\" /><line stroke=\"black\" stroke-width=\"2\" x1=\"0\" x2=\"0\" y1=\"0\" y2=\"180\" /><line stroke=\"black\" stroke-width=\"2\" x1=\"0\" x2=\"180\" y1=\"0\" y2=\"0\" /><line stroke=\"black\" stroke-width=\"2\" x1=\"30\" x2=\"30\" y1=\"0\" y2=\"180\" /><line stroke=\"black\" stroke-width=\"2\" x1=\"0\" x2=\"180\" y1=\"30\" y2=\"30\" /><line stroke=\"black\" stroke-width=\"2\" x1=\"60\" x2=\"60\" y1=\"0\" y2=\"180\" /><line stroke=\"black\" stroke-width=\"2\" x1=\"0\" x2=\"180\" y1=\"60\" y2=\"60\" /><line stroke=\"black\" stroke-width=\"2\" x1=\"90\" x2=\"90\" y1=\"0\" y2=\"180\" /><line stroke=\"black\" stroke-width=\"2\" x1=\"0\" x2=\"180\" y1=\"90\" y2=\"90\" /><line stroke=\"black\" stroke-width=\"2\" x1=\"120\" x2=\"120\" y1=\"0\" y2=\"180\" /><line stroke=\"black\" stroke-width=\"2\" x1=\"0\" x2=\"180\" y1=\"120\" y2=\"120\" /><line stroke=\"black\" stroke-width=\"2\" x1=\"150\" x2=\"150\" y1=\"0\" y2=\"180\" /><line stroke=\"black\" stroke-width=\"2\" x1=\"0\" x2=\"180\" y1=\"150\" y2=\"150\" /><line stroke=\"black\" stroke-width=\"2\" x1=\"180\" x2=\"180\" y1=\"0\" y2=\"180\" /><line stroke=\"black\" stroke-width=\"2\" x1=\"0\" x2=\"180\" y1=\"180\" y2=\"180\" /><rect fill=\"#FF0000\" height=\"24\" rx=\"5\" ry=\"5\" stroke-width=\"3\" width=\"54\" x=\"33\" y=\"63\" /><text style=\"fill:black;text-anchor:middle;alignment-baseline:central\" x=\"60.0\" y=\"75.0\">X</text><rect fill=\"#F0E68C\" height=\"54\" rx=\"5\" ry=\"5\" stroke-width=\"3\" width=\"24\" x=\"63\" y=\"3\" /><text style=\"fill:black;text-anchor:middle;alignment-baseline:central\" x=\"75.0\" y=\"30.0\">L</text><rect fill=\"#CD5C5C\" height=\"24\" rx=\"5\" ry=\"5\" stroke-width=\"3\" width=\"54\" x=\"3\" y=\"3\" /><text style=\"fill:black;text-anchor:middle;alignment-baseline:central\" x=\"30.0\" y=\"15.0\">K</text><rect fill=\"#ADFF2F\" height=\"24\" rx=\"5\" ry=\"5\" stroke-width=\"3\" width=\"54\" x=\"3\" y=\"33\" /><text style=\"fill:black;text-anchor:middle;alignment-baseline:central\" x=\"30.0\" y=\"45.0\">J</text><rect fill=\"#FFD700\" height=\"24\" rx=\"5\" ry=\"5\" stroke-width=\"3\" width=\"54\" x=\"33\" y=\"123\" /><text style=\"fill:black;text-anchor:middle;alignment-baseline:central\" x=\"60.0\" y=\"135.0\">H</text><rect fill=\"#00FA9A\" height=\"84\" rx=\"5\" ry=\"5\" stroke-width=\"3\" width=\"24\" x=\"3\" y=\"63\" /><text style=\"fill:black;text-anchor:middle;alignment-baseline:central\" x=\"15.0\" y=\"105.0\">Z</text><rect fill=\"#FF00FF\" height=\"84\" rx=\"5\" ry=\"5\" stroke-width=\"3\" width=\"24\" x=\"93\" y=\"3\" /><text style=\"fill:black;text-anchor:middle;alignment-baseline:central\" x=\"105.0\" y=\"45.0\">W</text><rect fill=\"#FFA07A\" height=\"24\" rx=\"5\" ry=\"5\" stroke-width=\"3\" width=\"84\" x=\"63\" y=\"93\" /><text style=\"fill:black;text-anchor:middle;alignment-baseline:central\" x=\"105.0\" y=\"105.0\">R</text><rect fill=\"#F08080\" height=\"24\" rx=\"5\" ry=\"5\" stroke-width=\"3\" width=\"84\" x=\"3\" y=\"153\" /><text style=\"fill:black;text-anchor:middle;alignment-baseline:central\" x=\"45.0\" y=\"165.0\">T</text></svg></g></svg><svg x=\"200\" y = \"200\"><g transform = \"scale(.5)\"><svg baseProfile=\"full\" height=\"180\" version=\"1.1\" width=\"180\" xmlns=\"http://www.w3.org/2000/svg\" xmlns:ev=\"http://www.w3.org/2001/xml-events\" xmlns:xlink=\"http://www.w3.org/1999/xlink\"><defs /><rect fill=\"#E6E6E6\" height=\"180\" width=\"180\" x=\"0\" y=\"0\" /><line stroke=\"black\" stroke-width=\"2\" x1=\"0\" x2=\"0\" y1=\"0\" y2=\"180\" /><line stroke=\"black\" stroke-width=\"2\" x1=\"0\" x2=\"180\" y1=\"0\" y2=\"0\" /><line stroke=\"black\" stroke-width=\"2\" x1=\"30\" x2=\"30\" y1=\"0\" y2=\"180\" /><line stroke=\"black\" stroke-width=\"2\" x1=\"0\" x2=\"180\" y1=\"30\" y2=\"30\" /><line stroke=\"black\" stroke-width=\"2\" x1=\"60\" x2=\"60\" y1=\"0\" y2=\"180\" /><line stroke=\"black\" stroke-width=\"2\" x1=\"0\" x2=\"180\" y1=\"60\" y2=\"60\" /><line stroke=\"black\" stroke-width=\"2\" x1=\"90\" x2=\"90\" y1=\"0\" y2=\"180\" /><line stroke=\"black\" stroke-width=\"2\" x1=\"0\" x2=\"180\" y1=\"90\" y2=\"90\" /><line stroke=\"black\" stroke-width=\"2\" x1=\"120\" x2=\"120\" y1=\"0\" y2=\"180\" /><line stroke=\"black\" stroke-width=\"2\" x1=\"0\" x2=\"180\" y1=\"120\" y2=\"120\" /><line stroke=\"black\" stroke-width=\"2\" x1=\"150\" x2=\"150\" y1=\"0\" y2=\"180\" /><line stroke=\"black\" stroke-width=\"2\" x1=\"0\" x2=\"180\" y1=\"150\" y2=\"150\" /><line stroke=\"black\" stroke-width=\"2\" x1=\"180\" x2=\"180\" y1=\"0\" y2=\"180\" /><line stroke=\"black\" stroke-width=\"2\" x1=\"0\" x2=\"180\" y1=\"180\" y2=\"180\" /><rect fill=\"#FF0000\" height=\"24\" rx=\"5\" ry=\"5\" stroke-width=\"3\" width=\"54\" x=\"33\" y=\"63\" /><text style=\"fill:black;text-anchor:middle;alignment-baseline:central\" x=\"60.0\" y=\"75.0\">X</text><rect fill=\"#F0E68C\" height=\"54\" rx=\"5\" ry=\"5\" stroke-width=\"3\" width=\"24\" x=\"63\" y=\"3\" /><text style=\"fill:black;text-anchor:middle;alignment-baseline:central\" x=\"75.0\" y=\"30.0\">L</text><rect fill=\"#CD5C5C\" height=\"24\" rx=\"5\" ry=\"5\" stroke-width=\"3\" width=\"54\" x=\"3\" y=\"3\" /><text style=\"fill:black;text-anchor:middle;alignment-baseline:central\" x=\"30.0\" y=\"15.0\">K</text><rect fill=\"#ADFF2F\" height=\"24\" rx=\"5\" ry=\"5\" stroke-width=\"3\" width=\"54\" x=\"3\" y=\"33\" /><text style=\"fill:black;text-anchor:middle;alignment-baseline:central\" x=\"30.0\" y=\"45.0\">J</text><rect fill=\"#FFD700\" height=\"24\" rx=\"5\" ry=\"5\" stroke-width=\"3\" width=\"54\" x=\"33\" y=\"123\" /><text style=\"fill:black;text-anchor:middle;alignment-baseline:central\" x=\"60.0\" y=\"135.0\">H</text><rect fill=\"#00FA9A\" height=\"84\" rx=\"5\" ry=\"5\" stroke-width=\"3\" width=\"24\" x=\"3\" y=\"63\" /><text style=\"fill:black;text-anchor:middle;alignment-baseline:central\" x=\"15.0\" y=\"105.0\">Z</text><rect fill=\"#FF00FF\" height=\"84\" rx=\"5\" ry=\"5\" stroke-width=\"3\" width=\"24\" x=\"93\" y=\"3\" /><text style=\"fill:black;text-anchor:middle;alignment-baseline:central\" x=\"105.0\" y=\"45.0\">W</text><rect fill=\"#FFA07A\" height=\"24\" rx=\"5\" ry=\"5\" stroke-width=\"3\" width=\"84\" x=\"33\" y=\"93\" /><text style=\"fill:black;text-anchor:middle;alignment-baseline:central\" x=\"75.0\" y=\"105.0\">R</text><rect fill=\"#F08080\" height=\"24\" rx=\"5\" ry=\"5\" stroke-width=\"3\" width=\"84\" x=\"3\" y=\"153\" /><text style=\"fill:black;text-anchor:middle;alignment-baseline:central\" x=\"45.0\" y=\"165.0\">T</text></svg></g></svg></svg>"
      ],
      "text/plain": [
       "<IPython.core.display.HTML object>"
      ]
     },
     "execution_count": 22,
     "metadata": {},
     "output_type": "execute_result"
    }
   ],
   "source": [
    "HTML(svg_neighborhood(276745027360252628944933584371200, 2))"
   ]
  },
  {
   "cell_type": "code",
   "execution_count": 23,
   "metadata": {},
   "outputs": [
    {
     "data": {
      "text/plain": [
       "<networkx.classes.graph.Graph at 0x2926a9bd160>"
      ]
     },
     "execution_count": 23,
     "metadata": {},
     "output_type": "execute_result"
    }
   ],
   "source": [
    "g"
   ]
  },
  {
   "cell_type": "code",
   "execution_count": 36,
   "metadata": {},
   "outputs": [
    {
     "data": {
      "text/plain": [
       "<networkx.classes.graph.Graph at 0x2926b529c50>"
      ]
     },
     "execution_count": 36,
     "metadata": {},
     "output_type": "execute_result"
    }
   ],
   "source": [
    "import copy\n",
    "h = nx.Graph()\n",
    "#h.nodes = copy.deepcopy(g.nodes)\n",
    "h"
   ]
  },
  {
   "cell_type": "code",
   "execution_count": 37,
   "metadata": {},
   "outputs": [
    {
     "data": {
      "text/plain": [
       "0"
      ]
     },
     "execution_count": 37,
     "metadata": {},
     "output_type": "execute_result"
    }
   ],
   "source": [
    "len(h.nodes())"
   ]
  },
  {
   "cell_type": "code",
   "execution_count": 38,
   "metadata": {},
   "outputs": [
    {
     "data": {
      "text/plain": [
       "0"
      ]
     },
     "execution_count": 38,
     "metadata": {},
     "output_type": "execute_result"
    }
   ],
   "source": [
    "h.size()"
   ]
  },
  {
   "cell_type": "code",
   "execution_count": 39,
   "metadata": {},
   "outputs": [
    {
     "data": {
      "text/plain": [
       "4318"
      ]
     },
     "execution_count": 39,
     "metadata": {},
     "output_type": "execute_result"
    }
   ],
   "source": [
    "len(g.nodes())"
   ]
  },
  {
   "cell_type": "code",
   "execution_count": 40,
   "metadata": {},
   "outputs": [],
   "source": [
    "nodes = list(g.nodes())"
   ]
  },
  {
   "cell_type": "code",
   "execution_count": 41,
   "metadata": {},
   "outputs": [
    {
     "data": {
      "text/plain": [
       "(276745027360252628944933584371200, 2)"
      ]
     },
     "execution_count": 41,
     "metadata": {},
     "output_type": "execute_result"
    }
   ],
   "source": [
    "nodes[0]"
   ]
  },
  {
   "cell_type": "code",
   "execution_count": 42,
   "metadata": {},
   "outputs": [
    {
     "data": {
      "text/plain": [
       "2644"
      ]
     },
     "execution_count": 42,
     "metadata": {},
     "output_type": "execute_result"
    }
   ],
   "source": [
    "d_0 = [n for n in g.nodes() if n[1] == 5]\n",
    "len(d_0)"
   ]
  },
  {
   "cell_type": "code",
   "execution_count": 43,
   "metadata": {},
   "outputs": [
    {
     "data": {
      "text/plain": [
       "2644"
      ]
     },
     "execution_count": 43,
     "metadata": {},
     "output_type": "execute_result"
    }
   ],
   "source": [
    "for n in d_0:\n",
    "    h.add_node(n)\n",
    "len(h.nodes())"
   ]
  },
  {
   "cell_type": "code",
   "execution_count": 44,
   "metadata": {},
   "outputs": [
    {
     "data": {
      "text/plain": [
       "{(276745027360252626978457038093824, 2): {},\n",
       " (276745027360252628944927242583552, 2): {},\n",
       " (276745027360252628944933584142272, 2): {}}"
      ]
     },
     "execution_count": 44,
     "metadata": {},
     "output_type": "execute_result"
    }
   ],
   "source": [
    "g"
   ]
  },
  {
   "cell_type": "code",
   "execution_count": 45,
   "metadata": {},
   "outputs": [
    {
     "data": {
      "text/plain": [
       "12961"
      ]
     },
     "execution_count": 45,
     "metadata": {},
     "output_type": "execute_result"
    }
   ],
   "source": [
    "len(g.edges())\n",
    "    "
   ]
  },
  {
   "cell_type": "code",
   "execution_count": 46,
   "metadata": {},
   "outputs": [],
   "source": [
    "edges = [g.edges()]"
   ]
  },
  {
   "cell_type": "code",
   "execution_count": 51,
   "metadata": {},
   "outputs": [
    {
     "data": {
      "text/plain": [
       "list"
      ]
     },
     "execution_count": 51,
     "metadata": {},
     "output_type": "execute_result"
    }
   ],
   "source": [
    "type(edges[0])"
   ]
  },
  {
   "cell_type": "code",
   "execution_count": 52,
   "metadata": {},
   "outputs": [
    {
     "data": {
      "text/plain": [
       "((276745027360252628944933584371200, 2),\n",
       " (276745027360252628944933584142272, 2))"
      ]
     },
     "execution_count": 52,
     "metadata": {},
     "output_type": "execute_result"
    }
   ],
   "source": [
    "g.edges()[0]"
   ]
  },
  {
   "cell_type": "code",
   "execution_count": 54,
   "metadata": {},
   "outputs": [
    {
     "data": {
      "text/plain": [
       "((276745027360252628944933584371200, 2),\n",
       " (276745027360252626978457038093824, 2))"
      ]
     },
     "execution_count": 54,
     "metadata": {},
     "output_type": "execute_result"
    }
   ],
   "source": [
    "g.edges()[1]"
   ]
  },
  {
   "cell_type": "code",
   "execution_count": 57,
   "metadata": {},
   "outputs": [],
   "source": [
    "p_edges = [e for e in g.edges() if abs( e[0][1] - e[1][1] ) == 1]"
   ]
  },
  {
   "cell_type": "markdown",
   "metadata": {},
   "source": [
    "len(p_edges)"
   ]
  },
  {
   "cell_type": "code",
   "execution_count": 58,
   "metadata": {},
   "outputs": [
    {
     "data": {
      "text/plain": [
       "312"
      ]
     },
     "execution_count": 58,
     "metadata": {},
     "output_type": "execute_result"
    }
   ],
   "source": [
    "len(p_edges)"
   ]
  },
  {
   "cell_type": "code",
   "execution_count": 64,
   "metadata": {},
   "outputs": [
    {
     "data": {
      "text/plain": [
       "(276745027360252628944933584371200, 2)"
      ]
     },
     "execution_count": 64,
     "metadata": {},
     "output_type": "execute_result"
    }
   ],
   "source": [
    "g.nodes()[0]"
   ]
  },
  {
   "cell_type": "code",
   "execution_count": 65,
   "metadata": {},
   "outputs": [
    {
     "data": {
      "text/plain": [
       "{(276745027360252626978457038093824, 2): {},\n",
       " (276745027360252628944927242583552, 2): {},\n",
       " (276745027360252628944933584142272, 2): {}}"
      ]
     },
     "execution_count": 65,
     "metadata": {},
     "output_type": "execute_result"
    }
   ],
   "source": [
    "g[(276745027360252628944933584371200, 2)]"
   ]
  },
  {
   "cell_type": "code",
   "execution_count": 68,
   "metadata": {},
   "outputs": [],
   "source": [
    "nbr_depths = {n:set([ x[1] for x in g[n]]) for n in g.nodes()}"
   ]
  },
  {
   "cell_type": "code",
   "execution_count": 75,
   "metadata": {},
   "outputs": [
    {
     "ename": "TypeError",
     "evalue": "'int' object is not iterable",
     "output_type": "error",
     "traceback": [
      "\u001b[1;31m---------------------------------------------------------------------------\u001b[0m",
      "\u001b[1;31mTypeError\u001b[0m                                 Traceback (most recent call last)",
      "\u001b[1;32m<ipython-input-75-68fa5227f704>\u001b[0m in \u001b[0;36m<module>\u001b[1;34m()\u001b[0m\n\u001b[1;32m----> 1\u001b[1;33m \u001b[0mburied_nodes\u001b[0m \u001b[1;33m=\u001b[0m \u001b[1;33m[\u001b[0m\u001b[0mx\u001b[0m \u001b[1;32mfor\u001b[0m \u001b[0mx\u001b[0m \u001b[1;32min\u001b[0m \u001b[0mnbr_depths\u001b[0m\u001b[1;33m.\u001b[0m\u001b[0mkeys\u001b[0m\u001b[1;33m(\u001b[0m\u001b[1;33m)\u001b[0m \u001b[1;32mif\u001b[0m \u001b[0mset\u001b[0m\u001b[1;33m(\u001b[0m\u001b[0mx\u001b[0m\u001b[1;33m[\u001b[0m\u001b[1;36m1\u001b[0m\u001b[1;33m]\u001b[0m\u001b[1;33m)\u001b[0m \u001b[1;33m==\u001b[0m \u001b[0mnbr_depths\u001b[0m\u001b[1;33m[\u001b[0m\u001b[0mx\u001b[0m\u001b[1;33m]\u001b[0m\u001b[1;33m]\u001b[0m\u001b[1;33m\u001b[0m\u001b[0m\n\u001b[0m",
      "\u001b[1;32m<ipython-input-75-68fa5227f704>\u001b[0m in \u001b[0;36m<listcomp>\u001b[1;34m(.0)\u001b[0m\n\u001b[1;32m----> 1\u001b[1;33m \u001b[0mburied_nodes\u001b[0m \u001b[1;33m=\u001b[0m \u001b[1;33m[\u001b[0m\u001b[0mx\u001b[0m \u001b[1;32mfor\u001b[0m \u001b[0mx\u001b[0m \u001b[1;32min\u001b[0m \u001b[0mnbr_depths\u001b[0m\u001b[1;33m.\u001b[0m\u001b[0mkeys\u001b[0m\u001b[1;33m(\u001b[0m\u001b[1;33m)\u001b[0m \u001b[1;32mif\u001b[0m \u001b[0mset\u001b[0m\u001b[1;33m(\u001b[0m\u001b[0mx\u001b[0m\u001b[1;33m[\u001b[0m\u001b[1;36m1\u001b[0m\u001b[1;33m]\u001b[0m\u001b[1;33m)\u001b[0m \u001b[1;33m==\u001b[0m \u001b[0mnbr_depths\u001b[0m\u001b[1;33m[\u001b[0m\u001b[0mx\u001b[0m\u001b[1;33m]\u001b[0m\u001b[1;33m]\u001b[0m\u001b[1;33m\u001b[0m\u001b[0m\n\u001b[0m",
      "\u001b[1;31mTypeError\u001b[0m: 'int' object is not iterable"
     ]
    }
   ],
   "source": [
    "buried_nodes = [x for x in nbr_depths.keys() if set(x[1]) == nbr_depths[x]]"
   ]
  },
  {
   "cell_type": "raw",
   "metadata": {},
   "source": []
  },
  {
   "cell_type": "code",
   "execution_count": 83,
   "metadata": {
    "scrolled": true
   },
   "outputs": [
    {
     "data": {
      "text/plain": [
       "2"
      ]
     },
     "execution_count": 83,
     "metadata": {},
     "output_type": "execute_result"
    }
   ],
   "source": [
    "list(nbr_depths.keys())[0][1]"
   ]
  },
  {
   "cell_type": "code",
   "execution_count": 82,
   "metadata": {},
   "outputs": [
    {
     "data": {
      "text/plain": [
       "{2}"
      ]
     },
     "execution_count": 82,
     "metadata": {},
     "output_type": "execute_result"
    }
   ],
   "source": [
    "nbr_depths[(276745027360252628944933584371200, 2)]"
   ]
  },
  {
   "cell_type": "code",
   "execution_count": 84,
   "metadata": {},
   "outputs": [
    {
     "data": {
      "text/plain": [
       "False"
      ]
     },
     "execution_count": 84,
     "metadata": {},
     "output_type": "execute_result"
    }
   ],
   "source": [
    "{1.2} == {2}"
   ]
  },
  {
   "cell_type": "code",
   "execution_count": 134,
   "metadata": {},
   "outputs": [
    {
     "data": {
      "text/plain": [
       "(array([[15362435066293568, 13506451033292288,                 2]], dtype=uint64),\n",
       " array([[17996807076014592, 10339091161247109,                 2]], dtype=uint64),\n",
       " array([[15340386781908388, 10373068125595648,                 2]], dtype=uint64),\n",
       " array([[15344155613391917, 13509536243212598,                 2]], dtype=uint64))"
      ]
     },
     "execution_count": 134,
     "metadata": {},
     "output_type": "execute_result"
    }
   ],
   "source": [
    "cards[18],cards[28],cards[14],cards[37]"
   ]
  },
  {
   "cell_type": "code",
   "execution_count": null,
   "metadata": {},
   "outputs": [],
   "source": []
  }
 ],
 "metadata": {
  "kernelspec": {
   "display_name": "Python 3",
   "language": "python",
   "name": "python3"
  },
  "language_info": {
   "codemirror_mode": {
    "name": "ipython",
    "version": 3
   },
   "file_extension": ".py",
   "mimetype": "text/x-python",
   "name": "python",
   "nbconvert_exporter": "python",
   "pygments_lexer": "ipython3",
   "version": "3.6.2"
  }
 },
 "nbformat": 4,
 "nbformat_minor": 2
}

{
 "metadata": {
  "name": "",
  "signature": "sha256:120f63c9d182aa7e34ad0c5ee3eed9205edac0a5b552d37c333e27832ce68fc6"
 },
 "nbformat": 3,
 "nbformat_minor": 0,
 "worksheets": [
  {
   "cells": [
    {
     "cell_type": "markdown",
     "metadata": {},
     "source": [
      "The goals of this notebook:\n",
      "\n",
      "Develop the algoithm to determine the solution depth and optimal neighbor.\n",
      "\n",
      "A separate notebook will explore visualizations of the rush hour graph."
     ]
    },
    {
     "cell_type": "code",
     "collapsed": false,
     "input": [
      "%matplotlib inline\n",
      "\n",
      "import os\n",
      "import pandas as pd\n",
      "import copy\n",
      "from IPython.display import HTML\n",
      "import sqlite3 as db\n",
      "import networkx as nx"
     ],
     "language": "python",
     "metadata": {},
     "outputs": [],
     "prompt_number": 1
    },
    {
     "cell_type": "code",
     "collapsed": false,
     "input": [
      "con = db.connect('C:/Users/cliff/workspace/rushHour/Data Model and SQL/Schema Definition and Bulk Load/rush_hour.db')\n",
      "c = con.cursor()"
     ],
     "language": "python",
     "metadata": {},
     "outputs": [],
     "prompt_number": 2
    },
    {
     "cell_type": "code",
     "collapsed": false,
     "input": [
      "connected_component_id = 30\n",
      "# this component has 104 states in it.\n"
     ],
     "language": "python",
     "metadata": {},
     "outputs": [],
     "prompt_number": 3
    },
    {
     "cell_type": "code",
     "collapsed": false,
     "input": [
      "sql = \"\"\" select s.comb_class_id, s.game_number, s.is_goal_state\n",
      "          from connected_component c\n",
      "               inner join states s on c.id = s.connected_component_id\n",
      "          where connected_component_id = %d\n",
      "      \"\"\"%(connected_component_id)\n",
      "c.execute(sql)\n",
      "component_states = c.fetchall()\n",
      "#component_states\n",
      "#df = pd.read_sql(sql,con)\n",
      "#en(df)"
     ],
     "language": "python",
     "metadata": {},
     "outputs": [],
     "prompt_number": 4
    },
    {
     "cell_type": "code",
     "collapsed": false,
     "input": [
      "# each edge will match twice against the nodes - once for the pre transition state and once for the post transition state.\n",
      "# at the time of this writing, I am using distint to remove the duplicates. \n",
      "sql = \"\"\"select distinct t.*\n",
      "         from connected_component c\n",
      "              inner join states s on c.id = s.connected_component_id \n",
      "              inner join state_transition t \n",
      "              on (s.comb_class_id = t.comb_class_id\n",
      "                  and s.game_number = t.pre_transition_game_number\n",
      "                 )\n",
      "                  or\n",
      "                 (t.comb_class_id = s.comb_class_id \n",
      "                  and s.game_number = t.post_transition_game_number \n",
      "                 )\n",
      "         where connected_component_id = %d\n",
      "       \"\"\"%(connected_component_id)\n",
      "\n",
      "c.execute(sql)\n",
      "component_edges = c.fetchall()\n"
     ],
     "language": "python",
     "metadata": {},
     "outputs": [],
     "prompt_number": 5
    },
    {
     "cell_type": "markdown",
     "metadata": {},
     "source": [
      "Start wtih the goal states as partion 0\n",
      "Run breadth -first search at the partition level\n",
      "We want to run breadth-first on set of states. The nodes/neighbors are sets of states.\n",
      "\n",
      "We are building the distance partition from the goal states: P0, P1, ... Pn. Where Pi is the set of states exactly i moves from a solution state.\n",
      "\n",
      "We need both P0 and P1 as basis to loop through constructing the rest of the partitions. $P_{i+1}$ is a function of $P_i$ and $P_{i-1}$."
     ]
    },
    {
     "cell_type": "code",
     "collapsed": false,
     "input": [
      "dist_partition = {} # k,v = depth, list of game_numbers\n",
      "optimal_nbr = [] # xi = [game_number, optimal_neighbor]\n",
      "component_edges = [ [x[0],x[1],x[2]] for x in component_edges] + [ [x[1],x[0],x[2]] for x in component_edges]\n",
      "goal_states = [x for x in component_states if x[2] == 1] "
     ],
     "language": "python",
     "metadata": {},
     "outputs": [],
     "prompt_number": 6
    },
    {
     "cell_type": "code",
     "collapsed": false,
     "input": [
      "# compute $P_0$ and $P_1$\n",
      "\n",
      "# in prep for migrating this code to a contained method, we define the function arguments\n",
      "\n",
      "dist_partition[0] = set([x[1] for x in component_states if x[2] == 1])\n",
      "\n",
      "unassigned_states = set([x[1] for x in component_states]) - dist_partition[0]\n",
      "\n",
      "#len(consumed_states) , len(dist_partition[0])\n",
      "\n",
      "dist_0_nbrs = set([x[1] for x in component_edges if x[0] in dist_partition[0]])\n",
      "dist_0_nbrs_in_dist_0 = set([x for x in dist_0_nbrs if x in dist_partition[0]])\n",
      "dist_partition[1] =  dist_0_nbrs - dist_0_nbrs_in_dist_0\n",
      "\n",
      "unassigned_states = unassigned_states - dist_partition[1]\n",
      "#consumed_states = consumed_states.union(dist_partition[1])\n"
     ],
     "language": "python",
     "metadata": {},
     "outputs": [],
     "prompt_number": 7
    },
    {
     "cell_type": "code",
     "collapsed": false,
     "input": [
      "# loop to compute the remaining $P_i$ \n",
      "# need names for $P_{i-1}$, $P_i$, and $P_{i+1}$: p_prev, p_cur, p_new\n",
      "cur_depth = 1\n",
      "\n",
      "while unassigned_states:#len(consumed_states) < len(component_states):\n",
      "    new_depth = cur_depth + 1\n",
      "    prev_depth = cur_depth - 1\n",
      "    nbrs = set([x[1] for x in component_edges if x[0] in dist_partition[cur_depth]])\n",
      "    nbrs_in_prev_partition = nbrs.intersection(dist_partition[prev_depth])\n",
      "    nbrs_in_cur_partition =  nbrs.intersection(dist_partition[cur_depth])\n",
      "    dist_partition[new_depth] = nbrs - nbrs_in_prev_partition.union(nbrs_in_cur_partition)\n",
      "    unassigned_states = unassigned_states - dist_partition[new_depth]\n",
      "    #consumed_states= consumed_states.union(dist_partition[new_depth])\n",
      "    cur_depth = new_depth\n",
      "    \n",
      "#nbrs_new_partition"
     ],
     "language": "python",
     "metadata": {},
     "outputs": [],
     "prompt_number": 8
    },
    {
     "cell_type": "code",
     "collapsed": false,
     "input": [
      "#dist_partition.keys()\n",
      "#len(consumed_states), len(component_states), len(dist_partition[2])\n",
      "#consumed_states\n",
      "#[[k,len(dist_partition[k])] for k in dist_partition.keys()] , len(consumed_states), sum([len(dist_partition[k]) for k in dist_partition.keys()])"
     ],
     "language": "python",
     "metadata": {},
     "outputs": [],
     "prompt_number": 9
    },
    {
     "cell_type": "code",
     "collapsed": false,
     "input": [
      "#dist_partition[0], dist_partition[1], dist_partition[2]"
     ],
     "language": "python",
     "metadata": {},
     "outputs": [],
     "prompt_number": 10
    },
    {
     "cell_type": "markdown",
     "metadata": {},
     "source": [
      "Develop data structures to support drawing the connected component."
     ]
    },
    {
     "cell_type": "code",
     "collapsed": false,
     "input": [
      "def partition_color(depth):\n",
      "    return depth\n",
      "    #if depth == 0:\n",
      "    #    return 'r'\n",
      "    #else:\n",
      "    #    return depth\n",
      "        \n",
      "    #if depth >0  and depth < 9:\n",
      "    #    return 'g'\n",
      "    #if depth == 9:\n",
      "    #    return 'b'"
     ],
     "language": "python",
     "metadata": {},
     "outputs": [],
     "prompt_number": 12
    },
    {
     "cell_type": "code",
     "collapsed": false,
     "input": [
      "def nodes_colors(dist_partition): #dist_partition is dict k:v, K is partition depth (0,...,n); v is list of game numbers\n",
      "    partition_list = [[k,elt] for k in dist_partition.keys() for elt in dist_partition[k]]\n",
      "\n",
      "    nodes = [x[1] for x in partition_list]\n",
      "    colors = [partition_color(x[0]) for x in partition_list]\n",
      "    \n",
      "    return [nodes,colors]\n",
      "    "
     ],
     "language": "python",
     "metadata": {},
     "outputs": [],
     "prompt_number": 13
    },
    {
     "cell_type": "code",
     "collapsed": false,
     "input": [
      "[graph_nodes,graph_colors] = nodes_colors(dist_partition)\n",
      "node_labels = {node:str(depth) for (depth,nodes) in dist_partition.items() for node in nodes}\n",
      "shell_list = [list(dist_partition[k]) for k in dist_partition.keys() ]\n",
      "#nodes,node_labels"
     ],
     "language": "python",
     "metadata": {},
     "outputs": [],
     "prompt_number": 19
    },
    {
     "cell_type": "code",
     "collapsed": false,
     "input": [
      "#nx.draw(G)\n",
      "%pylab qt\n",
      "G=nx.Graph()\n",
      "G.add_nodes_from(graph_nodes)\n",
      "G.add_edges_from([ [x[0],x[1]] for x in component_edges])\n",
      "nx.draw_shell(G,nlist=shell_list,scale=23,nodelist=graph_nodes, node_color=graph_colors, with_labels=True,labels=node_labels,font_size=24,node_size=300)"
     ],
     "language": "python",
     "metadata": {},
     "outputs": [
      {
       "output_type": "stream",
       "stream": "stdout",
       "text": [
        "Populating the interactive namespace from numpy and matplotlib\n"
       ]
      }
     ],
     "prompt_number": 20
    },
    {
     "cell_type": "code",
     "collapsed": false,
     "input": [],
     "language": "python",
     "metadata": {},
     "outputs": []
    }
   ],
   "metadata": {}
  }
 ]
}
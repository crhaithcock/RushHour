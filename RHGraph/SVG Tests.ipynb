{
 "cells": [
  {
   "cell_type": "code",
   "execution_count": 1,
   "metadata": {},
   "outputs": [],
   "source": [
    "%load_ext autoreload\n",
    "%autoreload 2"
   ]
  },
  {
   "cell_type": "code",
   "execution_count": 2,
   "metadata": {},
   "outputs": [],
   "source": [
    "import numpy as np\n",
    "import networkx as nx\n",
    "import matplotlib.pyplot as plt\n",
    "from IPython.core.display import HTML\n",
    "\n",
    "#import RHState\n",
    "#import RHLibrary as lib\n",
    "#import RHComponent\n",
    "\n",
    "%matplotlib inline"
   ]
  },
  {
   "cell_type": "code",
   "execution_count": 3,
   "metadata": {},
   "outputs": [
    {
     "data": {
      "text/html": [
       "<svg width=\"750\" height=\"500\" style=\"background: gray\">\n",
       "  <svg x=\"300\" y=\"400\">\n",
       "    <circle cx=\"50\" cy=\"50\" r=\"50\" style=\"fill: red\" />\n",
       "  </svg>\n",
       "  <circle cx=\"50\" cy=\"50\" r=\"50\" style=\"fill: yellow\" />\n",
       "</svg>"
      ],
      "text/plain": [
       "<IPython.core.display.HTML object>"
      ]
     },
     "execution_count": 3,
     "metadata": {},
     "output_type": "execute_result"
    }
   ],
   "source": [
    "HTML('''<svg width=\"750\" height=\"500\" style=\"background: gray\">\n",
    "  <svg x=\"300\" y=\"400\">\n",
    "    <circle cx=\"50\" cy=\"50\" r=\"50\" style=\"fill: red\" />\n",
    "  </svg>\n",
    "  <circle cx=\"50\" cy=\"50\" r=\"50\" style=\"fill: yellow\" />\n",
    "</svg>''')"
   ]
  },
  {
   "cell_type": "code",
   "execution_count": 4,
   "metadata": {},
   "outputs": [],
   "source": [
    "s = lib.s7"
   ]
  },
  {
   "cell_type": "code",
   "execution_count": 5,
   "metadata": {},
   "outputs": [
    {
     "ename": "TypeError",
     "evalue": "'NoneType' object is not iterable",
     "output_type": "error",
     "traceback": [
      "\u001b[1;31m---------------------------------------------------------------------------\u001b[0m",
      "\u001b[1;31mTypeError\u001b[0m                                 Traceback (most recent call last)",
      "\u001b[1;32m<ipython-input-5-e9dc219ff991>\u001b[0m in \u001b[0;36m<module>\u001b[1;34m()\u001b[0m\n\u001b[1;32m----> 1\u001b[1;33m \u001b[0mHTML\u001b[0m\u001b[1;33m(\u001b[0m\u001b[0ms\u001b[0m\u001b[1;33m.\u001b[0m\u001b[0msvg\u001b[0m\u001b[1;33m(\u001b[0m\u001b[1;33m)\u001b[0m\u001b[1;33m)\u001b[0m\u001b[1;33m\u001b[0m\u001b[0m\n\u001b[0m",
      "\u001b[1;32m~\\Documents\\repos\\RushHour\\RHGraph\\RHState.py\u001b[0m in \u001b[0;36msvg\u001b[1;34m(self)\u001b[0m\n\u001b[0;32m    709\u001b[0m         \u001b[0mdwg\u001b[0m \u001b[1;33m=\u001b[0m \u001b[0mself\u001b[0m\u001b[1;33m.\u001b[0m\u001b[0m_svg_base\u001b[0m\u001b[1;33m(\u001b[0m\u001b[1;33m)\u001b[0m\u001b[1;33m\u001b[0m\u001b[0m\n\u001b[0;32m    710\u001b[0m \u001b[1;33m\u001b[0m\u001b[0m\n\u001b[1;32m--> 711\u001b[1;33m         \u001b[1;32mfor\u001b[0m \u001b[0mpiece\u001b[0m \u001b[1;32min\u001b[0m \u001b[0mself\u001b[0m\u001b[1;33m.\u001b[0m\u001b[0m_svg_pieces\u001b[0m\u001b[1;33m:\u001b[0m\u001b[1;33m\u001b[0m\u001b[0m\n\u001b[0m\u001b[0;32m    712\u001b[0m             \u001b[0mrow\u001b[0m \u001b[1;33m=\u001b[0m \u001b[0mpiece\u001b[0m\u001b[1;33m[\u001b[0m\u001b[1;34m'end_a_row'\u001b[0m\u001b[1;33m]\u001b[0m\u001b[1;33m\u001b[0m\u001b[0m\n\u001b[0;32m    713\u001b[0m             \u001b[0mcol\u001b[0m \u001b[1;33m=\u001b[0m \u001b[0mpiece\u001b[0m\u001b[1;33m[\u001b[0m\u001b[1;34m'end_a_col'\u001b[0m\u001b[1;33m]\u001b[0m\u001b[1;33m\u001b[0m\u001b[0m\n",
      "\u001b[1;31mTypeError\u001b[0m: 'NoneType' object is not iterable"
     ]
    }
   ],
   "source": [
    "HTML(s.svg())"
   ]
  },
  {
   "cell_type": "code",
   "execution_count": 6,
   "metadata": {},
   "outputs": [
    {
     "data": {
      "text/plain": [
       "False"
      ]
     },
     "execution_count": 6,
     "metadata": {},
     "output_type": "execute_result"
    }
   ],
   "source": [
    "s.isSolnState()"
   ]
  },
  {
   "cell_type": "code",
   "execution_count": 7,
   "metadata": {},
   "outputs": [
    {
     "ename": "TypeError",
     "evalue": "'NoneType' object is not iterable",
     "output_type": "error",
     "traceback": [
      "\u001b[1;31m---------------------------------------------------------------------------\u001b[0m",
      "\u001b[1;31mTypeError\u001b[0m                                 Traceback (most recent call last)",
      "\u001b[1;32m<ipython-input-7-947c0d570eb5>\u001b[0m in \u001b[0;36m<module>\u001b[1;34m()\u001b[0m\n\u001b[0;32m     11\u001b[0m \u001b[1;33m\u001b[0m\u001b[0m\n\u001b[0;32m     12\u001b[0m       \u001b[1;33m<\u001b[0m\u001b[0msvg\u001b[0m \u001b[0mx\u001b[0m\u001b[1;33m=\u001b[0m\u001b[1;34m\"250\"\u001b[0m \u001b[0my\u001b[0m\u001b[1;33m=\u001b[0m\u001b[1;34m\"25\"\u001b[0m\u001b[1;33m>\u001b[0m\u001b[1;33m<\u001b[0m\u001b[0mg\u001b[0m \u001b[0mtransform\u001b[0m\u001b[1;33m=\u001b[0m\u001b[1;34m\"scale(.5)\"\u001b[0m\u001b[1;33m>\u001b[0m\u001b[1;33m\u001b[0m\u001b[0m\n\u001b[1;32m---> 13\u001b[1;33m     \u001b[1;34m''' + s.svg() + '''\u001b[0m\u001b[1;33m\u001b[0m\u001b[0m\n\u001b[0m\u001b[0;32m     14\u001b[0m     \u001b[1;33m<\u001b[0m\u001b[1;33m/\u001b[0m\u001b[0mg\u001b[0m\u001b[1;33m>\u001b[0m\u001b[1;33m<\u001b[0m\u001b[1;33m/\u001b[0m\u001b[0msvg\u001b[0m\u001b[1;33m>\u001b[0m\u001b[1;33m\u001b[0m\u001b[0m\n\u001b[0;32m     15\u001b[0m \u001b[1;33m\u001b[0m\u001b[0m\n",
      "\u001b[1;32m~\\Documents\\repos\\RushHour\\RHGraph\\RHState.py\u001b[0m in \u001b[0;36msvg\u001b[1;34m(self)\u001b[0m\n\u001b[0;32m    709\u001b[0m         \u001b[0mdwg\u001b[0m \u001b[1;33m=\u001b[0m \u001b[0mself\u001b[0m\u001b[1;33m.\u001b[0m\u001b[0m_svg_base\u001b[0m\u001b[1;33m(\u001b[0m\u001b[1;33m)\u001b[0m\u001b[1;33m\u001b[0m\u001b[0m\n\u001b[0;32m    710\u001b[0m \u001b[1;33m\u001b[0m\u001b[0m\n\u001b[1;32m--> 711\u001b[1;33m         \u001b[1;32mfor\u001b[0m \u001b[0mpiece\u001b[0m \u001b[1;32min\u001b[0m \u001b[0mself\u001b[0m\u001b[1;33m.\u001b[0m\u001b[0m_svg_pieces\u001b[0m\u001b[1;33m:\u001b[0m\u001b[1;33m\u001b[0m\u001b[0m\n\u001b[0m\u001b[0;32m    712\u001b[0m             \u001b[0mrow\u001b[0m \u001b[1;33m=\u001b[0m \u001b[0mpiece\u001b[0m\u001b[1;33m[\u001b[0m\u001b[1;34m'end_a_row'\u001b[0m\u001b[1;33m]\u001b[0m\u001b[1;33m\u001b[0m\u001b[0m\n\u001b[0;32m    713\u001b[0m             \u001b[0mcol\u001b[0m \u001b[1;33m=\u001b[0m \u001b[0mpiece\u001b[0m\u001b[1;33m[\u001b[0m\u001b[1;34m'end_a_col'\u001b[0m\u001b[1;33m]\u001b[0m\u001b[1;33m\u001b[0m\u001b[0m\n",
      "\u001b[1;31mTypeError\u001b[0m: 'NoneType' object is not iterable"
     ]
    }
   ],
   "source": [
    "HTML('''<svg width=\"750\" height=\"500\" style=\"background: gray\">\n",
    "  <svg x=\"100\" y=\"250\">\n",
    "    ''' + s.svg() + '''\n",
    "    </svg>\n",
    "    \n",
    "     <svg x=\"400\" y=\"250\" >\n",
    "       <g transform=\"scale(.5)\"> ''' + s.svg() + '''\n",
    "    </g>\n",
    "    </svg>\n",
    "    \n",
    "    \n",
    "      <svg x=\"250\" y=\"25\"><g transform=\"scale(.5)\">\n",
    "    ''' + s.svg() + '''\n",
    "    </g></svg>\n",
    "    \n",
    "    <line x1=\"100\" y1=\"100\" x2=\"400\" y2=\"400\" style=\"stroke: #FF0000; stroke-width: 5;\"/>\n",
    "    \n",
    "  <circle cx=\"50\" cy=\"50\" r=\"50\" style=\"fill: yellow\" />\n",
    "</svg>''')"
   ]
  },
  {
   "cell_type": "code",
   "execution_count": 31,
   "metadata": {},
   "outputs": [
    {
     "data": {
      "text/html": [
       "<svg width=\"750\" height=\"500\" style=\"background: gray\">\n",
       "  <svg x=\"100\" y=\"250\">\n",
       "    <svg baseProfile=\"full\" height=\"180\" version=\"1.1\" width=\"180\" xmlns=\"http://www.w3.org/2000/svg\" xmlns:ev=\"http://www.w3.org/2001/xml-events\" xmlns:xlink=\"http://www.w3.org/1999/xlink\"><defs /><rect fill=\"#E6E6E6\" height=\"180\" width=\"180\" x=\"0\" y=\"0\" /><line stroke=\"black\" stroke-width=\"2\" x1=\"0\" x2=\"0\" y1=\"0\" y2=\"180\" /><line stroke=\"black\" stroke-width=\"2\" x1=\"0\" x2=\"180\" y1=\"0\" y2=\"0\" /><line stroke=\"black\" stroke-width=\"2\" x1=\"30\" x2=\"30\" y1=\"0\" y2=\"180\" /><line stroke=\"black\" stroke-width=\"2\" x1=\"0\" x2=\"180\" y1=\"30\" y2=\"30\" /><line stroke=\"black\" stroke-width=\"2\" x1=\"60\" x2=\"60\" y1=\"0\" y2=\"180\" /><line stroke=\"black\" stroke-width=\"2\" x1=\"0\" x2=\"180\" y1=\"60\" y2=\"60\" /><line stroke=\"black\" stroke-width=\"2\" x1=\"90\" x2=\"90\" y1=\"0\" y2=\"180\" /><line stroke=\"black\" stroke-width=\"2\" x1=\"0\" x2=\"180\" y1=\"90\" y2=\"90\" /><line stroke=\"black\" stroke-width=\"2\" x1=\"120\" x2=\"120\" y1=\"0\" y2=\"180\" /><line stroke=\"black\" stroke-width=\"2\" x1=\"0\" x2=\"180\" y1=\"120\" y2=\"120\" /><line stroke=\"black\" stroke-width=\"2\" x1=\"150\" x2=\"150\" y1=\"0\" y2=\"180\" /><line stroke=\"black\" stroke-width=\"2\" x1=\"0\" x2=\"180\" y1=\"150\" y2=\"150\" /><line stroke=\"black\" stroke-width=\"2\" x1=\"180\" x2=\"180\" y1=\"0\" y2=\"180\" /><line stroke=\"black\" stroke-width=\"2\" x1=\"0\" x2=\"180\" y1=\"180\" y2=\"180\" /><rect fill=\"#FF0000\" height=\"24\" rx=\"5\" ry=\"5\" stroke-width=\"3\" width=\"54\" x=\"93\" y=\"63\" /><text style=\"fill:black;text-anchor:middle;alignment-baseline:central\" x=\"120.0\" y=\"75.0\">X</text><rect fill=\"#F0E68C\" height=\"24\" rx=\"5\" ry=\"5\" stroke-width=\"3\" width=\"54\" x=\"33\" y=\"123\" /><text style=\"fill:black;text-anchor:middle;alignment-baseline:central\" x=\"60.0\" y=\"135.0\">L</text></svg>\n",
       "    </svg>\n",
       "    \n",
       "     <svg x=\"400\" y=\"250\" >\n",
       "       <g transform=\"scale(.5)\"> <svg baseProfile=\"full\" height=\"180\" version=\"1.1\" width=\"180\" xmlns=\"http://www.w3.org/2000/svg\" xmlns:ev=\"http://www.w3.org/2001/xml-events\" xmlns:xlink=\"http://www.w3.org/1999/xlink\"><defs /><rect fill=\"#E6E6E6\" height=\"180\" width=\"180\" x=\"0\" y=\"0\" /><line stroke=\"black\" stroke-width=\"2\" x1=\"0\" x2=\"0\" y1=\"0\" y2=\"180\" /><line stroke=\"black\" stroke-width=\"2\" x1=\"0\" x2=\"180\" y1=\"0\" y2=\"0\" /><line stroke=\"black\" stroke-width=\"2\" x1=\"30\" x2=\"30\" y1=\"0\" y2=\"180\" /><line stroke=\"black\" stroke-width=\"2\" x1=\"0\" x2=\"180\" y1=\"30\" y2=\"30\" /><line stroke=\"black\" stroke-width=\"2\" x1=\"60\" x2=\"60\" y1=\"0\" y2=\"180\" /><line stroke=\"black\" stroke-width=\"2\" x1=\"0\" x2=\"180\" y1=\"60\" y2=\"60\" /><line stroke=\"black\" stroke-width=\"2\" x1=\"90\" x2=\"90\" y1=\"0\" y2=\"180\" /><line stroke=\"black\" stroke-width=\"2\" x1=\"0\" x2=\"180\" y1=\"90\" y2=\"90\" /><line stroke=\"black\" stroke-width=\"2\" x1=\"120\" x2=\"120\" y1=\"0\" y2=\"180\" /><line stroke=\"black\" stroke-width=\"2\" x1=\"0\" x2=\"180\" y1=\"120\" y2=\"120\" /><line stroke=\"black\" stroke-width=\"2\" x1=\"150\" x2=\"150\" y1=\"0\" y2=\"180\" /><line stroke=\"black\" stroke-width=\"2\" x1=\"0\" x2=\"180\" y1=\"150\" y2=\"150\" /><line stroke=\"black\" stroke-width=\"2\" x1=\"180\" x2=\"180\" y1=\"0\" y2=\"180\" /><line stroke=\"black\" stroke-width=\"2\" x1=\"0\" x2=\"180\" y1=\"180\" y2=\"180\" /><rect fill=\"#FF0000\" height=\"24\" rx=\"5\" ry=\"5\" stroke-width=\"3\" width=\"54\" x=\"93\" y=\"63\" /><text style=\"fill:black;text-anchor:middle;alignment-baseline:central\" x=\"120.0\" y=\"75.0\">X</text><rect fill=\"#F0E68C\" height=\"24\" rx=\"5\" ry=\"5\" stroke-width=\"3\" width=\"54\" x=\"33\" y=\"123\" /><text style=\"fill:black;text-anchor:middle;alignment-baseline:central\" x=\"60.0\" y=\"135.0\">L</text></svg>\n",
       "    </g>\n",
       "    </svg>\n",
       "    \n",
       "    \n",
       "      <svg x=\"250\" y=\"25\"><g transform=\"scale(.5)\">\n",
       "    <svg baseProfile=\"full\" height=\"180\" version=\"1.1\" width=\"180\" xmlns=\"http://www.w3.org/2000/svg\" xmlns:ev=\"http://www.w3.org/2001/xml-events\" xmlns:xlink=\"http://www.w3.org/1999/xlink\"><defs /><rect fill=\"#E6E6E6\" height=\"180\" width=\"180\" x=\"0\" y=\"0\" /><line stroke=\"black\" stroke-width=\"2\" x1=\"0\" x2=\"0\" y1=\"0\" y2=\"180\" /><line stroke=\"black\" stroke-width=\"2\" x1=\"0\" x2=\"180\" y1=\"0\" y2=\"0\" /><line stroke=\"black\" stroke-width=\"2\" x1=\"30\" x2=\"30\" y1=\"0\" y2=\"180\" /><line stroke=\"black\" stroke-width=\"2\" x1=\"0\" x2=\"180\" y1=\"30\" y2=\"30\" /><line stroke=\"black\" stroke-width=\"2\" x1=\"60\" x2=\"60\" y1=\"0\" y2=\"180\" /><line stroke=\"black\" stroke-width=\"2\" x1=\"0\" x2=\"180\" y1=\"60\" y2=\"60\" /><line stroke=\"black\" stroke-width=\"2\" x1=\"90\" x2=\"90\" y1=\"0\" y2=\"180\" /><line stroke=\"black\" stroke-width=\"2\" x1=\"0\" x2=\"180\" y1=\"90\" y2=\"90\" /><line stroke=\"black\" stroke-width=\"2\" x1=\"120\" x2=\"120\" y1=\"0\" y2=\"180\" /><line stroke=\"black\" stroke-width=\"2\" x1=\"0\" x2=\"180\" y1=\"120\" y2=\"120\" /><line stroke=\"black\" stroke-width=\"2\" x1=\"150\" x2=\"150\" y1=\"0\" y2=\"180\" /><line stroke=\"black\" stroke-width=\"2\" x1=\"0\" x2=\"180\" y1=\"150\" y2=\"150\" /><line stroke=\"black\" stroke-width=\"2\" x1=\"180\" x2=\"180\" y1=\"0\" y2=\"180\" /><line stroke=\"black\" stroke-width=\"2\" x1=\"0\" x2=\"180\" y1=\"180\" y2=\"180\" /><rect fill=\"#FF0000\" height=\"24\" rx=\"5\" ry=\"5\" stroke-width=\"3\" width=\"54\" x=\"93\" y=\"63\" /><text style=\"fill:black;text-anchor:middle;alignment-baseline:central\" x=\"120.0\" y=\"75.0\">X</text><rect fill=\"#F0E68C\" height=\"24\" rx=\"5\" ry=\"5\" stroke-width=\"3\" width=\"54\" x=\"33\" y=\"123\" /><text style=\"fill:black;text-anchor:middle;alignment-baseline:central\" x=\"60.0\" y=\"135.0\">L</text></svg>\n",
       "    </g></svg>\n",
       "    \n",
       "    \n",
       "  <circle cx=\"50\" cy=\"50\" r=\"50\" style=\"fill: yellow\" />\n",
       "</svg>"
      ],
      "text/plain": [
       "<IPython.core.display.HTML object>"
      ]
     },
     "execution_count": 31,
     "metadata": {},
     "output_type": "execute_result"
    }
   ],
   "source": [
    "HTML('''<svg width=\"750\" height=\"500\" style=\"background: gray\">\n",
    "  <svg x=\"100\" y=\"250\">\n",
    "    ''' + s.svg() + '''\n",
    "    </svg>\n",
    "    \n",
    "     <svg x=\"400\" y=\"250\" >\n",
    "       <g transform=\"scale(.5)\"> ''' + s.svg() + '''\n",
    "    </g>\n",
    "    </svg>\n",
    "    \n",
    "    \n",
    "      <svg x=\"250\" y=\"25\"><g transform=\"scale(.5)\">\n",
    "    ''' + s.svg() + '''\n",
    "    </g></svg>\n",
    "    \n",
    "    \n",
    "  <circle cx=\"50\" cy=\"50\" r=\"50\" style=\"fill: yellow\" />\n",
    "</svg>''')"
   ]
  },
  {
   "cell_type": "code",
   "execution_count": 13,
   "metadata": {},
   "outputs": [
    {
     "data": {
      "text/plain": [
       "3.141592653589793"
      ]
     },
     "execution_count": 13,
     "metadata": {},
     "output_type": "execute_result"
    }
   ],
   "source": [
    "np.pi"
   ]
  },
  {
   "cell_type": "code",
   "execution_count": 14,
   "metadata": {},
   "outputs": [
    {
     "data": {
      "text/plain": [
       "[6.283185307179586,\n",
       " 3.141592653589793,\n",
       " 2.0943951023931953,\n",
       " 1.5707963267948966,\n",
       " 1.2566370614359172,\n",
       " 1.0471975511965976]"
      ]
     },
     "execution_count": 14,
     "metadata": {},
     "output_type": "execute_result"
    }
   ],
   "source": [
    "nbr_thetas = [2*np.pi / i for i in range(1,7)]\n",
    "nbr_thetas"
   ]
  },
  {
   "cell_type": "code",
   "execution_count": 15,
   "metadata": {},
   "outputs": [
    {
     "data": {
      "text/plain": [
       "array([ -2.44929360e-16,   1.22464680e-16,   8.66025404e-01,\n",
       "         1.00000000e+00,   9.51056516e-01,   8.66025404e-01])"
      ]
     },
     "execution_count": 15,
     "metadata": {},
     "output_type": "execute_result"
    }
   ],
   "source": [
    "np.sin(nbr_thetas)"
   ]
  },
  {
   "cell_type": "code",
   "execution_count": 16,
   "metadata": {},
   "outputs": [
    {
     "data": {
      "text/plain": [
       "(array([  1.00000000e+00,  -1.00000000e+00,  -5.00000000e-01,\n",
       "          6.12323400e-17,   3.09016994e-01,   5.00000000e-01]),\n",
       " array([ 5.        ,  3.        ,  3.5       ,  4.        ,  4.30901699,\n",
       "         4.5       ]),\n",
       " array([ 7.        ,  1.        ,  2.5       ,  4.        ,  4.92705098,\n",
       "         5.5       ]))"
      ]
     },
     "execution_count": 16,
     "metadata": {},
     "output_type": "execute_result"
    }
   ],
   "source": [
    "np.cos(nbr_thetas), np.cos(nbr_thetas) + 4.0,  3*np.cos(nbr_thetas) + 4.0"
   ]
  },
  {
   "cell_type": "code",
   "execution_count": 17,
   "metadata": {},
   "outputs": [
    {
     "ename": "TypeError",
     "evalue": "can only concatenate list (not \"int\") to list",
     "output_type": "error",
     "traceback": [
      "\u001b[1;31m---------------------------------------------------------------------------\u001b[0m",
      "\u001b[1;31mTypeError\u001b[0m                                 Traceback (most recent call last)",
      "\u001b[1;32m<ipython-input-17-00f39fbc876d>\u001b[0m in \u001b[0;36m<module>\u001b[1;34m()\u001b[0m\n\u001b[1;32m----> 1\u001b[1;33m \u001b[0mnbr_thetas\u001b[0m \u001b[1;33m+\u001b[0m \u001b[1;36m4\u001b[0m\u001b[1;33m\u001b[0m\u001b[0m\n\u001b[0m",
      "\u001b[1;31mTypeError\u001b[0m: can only concatenate list (not \"int\") to list"
     ]
    }
   ],
   "source": [
    "nbr_thetas + 4"
   ]
  },
  {
   "cell_type": "code",
   "execution_count": 42,
   "metadata": {},
   "outputs": [],
   "source": [
    "nbhd_r = 100\n",
    "nbhd_cx = 200\n",
    "nbhd_cy = 200\n",
    "nbr_thetas = np.arange(2*np.pi, 4*np.pi, 2*np.pi/8)\n",
    "\n",
    "nbr_x = nbhd_r * np.cos(nbr_thetas) + nbhd_cx\n",
    "nbr_y = nbhd_r * np.sin(nbr_thetas) + nbhd_cy\n",
    "\n",
    "\n",
    "\n"
   ]
  },
  {
   "cell_type": "code",
   "execution_count": 12,
   "metadata": {},
   "outputs": [
    {
     "ename": "NameError",
     "evalue": "name 'nbr_x' is not defined",
     "output_type": "error",
     "traceback": [
      "\u001b[1;31m---------------------------------------------------------------------------\u001b[0m",
      "\u001b[1;31mNameError\u001b[0m                                 Traceback (most recent call last)",
      "\u001b[1;32m<ipython-input-12-fe6a1eec4312>\u001b[0m in \u001b[0;36m<module>\u001b[1;34m()\u001b[0m\n\u001b[1;32m----> 1\u001b[1;33m \u001b[0mnbr_x\u001b[0m \u001b[1;33m,\u001b[0m \u001b[0mnbr_y\u001b[0m\u001b[1;33m\u001b[0m\u001b[0m\n\u001b[0m",
      "\u001b[1;31mNameError\u001b[0m: name 'nbr_x' is not defined"
     ]
    }
   ],
   "source": [
    "nbr_x , nbr_y"
   ]
  },
  {
   "cell_type": "code",
   "execution_count": 57,
   "metadata": {},
   "outputs": [
    {
     "data": {
      "text/plain": [
       "'<circle cx=\"200\" cy=\"200\" r=\"20\" style=\"fill: red\"/>'"
      ]
     },
     "execution_count": 57,
     "metadata": {},
     "output_type": "execute_result"
    }
   ],
   "source": [
    "center = '<circle cx=\"200\" cy=\"200\" r=\"20\" style=\"fill: red\"/>'\n",
    "center "
   ]
  },
  {
   "cell_type": "code",
   "execution_count": 45,
   "metadata": {},
   "outputs": [
    {
     "data": {
      "text/plain": [
       "['<circle cx=\"300.000000\" cy=\"200.000000\" r=\"20\" style=\"fill: yellow\"/>',\n",
       " '<circle cx=\"270.710678\" cy=\"270.710678\" r=\"20\" style=\"fill: yellow\"/>',\n",
       " '<circle cx=\"200.000000\" cy=\"300.000000\" r=\"20\" style=\"fill: yellow\"/>',\n",
       " '<circle cx=\"129.289322\" cy=\"270.710678\" r=\"20\" style=\"fill: yellow\"/>',\n",
       " '<circle cx=\"100.000000\" cy=\"200.000000\" r=\"20\" style=\"fill: yellow\"/>',\n",
       " '<circle cx=\"129.289322\" cy=\"129.289322\" r=\"20\" style=\"fill: yellow\"/>',\n",
       " '<circle cx=\"200.000000\" cy=\"100.000000\" r=\"20\" style=\"fill: yellow\"/>',\n",
       " '<circle cx=\"270.710678\" cy=\"129.289322\" r=\"20\" style=\"fill: yellow\"/>']"
      ]
     },
     "execution_count": 45,
     "metadata": {},
     "output_type": "execute_result"
    }
   ],
   "source": [
    "nbr_circles = [ '<circle cx=\"%f\" cy=\"%f\" r=\"20\" style=\"fill: yellow\"/>'%(x,y) for x,y  in np.array(list(zip(nbr_x,nbr_y)))]\n",
    "nbr_circles"
   ]
  },
  {
   "cell_type": "code",
   "execution_count": 8,
   "metadata": {},
   "outputs": [
    {
     "ename": "NameError",
     "evalue": "name 'center' is not defined",
     "output_type": "error",
     "traceback": [
      "\u001b[1;31m---------------------------------------------------------------------------\u001b[0m",
      "\u001b[1;31mNameError\u001b[0m                                 Traceback (most recent call last)",
      "\u001b[1;32m<ipython-input-8-e462373ccbc5>\u001b[0m in \u001b[0;36m<module>\u001b[1;34m()\u001b[0m\n\u001b[0;32m      1\u001b[0m \u001b[0msvg\u001b[0m \u001b[1;33m=\u001b[0m \u001b[1;34m'<svg width=\"750\" height=\"500\" style=\"background: gray\">'\u001b[0m\u001b[1;33m\u001b[0m\u001b[0m\n\u001b[1;32m----> 2\u001b[1;33m \u001b[0msvg\u001b[0m \u001b[1;33m=\u001b[0m \u001b[0msvg\u001b[0m \u001b[1;33m+\u001b[0m \u001b[0mcenter\u001b[0m\u001b[1;33m\u001b[0m\u001b[0m\n\u001b[0m\u001b[0;32m      3\u001b[0m \u001b[1;32mfor\u001b[0m \u001b[0mx\u001b[0m \u001b[1;32min\u001b[0m \u001b[0mnbr_circles\u001b[0m\u001b[1;33m:\u001b[0m\u001b[1;33m\u001b[0m\u001b[0m\n\u001b[0;32m      4\u001b[0m     \u001b[0msvg\u001b[0m \u001b[1;33m=\u001b[0m \u001b[0msvg\u001b[0m \u001b[1;33m+\u001b[0m \u001b[0mx\u001b[0m\u001b[1;33m\u001b[0m\u001b[0m\n\u001b[0;32m      5\u001b[0m \u001b[0msvg\u001b[0m \u001b[1;33m=\u001b[0m \u001b[0msvg\u001b[0m \u001b[1;33m+\u001b[0m \u001b[1;34m'</svg>'\u001b[0m\u001b[1;33m\u001b[0m\u001b[0m\n",
      "\u001b[1;31mNameError\u001b[0m: name 'center' is not defined"
     ]
    }
   ],
   "source": [
    "svg = '<svg width=\"750\" height=\"500\" style=\"background: gray\">'\n",
    "svg = svg + center\n",
    "for x in nbr_circles:\n",
    "    svg = svg + x\n",
    "svg = svg + '</svg>'\n",
    "\n",
    "HTML(svg)"
   ]
  },
  {
   "cell_type": "code",
   "execution_count": 21,
   "metadata": {},
   "outputs": [
    {
     "data": {
      "text/html": [
       "<svg width=\"750\" height=\"500\" style=\"background: grey\"><circle cx=\"200\" cy=\"200\" r=\"20\" style=\"fill: red\"/><g transform=\"translate(300.000000,200.000000)\"><circle cx=\"0\" cy=\"0\" r=\"20\" style=\"fill: yellow\"/></g><g transform=\"translate(270.710678,270.710678)\"><circle cx=\"0\" cy=\"0\" r=\"20\" style=\"fill: yellow\"/></g><g transform=\"translate(200.000000,300.000000)\"><circle cx=\"0\" cy=\"0\" r=\"20\" style=\"fill: yellow\"/></g><g transform=\"translate(129.289322,270.710678)\"><circle cx=\"0\" cy=\"0\" r=\"20\" style=\"fill: yellow\"/></g><g transform=\"translate(100.000000,200.000000)\"><circle cx=\"0\" cy=\"0\" r=\"20\" style=\"fill: yellow\"/></g><g transform=\"translate(129.289322,129.289322)\"><circle cx=\"0\" cy=\"0\" r=\"20\" style=\"fill: yellow\"/></g><g transform=\"translate(200.000000,100.000000)\"><circle cx=\"0\" cy=\"0\" r=\"20\" style=\"fill: yellow\"/></g><g transform=\"translate(270.710678,129.289322)\"><circle cx=\"0\" cy=\"0\" r=\"20\" style=\"fill: yellow\"/></g></svg>"
      ],
      "text/plain": [
       "<IPython.core.display.HTML object>"
      ]
     },
     "execution_count": 21,
     "metadata": {},
     "output_type": "execute_result"
    }
   ],
   "source": [
    "nbr_prototype = '<circle cx=\"0\" cy=\"0\" r=\"20\" style=\"fill: yellow\"/>'\n",
    "\n",
    "svg = '<svg width=\"750\" height=\"500\" style=\"background: grey\">'\n",
    "svg = svg + center\n",
    "for x,y in np.array(list(zip(nbr_x,nbr_y))):\n",
    "    svg = svg + '<g transform=\"translate(%f,%f)\">'%(x,y)\n",
    "    svg = svg + nbr_prototype\n",
    "    svg = svg + '</g>'\n",
    "svg = svg + '</svg>'\n",
    "\n",
    "HTML(svg)\n"
   ]
  },
  {
   "cell_type": "code",
   "execution_count": 49,
   "metadata": {},
   "outputs": [
    {
     "data": {
      "text/plain": [
       "'<g transform=\"translate(%f,%f)\">'"
      ]
     },
     "execution_count": 49,
     "metadata": {},
     "output_type": "execute_result"
    }
   ],
   "source": [
    "'<g transform=\"translate(%f,%f)\">'"
   ]
  },
  {
   "cell_type": "code",
   "execution_count": 62,
   "metadata": {},
   "outputs": [
    {
     "data": {
      "text/html": [
       "<svg baseProfile=\"full\" height=\"180\" version=\"1.1\" width=\"180\" xmlns=\"http://www.w3.org/2000/svg\" xmlns:ev=\"http://www.w3.org/2001/xml-events\" xmlns:xlink=\"http://www.w3.org/1999/xlink\"><defs /><rect fill=\"#E6E6E6\" height=\"180\" width=\"180\" x=\"0\" y=\"0\" /><line stroke=\"black\" stroke-width=\"2\" x1=\"0\" x2=\"0\" y1=\"0\" y2=\"180\" /><line stroke=\"black\" stroke-width=\"2\" x1=\"0\" x2=\"180\" y1=\"0\" y2=\"0\" /><line stroke=\"black\" stroke-width=\"2\" x1=\"30\" x2=\"30\" y1=\"0\" y2=\"180\" /><line stroke=\"black\" stroke-width=\"2\" x1=\"0\" x2=\"180\" y1=\"30\" y2=\"30\" /><line stroke=\"black\" stroke-width=\"2\" x1=\"60\" x2=\"60\" y1=\"0\" y2=\"180\" /><line stroke=\"black\" stroke-width=\"2\" x1=\"0\" x2=\"180\" y1=\"60\" y2=\"60\" /><line stroke=\"black\" stroke-width=\"2\" x1=\"90\" x2=\"90\" y1=\"0\" y2=\"180\" /><line stroke=\"black\" stroke-width=\"2\" x1=\"0\" x2=\"180\" y1=\"90\" y2=\"90\" /><line stroke=\"black\" stroke-width=\"2\" x1=\"120\" x2=\"120\" y1=\"0\" y2=\"180\" /><line stroke=\"black\" stroke-width=\"2\" x1=\"0\" x2=\"180\" y1=\"120\" y2=\"120\" /><line stroke=\"black\" stroke-width=\"2\" x1=\"150\" x2=\"150\" y1=\"0\" y2=\"180\" /><line stroke=\"black\" stroke-width=\"2\" x1=\"0\" x2=\"180\" y1=\"150\" y2=\"150\" /><line stroke=\"black\" stroke-width=\"2\" x1=\"180\" x2=\"180\" y1=\"0\" y2=\"180\" /><line stroke=\"black\" stroke-width=\"2\" x1=\"0\" x2=\"180\" y1=\"180\" y2=\"180\" /><rect fill=\"#FF0000\" height=\"24\" rx=\"5\" ry=\"5\" stroke-width=\"3\" width=\"54\" x=\"63\" y=\"63\" /><text style=\"fill:black;text-anchor:middle;alignment-baseline:central\" x=\"90.0\" y=\"75.0\">X</text><rect fill=\"#F0E68C\" height=\"54\" rx=\"5\" ry=\"5\" stroke-width=\"3\" width=\"24\" x=\"3\" y=\"3\" /><text style=\"fill:black;text-anchor:middle;alignment-baseline:central\" x=\"15.0\" y=\"30.0\">L</text><rect fill=\"#CD5C5C\" height=\"54\" rx=\"5\" ry=\"5\" stroke-width=\"3\" width=\"24\" x=\"33\" y=\"33\" /><text style=\"fill:black;text-anchor:middle;alignment-baseline:central\" x=\"45.0\" y=\"60.0\">K</text><rect fill=\"#ADFF2F\" height=\"54\" rx=\"5\" ry=\"5\" stroke-width=\"3\" width=\"24\" x=\"93\" y=\"93\" /><text style=\"fill:black;text-anchor:middle;alignment-baseline:central\" x=\"105.0\" y=\"120.0\">J</text><rect fill=\"#FFD700\" height=\"54\" rx=\"5\" ry=\"5\" stroke-width=\"3\" width=\"24\" x=\"123\" y=\"123\" /><text style=\"fill:black;text-anchor:middle;alignment-baseline:central\" x=\"135.0\" y=\"150.0\">H</text><rect fill=\"#1E90FF\" height=\"54\" rx=\"5\" ry=\"5\" stroke-width=\"3\" width=\"24\" x=\"153\" y=\"63\" /><text style=\"fill:black;text-anchor:middle;alignment-baseline:central\" x=\"165.0\" y=\"90.0\">G</text></svg>"
      ],
      "text/plain": [
       "<IPython.core.display.HTML object>"
      ]
     },
     "execution_count": 62,
     "metadata": {},
     "output_type": "execute_result"
    }
   ],
   "source": [
    "s = lib.s3\n",
    "HTML(s.svg())"
   ]
  },
  {
   "cell_type": "code",
   "execution_count": 5,
   "metadata": {},
   "outputs": [],
   "source": [
    "nbhd_r = 150\n",
    "nbhd_cx = 325\n",
    "nbhd_cy = 250\n",
    "\n",
    "\n",
    "max_vert_nbrs = verts = 7\n",
    "max_nbrs = total = 11\n",
    "max_horz_nbrs = max_nbrs - max_vert_nbrs\n",
    "\n",
    "\n",
    "if max_vert_nbrs == 0:\n",
    "    up_centers = []\n",
    "    down_centers = []\n",
    "    \n",
    "else:\n",
    "    # if verts is odd\n",
    "    if max_vert_nbrs % 2 != 0:\n",
    "        offset = (max_vert_nbrs- 1) / 2.0\n",
    "    else:\n",
    "        offset = max_vert_nbrs / 2 -.5\n",
    "    thetas_up = np.array(np.arange(max_vert_nbrs)) - offset\n",
    "\n",
    "    thetas_up_arc = .8 * ( ( (max_vert_nbrs/max_nbrs) * np.pi ) )\n",
    "    thetas_up_delta = thetas_up_arc / max_vert_nbrs\n",
    "\n",
    "    thetas_up = thetas_up * thetas_up_delta + np.pi/2\n",
    "\n",
    "    up_x = nbhd_r * np.cos(thetas_up) \n",
    "    up_y = nbhd_r * np.sin(thetas_up)  \n",
    "    up_centers = np.array(list(zip(up_x,up_y)))\n",
    "    \n",
    "    down_x = up_x\n",
    "    down_y = up_y * -1\n",
    "    down_centers = np.array(list(zip(down_x,down_y)))\n",
    "\n",
    "if max_horz_nbrs == 0:\n",
    "    left_centers = []\n",
    "    right_centers = []\n",
    "else:\n",
    "    \n",
    "    # if verts is odd\n",
    "    if max_horz_nbrs % 2 != 0:\n",
    "        offset = (max_horz_nbrs- 1) / 2.0\n",
    "    else:\n",
    "        offset = max_horz_nbrs / 2 -.5\n",
    "    thetas_left = np.array(np.arange(max_horz_nbrs)) - offset\n",
    "\n",
    "    thetas_left_arc = .8 * ( ( (max_horz_nbrs/max_nbrs) * np.pi ) )\n",
    "    thetas_left_delta = thetas_left_arc / max_horz_nbrs\n",
    "\n",
    "    thetas_left = thetas_left * thetas_left_delta + np.pi\n",
    "\n",
    "    left_x = nbhd_r * np.cos(thetas_left) \n",
    "    left_y = nbhd_r * np.sin(thetas_left)  \n",
    "    left_centers = np.array(list(zip(left_x,left_y)))\n",
    "\n",
    "    right_x = left_x * -1\n",
    "    right_y = left_y\n",
    "    right_centers = np.array(list(zip(right_x,right_y)))\n",
    "\n",
    "\n",
    "\n",
    "center = '<circle cx=\"0\" cy=\"0\" r=\"10\" style=\"fill: red\"/>'\n",
    "\n",
    "vert_prototype = '<circle cx=\"0\" cy=\"0\" r=\"10\" style=\"fill: #7FFF00\"/>'\n",
    "horz_prototype = '<circle cx=\"0\" cy=\"0\" r=\"10\" style=\"fill: #1E90FF\"/>'"
   ]
  },
  {
   "cell_type": "code",
   "execution_count": 6,
   "metadata": {},
   "outputs": [
    {
     "data": {
      "text/html": [
       "<svg width=\"750\" height=\"500\" style=\"background: grey\"><g transform=\"translate(325.000000,250.000000) scale(1,-1)\"><line x1=\"0\" y1 =\"0\" x2=\"94.951868\" y2=\"116.121242\" stroke=\"black\"/><line x1=\"0\" y1 =\"0\" x2=\"66.183165\" y2=\"134.609764\" stroke=\"black\"/><line x1=\"0\" y1 =\"0\" x2=\"33.974515\" y2=\"146.101788\" stroke=\"black\"/><line x1=\"0\" y1 =\"0\" x2=\"0.000000\" y2=\"150.000000\" stroke=\"black\"/><line x1=\"0\" y1 =\"0\" x2=\"-33.974515\" y2=\"146.101788\" stroke=\"black\"/><line x1=\"0\" y1 =\"0\" x2=\"-66.183165\" y2=\"134.609764\" stroke=\"black\"/><line x1=\"0\" y1 =\"0\" x2=\"-94.951868\" y2=\"116.121242\" stroke=\"black\"/><line x1=\"0\" y1 =\"0\" x2=\"-141.276655\" y2=\"50.407409\" stroke=\"black\"/><line x1=\"0\" y1 =\"0\" x2=\"-149.022260\" y2=\"17.098711\" stroke=\"black\"/><line x1=\"0\" y1 =\"0\" x2=\"-149.022260\" y2=\"-17.098711\" stroke=\"black\"/><line x1=\"0\" y1 =\"0\" x2=\"-141.276655\" y2=\"-50.407409\" stroke=\"black\"/><line x1=\"0\" y1 =\"0\" x2=\"94.951868\" y2=\"-116.121242\" stroke=\"black\"/><line x1=\"0\" y1 =\"0\" x2=\"66.183165\" y2=\"-134.609764\" stroke=\"black\"/><line x1=\"0\" y1 =\"0\" x2=\"33.974515\" y2=\"-146.101788\" stroke=\"black\"/><line x1=\"0\" y1 =\"0\" x2=\"0.000000\" y2=\"-150.000000\" stroke=\"black\"/><line x1=\"0\" y1 =\"0\" x2=\"-33.974515\" y2=\"-146.101788\" stroke=\"black\"/><line x1=\"0\" y1 =\"0\" x2=\"-66.183165\" y2=\"-134.609764\" stroke=\"black\"/><line x1=\"0\" y1 =\"0\" x2=\"-94.951868\" y2=\"-116.121242\" stroke=\"black\"/><line x1=\"0\" y1 =\"0\" x2=\"141.276655\" y2=\"50.407409\" stroke=\"black\"/><line x1=\"0\" y1 =\"0\" x2=\"149.022260\" y2=\"17.098711\" stroke=\"black\"/><line x1=\"0\" y1 =\"0\" x2=\"149.022260\" y2=\"-17.098711\" stroke=\"black\"/><line x1=\"0\" y1 =\"0\" x2=\"141.276655\" y2=\"-50.407409\" stroke=\"black\"/><circle cx=\"0\" cy=\"0\" r=\"10\" style=\"fill: red\"/><g transform=\"translate(94.951868,116.121242)\"><circle cx=\"0\" cy=\"0\" r=\"10\" style=\"fill: #7FFF00\"/></g><g transform=\"translate(66.183165,134.609764)\"><circle cx=\"0\" cy=\"0\" r=\"10\" style=\"fill: #7FFF00\"/></g><g transform=\"translate(33.974515,146.101788)\"><circle cx=\"0\" cy=\"0\" r=\"10\" style=\"fill: #7FFF00\"/></g><g transform=\"translate(0.000000,150.000000)\"><circle cx=\"0\" cy=\"0\" r=\"10\" style=\"fill: #7FFF00\"/></g><g transform=\"translate(-33.974515,146.101788)\"><circle cx=\"0\" cy=\"0\" r=\"10\" style=\"fill: #7FFF00\"/></g><g transform=\"translate(-66.183165,134.609764)\"><circle cx=\"0\" cy=\"0\" r=\"10\" style=\"fill: #7FFF00\"/></g><g transform=\"translate(-94.951868,116.121242)\"><circle cx=\"0\" cy=\"0\" r=\"10\" style=\"fill: #7FFF00\"/></g><g transform=\"translate(-141.276655,50.407409)\"><circle cx=\"0\" cy=\"0\" r=\"10\" style=\"fill: #1E90FF\"/></g><g transform=\"translate(-149.022260,17.098711)\"><circle cx=\"0\" cy=\"0\" r=\"10\" style=\"fill: #1E90FF\"/></g><g transform=\"translate(-149.022260,-17.098711)\"><circle cx=\"0\" cy=\"0\" r=\"10\" style=\"fill: #1E90FF\"/></g><g transform=\"translate(-141.276655,-50.407409)\"><circle cx=\"0\" cy=\"0\" r=\"10\" style=\"fill: #1E90FF\"/></g><g transform=\"translate(94.951868,-116.121242)\"><circle cx=\"0\" cy=\"0\" r=\"10\" style=\"fill: #7FFF00\"/></g><g transform=\"translate(66.183165,-134.609764)\"><circle cx=\"0\" cy=\"0\" r=\"10\" style=\"fill: #7FFF00\"/></g><g transform=\"translate(33.974515,-146.101788)\"><circle cx=\"0\" cy=\"0\" r=\"10\" style=\"fill: #7FFF00\"/></g><g transform=\"translate(0.000000,-150.000000)\"><circle cx=\"0\" cy=\"0\" r=\"10\" style=\"fill: #7FFF00\"/></g><g transform=\"translate(-33.974515,-146.101788)\"><circle cx=\"0\" cy=\"0\" r=\"10\" style=\"fill: #7FFF00\"/></g><g transform=\"translate(-66.183165,-134.609764)\"><circle cx=\"0\" cy=\"0\" r=\"10\" style=\"fill: #7FFF00\"/></g><g transform=\"translate(-94.951868,-116.121242)\"><circle cx=\"0\" cy=\"0\" r=\"10\" style=\"fill: #7FFF00\"/></g><g transform=\"translate(141.276655,50.407409)\"><circle cx=\"0\" cy=\"0\" r=\"10\" style=\"fill: #1E90FF\"/></g><g transform=\"translate(149.022260,17.098711)\"><circle cx=\"0\" cy=\"0\" r=\"10\" style=\"fill: #1E90FF\"/></g><g transform=\"translate(149.022260,-17.098711)\"><circle cx=\"0\" cy=\"0\" r=\"10\" style=\"fill: #1E90FF\"/></g><g transform=\"translate(141.276655,-50.407409)\"><circle cx=\"0\" cy=\"0\" r=\"10\" style=\"fill: #1E90FF\"/></g></g></svg>"
      ],
      "text/plain": [
       "<IPython.core.display.HTML object>"
      ]
     },
     "execution_count": 6,
     "metadata": {},
     "output_type": "execute_result"
    }
   ],
   "source": [
    "svg = '<svg width=\"750\" height=\"500\" style=\"background: grey\">'\n",
    "svg = svg + '<g transform=\"translate(%f,%f) scale(1,-1)\">' %(nbhd_cx,nbhd_cy)\n",
    "\n",
    "for x,y in np.concatenate((up_centers,left_centers,down_centers,right_centers)):\n",
    "    svg = svg + '<line x1=\"0\" y1 =\"0\" x2=\"%f\" y2=\"%f\" stroke=\"black\"/>'%(x,y)\n",
    "    \n",
    "svg = svg + center\n",
    "for x,y in up_centers:\n",
    "    svg = svg + '<g transform=\"translate(%f,%f)\">'%(x,y)\n",
    "    svg = svg + vert_prototype\n",
    "    svg = svg + '</g>'\n",
    "for x,y in left_centers:\n",
    "    svg = svg + '<g transform=\"translate(%f,%f)\">'%(x,y)\n",
    "    svg = svg + horz_prototype\n",
    "    svg = svg + '</g>'\n",
    "for x,y in down_centers:\n",
    "    svg = svg + '<g transform=\"translate(%f,%f)\">'%(x,y)\n",
    "    svg = svg + vert_prototype\n",
    "    svg = svg + '</g>'\n",
    "for x,y in right_centers:\n",
    "    svg = svg + '<g transform=\"translate(%f,%f)\">'%(x,y)\n",
    "    svg = svg + horz_prototype\n",
    "    svg = svg + '</g>'\n",
    "\n",
    "svg = svg + '</g>'\n",
    "svg = svg + '</svg>'\n",
    "\n",
    "HTML(svg)\n",
    "\n"
   ]
  },
  {
   "cell_type": "code",
   "execution_count": 112,
   "metadata": {},
   "outputs": [],
   "source": [
    "a = np.array([[1,1],[3,2],[4,3]])\n",
    "b = np.array([[6,2],[7,23],[7,3]])"
   ]
  },
  {
   "cell_type": "code",
   "execution_count": 119,
   "metadata": {},
   "outputs": [
    {
     "data": {
      "text/plain": [
       "array([[ 1,  1],\n",
       "       [ 3,  2],\n",
       "       [ 4,  3],\n",
       "       [ 6,  2],\n",
       "       [ 7, 23],\n",
       "       [ 7,  3]])"
      ]
     },
     "execution_count": 119,
     "metadata": {},
     "output_type": "execute_result"
    }
   ],
   "source": [
    "np.concatenate((a,b))"
   ]
  },
  {
   "cell_type": "code",
   "execution_count": 124,
   "metadata": {},
   "outputs": [
    {
     "data": {
      "text/html": [
       "<svg width=\"400\" height=\"400\" style=\"background: grey\"><g transform=\"translate(200.000000,200.000000) scale(1,-1)\"><circle cx=\"0\" cy=\"0\" r=\"10\" style=\"fill: red\"/></svg>"
      ],
      "text/plain": [
       "<IPython.core.display.HTML object>"
      ]
     },
     "execution_count": 124,
     "metadata": {},
     "output_type": "execute_result"
    }
   ],
   "source": [
    "svg = '<svg width=\"400\" height=\"400\" style=\"background: grey\">'\n",
    "svg = svg + '<g transform=\"translate(%f,%f) scale(1,-1)\">' %(200,200)\n",
    "\n",
    "svg = svg + center\n",
    "\n",
    "svg = scg + '<path d=\"M0 0 C100 100 \"'\n",
    "svg = svg + '</svg>'\n",
    "\n",
    "HTML(svg)\n",
    "\n"
   ]
  },
  {
   "cell_type": "code",
   "execution_count": null,
   "metadata": {},
   "outputs": [],
   "source": []
  }
 ],
 "metadata": {
  "kernelspec": {
   "display_name": "Python 3",
   "language": "python",
   "name": "python3"
  },
  "language_info": {
   "codemirror_mode": {
    "name": "ipython",
    "version": 3
   },
   "file_extension": ".py",
   "mimetype": "text/x-python",
   "name": "python",
   "nbconvert_exporter": "python",
   "pygments_lexer": "ipython3",
   "version": "3.6.2"
  }
 },
 "nbformat": 4,
 "nbformat_minor": 2
}

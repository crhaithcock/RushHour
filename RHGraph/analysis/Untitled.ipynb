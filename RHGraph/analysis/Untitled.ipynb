{
 "cells": [
  {
   "cell_type": "code",
   "execution_count": 2,
   "metadata": {},
   "outputs": [],
   "source": [
    "import numpy as np\n",
    "import networkx as nx\n",
    "import matplotlib.pyplot as plt\n",
    "from IPython.core.display import HTML\n",
    "\n",
    "#import RHState\n",
    "#import RHLibrary as lib\n",
    "#import RHComponent\n",
    "\n",
    "%matplotlib inline\n",
    "\n"
   ]
  },
  {
   "cell_type": "code",
   "execution_count": 10,
   "metadata": {},
   "outputs": [],
   "source": [
    "%run viz001.py"
   ]
  },
  {
   "cell_type": "code",
   "execution_count": 8,
   "metadata": {},
   "outputs": [
    {
     "data": {
      "text/html": [
       "<svg width=\"750\" height=\"500\" style=\"background: grey\"><g transform=\"translate(325.000000,250.000000) scale(1,-1)\"><line x1=\"0\" y1 =\"0\" x2=\"94.951868\" y2=\"116.121242\" stroke=\"black\"/><line x1=\"0\" y1 =\"0\" x2=\"66.183165\" y2=\"134.609764\" stroke=\"black\"/><line x1=\"0\" y1 =\"0\" x2=\"33.974515\" y2=\"146.101788\" stroke=\"black\"/><line x1=\"0\" y1 =\"0\" x2=\"0.000000\" y2=\"150.000000\" stroke=\"black\"/><line x1=\"0\" y1 =\"0\" x2=\"-33.974515\" y2=\"146.101788\" stroke=\"black\"/><line x1=\"0\" y1 =\"0\" x2=\"-66.183165\" y2=\"134.609764\" stroke=\"black\"/><line x1=\"0\" y1 =\"0\" x2=\"-94.951868\" y2=\"116.121242\" stroke=\"black\"/><line x1=\"0\" y1 =\"0\" x2=\"-141.276655\" y2=\"50.407409\" stroke=\"black\"/><line x1=\"0\" y1 =\"0\" x2=\"-149.022260\" y2=\"17.098711\" stroke=\"black\"/><line x1=\"0\" y1 =\"0\" x2=\"-149.022260\" y2=\"-17.098711\" stroke=\"black\"/><line x1=\"0\" y1 =\"0\" x2=\"-141.276655\" y2=\"-50.407409\" stroke=\"black\"/><line x1=\"0\" y1 =\"0\" x2=\"94.951868\" y2=\"-116.121242\" stroke=\"black\"/><line x1=\"0\" y1 =\"0\" x2=\"66.183165\" y2=\"-134.609764\" stroke=\"black\"/><line x1=\"0\" y1 =\"0\" x2=\"33.974515\" y2=\"-146.101788\" stroke=\"black\"/><line x1=\"0\" y1 =\"0\" x2=\"0.000000\" y2=\"-150.000000\" stroke=\"black\"/><line x1=\"0\" y1 =\"0\" x2=\"-33.974515\" y2=\"-146.101788\" stroke=\"black\"/><line x1=\"0\" y1 =\"0\" x2=\"-66.183165\" y2=\"-134.609764\" stroke=\"black\"/><line x1=\"0\" y1 =\"0\" x2=\"-94.951868\" y2=\"-116.121242\" stroke=\"black\"/><line x1=\"0\" y1 =\"0\" x2=\"141.276655\" y2=\"50.407409\" stroke=\"black\"/><line x1=\"0\" y1 =\"0\" x2=\"149.022260\" y2=\"17.098711\" stroke=\"black\"/><line x1=\"0\" y1 =\"0\" x2=\"149.022260\" y2=\"-17.098711\" stroke=\"black\"/><line x1=\"0\" y1 =\"0\" x2=\"141.276655\" y2=\"-50.407409\" stroke=\"black\"/><circle cx=\"0\" cy=\"0\" r=\"10\" style=\"fill: red\"/><g transform=\"translate(94.951868,116.121242)\"><circle cx=\"0\" cy=\"0\" r=\"10\" style=\"fill: #7FFF00\"/></g><g transform=\"translate(66.183165,134.609764)\"><circle cx=\"0\" cy=\"0\" r=\"10\" style=\"fill: #7FFF00\"/></g><g transform=\"translate(33.974515,146.101788)\"><circle cx=\"0\" cy=\"0\" r=\"10\" style=\"fill: #7FFF00\"/></g><g transform=\"translate(0.000000,150.000000)\"><circle cx=\"0\" cy=\"0\" r=\"10\" style=\"fill: #7FFF00\"/></g><g transform=\"translate(-33.974515,146.101788)\"><circle cx=\"0\" cy=\"0\" r=\"10\" style=\"fill: #7FFF00\"/></g><g transform=\"translate(-66.183165,134.609764)\"><circle cx=\"0\" cy=\"0\" r=\"10\" style=\"fill: #7FFF00\"/></g><g transform=\"translate(-94.951868,116.121242)\"><circle cx=\"0\" cy=\"0\" r=\"10\" style=\"fill: #7FFF00\"/></g><g transform=\"translate(-141.276655,50.407409)\"><circle cx=\"0\" cy=\"0\" r=\"10\" style=\"fill: #1E90FF\"/></g><g transform=\"translate(-149.022260,17.098711)\"><circle cx=\"0\" cy=\"0\" r=\"10\" style=\"fill: #1E90FF\"/></g><g transform=\"translate(-149.022260,-17.098711)\"><circle cx=\"0\" cy=\"0\" r=\"10\" style=\"fill: #1E90FF\"/></g><g transform=\"translate(-141.276655,-50.407409)\"><circle cx=\"0\" cy=\"0\" r=\"10\" style=\"fill: #1E90FF\"/></g><g transform=\"translate(94.951868,-116.121242)\"><circle cx=\"0\" cy=\"0\" r=\"10\" style=\"fill: #7FFF00\"/></g><g transform=\"translate(66.183165,-134.609764)\"><circle cx=\"0\" cy=\"0\" r=\"10\" style=\"fill: #7FFF00\"/></g><g transform=\"translate(33.974515,-146.101788)\"><circle cx=\"0\" cy=\"0\" r=\"10\" style=\"fill: #7FFF00\"/></g><g transform=\"translate(0.000000,-150.000000)\"><circle cx=\"0\" cy=\"0\" r=\"10\" style=\"fill: #7FFF00\"/></g><g transform=\"translate(-33.974515,-146.101788)\"><circle cx=\"0\" cy=\"0\" r=\"10\" style=\"fill: #7FFF00\"/></g><g transform=\"translate(-66.183165,-134.609764)\"><circle cx=\"0\" cy=\"0\" r=\"10\" style=\"fill: #7FFF00\"/></g><g transform=\"translate(-94.951868,-116.121242)\"><circle cx=\"0\" cy=\"0\" r=\"10\" style=\"fill: #7FFF00\"/></g><g transform=\"translate(141.276655,50.407409)\"><circle cx=\"0\" cy=\"0\" r=\"10\" style=\"fill: #1E90FF\"/></g><g transform=\"translate(149.022260,17.098711)\"><circle cx=\"0\" cy=\"0\" r=\"10\" style=\"fill: #1E90FF\"/></g><g transform=\"translate(149.022260,-17.098711)\"><circle cx=\"0\" cy=\"0\" r=\"10\" style=\"fill: #1E90FF\"/></g><g transform=\"translate(141.276655,-50.407409)\"><circle cx=\"0\" cy=\"0\" r=\"10\" style=\"fill: #1E90FF\"/></g></g></svg>"
      ],
      "text/plain": [
       "<IPython.core.display.HTML object>"
      ]
     },
     "execution_count": 8,
     "metadata": {},
     "output_type": "execute_result"
    }
   ],
   "source": [
    "HTML(svg_circles())"
   ]
  },
  {
   "cell_type": "code",
   "execution_count": 12,
   "metadata": {},
   "outputs": [],
   "source": [
    "c.repr_state()"
   ]
  },
  {
   "cell_type": "code",
   "execution_count": 13,
   "metadata": {},
   "outputs": [
    {
     "data": {
      "text/plain": [
       "54"
      ]
     },
     "execution_count": 13,
     "metadata": {},
     "output_type": "execute_result"
    }
   ],
   "source": [
    "c.nxGraph.size()"
   ]
  },
  {
   "cell_type": "code",
   "execution_count": null,
   "metadata": {},
   "outputs": [],
   "source": []
  }
 ],
 "metadata": {
  "kernelspec": {
   "display_name": "Python 3",
   "language": "python",
   "name": "python3"
  },
  "language_info": {
   "codemirror_mode": {
    "name": "ipython",
    "version": 3
   },
   "file_extension": ".py",
   "mimetype": "text/x-python",
   "name": "python",
   "nbconvert_exporter": "python",
   "pygments_lexer": "ipython3",
   "version": "3.6.2"
  }
 },
 "nbformat": 4,
 "nbformat_minor": 2
}

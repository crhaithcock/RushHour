{
 "cells": [
  {
   "cell_type": "code",
   "execution_count": 9,
   "metadata": {},
   "outputs": [],
   "source": [
    "import numpy as np\n",
    "\n",
    "import svgwrite\n",
    "from IPython.display import SVG\n",
    "from IPython.display import HTML\n",
    "\n"
   ]
  },
  {
   "cell_type": "code",
   "execution_count": 10,
   "metadata": {},
   "outputs": [],
   "source": [
    "blank = 0\n",
    "vcar = 4\n",
    "vtruck = 5\n",
    "hcar = 6\n",
    "htruck = 7\n",
    "\n",
    "CAR_SYMBOLS = ['Q', 'A', 'B', 'C', 'D', 'E', 'F', 'G', 'H', 'J', 'K', 'L']\n",
    "TRUCK_SYMBOLS = ['T', 'R', 'W', 'Z']\n",
    "\n",
    "CAR_COLORS = ['#7FFF00', '#7FFFD4', '#D2691E', '#8B008B', '#BDB76B'\\\n",
    "              '#8B0000', '#FF1493', '#1E90FF', '#FFD700', '#ADFF2F',\\\n",
    "              '#CD5C5C', '#F0E68C']\n",
    "\n",
    "TRUCK_COLORS = ['#F08080', '#FFA07A', '#FF00FF', '#00FA9A']\n",
    "\n",
    "RED_COLOR = '#FF0000'\n",
    "RED_SYMBOL = 'X'\n",
    "\n"
   ]
  },
  {
   "cell_type": "code",
   "execution_count": 11,
   "metadata": {},
   "outputs": [
    {
     "data": {
      "text/html": [
       "<svg baseProfile=\"full\" height=\"180\" version=\"1.1\" width=\"180\" xmlns=\"http://www.w3.org/2000/svg\" xmlns:ev=\"http://www.w3.org/2001/xml-events\" xmlns:xlink=\"http://www.w3.org/1999/xlink\"><defs /><rect fill=\"#E6E6E6\" height=\"180\" width=\"180\" x=\"0\" y=\"0\" /><line stroke=\"black\" stroke-width=\"2\" x1=\"0\" x2=\"0\" y1=\"0\" y2=\"180\" /><line stroke=\"black\" stroke-width=\"2\" x1=\"0\" x2=\"180\" y1=\"0\" y2=\"0\" /><line stroke=\"black\" stroke-width=\"2\" x1=\"30\" x2=\"30\" y1=\"0\" y2=\"180\" /><line stroke=\"black\" stroke-width=\"2\" x1=\"0\" x2=\"180\" y1=\"30\" y2=\"30\" /><line stroke=\"black\" stroke-width=\"2\" x1=\"60\" x2=\"60\" y1=\"0\" y2=\"180\" /><line stroke=\"black\" stroke-width=\"2\" x1=\"0\" x2=\"180\" y1=\"60\" y2=\"60\" /><line stroke=\"black\" stroke-width=\"2\" x1=\"90\" x2=\"90\" y1=\"0\" y2=\"180\" /><line stroke=\"black\" stroke-width=\"2\" x1=\"0\" x2=\"180\" y1=\"90\" y2=\"90\" /><line stroke=\"black\" stroke-width=\"2\" x1=\"120\" x2=\"120\" y1=\"0\" y2=\"180\" /><line stroke=\"black\" stroke-width=\"2\" x1=\"0\" x2=\"180\" y1=\"120\" y2=\"120\" /><line stroke=\"black\" stroke-width=\"2\" x1=\"150\" x2=\"150\" y1=\"0\" y2=\"180\" /><line stroke=\"black\" stroke-width=\"2\" x1=\"0\" x2=\"180\" y1=\"150\" y2=\"150\" /><line stroke=\"black\" stroke-width=\"2\" x1=\"180\" x2=\"180\" y1=\"0\" y2=\"180\" /><line stroke=\"black\" stroke-width=\"2\" x1=\"0\" x2=\"180\" y1=\"180\" y2=\"180\" /></svg>"
      ],
      "text/plain": [
       "<IPython.core.display.HTML object>"
      ]
     },
     "execution_count": 11,
     "metadata": {},
     "output_type": "execute_result"
    }
   ],
   "source": [
    "space_size = 30\n",
    "board_size = 6*space_size\n",
    "\n",
    "def svg_base():\n",
    "    dwg = svgwrite.Drawing('nosave.svg',(board_size,board_size),debug=True)\n",
    "\n",
    "    dwg.add(dwg.rect(insert=(0,0),size=(board_size,board_size),fill='#E6E6E6'))\n",
    "    #dwg.add(dwg.rect(insert=(0,0),size=(board_size,board_size),fill='rgb(211,211,211)'))\n",
    "    for x in range(7):\n",
    "        dwg.add(dwg.line((30*x,0),(30*x,180),stroke='black',stroke_width=2))\n",
    "        dwg.add(dwg.line((0,30*x),(180,30*x),stroke='black',stroke_width=2))\n",
    "    return dwg\n",
    "\n",
    "# TEST\n",
    "dwg = svg_base()\n",
    "HTML(dwg.tostring())"
   ]
  },
  {
   "cell_type": "code",
   "execution_count": 12,
   "metadata": {},
   "outputs": [
    {
     "data": {
      "text/html": [
       "<svg baseProfile=\"full\" height=\"180\" version=\"1.1\" width=\"180\" xmlns=\"http://www.w3.org/2000/svg\" xmlns:ev=\"http://www.w3.org/2001/xml-events\" xmlns:xlink=\"http://www.w3.org/1999/xlink\"><defs /><rect fill=\"#E6E6E6\" height=\"180\" width=\"180\" x=\"0\" y=\"0\" /><line stroke=\"black\" stroke-width=\"2\" x1=\"0\" x2=\"0\" y1=\"0\" y2=\"180\" /><line stroke=\"black\" stroke-width=\"2\" x1=\"0\" x2=\"180\" y1=\"0\" y2=\"0\" /><line stroke=\"black\" stroke-width=\"2\" x1=\"30\" x2=\"30\" y1=\"0\" y2=\"180\" /><line stroke=\"black\" stroke-width=\"2\" x1=\"0\" x2=\"180\" y1=\"30\" y2=\"30\" /><line stroke=\"black\" stroke-width=\"2\" x1=\"60\" x2=\"60\" y1=\"0\" y2=\"180\" /><line stroke=\"black\" stroke-width=\"2\" x1=\"0\" x2=\"180\" y1=\"60\" y2=\"60\" /><line stroke=\"black\" stroke-width=\"2\" x1=\"90\" x2=\"90\" y1=\"0\" y2=\"180\" /><line stroke=\"black\" stroke-width=\"2\" x1=\"0\" x2=\"180\" y1=\"90\" y2=\"90\" /><line stroke=\"black\" stroke-width=\"2\" x1=\"120\" x2=\"120\" y1=\"0\" y2=\"180\" /><line stroke=\"black\" stroke-width=\"2\" x1=\"0\" x2=\"180\" y1=\"120\" y2=\"120\" /><line stroke=\"black\" stroke-width=\"2\" x1=\"150\" x2=\"150\" y1=\"0\" y2=\"180\" /><line stroke=\"black\" stroke-width=\"2\" x1=\"0\" x2=\"180\" y1=\"150\" y2=\"150\" /><line stroke=\"black\" stroke-width=\"2\" x1=\"180\" x2=\"180\" y1=\"0\" y2=\"180\" /><line stroke=\"black\" stroke-width=\"2\" x1=\"0\" x2=\"180\" y1=\"180\" y2=\"180\" /><rect fill=\"blue\" height=\"54\" rx=\"5\" ry=\"5\" stroke-width=\"3\" width=\"24\" x=\"3\" y=\"3\" /><text style=\"fill:black;text-anchor:middle;alignment-baseline:central\" x=\"15.0\" y=\"30.0\">P</text><rect fill=\"pink\" height=\"24\" rx=\"5\" ry=\"5\" stroke-width=\"3\" width=\"54\" x=\"33\" y=\"33\" /><text style=\"fill:black;text-anchor:middle;alignment-baseline:central\" x=\"60.0\" y=\"45.0\">Q</text><rect fill=\"green\" height=\"84\" rx=\"5\" ry=\"5\" stroke-width=\"3\" width=\"24\" x=\"63\" y=\"63\" /><text style=\"fill:black;text-anchor:middle;alignment-baseline:central\" x=\"75.0\" y=\"105.0\">R</text><rect fill=\"yellow\" height=\"24\" rx=\"5\" ry=\"5\" stroke-width=\"3\" width=\"84\" x=\"93\" y=\"93\" /><text style=\"fill:black;text-anchor:middle;alignment-baseline:central\" x=\"135.0\" y=\"105.0\">T</text></svg>"
      ],
      "text/plain": [
       "<IPython.core.display.HTML object>"
      ]
     },
     "execution_count": 12,
     "metadata": {},
     "output_type": "execute_result"
    }
   ],
   "source": [
    "# orientation values: 'vcar',hcar',vtruck','htruck'\n",
    "# color is hex value color (e.g. #7FFFD4)\n",
    "space_size = 30\n",
    "board_size = 6 * space_size\n",
    "svg_border = 3 \n",
    "svg_round_radius = 5\n",
    "\n",
    "svg_size = {}\n",
    "svg_size['hcar'] = (2*space_size - 2*svg_border , space_size - 2*svg_border)\n",
    "svg_size['vcar'] = (space_size - 2*svg_border,  2*space_size - 2*svg_border)\n",
    "svg_size['vtruck'] = (space_size - 2*svg_border , 3*space_size - 2*svg_border)\n",
    "svg_size['htruck'] = (3*space_size - 2*svg_border, space_size - 2*svg_border)\n",
    "\n",
    "#dwg.add(dwg.rect(insert=(65, 35), size=(50, 20),rx=5,ry=5,fill='green',  stroke_width=3))\n",
    "def svg_add_piece(dwg,nd_x,nd_y,orientation,color,text):\n",
    "    car_x = nd_y* space_size + svg_border\n",
    "    car_y = nd_x*space_size + svg_border\n",
    "    \n",
    "    size = svg_size[orientation]\n",
    "    \n",
    "    dwg.add(dwg.rect(insert=(car_x,car_y),size=size,rx=svg_round_radius,ry=svg_round_radius,fill=color, stroke_width=3))\n",
    "    \n",
    "    c_x = car_x + size[0]/2.0\n",
    "    c_y = car_y + size[1]/2.0\n",
    "    dwg.add(dwg.text(text,insert=(c_x,c_y),style='fill:black;text-anchor:middle;alignment-baseline:central'))\n",
    "    return dwg\n",
    "\n",
    "\n",
    "# TEST\n",
    "dwg = svg_base()\n",
    "dwg = svg_add_piece(dwg, 0,0,'vcar','blue','P')\n",
    "dwg = svg_add_piece(dwg, 1,1,'hcar','pink','Q')\n",
    "dwg = svg_add_piece(dwg, 2,2,'vtruck','green','R')\n",
    "dwg = svg_add_piece(dwg, 3,3,'htruck','yellow','T')\n",
    "\n",
    "\n",
    "\n",
    "\n",
    "HTML(dwg.tostring())"
   ]
  },
  {
   "cell_type": "code",
   "execution_count": 13,
   "metadata": {},
   "outputs": [
    {
     "data": {
      "text/plain": [
       "array([[0, 0, 0, 0, 0, 0],\n",
       "       [0, 0, 0, 0, 0, 0],\n",
       "       [0, 0, 0, 0, 0, 0],\n",
       "       [0, 0, 0, 0, 0, 0],\n",
       "       [0, 0, 0, 0, 0, 0],\n",
       "       [0, 0, 0, 0, 0, 0]])"
      ]
     },
     "execution_count": 13,
     "metadata": {},
     "output_type": "execute_result"
    }
   ],
   "source": [
    "v = np.array([blank]*36).reshape(6,6)\n",
    "v"
   ]
  },
  {
   "cell_type": "code",
   "execution_count": 14,
   "metadata": {},
   "outputs": [],
   "source": [
    "def svg_from_state(t,red_cols):\n",
    "    ''' \n",
    "        input t: numpy array modeling a RH board configuration\n",
    "        input red_cols: 2-element array [c1,c2] that marks the columns of the red car \n",
    "\n",
    "        output: instance of svgwrite drawing\n",
    "        \n",
    "    '''\n",
    "    \n",
    "    v = np.copy(t)\n",
    "    c1,c2 = red_cols\n",
    "    \n",
    "    car_colors = CAR_COLORS[:]\n",
    "    truck_colors = TRUCK_COLORS[:]\n",
    "    \n",
    "    truck_symbols = TRUCK_SYMBOLS[:]\n",
    "    car_symbols = CAR_SYMBOLS[:]\n",
    "    \n",
    "    dwg = svg_base()\n",
    "    \n",
    "    # zero out red car. We know how to mark it visually\n",
    "    v[2,c1] = blank\n",
    "    v[2,c2] = blank\n",
    "    dwg = svg_add_piece(dwg,2,c1,'hcar',RED_COLOR,RED_SYMBOL)\n",
    "    \n",
    "    vcars_y =np.unique(np.where(v==vcar)[1])\n",
    "    for y in vcars_y:\n",
    "        for x in np.where(v[:,y] == vcar)[0][0::2]:          \n",
    "            dwg = svg_add_piece(dwg,int(x),int(y),'vcar',car_colors.pop(),car_symbols.pop())\n",
    "    \n",
    "    hcars_x = np.unique(np.where(v==hcar)[0])\n",
    "    for x in hcars_x:\n",
    "        for y in np.where(v[x,:]==hcar)[0][0::2]:\n",
    "            dwg = svg_add_piece(dwg,int(x),int(y),'hcar',car_colors.pop(),car_symbols.pop())\n",
    "    \n",
    "    vtrucks_y = np.unique(np.where(v==vtruck)[1])\n",
    "    for y in vtrucks_y:\n",
    "        for x in np.where(v[:,y] == vtruck)[0][0::3]:\n",
    "            dwg = svg_add_piece(dwg,int(x),int(y),'vtruck',truck_colors.pop(),truck_symbols.pop())\n",
    "    \n",
    "    htrucks_x = np.unique(np.where(v==htruck)[0])\n",
    "    for x in htrucks_x:\n",
    "        for y in np.where(v[x,:]==htruck)[0][0::3]:\n",
    "            dwg = svg_add_piece(dwg,int(x),int(y),'htruck',truck_colors.pop(),truck_symbols.pop())\n",
    "    \n",
    "    return dwg"
   ]
  },
  {
   "cell_type": "code",
   "execution_count": 15,
   "metadata": {},
   "outputs": [
    {
     "data": {
      "text/plain": [
       "array([[0, 7, 7, 7, 0, 0],\n",
       "       [0, 0, 0, 0, 6, 6],\n",
       "       [6, 6, 0, 0, 4, 0],\n",
       "       [0, 0, 5, 0, 4, 0],\n",
       "       [4, 0, 5, 0, 0, 0],\n",
       "       [4, 0, 5, 0, 0, 0]])"
      ]
     },
     "execution_count": 15,
     "metadata": {},
     "output_type": "execute_result"
    }
   ],
   "source": [
    "# TEST\n",
    "\n",
    "t = np.zeros((6,6),dtype=int)\n",
    "t[2,0:2] = hcar\n",
    "t[1,4:6] = hcar\n",
    "t[2:4,4] = vcar\n",
    "\n",
    "#t[0,2:5] = htruck\n",
    "t[0,1:4] = htruck\n",
    "\n",
    "t[3:6,2] = vtruck\n",
    "t[4:,0] = vcar\n",
    "t"
   ]
  },
  {
   "cell_type": "code",
   "execution_count": 16,
   "metadata": {},
   "outputs": [
    {
     "data": {
      "text/html": [
       "<svg baseProfile=\"full\" height=\"180\" version=\"1.1\" width=\"180\" xmlns=\"http://www.w3.org/2000/svg\" xmlns:ev=\"http://www.w3.org/2001/xml-events\" xmlns:xlink=\"http://www.w3.org/1999/xlink\"><defs /><rect fill=\"#E6E6E6\" height=\"180\" width=\"180\" x=\"0\" y=\"0\" /><line stroke=\"black\" stroke-width=\"2\" x1=\"0\" x2=\"0\" y1=\"0\" y2=\"180\" /><line stroke=\"black\" stroke-width=\"2\" x1=\"0\" x2=\"180\" y1=\"0\" y2=\"0\" /><line stroke=\"black\" stroke-width=\"2\" x1=\"30\" x2=\"30\" y1=\"0\" y2=\"180\" /><line stroke=\"black\" stroke-width=\"2\" x1=\"0\" x2=\"180\" y1=\"30\" y2=\"30\" /><line stroke=\"black\" stroke-width=\"2\" x1=\"60\" x2=\"60\" y1=\"0\" y2=\"180\" /><line stroke=\"black\" stroke-width=\"2\" x1=\"0\" x2=\"180\" y1=\"60\" y2=\"60\" /><line stroke=\"black\" stroke-width=\"2\" x1=\"90\" x2=\"90\" y1=\"0\" y2=\"180\" /><line stroke=\"black\" stroke-width=\"2\" x1=\"0\" x2=\"180\" y1=\"90\" y2=\"90\" /><line stroke=\"black\" stroke-width=\"2\" x1=\"120\" x2=\"120\" y1=\"0\" y2=\"180\" /><line stroke=\"black\" stroke-width=\"2\" x1=\"0\" x2=\"180\" y1=\"120\" y2=\"120\" /><line stroke=\"black\" stroke-width=\"2\" x1=\"150\" x2=\"150\" y1=\"0\" y2=\"180\" /><line stroke=\"black\" stroke-width=\"2\" x1=\"0\" x2=\"180\" y1=\"150\" y2=\"150\" /><line stroke=\"black\" stroke-width=\"2\" x1=\"180\" x2=\"180\" y1=\"0\" y2=\"180\" /><line stroke=\"black\" stroke-width=\"2\" x1=\"0\" x2=\"180\" y1=\"180\" y2=\"180\" /><rect fill=\"#FF0000\" height=\"24\" rx=\"5\" ry=\"5\" stroke-width=\"3\" width=\"54\" x=\"3\" y=\"63\" /><text style=\"fill:black;text-anchor:middle;alignment-baseline:central\" x=\"30.0\" y=\"75.0\">X</text><rect fill=\"#F0E68C\" height=\"54\" rx=\"5\" ry=\"5\" stroke-width=\"3\" width=\"24\" x=\"3\" y=\"123\" /><text style=\"fill:black;text-anchor:middle;alignment-baseline:central\" x=\"15.0\" y=\"150.0\">L</text><rect fill=\"#CD5C5C\" height=\"54\" rx=\"5\" ry=\"5\" stroke-width=\"3\" width=\"24\" x=\"123\" y=\"63\" /><text style=\"fill:black;text-anchor:middle;alignment-baseline:central\" x=\"135.0\" y=\"90.0\">K</text><rect fill=\"#ADFF2F\" height=\"24\" rx=\"5\" ry=\"5\" stroke-width=\"3\" width=\"54\" x=\"123\" y=\"33\" /><text style=\"fill:black;text-anchor:middle;alignment-baseline:central\" x=\"150.0\" y=\"45.0\">J</text><rect fill=\"#00FA9A\" height=\"84\" rx=\"5\" ry=\"5\" stroke-width=\"3\" width=\"24\" x=\"63\" y=\"93\" /><text style=\"fill:black;text-anchor:middle;alignment-baseline:central\" x=\"75.0\" y=\"135.0\">Z</text><rect fill=\"#FF00FF\" height=\"24\" rx=\"5\" ry=\"5\" stroke-width=\"3\" width=\"84\" x=\"33\" y=\"3\" /><text style=\"fill:black;text-anchor:middle;alignment-baseline:central\" x=\"75.0\" y=\"15.0\">W</text></svg>"
      ],
      "text/plain": [
       "<IPython.core.display.HTML object>"
      ]
     },
     "execution_count": 16,
     "metadata": {},
     "output_type": "execute_result"
    }
   ],
   "source": [
    "dwg = svg_from_state(t,[0,1])\n",
    "HTML(dwg.tostring())"
   ]
  },
  {
   "cell_type": "code",
   "execution_count": 17,
   "metadata": {},
   "outputs": [],
   "source": [
    "def svg_from_state_generated_order(t,red_cols):\n",
    "    \n",
    "    v = np.copy(t)\n",
    "\n",
    "    c1,c2 = red_cols\n",
    "\n",
    "    car_colors = CAR_COLORS[:]\n",
    "    truck_colors = TRUCK_COLORS[:]\n",
    "\n",
    "    truck_symbols = TRUCK_SYMBOLS[:]\n",
    "    car_symbols = CAR_SYMBOLS[:]\n",
    "\n",
    "    dwg = svg_base();\n",
    "\n",
    "    # zero out red car. We explicitly know how to mark it visually\n",
    "    v[2,c1] = blank\n",
    "    v[2,c2] = blank\n",
    "    dwg = svg_add_piece(dwg,2,c1,'hcar',RED_COLOR,RED_SYMBOL)\n",
    "\n",
    "    end_positions = []\n",
    "    \n",
    "    vcars_y =np.unique(np.where(v==vcar)[1])\n",
    "    for y in vcars_y:\n",
    "        for x in np.where(v[:,y] == vcar)[0][0::2]:          \n",
    "            #dwg = svg_add_piece(dwg,int(x),int(y),'vcar',car_colors.pop(),car_symbols.pop())\n",
    "            end_positions.append([int(x),int(y)])\n",
    "\n",
    "    hcars_x = np.unique(np.where(v==hcar)[0])\n",
    "    for x in hcars_x:\n",
    "        for y in np.where(v[x,:]==hcar)[0][0::2]:\n",
    "            #dwg = svg_add_piece(dwg,int(x),int(y),'hcar',car_colors.pop(),car_symbols.pop())\n",
    "            end_positions.append([int(x),int(y)])\n",
    "\n",
    "    vtrucks_y = np.unique(np.where(v==vtruck)[1])\n",
    "    for y in vtrucks_y:\n",
    "        for x in np.where(v[:,y] == vtruck)[0][0::3]:\n",
    "            #dwg = svg_add_piece(dwg,int(x),int(y),'vtruck',truck_colors.pop(),truck_symbols.pop())\n",
    "            end_positions.append([int(x),int(y)])\n",
    "\n",
    "    htrucks_x = np.unique(np.where(v==htruck)[0])\n",
    "    for x in htrucks_x:\n",
    "        for y in np.where(v[x,:]==htruck)[0][0::3]:\n",
    "            #dwg = svg_add_piece(dwg,int(x),int(y),'htruck',truck_colors.pop(),truck_symbols.pop())\n",
    "            end_positions.append([int(x),int(y)])\n",
    "\n",
    "    end_positions = sorted(end_positions)\n",
    "    for row,col in end_positions:\n",
    "        if v[row,col] == hcar:\n",
    "            dwg = svg_add_piece(dwg,int(row),int(col),'hcar',car_colors.pop(),car_symbols.pop() )\n",
    "        elif v[row,col] == vcar:\n",
    "            dwg = svg_add_piece(dwg,int(row),int(col),'vcar',car_colors.pop(),car_symbols.pop() )\n",
    "        elif v[row,col] == htruck:\n",
    "            dwg = svg_add_piece(dwg,int(row),int(col),'htruck',truck_colors.pop(),truck_symbols.pop() )\n",
    "        else:\n",
    "            dwg = svg_add_piece(dwg,int(row),int(col),'vtruck',truck_colors.pop(),truck_symbols.pop() )\n",
    "    return dwg\n"
   ]
  },
  {
   "cell_type": "code",
   "execution_count": 18,
   "metadata": {},
   "outputs": [
    {
     "data": {
      "text/html": [
       "<svg baseProfile=\"full\" height=\"180\" version=\"1.1\" width=\"180\" xmlns=\"http://www.w3.org/2000/svg\" xmlns:ev=\"http://www.w3.org/2001/xml-events\" xmlns:xlink=\"http://www.w3.org/1999/xlink\"><defs /><rect fill=\"#E6E6E6\" height=\"180\" width=\"180\" x=\"0\" y=\"0\" /><line stroke=\"black\" stroke-width=\"2\" x1=\"0\" x2=\"0\" y1=\"0\" y2=\"180\" /><line stroke=\"black\" stroke-width=\"2\" x1=\"0\" x2=\"180\" y1=\"0\" y2=\"0\" /><line stroke=\"black\" stroke-width=\"2\" x1=\"30\" x2=\"30\" y1=\"0\" y2=\"180\" /><line stroke=\"black\" stroke-width=\"2\" x1=\"0\" x2=\"180\" y1=\"30\" y2=\"30\" /><line stroke=\"black\" stroke-width=\"2\" x1=\"60\" x2=\"60\" y1=\"0\" y2=\"180\" /><line stroke=\"black\" stroke-width=\"2\" x1=\"0\" x2=\"180\" y1=\"60\" y2=\"60\" /><line stroke=\"black\" stroke-width=\"2\" x1=\"90\" x2=\"90\" y1=\"0\" y2=\"180\" /><line stroke=\"black\" stroke-width=\"2\" x1=\"0\" x2=\"180\" y1=\"90\" y2=\"90\" /><line stroke=\"black\" stroke-width=\"2\" x1=\"120\" x2=\"120\" y1=\"0\" y2=\"180\" /><line stroke=\"black\" stroke-width=\"2\" x1=\"0\" x2=\"180\" y1=\"120\" y2=\"120\" /><line stroke=\"black\" stroke-width=\"2\" x1=\"150\" x2=\"150\" y1=\"0\" y2=\"180\" /><line stroke=\"black\" stroke-width=\"2\" x1=\"0\" x2=\"180\" y1=\"150\" y2=\"150\" /><line stroke=\"black\" stroke-width=\"2\" x1=\"180\" x2=\"180\" y1=\"0\" y2=\"180\" /><line stroke=\"black\" stroke-width=\"2\" x1=\"0\" x2=\"180\" y1=\"180\" y2=\"180\" /><rect fill=\"#FF0000\" height=\"24\" rx=\"5\" ry=\"5\" stroke-width=\"3\" width=\"54\" x=\"3\" y=\"63\" /><text style=\"fill:black;text-anchor:middle;alignment-baseline:central\" x=\"30.0\" y=\"75.0\">X</text><rect fill=\"#00FA9A\" height=\"24\" rx=\"5\" ry=\"5\" stroke-width=\"3\" width=\"84\" x=\"33\" y=\"3\" /><text style=\"fill:black;text-anchor:middle;alignment-baseline:central\" x=\"75.0\" y=\"15.0\">Z</text><rect fill=\"#F0E68C\" height=\"24\" rx=\"5\" ry=\"5\" stroke-width=\"3\" width=\"54\" x=\"123\" y=\"33\" /><text style=\"fill:black;text-anchor:middle;alignment-baseline:central\" x=\"150.0\" y=\"45.0\">L</text><rect fill=\"#CD5C5C\" height=\"54\" rx=\"5\" ry=\"5\" stroke-width=\"3\" width=\"24\" x=\"123\" y=\"63\" /><text style=\"fill:black;text-anchor:middle;alignment-baseline:central\" x=\"135.0\" y=\"90.0\">K</text><rect fill=\"#FF00FF\" height=\"84\" rx=\"5\" ry=\"5\" stroke-width=\"3\" width=\"24\" x=\"63\" y=\"93\" /><text style=\"fill:black;text-anchor:middle;alignment-baseline:central\" x=\"75.0\" y=\"135.0\">W</text><rect fill=\"#ADFF2F\" height=\"54\" rx=\"5\" ry=\"5\" stroke-width=\"3\" width=\"24\" x=\"3\" y=\"123\" /><text style=\"fill:black;text-anchor:middle;alignment-baseline:central\" x=\"15.0\" y=\"150.0\">J</text></svg>"
      ],
      "text/plain": [
       "<IPython.core.display.HTML object>"
      ]
     },
     "execution_count": 18,
     "metadata": {},
     "output_type": "execute_result"
    }
   ],
   "source": [
    "dwg = svg_from_state_generated_order(t,[0,1])\n",
    "HTML(dwg.tostring())"
   ]
  },
  {
   "cell_type": "markdown",
   "metadata": {},
   "source": [
    "recursion algorithm needs to know three things:\n",
    "\n",
    "* State (red car positon & board layout)\n",
    "* next postion to fill\n",
    "* stack of pieces to place on board\n",
    "\n",
    "\n",
    "\n",
    "\n"
   ]
  },
  {
   "cell_type": "code",
   "execution_count": 19,
   "metadata": {},
   "outputs": [],
   "source": [
    "def new_pivot(pivot_position):\n",
    "    #move left to right and then down.\n",
    "    row,col = pivot_position\n",
    "    if col < 5:\n",
    "        return [row,col+1]\n",
    "    elif col == 5 and row < 5:\n",
    "        return [row+1,0]\n",
    "    else:\n",
    "        # else return bad value to create error\n",
    "        #!!!! TODO - add proper error handling here\n",
    "        return[0.5,0.5] \n",
    "\n",
    "\n",
    "\n",
    "\n",
    "    \n",
    "    \n",
    "    \n",
    "# s is a State: numpy array representing board. And marker for position of red car\n",
    "# num_cars is number of cars remaning to place on board\n",
    "# num_trucks is number of trucks remaining to place on board\n",
    "# pivot_position is the start position to loop through and place one car or one truck on the board.\n",
    "\n",
    "def recurse(v,red_cols,num_cars,num_trucks,pivot_position):\n",
    "    '''\n",
    "        input \n",
    "            v: numpy array representing RH board\n",
    "            red_cols: 2-elt array [c0,c1] marking the columns of the red car\n",
    "            num_cars: number of cars to still be placed on the board\n",
    "            num_trucks: number of trucks still to be placed on the board\n",
    "            pivot_position: 2-elt array indicating the current place to attempt to place pieces on the board\n",
    "    \n",
    "    '''\n",
    "    pivot_row,pivot_col = pivot_position\n",
    "    \n",
    "    # test base case exit condition\n",
    "    if num_cars == 0 and num_trucks == 0:\n",
    "        record_state(v,red_cols)\n",
    "        return\n",
    "    \n",
    "    # can't place piece hooked to last square\n",
    "    if pivot_position == [5,5]:\n",
    "        return\n",
    "    \n",
    "    # in all cases of a recursive call, we move to next pivot position\n",
    "    new_pivot_position = new_pivot(pivot_position)\n",
    "    \n",
    "    # test if current position is filled - move to next position on board\n",
    "    if v[pivot_row,pivot_col] != blank:\n",
    "        recurse(v,red_cols,num_cars,num_trucks,new_pivot_position)\n",
    "        return\n",
    "    \n",
    "    # test for branch exit. If not posisible to lay down remaining pieces, then end recursion\n",
    "    #!!!! TODO - validate edge conditions here\n",
    "    if 2*num_cars + 3*num_trucks > 36 - 6*pivot_row + pivot_col:\n",
    "        return\n",
    "    \n",
    "    for i in np.arange(pivot_row*6+pivot_col,36):\n",
    "        row = i//6\n",
    "        col = i%6\n",
    "        \n",
    "        # place hcar if possible\n",
    "        if num_cars > 0 and col < 5 and np.all(v[row,col:col+2] == blank):\n",
    "            new_v = np.copy(v)\n",
    "            new_v[row,col:col+2] = hcar\n",
    "            recurse(new_v,red_cols,num_cars-1,num_trucks,new_pivot([row,col]))\n",
    "\n",
    "        # place vcar if possible\n",
    "        if num_cars > 0 and row < 5 and np.all(v[row:row+2,col] == blank):\n",
    "            new_v = np.copy(v)\n",
    "            new_v[row:row+2,col] = vcar\n",
    "            recurse(new_v,red_cols,num_cars-1,num_trucks,new_pivot([row,col]))\n",
    "            \n",
    "        #place htruck if possible\n",
    "        if num_trucks > 0 and col < 4 and np.all(v[row,col:col+3]==blank):\n",
    "            new_v = np.copy(v)\n",
    "            new_v[row,col:col+3] = htruck\n",
    "            recurse(new_v,red_cols,num_cars,num_trucks-1,new_pivot([row,col]))\n",
    "        \n",
    "        if num_trucks > 0 and row < 4 and np.all(v[row:row+3,col] == blank):\n",
    "            new_v = np.copy(v)\n",
    "            new_v[row:row+3,col] = vtruck\n",
    "            recurse(new_v,red_cols,num_cars,num_trucks-1,new_pivot([row,col]))\n",
    "            \n",
    "        "
   ]
  },
  {
   "cell_type": "code",
   "execution_count": 20,
   "metadata": {},
   "outputs": [],
   "source": [
    "#globals\n",
    "outfile = None\n",
    "state_list = []\n",
    "\n",
    "\n",
    "vf = np.vectorize(lambda x: bin(x)[2:].zfill(3))\n",
    "\n",
    "\n",
    "vec_bitstring_3 = np.vectorize(lambda x: np.binary_repr(x,width=3) )\n",
    "\n",
    "\n",
    "\n",
    "def board_to_int(v):\n",
    "    t = vec_bitstring_3(v)\n",
    "    return int(''.join(np.apply_along_axis(lambda x: ''.join(x), 1,t)),2)\n",
    "\n",
    "def int_to_board(i):\n",
    "    #i = '154444257952488798331863040'\n",
    "    s = bin(int(i))[2:].zfill(108)\n",
    "    v = np.array([int(s[i:i+3],2) for i in range(0,len(s),3)])\n",
    "    return v.reshape((6,6))\n",
    "    \n",
    "    \n",
    "def record_state(v,red_cols):\n",
    "    global state_counter\n",
    "    \n",
    "    state_counter += 1 \n",
    "    #record_state_outfile(v,red_cols)\n",
    "    record_state_list(v,red_cols)\n",
    "    \n",
    "    \n",
    "def record_state_list(v,red_cols):\n",
    "    global state_list\n",
    "    state_list.append( (v,red_cols) )\n",
    "    \n",
    "    \n",
    "def record_state_outfile(v,red_cols):\n",
    "    global outfile\n",
    "    \n",
    "    v_hash = str(int(''.join(vf(v.reshape(1,36))[0]),2))\n",
    "    \n",
    "    txt = ','.join([v_hash,str(red_cols[0]),str(red_cols[1])])\n",
    "    \n",
    "    outfile.write(txt)\n",
    "    outfile.write('\\n')\n",
    "    \n",
    "    "
   ]
  },
  {
   "cell_type": "code",
   "execution_count": 21,
   "metadata": {},
   "outputs": [
    {
     "data": {
      "text/plain": [
       "array([[0, 7, 7, 7, 0, 0],\n",
       "       [0, 0, 0, 0, 6, 6],\n",
       "       [6, 6, 0, 0, 4, 0],\n",
       "       [0, 0, 5, 0, 4, 0],\n",
       "       [4, 0, 5, 0, 0, 0],\n",
       "       [4, 0, 5, 0, 0, 0]])"
      ]
     },
     "execution_count": 21,
     "metadata": {},
     "output_type": "execute_result"
    }
   ],
   "source": [
    "#TEST\n",
    "t"
   ]
  },
  {
   "cell_type": "code",
   "execution_count": 22,
   "metadata": {},
   "outputs": [
    {
     "data": {
      "text/plain": [
       "array([[0, 7, 7, 7, 0, 0],\n",
       "       [0, 0, 0, 0, 6, 6],\n",
       "       [6, 6, 0, 0, 4, 0],\n",
       "       [0, 0, 5, 0, 4, 0],\n",
       "       [4, 0, 5, 0, 0, 0],\n",
       "       [4, 0, 5, 0, 0, 0]])"
      ]
     },
     "execution_count": 22,
     "metadata": {},
     "output_type": "execute_result"
    }
   ],
   "source": [
    "int_to_board(board_to_int(t))"
   ]
  },
  {
   "cell_type": "code",
   "execution_count": 23,
   "metadata": {},
   "outputs": [
    {
     "data": {
      "text/plain": [
       "True"
      ]
     },
     "execution_count": 23,
     "metadata": {},
     "output_type": "execute_result"
    }
   ],
   "source": [
    "i = board_to_int(t)\n",
    "\n",
    "i == board_to_int(int_to_board(i))"
   ]
  },
  {
   "cell_type": "code",
   "execution_count": 29,
   "metadata": {},
   "outputs": [],
   "source": [
    "def generate_states(num_cars, num_trucks):\n",
    "    global outfile\n",
    "    #outfile = open(r'\\\\kaufmanhall.net\\vol02$\\Axiom\\Users\\CHaithcock\\%d-cars-%d-trucks.txt'%(num_cars,num_trucks),'w')\n",
    "\n",
    "    \n",
    "    #global state_list\n",
    "    #state_list = []\n",
    "    \n",
    "    for i in np.arange(5):\n",
    "        v = np.zeros((6,6),dtype=int)\n",
    "        v[2,i:i+2] = hcar        \n",
    "        recurse(v,[int(i),int(i+1)],num_cars-1,num_trucks, [0,0])\n",
    "        \n",
    "    #outfile.close()\n",
    "    \n",
    "    "
   ]
  },
  {
   "cell_type": "code",
   "execution_count": 30,
   "metadata": {
    "scrolled": true
   },
   "outputs": [
    {
     "name": "stdout",
     "output_type": "stream",
     "text": [
      "Wall time: 15 ms\n"
     ]
    }
   ],
   "source": [
    "# TEST\n",
    "state_list = []\n",
    "state_counter = 0\n",
    "%time generate_states(2,0)\n",
    "#len(state_list),state_list[4]"
   ]
  },
  {
   "cell_type": "code",
   "execution_count": 31,
   "metadata": {},
   "outputs": [
    {
     "name": "stdout",
     "output_type": "stream",
     "text": [
      "267\n"
     ]
    }
   ],
   "source": [
    "print(state_counter)"
   ]
  },
  {
   "cell_type": "code",
   "execution_count": null,
   "metadata": {},
   "outputs": [],
   "source": [
    "# Prod with Timing\n",
    "state_counter = 0\n",
    "%time generate_states(8,0)"
   ]
  },
  {
   "cell_type": "code",
   "execution_count": 34,
   "metadata": {},
   "outputs": [
    {
     "data": {
      "text/plain": [
       "(array([[0, 0, 0, 0, 0, 0],\n",
       "        [0, 0, 0, 0, 0, 0],\n",
       "        [0, 0, 6, 6, 0, 0],\n",
       "        [0, 0, 0, 0, 0, 0],\n",
       "        [0, 0, 0, 6, 6, 0],\n",
       "        [0, 0, 0, 0, 0, 0]]), [2, 3])"
      ]
     },
     "execution_count": 34,
     "metadata": {},
     "output_type": "execute_result"
    }
   ],
   "source": [
    "state_list[150]"
   ]
  },
  {
   "cell_type": "code",
   "execution_count": 40,
   "metadata": {},
   "outputs": [
    {
     "name": "stdout",
     "output_type": "stream",
     "text": [
      "Wall time: 56 ms\n"
     ]
    }
   ],
   "source": [
    "%time white_nodes = set([ (board_to_int(x[0]),x[1][0],x[1][1]) for x in state_list])\n"
   ]
  },
  {
   "cell_type": "code",
   "execution_count": 44,
   "metadata": {},
   "outputs": [],
   "source": [
    "soln_states = set([x for x in white_nodes if 5 == x[2]])\n"
   ]
  },
  {
   "cell_type": "code",
   "execution_count": 45,
   "metadata": {},
   "outputs": [
    {
     "data": {
      "text/plain": [
       "set"
      ]
     },
     "execution_count": 45,
     "metadata": {},
     "output_type": "execute_result"
    }
   ],
   "source": [
    "type(soln_states)"
   ]
  },
  {
   "cell_type": "code",
   "execution_count": 48,
   "metadata": {},
   "outputs": [
    {
     "data": {
      "text/plain": [
       "(54, 267)"
      ]
     },
     "execution_count": 48,
     "metadata": {},
     "output_type": "execute_result"
    }
   ],
   "source": [
    "len(soln_states), len(white_nodes)"
   ]
  },
  {
   "cell_type": "code",
   "execution_count": 49,
   "metadata": {},
   "outputs": [],
   "source": [
    "white_states = white_nodes - soln_states"
   ]
  },
  {
   "cell_type": "code",
   "execution_count": 50,
   "metadata": {},
   "outputs": [],
   "source": [
    "s1 = set([1,2,3,4,5])\n",
    "s2 = set([1,3,5])\n"
   ]
  },
  {
   "cell_type": "code",
   "execution_count": 69,
   "metadata": {},
   "outputs": [],
   "source": [
    "grey_states = soln_states.copy()"
   ]
  },
  {
   "cell_type": "code",
   "execution_count": 66,
   "metadata": {},
   "outputs": [
    {
     "data": {
      "text/plain": [
       "(63230538768281763840, 4, 5)"
      ]
     },
     "execution_count": 66,
     "metadata": {},
     "output_type": "execute_result"
    }
   ],
   "source": [
    "#while grey_states\n",
    "\n",
    "s = grey_states.pop()\n",
    "nbrs = \n"
   ]
  },
  {
   "cell_type": "code",
   "execution_count": 67,
   "metadata": {},
   "outputs": [
    {
     "data": {
      "text/plain": [
       "53"
      ]
     },
     "execution_count": 67,
     "metadata": {},
     "output_type": "execute_result"
    }
   ],
   "source": [
    "len(black_states)\n"
   ]
  },
  {
   "cell_type": "code",
   "execution_count": null,
   "metadata": {},
   "outputs": [],
   "source": []
  },
  {
   "cell_type": "code",
   "execution_count": null,
   "metadata": {},
   "outputs": [],
   "source": []
  },
  {
   "cell_type": "code",
   "execution_count": null,
   "metadata": {},
   "outputs": [],
   "source": []
  },
  {
   "cell_type": "code",
   "execution_count": null,
   "metadata": {},
   "outputs": [],
   "source": []
  },
  {
   "cell_type": "code",
   "execution_count": null,
   "metadata": {},
   "outputs": [],
   "source": []
  },
  {
   "cell_type": "code",
   "execution_count": 231,
   "metadata": {
    "scrolled": true
   },
   "outputs": [
    {
     "data": {
      "text/html": [
       "<table><tr><td><svg baseProfile=\"full\" height=\"180\" version=\"1.1\" width=\"180\" xmlns=\"http://www.w3.org/2000/svg\" xmlns:ev=\"http://www.w3.org/2001/xml-events\" xmlns:xlink=\"http://www.w3.org/1999/xlink\"><defs /><rect fill=\"#E6E6E6\" height=\"180\" width=\"180\" x=\"0\" y=\"0\" /><line stroke=\"black\" stroke-width=\"2\" x1=\"0\" x2=\"0\" y1=\"0\" y2=\"180\" /><line stroke=\"black\" stroke-width=\"2\" x1=\"0\" x2=\"180\" y1=\"0\" y2=\"0\" /><line stroke=\"black\" stroke-width=\"2\" x1=\"30\" x2=\"30\" y1=\"0\" y2=\"180\" /><line stroke=\"black\" stroke-width=\"2\" x1=\"0\" x2=\"180\" y1=\"30\" y2=\"30\" /><line stroke=\"black\" stroke-width=\"2\" x1=\"60\" x2=\"60\" y1=\"0\" y2=\"180\" /><line stroke=\"black\" stroke-width=\"2\" x1=\"0\" x2=\"180\" y1=\"60\" y2=\"60\" /><line stroke=\"black\" stroke-width=\"2\" x1=\"90\" x2=\"90\" y1=\"0\" y2=\"180\" /><line stroke=\"black\" stroke-width=\"2\" x1=\"0\" x2=\"180\" y1=\"90\" y2=\"90\" /><line stroke=\"black\" stroke-width=\"2\" x1=\"120\" x2=\"120\" y1=\"0\" y2=\"180\" /><line stroke=\"black\" stroke-width=\"2\" x1=\"0\" x2=\"180\" y1=\"120\" y2=\"120\" /><line stroke=\"black\" stroke-width=\"2\" x1=\"150\" x2=\"150\" y1=\"0\" y2=\"180\" /><line stroke=\"black\" stroke-width=\"2\" x1=\"0\" x2=\"180\" y1=\"150\" y2=\"150\" /><line stroke=\"black\" stroke-width=\"2\" x1=\"180\" x2=\"180\" y1=\"0\" y2=\"180\" /><line stroke=\"black\" stroke-width=\"2\" x1=\"0\" x2=\"180\" y1=\"180\" y2=\"180\" /><rect fill=\"#FF0000\" height=\"24\" rx=\"5\" ry=\"5\" stroke-width=\"3\" width=\"54\" x=\"123\" y=\"63\" /><text style=\"fill:black;text-anchor:middle;alignment-baseline:central\" x=\"150.0\" y=\"75.0\">X</text><rect fill=\"#F0E68C\" height=\"54\" rx=\"5\" ry=\"5\" stroke-width=\"3\" width=\"24\" x=\"123\" y=\"123\" /><text style=\"fill:black;text-anchor:middle;alignment-baseline:central\" x=\"135.0\" y=\"150.0\">L</text><rect fill=\"#CD5C5C\" height=\"54\" rx=\"5\" ry=\"5\" stroke-width=\"3\" width=\"24\" x=\"153\" y=\"123\" /><text style=\"fill:black;text-anchor:middle;alignment-baseline:central\" x=\"165.0\" y=\"150.0\">K</text><rect fill=\"#ADFF2F\" height=\"24\" rx=\"5\" ry=\"5\" stroke-width=\"3\" width=\"54\" x=\"3\" y=\"153\" /><text style=\"fill:black;text-anchor:middle;alignment-baseline:central\" x=\"30.0\" y=\"165.0\">J</text></svg></td><td><svg baseProfile=\"full\" height=\"180\" version=\"1.1\" width=\"180\" xmlns=\"http://www.w3.org/2000/svg\" xmlns:ev=\"http://www.w3.org/2001/xml-events\" xmlns:xlink=\"http://www.w3.org/1999/xlink\"><defs /><rect fill=\"#E6E6E6\" height=\"180\" width=\"180\" x=\"0\" y=\"0\" /><line stroke=\"black\" stroke-width=\"2\" x1=\"0\" x2=\"0\" y1=\"0\" y2=\"180\" /><line stroke=\"black\" stroke-width=\"2\" x1=\"0\" x2=\"180\" y1=\"0\" y2=\"0\" /><line stroke=\"black\" stroke-width=\"2\" x1=\"30\" x2=\"30\" y1=\"0\" y2=\"180\" /><line stroke=\"black\" stroke-width=\"2\" x1=\"0\" x2=\"180\" y1=\"30\" y2=\"30\" /><line stroke=\"black\" stroke-width=\"2\" x1=\"60\" x2=\"60\" y1=\"0\" y2=\"180\" /><line stroke=\"black\" stroke-width=\"2\" x1=\"0\" x2=\"180\" y1=\"60\" y2=\"60\" /><line stroke=\"black\" stroke-width=\"2\" x1=\"90\" x2=\"90\" y1=\"0\" y2=\"180\" /><line stroke=\"black\" stroke-width=\"2\" x1=\"0\" x2=\"180\" y1=\"90\" y2=\"90\" /><line stroke=\"black\" stroke-width=\"2\" x1=\"120\" x2=\"120\" y1=\"0\" y2=\"180\" /><line stroke=\"black\" stroke-width=\"2\" x1=\"0\" x2=\"180\" y1=\"120\" y2=\"120\" /><line stroke=\"black\" stroke-width=\"2\" x1=\"150\" x2=\"150\" y1=\"0\" y2=\"180\" /><line stroke=\"black\" stroke-width=\"2\" x1=\"0\" x2=\"180\" y1=\"150\" y2=\"150\" /><line stroke=\"black\" stroke-width=\"2\" x1=\"180\" x2=\"180\" y1=\"0\" y2=\"180\" /><line stroke=\"black\" stroke-width=\"2\" x1=\"0\" x2=\"180\" y1=\"180\" y2=\"180\" /><rect fill=\"#FF0000\" height=\"24\" rx=\"5\" ry=\"5\" stroke-width=\"3\" width=\"54\" x=\"123\" y=\"63\" /><text style=\"fill:black;text-anchor:middle;alignment-baseline:central\" x=\"150.0\" y=\"75.0\">X</text><rect fill=\"#F0E68C\" height=\"54\" rx=\"5\" ry=\"5\" stroke-width=\"3\" width=\"24\" x=\"123\" y=\"123\" /><text style=\"fill:black;text-anchor:middle;alignment-baseline:central\" x=\"135.0\" y=\"150.0\">L</text><rect fill=\"#CD5C5C\" height=\"54\" rx=\"5\" ry=\"5\" stroke-width=\"3\" width=\"24\" x=\"153\" y=\"123\" /><text style=\"fill:black;text-anchor:middle;alignment-baseline:central\" x=\"165.0\" y=\"150.0\">K</text><rect fill=\"#ADFF2F\" height=\"24\" rx=\"5\" ry=\"5\" stroke-width=\"3\" width=\"54\" x=\"33\" y=\"153\" /><text style=\"fill:black;text-anchor:middle;alignment-baseline:central\" x=\"60.0\" y=\"165.0\">J</text></svg></td><td><svg baseProfile=\"full\" height=\"180\" version=\"1.1\" width=\"180\" xmlns=\"http://www.w3.org/2000/svg\" xmlns:ev=\"http://www.w3.org/2001/xml-events\" xmlns:xlink=\"http://www.w3.org/1999/xlink\"><defs /><rect fill=\"#E6E6E6\" height=\"180\" width=\"180\" x=\"0\" y=\"0\" /><line stroke=\"black\" stroke-width=\"2\" x1=\"0\" x2=\"0\" y1=\"0\" y2=\"180\" /><line stroke=\"black\" stroke-width=\"2\" x1=\"0\" x2=\"180\" y1=\"0\" y2=\"0\" /><line stroke=\"black\" stroke-width=\"2\" x1=\"30\" x2=\"30\" y1=\"0\" y2=\"180\" /><line stroke=\"black\" stroke-width=\"2\" x1=\"0\" x2=\"180\" y1=\"30\" y2=\"30\" /><line stroke=\"black\" stroke-width=\"2\" x1=\"60\" x2=\"60\" y1=\"0\" y2=\"180\" /><line stroke=\"black\" stroke-width=\"2\" x1=\"0\" x2=\"180\" y1=\"60\" y2=\"60\" /><line stroke=\"black\" stroke-width=\"2\" x1=\"90\" x2=\"90\" y1=\"0\" y2=\"180\" /><line stroke=\"black\" stroke-width=\"2\" x1=\"0\" x2=\"180\" y1=\"90\" y2=\"90\" /><line stroke=\"black\" stroke-width=\"2\" x1=\"120\" x2=\"120\" y1=\"0\" y2=\"180\" /><line stroke=\"black\" stroke-width=\"2\" x1=\"0\" x2=\"180\" y1=\"120\" y2=\"120\" /><line stroke=\"black\" stroke-width=\"2\" x1=\"150\" x2=\"150\" y1=\"0\" y2=\"180\" /><line stroke=\"black\" stroke-width=\"2\" x1=\"0\" x2=\"180\" y1=\"150\" y2=\"150\" /><line stroke=\"black\" stroke-width=\"2\" x1=\"180\" x2=\"180\" y1=\"0\" y2=\"180\" /><line stroke=\"black\" stroke-width=\"2\" x1=\"0\" x2=\"180\" y1=\"180\" y2=\"180\" /><rect fill=\"#FF0000\" height=\"24\" rx=\"5\" ry=\"5\" stroke-width=\"3\" width=\"54\" x=\"123\" y=\"63\" /><text style=\"fill:black;text-anchor:middle;alignment-baseline:central\" x=\"150.0\" y=\"75.0\">X</text><rect fill=\"#F0E68C\" height=\"54\" rx=\"5\" ry=\"5\" stroke-width=\"3\" width=\"24\" x=\"123\" y=\"123\" /><text style=\"fill:black;text-anchor:middle;alignment-baseline:central\" x=\"135.0\" y=\"150.0\">L</text><rect fill=\"#CD5C5C\" height=\"54\" rx=\"5\" ry=\"5\" stroke-width=\"3\" width=\"24\" x=\"153\" y=\"123\" /><text style=\"fill:black;text-anchor:middle;alignment-baseline:central\" x=\"165.0\" y=\"150.0\">K</text><rect fill=\"#ADFF2F\" height=\"24\" rx=\"5\" ry=\"5\" stroke-width=\"3\" width=\"54\" x=\"63\" y=\"153\" /><text style=\"fill:black;text-anchor:middle;alignment-baseline:central\" x=\"90.0\" y=\"165.0\">J</text></svg></td><td><svg baseProfile=\"full\" height=\"180\" version=\"1.1\" width=\"180\" xmlns=\"http://www.w3.org/2000/svg\" xmlns:ev=\"http://www.w3.org/2001/xml-events\" xmlns:xlink=\"http://www.w3.org/1999/xlink\"><defs /><rect fill=\"#E6E6E6\" height=\"180\" width=\"180\" x=\"0\" y=\"0\" /><line stroke=\"black\" stroke-width=\"2\" x1=\"0\" x2=\"0\" y1=\"0\" y2=\"180\" /><line stroke=\"black\" stroke-width=\"2\" x1=\"0\" x2=\"180\" y1=\"0\" y2=\"0\" /><line stroke=\"black\" stroke-width=\"2\" x1=\"30\" x2=\"30\" y1=\"0\" y2=\"180\" /><line stroke=\"black\" stroke-width=\"2\" x1=\"0\" x2=\"180\" y1=\"30\" y2=\"30\" /><line stroke=\"black\" stroke-width=\"2\" x1=\"60\" x2=\"60\" y1=\"0\" y2=\"180\" /><line stroke=\"black\" stroke-width=\"2\" x1=\"0\" x2=\"180\" y1=\"60\" y2=\"60\" /><line stroke=\"black\" stroke-width=\"2\" x1=\"90\" x2=\"90\" y1=\"0\" y2=\"180\" /><line stroke=\"black\" stroke-width=\"2\" x1=\"0\" x2=\"180\" y1=\"90\" y2=\"90\" /><line stroke=\"black\" stroke-width=\"2\" x1=\"120\" x2=\"120\" y1=\"0\" y2=\"180\" /><line stroke=\"black\" stroke-width=\"2\" x1=\"0\" x2=\"180\" y1=\"120\" y2=\"120\" /><line stroke=\"black\" stroke-width=\"2\" x1=\"150\" x2=\"150\" y1=\"0\" y2=\"180\" /><line stroke=\"black\" stroke-width=\"2\" x1=\"0\" x2=\"180\" y1=\"150\" y2=\"150\" /><line stroke=\"black\" stroke-width=\"2\" x1=\"180\" x2=\"180\" y1=\"0\" y2=\"180\" /><line stroke=\"black\" stroke-width=\"2\" x1=\"0\" x2=\"180\" y1=\"180\" y2=\"180\" /><rect fill=\"#FF0000\" height=\"24\" rx=\"5\" ry=\"5\" stroke-width=\"3\" width=\"54\" x=\"123\" y=\"63\" /><text style=\"fill:black;text-anchor:middle;alignment-baseline:central\" x=\"150.0\" y=\"75.0\">X</text><rect fill=\"#F0E68C\" height=\"54\" rx=\"5\" ry=\"5\" stroke-width=\"3\" width=\"24\" x=\"123\" y=\"123\" /><text style=\"fill:black;text-anchor:middle;alignment-baseline:central\" x=\"135.0\" y=\"150.0\">L</text><rect fill=\"#CD5C5C\" height=\"24\" rx=\"5\" ry=\"5\" stroke-width=\"3\" width=\"54\" x=\"3\" y=\"153\" /><text style=\"fill:black;text-anchor:middle;alignment-baseline:central\" x=\"30.0\" y=\"165.0\">K</text><rect fill=\"#ADFF2F\" height=\"24\" rx=\"5\" ry=\"5\" stroke-width=\"3\" width=\"54\" x=\"63\" y=\"153\" /><text style=\"fill:black;text-anchor:middle;alignment-baseline:central\" x=\"90.0\" y=\"165.0\">J</text></svg></td><td><svg baseProfile=\"full\" height=\"180\" version=\"1.1\" width=\"180\" xmlns=\"http://www.w3.org/2000/svg\" xmlns:ev=\"http://www.w3.org/2001/xml-events\" xmlns:xlink=\"http://www.w3.org/1999/xlink\"><defs /><rect fill=\"#E6E6E6\" height=\"180\" width=\"180\" x=\"0\" y=\"0\" /><line stroke=\"black\" stroke-width=\"2\" x1=\"0\" x2=\"0\" y1=\"0\" y2=\"180\" /><line stroke=\"black\" stroke-width=\"2\" x1=\"0\" x2=\"180\" y1=\"0\" y2=\"0\" /><line stroke=\"black\" stroke-width=\"2\" x1=\"30\" x2=\"30\" y1=\"0\" y2=\"180\" /><line stroke=\"black\" stroke-width=\"2\" x1=\"0\" x2=\"180\" y1=\"30\" y2=\"30\" /><line stroke=\"black\" stroke-width=\"2\" x1=\"60\" x2=\"60\" y1=\"0\" y2=\"180\" /><line stroke=\"black\" stroke-width=\"2\" x1=\"0\" x2=\"180\" y1=\"60\" y2=\"60\" /><line stroke=\"black\" stroke-width=\"2\" x1=\"90\" x2=\"90\" y1=\"0\" y2=\"180\" /><line stroke=\"black\" stroke-width=\"2\" x1=\"0\" x2=\"180\" y1=\"90\" y2=\"90\" /><line stroke=\"black\" stroke-width=\"2\" x1=\"120\" x2=\"120\" y1=\"0\" y2=\"180\" /><line stroke=\"black\" stroke-width=\"2\" x1=\"0\" x2=\"180\" y1=\"120\" y2=\"120\" /><line stroke=\"black\" stroke-width=\"2\" x1=\"150\" x2=\"150\" y1=\"0\" y2=\"180\" /><line stroke=\"black\" stroke-width=\"2\" x1=\"0\" x2=\"180\" y1=\"150\" y2=\"150\" /><line stroke=\"black\" stroke-width=\"2\" x1=\"180\" x2=\"180\" y1=\"0\" y2=\"180\" /><line stroke=\"black\" stroke-width=\"2\" x1=\"0\" x2=\"180\" y1=\"180\" y2=\"180\" /><rect fill=\"#FF0000\" height=\"24\" rx=\"5\" ry=\"5\" stroke-width=\"3\" width=\"54\" x=\"123\" y=\"63\" /><text style=\"fill:black;text-anchor:middle;alignment-baseline:central\" x=\"150.0\" y=\"75.0\">X</text><rect fill=\"#F0E68C\" height=\"54\" rx=\"5\" ry=\"5\" stroke-width=\"3\" width=\"24\" x=\"153\" y=\"123\" /><text style=\"fill:black;text-anchor:middle;alignment-baseline:central\" x=\"165.0\" y=\"150.0\">L</text><rect fill=\"#CD5C5C\" height=\"24\" rx=\"5\" ry=\"5\" stroke-width=\"3\" width=\"54\" x=\"3\" y=\"153\" /><text style=\"fill:black;text-anchor:middle;alignment-baseline:central\" x=\"30.0\" y=\"165.0\">K</text><rect fill=\"#ADFF2F\" height=\"24\" rx=\"5\" ry=\"5\" stroke-width=\"3\" width=\"54\" x=\"63\" y=\"153\" /><text style=\"fill:black;text-anchor:middle;alignment-baseline:central\" x=\"90.0\" y=\"165.0\">J</text></svg></td></tr><tr><td><svg baseProfile=\"full\" height=\"180\" version=\"1.1\" width=\"180\" xmlns=\"http://www.w3.org/2000/svg\" xmlns:ev=\"http://www.w3.org/2001/xml-events\" xmlns:xlink=\"http://www.w3.org/1999/xlink\"><defs /><rect fill=\"#E6E6E6\" height=\"180\" width=\"180\" x=\"0\" y=\"0\" /><line stroke=\"black\" stroke-width=\"2\" x1=\"0\" x2=\"0\" y1=\"0\" y2=\"180\" /><line stroke=\"black\" stroke-width=\"2\" x1=\"0\" x2=\"180\" y1=\"0\" y2=\"0\" /><line stroke=\"black\" stroke-width=\"2\" x1=\"30\" x2=\"30\" y1=\"0\" y2=\"180\" /><line stroke=\"black\" stroke-width=\"2\" x1=\"0\" x2=\"180\" y1=\"30\" y2=\"30\" /><line stroke=\"black\" stroke-width=\"2\" x1=\"60\" x2=\"60\" y1=\"0\" y2=\"180\" /><line stroke=\"black\" stroke-width=\"2\" x1=\"0\" x2=\"180\" y1=\"60\" y2=\"60\" /><line stroke=\"black\" stroke-width=\"2\" x1=\"90\" x2=\"90\" y1=\"0\" y2=\"180\" /><line stroke=\"black\" stroke-width=\"2\" x1=\"0\" x2=\"180\" y1=\"90\" y2=\"90\" /><line stroke=\"black\" stroke-width=\"2\" x1=\"120\" x2=\"120\" y1=\"0\" y2=\"180\" /><line stroke=\"black\" stroke-width=\"2\" x1=\"0\" x2=\"180\" y1=\"120\" y2=\"120\" /><line stroke=\"black\" stroke-width=\"2\" x1=\"150\" x2=\"150\" y1=\"0\" y2=\"180\" /><line stroke=\"black\" stroke-width=\"2\" x1=\"0\" x2=\"180\" y1=\"150\" y2=\"150\" /><line stroke=\"black\" stroke-width=\"2\" x1=\"180\" x2=\"180\" y1=\"0\" y2=\"180\" /><line stroke=\"black\" stroke-width=\"2\" x1=\"0\" x2=\"180\" y1=\"180\" y2=\"180\" /><rect fill=\"#FF0000\" height=\"24\" rx=\"5\" ry=\"5\" stroke-width=\"3\" width=\"54\" x=\"123\" y=\"63\" /><text style=\"fill:black;text-anchor:middle;alignment-baseline:central\" x=\"150.0\" y=\"75.0\">X</text><rect fill=\"#F0E68C\" height=\"54\" rx=\"5\" ry=\"5\" stroke-width=\"3\" width=\"24\" x=\"153\" y=\"123\" /><text style=\"fill:black;text-anchor:middle;alignment-baseline:central\" x=\"165.0\" y=\"150.0\">L</text><rect fill=\"#CD5C5C\" height=\"24\" rx=\"5\" ry=\"5\" stroke-width=\"3\" width=\"54\" x=\"3\" y=\"153\" /><text style=\"fill:black;text-anchor:middle;alignment-baseline:central\" x=\"30.0\" y=\"165.0\">K</text><rect fill=\"#ADFF2F\" height=\"24\" rx=\"5\" ry=\"5\" stroke-width=\"3\" width=\"54\" x=\"93\" y=\"153\" /><text style=\"fill:black;text-anchor:middle;alignment-baseline:central\" x=\"120.0\" y=\"165.0\">J</text></svg></td><td><svg baseProfile=\"full\" height=\"180\" version=\"1.1\" width=\"180\" xmlns=\"http://www.w3.org/2000/svg\" xmlns:ev=\"http://www.w3.org/2001/xml-events\" xmlns:xlink=\"http://www.w3.org/1999/xlink\"><defs /><rect fill=\"#E6E6E6\" height=\"180\" width=\"180\" x=\"0\" y=\"0\" /><line stroke=\"black\" stroke-width=\"2\" x1=\"0\" x2=\"0\" y1=\"0\" y2=\"180\" /><line stroke=\"black\" stroke-width=\"2\" x1=\"0\" x2=\"180\" y1=\"0\" y2=\"0\" /><line stroke=\"black\" stroke-width=\"2\" x1=\"30\" x2=\"30\" y1=\"0\" y2=\"180\" /><line stroke=\"black\" stroke-width=\"2\" x1=\"0\" x2=\"180\" y1=\"30\" y2=\"30\" /><line stroke=\"black\" stroke-width=\"2\" x1=\"60\" x2=\"60\" y1=\"0\" y2=\"180\" /><line stroke=\"black\" stroke-width=\"2\" x1=\"0\" x2=\"180\" y1=\"60\" y2=\"60\" /><line stroke=\"black\" stroke-width=\"2\" x1=\"90\" x2=\"90\" y1=\"0\" y2=\"180\" /><line stroke=\"black\" stroke-width=\"2\" x1=\"0\" x2=\"180\" y1=\"90\" y2=\"90\" /><line stroke=\"black\" stroke-width=\"2\" x1=\"120\" x2=\"120\" y1=\"0\" y2=\"180\" /><line stroke=\"black\" stroke-width=\"2\" x1=\"0\" x2=\"180\" y1=\"120\" y2=\"120\" /><line stroke=\"black\" stroke-width=\"2\" x1=\"150\" x2=\"150\" y1=\"0\" y2=\"180\" /><line stroke=\"black\" stroke-width=\"2\" x1=\"0\" x2=\"180\" y1=\"150\" y2=\"150\" /><line stroke=\"black\" stroke-width=\"2\" x1=\"180\" x2=\"180\" y1=\"0\" y2=\"180\" /><line stroke=\"black\" stroke-width=\"2\" x1=\"0\" x2=\"180\" y1=\"180\" y2=\"180\" /><rect fill=\"#FF0000\" height=\"24\" rx=\"5\" ry=\"5\" stroke-width=\"3\" width=\"54\" x=\"123\" y=\"63\" /><text style=\"fill:black;text-anchor:middle;alignment-baseline:central\" x=\"150.0\" y=\"75.0\">X</text><rect fill=\"#F0E68C\" height=\"54\" rx=\"5\" ry=\"5\" stroke-width=\"3\" width=\"24\" x=\"153\" y=\"123\" /><text style=\"fill:black;text-anchor:middle;alignment-baseline:central\" x=\"165.0\" y=\"150.0\">L</text><rect fill=\"#CD5C5C\" height=\"24\" rx=\"5\" ry=\"5\" stroke-width=\"3\" width=\"54\" x=\"33\" y=\"153\" /><text style=\"fill:black;text-anchor:middle;alignment-baseline:central\" x=\"60.0\" y=\"165.0\">K</text><rect fill=\"#ADFF2F\" height=\"24\" rx=\"5\" ry=\"5\" stroke-width=\"3\" width=\"54\" x=\"93\" y=\"153\" /><text style=\"fill:black;text-anchor:middle;alignment-baseline:central\" x=\"120.0\" y=\"165.0\">J</text></svg></td><td><svg baseProfile=\"full\" height=\"180\" version=\"1.1\" width=\"180\" xmlns=\"http://www.w3.org/2000/svg\" xmlns:ev=\"http://www.w3.org/2001/xml-events\" xmlns:xlink=\"http://www.w3.org/1999/xlink\"><defs /><rect fill=\"#E6E6E6\" height=\"180\" width=\"180\" x=\"0\" y=\"0\" /><line stroke=\"black\" stroke-width=\"2\" x1=\"0\" x2=\"0\" y1=\"0\" y2=\"180\" /><line stroke=\"black\" stroke-width=\"2\" x1=\"0\" x2=\"180\" y1=\"0\" y2=\"0\" /><line stroke=\"black\" stroke-width=\"2\" x1=\"30\" x2=\"30\" y1=\"0\" y2=\"180\" /><line stroke=\"black\" stroke-width=\"2\" x1=\"0\" x2=\"180\" y1=\"30\" y2=\"30\" /><line stroke=\"black\" stroke-width=\"2\" x1=\"60\" x2=\"60\" y1=\"0\" y2=\"180\" /><line stroke=\"black\" stroke-width=\"2\" x1=\"0\" x2=\"180\" y1=\"60\" y2=\"60\" /><line stroke=\"black\" stroke-width=\"2\" x1=\"90\" x2=\"90\" y1=\"0\" y2=\"180\" /><line stroke=\"black\" stroke-width=\"2\" x1=\"0\" x2=\"180\" y1=\"90\" y2=\"90\" /><line stroke=\"black\" stroke-width=\"2\" x1=\"120\" x2=\"120\" y1=\"0\" y2=\"180\" /><line stroke=\"black\" stroke-width=\"2\" x1=\"0\" x2=\"180\" y1=\"120\" y2=\"120\" /><line stroke=\"black\" stroke-width=\"2\" x1=\"150\" x2=\"150\" y1=\"0\" y2=\"180\" /><line stroke=\"black\" stroke-width=\"2\" x1=\"0\" x2=\"180\" y1=\"150\" y2=\"150\" /><line stroke=\"black\" stroke-width=\"2\" x1=\"180\" x2=\"180\" y1=\"0\" y2=\"180\" /><line stroke=\"black\" stroke-width=\"2\" x1=\"0\" x2=\"180\" y1=\"180\" y2=\"180\" /><rect fill=\"#FF0000\" height=\"24\" rx=\"5\" ry=\"5\" stroke-width=\"3\" width=\"54\" x=\"123\" y=\"63\" /><text style=\"fill:black;text-anchor:middle;alignment-baseline:central\" x=\"150.0\" y=\"75.0\">X</text><rect fill=\"#F0E68C\" height=\"24\" rx=\"5\" ry=\"5\" stroke-width=\"3\" width=\"54\" x=\"3\" y=\"153\" /><text style=\"fill:black;text-anchor:middle;alignment-baseline:central\" x=\"30.0\" y=\"165.0\">L</text><rect fill=\"#CD5C5C\" height=\"24\" rx=\"5\" ry=\"5\" stroke-width=\"3\" width=\"54\" x=\"63\" y=\"153\" /><text style=\"fill:black;text-anchor:middle;alignment-baseline:central\" x=\"90.0\" y=\"165.0\">K</text><rect fill=\"#ADFF2F\" height=\"24\" rx=\"5\" ry=\"5\" stroke-width=\"3\" width=\"54\" x=\"123\" y=\"153\" /><text style=\"fill:black;text-anchor:middle;alignment-baseline:central\" x=\"150.0\" y=\"165.0\">J</text></svg></td></table>"
      ],
      "text/plain": [
       "<IPython.core.display.HTML object>"
      ]
     },
     "execution_count": 231,
     "metadata": {},
     "output_type": "execute_result"
    }
   ],
   "source": [
    "i = 206\n",
    "j = 211\n",
    "\n",
    "i = 90625\n",
    "j = 90630\n",
    "html = \"<table><tr>\"\n",
    "for v,red_cols in state_list[i:i+5]:\n",
    "    html += \"<td>\"\n",
    "    html += svg_from_state_generated_order(v,red_cols).tostring()\n",
    "    html += \"</td>\"\n",
    "\n",
    "html += \"</tr><tr>\"\n",
    "for v,red_cols in state_list[j:j+5]:\n",
    "    html += \"<td>\"\n",
    "    html += svg_from_state_generated_order(v,red_cols).tostring()\n",
    "    html += \"</td>\"\n",
    "\n",
    "html += \"</table>\"\n",
    "\n",
    "HTML(html)"
   ]
  },
  {
   "cell_type": "code",
   "execution_count": null,
   "metadata": {},
   "outputs": [],
   "source": []
  },
  {
   "cell_type": "code",
   "execution_count": 134,
   "metadata": {},
   "outputs": [
    {
     "data": {
      "text/plain": [
       "(array([[4, 0, 0, 0, 0, 4],\n",
       "        [4, 0, 0, 0, 0, 4],\n",
       "        [6, 6, 0, 0, 0, 0],\n",
       "        [0, 0, 0, 0, 0, 0],\n",
       "        [0, 0, 0, 0, 0, 0],\n",
       "        [0, 0, 0, 0, 0, 0]]), [0, 1])"
      ]
     },
     "execution_count": 134,
     "metadata": {},
     "output_type": "execute_result"
    }
   ],
   "source": [
    "state_list[61]"
   ]
  },
  {
   "cell_type": "code",
   "execution_count": 88,
   "metadata": {},
   "outputs": [
    {
     "data": {
      "text/plain": [
       "'0'"
      ]
     },
     "execution_count": 88,
     "metadata": {},
     "output_type": "execute_result"
    }
   ],
   "source": [
    "str(int(''.join(vf(v.reshape(1,36))[0]),2))\n"
   ]
  },
  {
   "cell_type": "code",
   "execution_count": 89,
   "metadata": {},
   "outputs": [
    {
     "data": {
      "text/plain": [
       "'a,b,c'"
      ]
     },
     "execution_count": 89,
     "metadata": {},
     "output_type": "execute_result"
    }
   ],
   "source": [
    "','.join(['a','b','c'])"
   ]
  },
  {
   "cell_type": "code",
   "execution_count": 90,
   "metadata": {},
   "outputs": [
    {
     "data": {
      "text/plain": [
       "[0, 1, 2, 3, 4]"
      ]
     },
     "execution_count": 90,
     "metadata": {},
     "output_type": "execute_result"
    }
   ],
   "source": [
    "[i for i in range(5)]"
   ]
  },
  {
   "cell_type": "code",
   "execution_count": 6,
   "metadata": {},
   "outputs": [
    {
     "data": {
      "text/plain": [
       "array([[0, 0, 0, 0, 0, 0],\n",
       "       [0, 7, 7, 7, 0, 0],\n",
       "       [6, 6, 0, 0, 0, 0],\n",
       "       [0, 0, 0, 0, 0, 0],\n",
       "       [0, 0, 0, 0, 0, 0],\n",
       "       [0, 0, 0, 0, 0, 0]])"
      ]
     },
     "execution_count": 6,
     "metadata": {},
     "output_type": "execute_result"
    }
   ],
   "source": [
    "i = '154444257952488798331863040'\n",
    "s = bin(int(i))[2:].zfill(108)\n",
    "v = np.array([int(s[i:i+3],2) for i in range(0,len(s),3)])\n",
    "w = v.reshape((6,6))\n",
    "#len(v)\n",
    "w"
   ]
  },
  {
   "cell_type": "code",
   "execution_count": 7,
   "metadata": {},
   "outputs": [
    {
     "data": {
      "text/plain": [
       "array([[0, 0, 0, 0, 0, 0],\n",
       "       [0, 7, 7, 7, 0, 0],\n",
       "       [6, 6, 0, 0, 0, 0],\n",
       "       [0, 0, 0, 0, 0, 0],\n",
       "       [0, 0, 0, 0, 0, 0],\n",
       "       [0, 0, 0, 0, 0, 0]])"
      ]
     },
     "execution_count": 7,
     "metadata": {},
     "output_type": "execute_result"
    }
   ],
   "source": [
    "w"
   ]
  },
  {
   "cell_type": "code",
   "execution_count": 8,
   "metadata": {},
   "outputs": [
    {
     "data": {
      "text/plain": [
       "3803101708002831222896477601792"
      ]
     },
     "execution_count": 8,
     "metadata": {},
     "output_type": "execute_result"
    }
   ],
   "source": [
    "board_to_int(w)"
   ]
  },
  {
   "cell_type": "code",
   "execution_count": 9,
   "metadata": {},
   "outputs": [
    {
     "data": {
      "text/plain": [
       "array([[0, 0, 6, 0, 0, 0],\n",
       "       [0, 7, 6, 0, 0, 0],\n",
       "       [0, 7, 0, 0, 0, 0],\n",
       "       [0, 7, 0, 0, 0, 0],\n",
       "       [0, 0, 0, 0, 0, 0],\n",
       "       [0, 0, 0, 0, 0, 0]])"
      ]
     },
     "execution_count": 9,
     "metadata": {},
     "output_type": "execute_result"
    }
   ],
   "source": [
    "int_to_board(board_to_int(w))"
   ]
  },
  {
   "cell_type": "code",
   "execution_count": null,
   "metadata": {},
   "outputs": [],
   "source": []
  },
  {
   "cell_type": "code",
   "execution_count": null,
   "metadata": {},
   "outputs": [],
   "source": []
  }
 ],
 "metadata": {
  "kernelspec": {
   "display_name": "Python 3",
   "language": "python",
   "name": "python3"
  },
  "language_info": {
   "codemirror_mode": {
    "name": "ipython",
    "version": 3
   },
   "file_extension": ".py",
   "mimetype": "text/x-python",
   "name": "python",
   "nbconvert_exporter": "python",
   "pygments_lexer": "ipython3",
   "version": "3.6.2"
  }
 },
 "nbformat": 4,
 "nbformat_minor": 2
}

{
 "cells": [
  {
   "cell_type": "code",
   "execution_count": 4,
   "metadata": {},
   "outputs": [],
   "source": [
    "s = set([1,2,3,4])\n",
    "t = set([1,2,3,4])"
   ]
  },
  {
   "cell_type": "code",
   "execution_count": 7,
   "metadata": {},
   "outputs": [
    {
     "data": {
      "text/plain": [
       "True"
      ]
     },
     "execution_count": 7,
     "metadata": {},
     "output_type": "execute_result"
    }
   ],
   "source": [
    "t==s"
   ]
  },
  {
   "cell_type": "code",
   "execution_count": 8,
   "metadata": {},
   "outputs": [],
   "source": [
    "import pandas as pd"
   ]
  },
  {
   "cell_type": "code",
   "execution_count": 22,
   "metadata": {},
   "outputs": [
    {
     "data": {
      "text/plain": [
       "(13, 0    1,3,3,2,4,5,6\n",
       " dtype: object, ',')"
      ]
     },
     "execution_count": 22,
     "metadata": {},
     "output_type": "execute_result"
    }
   ],
   "source": [
    "s = pd.Series(['1,3,3,2,4,5,6'])\n",
    "len(s[0]),s,s[0][3]"
   ]
  },
  {
   "cell_type": "code",
   "execution_count": 26,
   "metadata": {},
   "outputs": [
    {
     "data": {
      "text/plain": [
       "[1, 3, 3, 2, 4, 5, 6]"
      ]
     },
     "execution_count": 26,
     "metadata": {},
     "output_type": "execute_result"
    }
   ],
   "source": [
    "[int(x) for x in s[0].split(',')]"
   ]
  },
  {
   "cell_type": "code",
   "execution_count": 12,
   "metadata": {},
   "outputs": [
    {
     "data": {
      "text/plain": [
       "0    1,3,3,2,4,5,6\n",
       "dtype: object"
      ]
     },
     "execution_count": 12,
     "metadata": {},
     "output_type": "execute_result"
    }
   ],
   "source": [
    "s"
   ]
  },
  {
   "cell_type": "code",
   "execution_count": 19,
   "metadata": {},
   "outputs": [
    {
     "data": {
      "text/plain": [
       "'3'"
      ]
     },
     "execution_count": 19,
     "metadata": {},
     "output_type": "execute_result"
    }
   ],
   "source": [
    "s[0][2]"
   ]
  },
  {
   "cell_type": "code",
   "execution_count": 62,
   "metadata": {},
   "outputs": [
    {
     "data": {
      "text/plain": [
       "0    1\n",
       "1    3\n",
       "2    3\n",
       "3    2\n",
       "4    4\n",
       "5    5\n",
       "6    6\n",
       "dtype: int64"
      ]
     },
     "execution_count": 62,
     "metadata": {},
     "output_type": "execute_result"
    }
   ],
   "source": [
    "text = '1,3,3,2,4,5,6'\n",
    "s = pd.Series(text.split(','))\n",
    "s.astype('int64')"
   ]
  },
  {
   "cell_type": "code",
   "execution_count": 68,
   "metadata": {},
   "outputs": [
    {
     "data": {
      "text/plain": [
       "'1,3,3,2,4,5,6'"
      ]
     },
     "execution_count": 68,
     "metadata": {},
     "output_type": "execute_result"
    }
   ],
   "source": [
    "x = s.str.cat(sep=',')\n",
    "x"
   ]
  },
  {
   "cell_type": "code",
   "execution_count": 70,
   "metadata": {},
   "outputs": [
    {
     "data": {
      "text/plain": [
       "(str, 13)"
      ]
     },
     "execution_count": 70,
     "metadata": {},
     "output_type": "execute_result"
    }
   ],
   "source": [
    "type(x),len(x)\n"
   ]
  },
  {
   "cell_type": "code",
   "execution_count": 71,
   "metadata": {},
   "outputs": [
    {
     "name": "stdout",
     "output_type": "stream",
     "text": [
      "1,3,3,2,4,5,6\n"
     ]
    }
   ],
   "source": [
    "print(x)"
   ]
  },
  {
   "cell_type": "code",
   "execution_count": 34,
   "metadata": {},
   "outputs": [
    {
     "data": {
      "text/plain": [
       "pandas.core.frame.DataFrame"
      ]
     },
     "execution_count": 34,
     "metadata": {},
     "output_type": "execute_result"
    }
   ],
   "source": [
    "type(df)"
   ]
  },
  {
   "cell_type": "code",
   "execution_count": 42,
   "metadata": {},
   "outputs": [
    {
     "data": {
      "text/plain": [
       "Index(['1', '2', '3', '4', '5'], dtype='object')"
      ]
     },
     "execution_count": 42,
     "metadata": {},
     "output_type": "execute_result"
    }
   ],
   "source": [
    "df.columns"
   ]
  },
  {
   "cell_type": "code",
   "execution_count": 1,
   "metadata": {},
   "outputs": [],
   "source": [
    "import json\n",
    "import numpy as np\n",
    "import networkx as nx\n",
    "import matplotlib.pyplot as plt\n",
    "%matplotlib inline"
   ]
  },
  {
   "cell_type": "code",
   "execution_count": 4,
   "metadata": {},
   "outputs": [
    {
     "data": {
      "image/png": "[encoded data removed]",
      "text/plain": [
       "<matplotlib.figure.Figure at 0x22199f335f8>"
      ]
     },
     "metadata": {},
     "output_type": "display_data"
    }
   ],
   "source": [
    "g = nx.karate_club_graph()\n",
    "fig, ax = plt.subplots(1, 1, figsize=(8, 6));\n",
    "nx.draw_networkx(g, ax=ax)"
   ]
  },
  {
   "cell_type": "code",
   "execution_count": 5,
   "metadata": {},
   "outputs": [],
   "source": [
    "nodes = [{'name': str(i), 'club': g.node[i]['club']} for i in g.nodes()]\n",
    "links = [{'source': u[0], 'target': u[1]} for u in g.edges()]\n",
    "with open('graph.json', 'w') as f:\n",
    "    json.dump({'nodes': nodes, 'links': links}, f, indent=4,)\n"
   ]
  },
  {
   "cell_type": "code",
   "execution_count": null,
   "metadata": {},
   "outputs": [],
   "source": []
  },
  {
   "cell_type": "code",
   "execution_count": 6,
   "metadata": {},
   "outputs": [
    {
     "data": {
      "text/html": [
       "    <div id=\"d3-example\"></div>\n",
       "    <style>\n",
       "    .node {stroke: #fff; stroke-width: 1.5px;}\n",
       "    .link {stroke: #999; stroke-opacity: .6;}\n",
       "    </style>"
      ],
      "text/plain": [
       "<IPython.core.display.HTML object>"
      ]
     },
     "metadata": {},
     "output_type": "display_data"
    }
   ],
   "source": [
    "%%html\n",
    "    <div id=\"d3-example\"></div>\n",
    "    <style>\n",
    "    .node {stroke: #fff; stroke-width: 1.5px;}\n",
    "    .link {stroke: #999; stroke-opacity: .6;}\n",
    "    </style>"
   ]
  },
  {
   "cell_type": "code",
   "execution_count": 8,
   "metadata": {},
   "outputs": [
    {
     "data": {
      "application/javascript": [
       "    // We load the d3.js library from the Web.\n",
       "    require.config({paths:\n",
       "        {d3: \"http://d3js.org/d3.v3.min\"}});\n",
       "    require([\"d3\"], function(d3) {\n",
       "      // The code in this block is executed when the\n",
       "      // d3.js library has been loaded.\n",
       "    \n",
       "      // First, we specify the size of the canvas\n",
       "      // containing the visualization (size of the\n",
       "      // <div> element).\n",
       "      var width = 300, height = 300;\n",
       "    \n",
       "      // We create a color scale.\n",
       "      var color = d3.scale.category10();\n",
       "    \n",
       "      // We create a force-directed dynamic graph layout.\n",
       "      var force = d3.layout.force()\n",
       "        .charge(-120)\n",
       "        .linkDistance(30)\n",
       "        .size([width, height]);\n",
       "    \n",
       "      // In the <div> element, we create a <svg> graphic\n",
       "      // that will contain our interactive visualization.\n",
       "      var svg = d3.select(\"#d3-example\").select(\"svg\")\n",
       "      if (svg.empty()) {\n",
       "        svg = d3.select(\"#d3-example\").append(\"svg\")\n",
       "              .attr(\"width\", width)\n",
       "              .attr(\"height\", height);\n",
       "      }\n",
       "    \n",
       "      // We load the JSON file.\n",
       "      d3.json(\"graph.json\", function(error, graph) {\n",
       "        // In this block, the file has been loaded\n",
       "        // and the 'graph' object contains our graph.\n",
       "    \n",
       "        // We load the nodes and links in the\n",
       "        // force-directed graph.\n",
       "        force.nodes(graph.nodes)\n",
       "          .links(graph.links)\n",
       "          .start();\n",
       "    \n",
       "        // We create a <line> SVG element for each link\n",
       "        // in the graph.\n",
       "        var link = svg.selectAll(\".link\")\n",
       "          .data(graph.links)\n",
       "          .enter().append(\"line\")\n",
       "          .attr(\"class\", \"link\");\n",
       "    \n",
       "        // We create a <circle> SVG element for each node\n",
       "        // in the graph, and we specify a few attributes.\n",
       "        var node = svg.selectAll(\".node\")\n",
       "          .data(graph.nodes)\n",
       "          .enter().append(\"circle\")\n",
       "          .attr(\"class\", \"node\")\n",
       "          .attr(\"r\", 5)  // radius\n",
       "          .style(\"fill\", function(d) {\n",
       "             // The node color depends on the club.\n",
       "             return color(d.club);\n",
       "          })\n",
       "          .call(force.drag);\n",
       "    \n",
       "        // The name of each node is the node number.\n",
       "        node.append(\"title\")\n",
       "            .text(function(d) { return d.name; });\n",
       "    \n",
       "        // We bind the positions of the SVG elements\n",
       "        // to the positions of the dynamic force-directed\n",
       "        // graph, at each time step.\n",
       "        force.on(\"tick\", function() {\n",
       "          link.attr(\"x1\", function(d){return d.source.x})\n",
       "              .attr(\"y1\", function(d){return d.source.y})\n",
       "              .attr(\"x2\", function(d){return d.target.x})\n",
       "              .attr(\"y2\", function(d){return d.target.y});\n",
       "    \n",
       "          node.attr(\"cx\", function(d){return d.x})\n",
       "              .attr(\"cy\", function(d){return d.y});\n",
       "        });\n",
       "      });\n",
       "    });"
      ],
      "text/plain": [
       "<IPython.core.display.Javascript object>"
      ]
     },
     "metadata": {},
     "output_type": "display_data"
    }
   ],
   "source": [
    "%%javascript\n",
    "    // We load the d3.js library from the Web.\n",
    "    require.config({paths:\n",
    "        {d3: \"http://d3js.org/d3.v3.min\"}});\n",
    "    require([\"d3\"], function(d3) {\n",
    "      // The code in this block is executed when the\n",
    "      // d3.js library has been loaded.\n",
    "    \n",
    "      // First, we specify the size of the canvas\n",
    "      // containing the visualization (size of the\n",
    "      // <div> element).\n",
    "      var width = 300, height = 300;\n",
    "    \n",
    "      // We create a color scale.\n",
    "      var color = d3.scale.category10();\n",
    "    \n",
    "      // We create a force-directed dynamic graph layout.\n",
    "      var force = d3.layout.force()\n",
    "        .charge(-120)\n",
    "        .linkDistance(30)\n",
    "        .size([width, height]);\n",
    "    \n",
    "      // In the <div> element, we create a <svg> graphic\n",
    "      // that will contain our interactive visualization.\n",
    "      var svg = d3.select(\"#d3-example\").select(\"svg\")\n",
    "      if (svg.empty()) {\n",
    "        svg = d3.select(\"#d3-example\").append(\"svg\")\n",
    "              .attr(\"width\", width)\n",
    "              .attr(\"height\", height);\n",
    "      }\n",
    "    \n",
    "      // We load the JSON file.\n",
    "      d3.json(\"graph.json\", function(error, graph) {\n",
    "        // In this block, the file has been loaded\n",
    "        // and the 'graph' object contains our graph.\n",
    "    \n",
    "        // We load the nodes and links in the\n",
    "        // force-directed graph.\n",
    "        force.nodes(graph.nodes)\n",
    "          .links(graph.links)\n",
    "          .start();\n",
    "    \n",
    "        // We create a <line> SVG element for each link\n",
    "        // in the graph.\n",
    "        var link = svg.selectAll(\".link\")\n",
    "          .data(graph.links)\n",
    "          .enter().append(\"line\")\n",
    "          .attr(\"class\", \"link\");\n",
    "    \n",
    "        // We create a <circle> SVG element for each node\n",
    "        // in the graph, and we specify a few attributes.\n",
    "        var node = svg.selectAll(\".node\")\n",
    "          .data(graph.nodes)\n",
    "          .enter().append(\"circle\")\n",
    "          .attr(\"class\", \"node\")\n",
    "          .attr(\"r\", 5)  // radius\n",
    "          .style(\"fill\", function(d) {\n",
    "             // The node color depends on the club.\n",
    "             return color(d.club);\n",
    "          })\n",
    "          .call(force.drag);\n",
    "    \n",
    "        // The name of each node is the node number.\n",
    "        node.append(\"title\")\n",
    "            .text(function(d) { return d.name; });\n",
    "    \n",
    "        // We bind the positions of the SVG elements\n",
    "        // to the positions of the dynamic force-directed\n",
    "        // graph, at each time step.\n",
    "        force.on(\"tick\", function() {\n",
    "          link.attr(\"x1\", function(d){return d.source.x})\n",
    "              .attr(\"y1\", function(d){return d.source.y})\n",
    "              .attr(\"x2\", function(d){return d.target.x})\n",
    "              .attr(\"y2\", function(d){return d.target.y});\n",
    "    \n",
    "          node.attr(\"cx\", function(d){return d.x})\n",
    "              .attr(\"cy\", function(d){return d.y});\n",
    "        });\n",
    "      });\n",
    "    });"
   ]
  },
  {
   "cell_type": "code",
   "execution_count": null,
   "metadata": {},
   "outputs": [],
   "source": []
  }
 ],
 "metadata": {
  "kernelspec": {
   "display_name": "Python 3",
   "language": "python",
   "name": "python3"
  },
  "language_info": {
   "codemirror_mode": {
    "name": "ipython",
    "version": 3
   },
   "file_extension": ".py",
   "mimetype": "text/x-python",
   "name": "python",
   "nbconvert_exporter": "python",
   "pygments_lexer": "ipython3",
   "version": "3.6.2"
  }
 },
 "nbformat": 4,
 "nbformat_minor": 2
}

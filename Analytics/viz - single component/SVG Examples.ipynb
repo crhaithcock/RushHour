{
 "cells": [
  {
   "cell_type": "code",
   "execution_count": 1,
   "metadata": {},
   "outputs": [],
   "source": [
    "from IPython.display import SVG\n",
    "from IPython.display import HTML"
   ]
  },
  {
   "cell_type": "code",
   "execution_count": 2,
   "metadata": {},
   "outputs": [
    {
     "data": {
      "text/html": [
       "<svg height=\"50\" width=\"200\">\n",
       "  <rect fill=\"green\" x=\"0\" y=\"0\" width=\"200\" height=\"50\"></rect>\n",
       "  <text x=\"100\" y=\"25\" fill=\"red\" text-anchor=\"middle\" alignment-baseline=\"central\">Foo</text>\n",
       "</svg>"
      ],
      "text/plain": [
       "<IPython.core.display.HTML object>"
      ]
     },
     "execution_count": 2,
     "metadata": {},
     "output_type": "execute_result"
    }
   ],
   "source": [
    "svg = '''<svg height=\"50\" width=\"200\">\n",
    "  <rect fill=\"green\" x=\"0\" y=\"0\" width=\"200\" height=\"50\"></rect>\n",
    "  <text x=\"100\" y=\"25\" fill=\"red\" text-anchor=\"middle\" alignment-baseline=\"central\">Foo</text>\n",
    "</svg>'''\n",
    "\n",
    "HTML(svg)"
   ]
  },
  {
   "cell_type": "code",
   "execution_count": null,
   "metadata": {},
   "outputs": [],
   "source": []
  }
 ],
 "metadata": {
  "kernelspec": {
   "display_name": "Python 3",
   "language": "python",
   "name": "python3"
  },
  "language_info": {
   "codemirror_mode": {
    "name": "ipython",
    "version": 3
   },
   "file_extension": ".py",
   "mimetype": "text/x-python",
   "name": "python",
   "nbconvert_exporter": "python",
   "pygments_lexer": "ipython3",
   "version": "3.6.2"
  }
 },
 "nbformat": 4,
 "nbformat_minor": 2
}

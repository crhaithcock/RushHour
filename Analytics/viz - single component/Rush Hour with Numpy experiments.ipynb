{
 "cells": [
  {
   "cell_type": "code",
   "execution_count": 1,
   "metadata": {},
   "outputs": [],
   "source": [
    "import numpy as np"
   ]
  },
  {
   "cell_type": "code",
   "execution_count": 2,
   "metadata": {},
   "outputs": [],
   "source": [
    "blank = 0\n",
    "vcar = 4\n",
    "vtruck = 5\n",
    "hcar = 6\n",
    "htruck = 7"
   ]
  },
  {
   "cell_type": "code",
   "execution_count": 3,
   "metadata": {},
   "outputs": [
    {
     "data": {
      "text/plain": [
       "array([[4, 0, 0, 0, 4, 0],\n",
       "       [4, 4, 0, 4, 4, 0],\n",
       "       [0, 4, 4, 4, 0, 0],\n",
       "       [0, 4, 4, 4, 0, 0],\n",
       "       [4, 4, 0, 4, 4, 4],\n",
       "       [4, 0, 0, 0, 4, 4]])"
      ]
     },
     "execution_count": 3,
     "metadata": {},
     "output_type": "execute_result"
    }
   ],
   "source": [
    "v1 = np.array([blank]*36).reshape(6,6)\n",
    "for x in range(5):\n",
    "    v1[x:x+2,x] = vcar\n",
    "    v1[4-x:4-x+2,x] = vcar\n",
    "v1[4:6,5] = vcar\n",
    "#v1[2,3:5] = hcar\n",
    "#v1[4,1:3] = hcar\n",
    "#v1[2:4,0] = vcar\n",
    "#v1[3:,5] = vtruck\n",
    "v1\n"
   ]
  },
  {
   "cell_type": "code",
   "execution_count": 4,
   "metadata": {},
   "outputs": [
    {
     "data": {
      "text/plain": [
       "array([[5, 0, 0, 0, 5, 5],\n",
       "       [5, 5, 0, 0, 5, 5],\n",
       "       [5, 5, 5, 0, 5, 5],\n",
       "       [0, 5, 5, 5, 0, 5],\n",
       "       [0, 0, 5, 5, 0, 5],\n",
       "       [0, 0, 0, 5, 0, 5]])"
      ]
     },
     "execution_count": 4,
     "metadata": {},
     "output_type": "execute_result"
    }
   ],
   "source": [
    "v2 = np.array([blank]*36).reshape(6,6)\n",
    "for x in range(4):\n",
    "    v2[x:x+3,x] = vtruck\n",
    "\n",
    "v2[0:3,4]=vtruck\n",
    "v2[0:3,5] = vtruck\n",
    "v2[3:6,5] = vtruck\n",
    "v2"
   ]
  },
  {
   "cell_type": "code",
   "execution_count": 5,
   "metadata": {},
   "outputs": [
    {
     "data": {
      "text/plain": [
       "array([[0, 0, 0, 0, 5, 0],\n",
       "       [0, 0, 0, 4, 5, 0],\n",
       "       [0, 0, 0, 4, 5, 0],\n",
       "       [0, 0, 0, 0, 0, 0],\n",
       "       [0, 0, 0, 0, 0, 0],\n",
       "       [0, 0, 0, 0, 0, 0]])"
      ]
     },
     "execution_count": 5,
     "metadata": {},
     "output_type": "execute_result"
    }
   ],
   "source": [
    "v3 = np.array([blank]*36).reshape(6,6)\n",
    "\n",
    "v3[0:3,4]=vtruck\n",
    "v3[1:3,3] = vcar\n",
    "v3"
   ]
  },
  {
   "cell_type": "code",
   "execution_count": 102,
   "metadata": {},
   "outputs": [
    {
     "data": {
      "text/plain": [
       "array([[0, 0, 0, 0, 0, 0],\n",
       "       [0, 0, 0, 0, 0, 0],\n",
       "       [6, 6, 0, 0, 0, 0],\n",
       "       [0, 0, 0, 0, 0, 0],\n",
       "       [0, 0, 0, 0, 6, 6],\n",
       "       [0, 0, 7, 7, 7, 0]])"
      ]
     },
     "execution_count": 102,
     "metadata": {},
     "output_type": "execute_result"
    }
   ],
   "source": [
    "v4 = np.array([blank]*36).reshape(6,6)\n",
    "v4[2,:2] = hcar\n",
    "v4[4,4:6] = hcar\n",
    "v4[5,2:5] = htruck\n",
    "v4"
   ]
  },
  {
   "cell_type": "code",
   "execution_count": null,
   "metadata": {},
   "outputs": [],
   "source": []
  },
  {
   "cell_type": "code",
   "execution_count": null,
   "metadata": {},
   "outputs": [],
   "source": []
  },
  {
   "cell_type": "code",
   "execution_count": null,
   "metadata": {},
   "outputs": [],
   "source": []
  },
  {
   "cell_type": "code",
   "execution_count": null,
   "metadata": {},
   "outputs": [],
   "source": []
  },
  {
   "cell_type": "code",
   "execution_count": 251,
   "metadata": {},
   "outputs": [
    {
     "data": {
      "text/plain": [
       "array([[[0, 0, 0, 0, 5, 0],\n",
       "        [0, 0, 0, 4, 5, 0],\n",
       "        [0, 0, 0, 4, 5, 0],\n",
       "        [0, 0, 0, 0, 0, 0],\n",
       "        [0, 0, 0, 0, 0, 0],\n",
       "        [0, 0, 0, 0, 0, 0]],\n",
       "\n",
       "       [[0, 0, 0, 0, 5, 0],\n",
       "        [0, 0, 0, 0, 5, 0],\n",
       "        [0, 0, 0, 4, 5, 0],\n",
       "        [0, 0, 0, 4, 0, 0],\n",
       "        [0, 0, 0, 0, 0, 0],\n",
       "        [0, 0, 0, 0, 0, 0]],\n",
       "\n",
       "       [[0, 0, 0, 0, 0, 0],\n",
       "        [0, 0, 0, 4, 5, 0],\n",
       "        [0, 0, 0, 4, 5, 0],\n",
       "        [0, 0, 0, 0, 5, 0],\n",
       "        [0, 0, 0, 0, 0, 0],\n",
       "        [0, 0, 0, 0, 0, 0]]])"
      ]
     },
     "execution_count": 251,
     "metadata": {},
     "output_type": "execute_result"
    }
   ],
   "source": [
    "# move down. Look for vcar, vtruck.\n",
    "\n",
    "#function input: v\n",
    "v = v3\n",
    "\n",
    "ret = []\n",
    "\n",
    "mv_x = -v + np.roll(v,1,0)\n",
    "mv_x = mv_x[1:]\n",
    "\n",
    "#np.array([v,mv_x])\n",
    "\n",
    "mv_car = np.where(mv_x==vcar)\n",
    "mv_truck = np.where(mv_x ==vtruck)\n",
    "\n",
    "mv_car\n",
    "mv_down_car = list(zip(mv_car[0],mv_car[1]))\n",
    "mv_down_truck = list(zip(mv_truck[0], mv_truck[1]))\n",
    "\n",
    "for x,y in mv_down_car:\n",
    "    new = np.copy(v)\n",
    "    new[x+1,y] = vcar\n",
    "    new[x-1,y] = blank\n",
    "    ret.append(new)\n",
    "\n",
    "for x,y in mv_down_truck:\n",
    "    #x,y = mv_down_truck[0]\n",
    "    new = np.copy(v)\n",
    "    new[x+1,y] = vtruck\n",
    "    new[x-2,y] = blank\n",
    "    ret.append(new)\n",
    "\n",
    "np.array([v]+ret)\n",
    "\n",
    "\n"
   ]
  },
  {
   "cell_type": "code",
   "execution_count": 264,
   "metadata": {},
   "outputs": [
    {
     "data": {
      "text/plain": [
       "array([[[5, 0, 0, 0, 5, 5],\n",
       "        [5, 5, 0, 0, 5, 5],\n",
       "        [5, 5, 5, 0, 5, 5],\n",
       "        [0, 5, 5, 5, 0, 5],\n",
       "        [0, 0, 5, 5, 0, 5],\n",
       "        [0, 0, 0, 5, 0, 5]],\n",
       "\n",
       "       [[5, 5, 0, 0, 5, 5],\n",
       "        [5, 5, 0, 0, 5, 5],\n",
       "        [5, 5, 5, 0, 5, 5],\n",
       "        [0, 0, 5, 5, 0, 5],\n",
       "        [0, 0, 5, 5, 0, 5],\n",
       "        [0, 0, 0, 5, 0, 5]],\n",
       "\n",
       "       [[5, 0, 0, 0, 5, 5],\n",
       "        [5, 5, 5, 0, 5, 5],\n",
       "        [5, 5, 5, 0, 5, 5],\n",
       "        [0, 5, 5, 5, 0, 5],\n",
       "        [0, 0, 0, 5, 0, 5],\n",
       "        [0, 0, 0, 5, 0, 5]],\n",
       "\n",
       "       [[5, 0, 0, 0, 5, 5],\n",
       "        [5, 5, 0, 0, 5, 5],\n",
       "        [5, 5, 5, 5, 5, 5],\n",
       "        [0, 5, 5, 5, 0, 5],\n",
       "        [0, 0, 5, 5, 0, 5],\n",
       "        [0, 0, 0, 0, 0, 5]]])"
      ]
     },
     "execution_count": 264,
     "metadata": {},
     "output_type": "execute_result"
    }
   ],
   "source": [
    "# Move up\n",
    "\n",
    "#function input: v\n",
    "v = v2\n",
    "\n",
    "ret = []\n",
    "\n",
    "mv_x = -v + np.roll(v,-1,0)\n",
    "mv_x = mv_x[:5]\n",
    "\n",
    "#np.array([v,mv_x,mv_x[:5]]) \n",
    "\n",
    "mv_car = np.where(mv_x==vcar)\n",
    "mv_truck = np.where(mv_x ==vtruck)\n",
    "\n",
    "mv_car\n",
    "mv_up_car = list(zip(mv_car[0],mv_car[1]))\n",
    "mv_up_truck = list(zip(mv_truck[0], mv_truck[1]))\n",
    "\n",
    "\n",
    "for x,y in mv_up_car:\n",
    "    new = np.copy(v)\n",
    "    new[x,y] = vcar\n",
    "    new[x+2,y] = blank\n",
    "    ret.append(new)\n",
    "\n",
    "for x,y in mv_up_truck:\n",
    "    #x,y = mv_up_truck[0]\n",
    "    new = np.copy(v)\n",
    "    new[x,y] = vtruck\n",
    "    new[x+3,y] = blank\n",
    "    ret.append(new)\n",
    "\n",
    "np.array([v]+ret)\n",
    "\n",
    "\n"
   ]
  },
  {
   "cell_type": "code",
   "execution_count": 318,
   "metadata": {},
   "outputs": [
    {
     "data": {
      "text/plain": [
       "array([[[0, 0, 0, 0, 0, 0],\n",
       "        [0, 0, 0, 0, 0, 0],\n",
       "        [0, 0, 0, 6, 6, 0],\n",
       "        [0, 0, 7, 7, 7, 0],\n",
       "        [0, 0, 0, 0, 0, 0],\n",
       "        [0, 0, 0, 0, 0, 0]],\n",
       "\n",
       "       [[0, 0, 0, 0, 0, 0],\n",
       "        [0, 0, 0, 0, 0, 0],\n",
       "        [0, 0, 6, 6, 0, 0],\n",
       "        [0, 0, 7, 7, 7, 0],\n",
       "        [0, 0, 0, 0, 0, 0],\n",
       "        [0, 0, 0, 0, 0, 0]],\n",
       "\n",
       "       [[0, 0, 0, 0, 0, 0],\n",
       "        [0, 0, 0, 0, 0, 0],\n",
       "        [0, 0, 0, 6, 6, 0],\n",
       "        [0, 7, 7, 7, 0, 0],\n",
       "        [0, 0, 0, 0, 0, 0],\n",
       "        [0, 0, 0, 0, 0, 0]]])"
      ]
     },
     "execution_count": 318,
     "metadata": {},
     "output_type": "execute_result"
    }
   ],
   "source": [
    "# Move Left\n",
    "\n",
    "#function input\n",
    "v = v4\n",
    "ret = []\n",
    "\n",
    "mv_x = -v + np.roll(v,-1,1)\n",
    "mv_x = mv_x[:,:5]\n",
    "\n",
    "mv_car = np.where(mv_x==hcar)\n",
    "mv_truck = np.where(mv_x ==htruck)\n",
    "\n",
    "mv_left_car = list(zip(mv_car[0],mv_car[1]))\n",
    "mv_left_truck = list(zip(mv_truck[0], mv_truck[1]))\n",
    "\n",
    "for x,y in mv_left_car:\n",
    "    new = np.copy(v)\n",
    "    new[x,y] = hcar\n",
    "    new[x,y+2] = blank\n",
    "    ret.append(new)\n",
    "\n",
    "for x,y in mv_left_truck:\n",
    "    new = np.copy(v)\n",
    "    new[x,y] = htruck\n",
    "    new[x,y+3] = blank\n",
    "    ret.append(new)\n",
    "\n",
    "\n",
    "np.array([v]+ret)\n"
   ]
  },
  {
   "cell_type": "code",
   "execution_count": 105,
   "metadata": {},
   "outputs": [
    {
     "data": {
      "text/plain": [
       "(array([[[0, 0, 0, 0, 0, 0],\n",
       "         [0, 0, 0, 0, 0, 0],\n",
       "         [6, 6, 0, 0, 0, 0],\n",
       "         [0, 0, 0, 0, 0, 0],\n",
       "         [0, 0, 0, 0, 6, 6],\n",
       "         [0, 0, 7, 7, 7, 0]],\n",
       " \n",
       "        [[0, 0, 0, 0, 0, 0],\n",
       "         [0, 0, 0, 0, 0, 0],\n",
       "         [0, 6, 6, 0, 0, 0],\n",
       "         [0, 0, 0, 0, 0, 0],\n",
       "         [0, 0, 0, 0, 6, 6],\n",
       "         [0, 0, 7, 7, 7, 0]],\n",
       " \n",
       "        [[0, 0, 0, 0, 0, 0],\n",
       "         [0, 0, 0, 0, 0, 0],\n",
       "         [6, 6, 0, 0, 0, 0],\n",
       "         [0, 0, 0, 0, 0, 0],\n",
       "         [0, 0, 0, 0, 6, 6],\n",
       "         [0, 0, 0, 7, 7, 7]]]), [(2, 1)])"
      ]
     },
     "execution_count": 105,
     "metadata": {},
     "output_type": "execute_result"
    }
   ],
   "source": [
    "# Move right\n",
    "\n",
    "#function input\n",
    "v = v4\n",
    "ret = []\n",
    "\n",
    "mv_x = -v + np.roll(v,1,1)\n",
    "mv_x = mv_x[:,1:]\n",
    "\n",
    "mv_car = np.where(mv_x==hcar)\n",
    "mv_truck = np.where(mv_x ==htruck)\n",
    "\n",
    "mv_right_car = list(zip(mv_car[0],mv_car[1]))\n",
    "mv_right_truck = list(zip(mv_truck[0], mv_truck[1]))\n",
    "\n",
    "for x,y in mv_right_car:\n",
    "    new = np.copy(v)\n",
    "    new[x,y+1] = hcar\n",
    "    new[x,y-1] = blank\n",
    "    ret.append(new)\n",
    "\n",
    "for x,y in mv_right_truck:\n",
    "    new = np.copy(v)\n",
    "    new[x,y+1] = htruck\n",
    "    new[x,y-2] = blank\n",
    "    ret.append(new)\n",
    "\n",
    "\n",
    "#v, mv_x,mv_left_car\n",
    "out = np.array([v]+ret)\n",
    "out,mv_right_car"
   ]
  },
  {
   "cell_type": "code",
   "execution_count": 83,
   "metadata": {},
   "outputs": [
    {
     "data": {
      "text/plain": [
       "array([[0, 0, 0, 0, 0, 0],\n",
       "       [0, 0, 0, 0, 0, 0],\n",
       "       [0, 0, 0, 6, 6, 0],\n",
       "       [0, 0, 7, 7, 7, 0],\n",
       "       [0, 0, 0, 0, 0, 0],\n",
       "       [0, 0, 0, 0, 0, 0]])"
      ]
     },
     "execution_count": 83,
     "metadata": {},
     "output_type": "execute_result"
    }
   ],
   "source": [
    "v4"
   ]
  },
  {
   "cell_type": "code",
   "execution_count": 284,
   "metadata": {},
   "outputs": [
    {
     "data": {
      "text/plain": [
       "array([[0, 1, 2],\n",
       "       [3, 4, 5]])"
      ]
     },
     "execution_count": 284,
     "metadata": {},
     "output_type": "execute_result"
    }
   ],
   "source": [
    "t = np.array(np.arange(6)).reshape(2,3)\n",
    "t"
   ]
  },
  {
   "cell_type": "code",
   "execution_count": 294,
   "metadata": {},
   "outputs": [
    {
     "data": {
      "text/plain": [
       "array([[4, 0, 0, 0, 4],\n",
       "       [4, 4, 0, 4, 4],\n",
       "       [0, 4, 4, 4, 0],\n",
       "       [0, 4, 4, 4, 0],\n",
       "       [4, 4, 0, 4, 4],\n",
       "       [4, 0, 0, 0, 4]])"
      ]
     },
     "execution_count": 294,
     "metadata": {},
     "output_type": "execute_result"
    }
   ],
   "source": [
    "v[:,:5]"
   ]
  },
  {
   "cell_type": "code",
   "execution_count": 29,
   "metadata": {},
   "outputs": [
    {
     "data": {
      "text/plain": [
       "(array([3, 4], dtype=int64), array([3, 3], dtype=int64))"
      ]
     },
     "execution_count": 29,
     "metadata": {},
     "output_type": "execute_result"
    }
   ],
   "source": [
    "car_up"
   ]
  },
  {
   "cell_type": "code",
   "execution_count": 45,
   "metadata": {},
   "outputs": [
    {
     "data": {
      "text/plain": [
       "(3, 3)"
      ]
     },
     "execution_count": 45,
     "metadata": {},
     "output_type": "execute_result"
    }
   ],
   "source": [
    "x=car_up[0][0]\n",
    "y =car_up[1][0]\n",
    "x,y"
   ]
  },
  {
   "cell_type": "code",
   "execution_count": 49,
   "metadata": {},
   "outputs": [
    {
     "data": {
      "text/plain": [
       "[(3, 3), (4, 3)]"
      ]
     },
     "execution_count": 49,
     "metadata": {},
     "output_type": "execute_result"
    }
   ],
   "source": [
    "up = list(zip(car_up[0],car_up[1]))"
   ]
  },
  {
   "cell_type": "code",
   "execution_count": 32,
   "metadata": {},
   "outputs": [],
   "source": [
    "v2 = np.arange(36).reshape(6,6)"
   ]
  },
  {
   "cell_type": "code",
   "execution_count": 33,
   "metadata": {},
   "outputs": [
    {
     "data": {
      "text/plain": [
       "array([[ 0,  1,  2,  3,  4,  5],\n",
       "       [ 6,  7,  8,  9, 10, 11],\n",
       "       [12, 13, 14, 15, 16, 17],\n",
       "       [18, 19, 20, 21, 22, 23],\n",
       "       [24, 25, 26, 27, 28, 29],\n",
       "       [30, 31, 32, 33, 34, 35]])"
      ]
     },
     "execution_count": 33,
     "metadata": {},
     "output_type": "execute_result"
    }
   ],
   "source": [
    "v2"
   ]
  },
  {
   "cell_type": "code",
   "execution_count": 34,
   "metadata": {},
   "outputs": [
    {
     "data": {
      "text/plain": [
       "22"
      ]
     },
     "execution_count": 34,
     "metadata": {},
     "output_type": "execute_result"
    }
   ],
   "source": [
    "v2[3,4]"
   ]
  },
  {
   "cell_type": "code",
   "execution_count": 37,
   "metadata": {},
   "outputs": [
    {
     "data": {
      "text/plain": [
       "(array([2], dtype=int64), array([4], dtype=int64))"
      ]
     },
     "execution_count": 37,
     "metadata": {},
     "output_type": "execute_result"
    }
   ],
   "source": [
    "np.where(v2==16)"
   ]
  },
  {
   "cell_type": "code",
   "execution_count": null,
   "metadata": {},
   "outputs": [],
   "source": []
  },
  {
   "cell_type": "code",
   "execution_count": null,
   "metadata": {},
   "outputs": [],
   "source": []
  },
  {
   "cell_type": "code",
   "execution_count": null,
   "metadata": {},
   "outputs": [],
   "source": []
  },
  {
   "cell_type": "code",
   "execution_count": 122,
   "metadata": {},
   "outputs": [
    {
     "data": {
      "text/plain": [
       "array([0, 1, 2, 3, 4, 5])"
      ]
     },
     "execution_count": 122,
     "metadata": {},
     "output_type": "execute_result"
    }
   ],
   "source": [
    "x = np.arange(6)\n",
    "x"
   ]
  },
  {
   "cell_type": "code",
   "execution_count": 106,
   "metadata": {},
   "outputs": [],
   "source": [
    "def state_nbrs(v,red_cols):\n",
    "    '''\n",
    "       Compute all neighbrs via legal moves in the rush hour puzzle.\n",
    "\n",
    "       Input: ndarray of shape (6,6) with values modeling a legal configuration of pieces on the rush hour puzzle board.\n",
    "\n",
    "       output: set of triples (x,red_col_1,red_col_2):\n",
    "               x: integer represenation of of the (6,6) ndarray\n",
    "               red_co_1, red_col_2: model the positions of the red car\n",
    "    '''\n",
    "        \n",
    "\n",
    "    ret = set()\n",
    "    \n",
    "    # Move right\n",
    "\n",
    "\n",
    "    mv_x = -v + np.roll(v,1,1)\n",
    "    mv_x = mv_x[:,1:]\n",
    "\n",
    "    mv_car = np.where(mv_x==hcar)\n",
    "    mv_truck = np.where(mv_x ==htruck)\n",
    "\n",
    "    mv_right_car = list(zip(mv_car[0],mv_car[1]))\n",
    "    mv_right_truck = list(zip(mv_truck[0], mv_truck[1]))\n",
    "\n",
    "    for x,y in mv_right_car:\n",
    "        new = np.copy(v)\n",
    "        new[x,y+1] = hcar\n",
    "        new[x,y-1] = blank\n",
    "        if y+2 in red_cols:\n",
    "            ret.add( (board_to_int(new),(x,y)) ) \n",
    "        else:\n",
    "            ret.add( (board_to_int(new),red_cols) )\n",
    "\n",
    "    for x,y in mv_right_truck:\n",
    "        new = np.copy(v)\n",
    "        new[x,y+1] = htruck\n",
    "        new[x,y-2] = blank\n",
    "        ret.add( (board_to_int(new),red_cols) )\n",
    "\n",
    "\n",
    "        \n",
    "\n",
    "    # Move Left\n",
    "\n",
    "    mv_x = -v + np.roll(v,-1,1)\n",
    "    mv_x = mv_x[:,:5]\n",
    "\n",
    "    mv_car = np.where(mv_x==hcar)\n",
    "    mv_truck = np.where(mv_x ==htruck)\n",
    "\n",
    "    mv_left_car = list(zip(mv_car[0],mv_car[1]))\n",
    "    mv_left_truck = list(zip(mv_truck[0], mv_truck[1]))\n",
    "\n",
    "    for x,y in mv_left_car:\n",
    "        new = np.copy(v)\n",
    "        new[x,y] = hcar\n",
    "        new[x,y+2] = blank\n",
    "        if y+2 in red_cols:\n",
    "            ret.add( (board_to_int(new),(x,y)) ) \n",
    "        else:\n",
    "            ret.add( (board_to_int(new),red_cols) )\n",
    "\n",
    "    for x,y in mv_left_truck:\n",
    "        new = np.copy(v)\n",
    "        new[x,y] = htruck\n",
    "        new[x,y+3] = blank\n",
    "        ret.add( (board_to_int(new),red_cols) )\n",
    "\n",
    "\n",
    "    # Move up\n",
    "    \n",
    "    mv_x = -v + np.roll(v,-1,0)\n",
    "    mv_x = mv_x[:5]\n",
    "\n",
    "    mv_car = np.where(mv_x==vcar)\n",
    "    mv_truck = np.where(mv_x ==vtruck)\n",
    "\n",
    "    mv_up_car = list(zip(mv_car[0],mv_car[1]))\n",
    "    mv_up_truck = list(zip(mv_truck[0], mv_truck[1]))\n",
    "\n",
    "\n",
    "    for x,y in mv_up_car:\n",
    "        new = np.copy(v)\n",
    "        new[x,y] = vcar\n",
    "        new[x+2,y] = blank\n",
    "        ret.add( (board_to_int(new),red_cols) )\n",
    "\n",
    "    for x,y in mv_up_truck:\n",
    "        #x,y = mv_up_truck[0]\n",
    "        new = np.copy(v)\n",
    "        new[x,y] = vtruck\n",
    "        new[x+3,y] = blank\n",
    "        ret.add( (board_to_int(new),red_cols) )\n",
    "\n",
    "                \n",
    "    # move down\n",
    "    mv_x = -v + np.roll(v,1,0)\n",
    "    mv_x = mv_x[1:]\n",
    "                \n",
    "    mv_car = np.where(mv_x==vcar)\n",
    "    mv_truck = np.where(mv_x ==vtruck)\n",
    "\n",
    "    mv_down_car = list(zip(mv_car[0],mv_car[1]))\n",
    "    mv_down_truck = list(zip(mv_truck[0], mv_truck[1]))\n",
    "\n",
    "    for x,y in mv_down_car:\n",
    "        new = np.copy(v)\n",
    "        new[x+1,y] = vcar\n",
    "        new[x-1,y] = blank\n",
    "        ret.add( (board_to_int(new),red_cols) )\n",
    "\n",
    "    for x,y in mv_down_truck:\n",
    "        new = np.copy(v)\n",
    "        new[x+1,y] = vtruck\n",
    "        new[x-2,y] = blank\n",
    "        ret.add( (board_to_int(new),red_cols) )\n",
    "                \n",
    "    return ret  "
   ]
  },
  {
   "cell_type": "code",
   "execution_count": 109,
   "metadata": {},
   "outputs": [
    {
     "data": {
      "text/plain": [
       "array([[0, 0, 0, 0, 0, 0],\n",
       "       [0, 0, 0, 0, 0, 0],\n",
       "       [6, 6, 0, 0, 0, 0],\n",
       "       [0, 0, 0, 0, 0, 0],\n",
       "       [0, 0, 0, 0, 6, 6],\n",
       "       [0, 0, 7, 7, 7, 0]])"
      ]
     },
     "execution_count": 109,
     "metadata": {},
     "output_type": "execute_result"
    }
   ],
   "source": [
    "v4"
   ]
  },
  {
   "cell_type": "code",
   "execution_count": 110,
   "metadata": {},
   "outputs": [
    {
     "data": {
      "text/plain": [
       "array([[4, 0, 0, 0, 4, 0],\n",
       "       [4, 4, 0, 4, 4, 0],\n",
       "       [0, 4, 4, 4, 6, 6],\n",
       "       [0, 4, 4, 4, 0, 0],\n",
       "       [4, 4, 0, 4, 4, 4],\n",
       "       [4, 0, 0, 0, 4, 4]])"
      ]
     },
     "execution_count": 110,
     "metadata": {},
     "output_type": "execute_result"
    }
   ],
   "source": [
    "v1[2,4:6] = hcar\n",
    "v1"
   ]
  },
  {
   "cell_type": "code",
   "execution_count": 36,
   "metadata": {},
   "outputs": [],
   "source": [
    "vec_bitstring_3 = np.vectorize(lambda x: np.binary_repr(x,width=3) )\n",
    "\n",
    "def board_to_int(v):\n",
    "    t = vec_bitstring_3(v)\n",
    "    return int(''.join(np.apply_along_axis(lambda x: ''.join(x), 1,t)),2)\n",
    "\n",
    "def int_to_board(i):\n",
    "    #i = '154444257952488798331863040'\n",
    "    s = bin(int(i))[2:].zfill(108)\n",
    "    v = np.array([int(s[i:i+3],2) for i in range(0,len(s),3)])\n",
    "    return v.reshape((6,6))"
   ]
  },
  {
   "cell_type": "code",
   "execution_count": 121,
   "metadata": {},
   "outputs": [],
   "source": [
    "nbrs = state_nbrs(v4,(3,4))"
   ]
  },
  {
   "cell_type": "code",
   "execution_count": 122,
   "metadata": {},
   "outputs": [
    {
     "data": {
      "text/plain": [
       "4"
      ]
     },
     "execution_count": 122,
     "metadata": {},
     "output_type": "execute_result"
    }
   ],
   "source": [
    "len(nbrs)"
   ]
  },
  {
   "cell_type": "code",
   "execution_count": 123,
   "metadata": {},
   "outputs": [],
   "source": [
    "s = [int_to_board(x[0]) for x in nbrs]\n"
   ]
  },
  {
   "cell_type": "code",
   "execution_count": 124,
   "metadata": {},
   "outputs": [
    {
     "data": {
      "text/plain": [
       "array([[[0, 0, 0, 0, 0, 0],\n",
       "        [0, 0, 0, 0, 0, 0],\n",
       "        [6, 6, 0, 0, 0, 0],\n",
       "        [0, 0, 0, 0, 0, 0],\n",
       "        [0, 0, 0, 0, 6, 6],\n",
       "        [0, 0, 7, 7, 7, 0]],\n",
       "\n",
       "       [[0, 0, 0, 0, 0, 0],\n",
       "        [0, 0, 0, 0, 0, 0],\n",
       "        [6, 6, 0, 0, 0, 0],\n",
       "        [0, 0, 0, 0, 0, 0],\n",
       "        [0, 0, 0, 0, 6, 6],\n",
       "        [0, 0, 0, 7, 7, 7]],\n",
       "\n",
       "       [[0, 0, 0, 0, 0, 0],\n",
       "        [0, 0, 0, 0, 0, 0],\n",
       "        [0, 6, 6, 0, 0, 0],\n",
       "        [0, 0, 0, 0, 0, 0],\n",
       "        [0, 0, 0, 0, 6, 6],\n",
       "        [0, 0, 7, 7, 7, 0]],\n",
       "\n",
       "       [[0, 0, 0, 0, 0, 0],\n",
       "        [0, 0, 0, 0, 0, 0],\n",
       "        [6, 6, 0, 0, 0, 0],\n",
       "        [0, 0, 0, 0, 0, 0],\n",
       "        [0, 0, 0, 0, 6, 6],\n",
       "        [0, 7, 7, 7, 0, 0]],\n",
       "\n",
       "       [[0, 0, 0, 0, 0, 0],\n",
       "        [0, 0, 0, 0, 0, 0],\n",
       "        [6, 6, 0, 0, 0, 0],\n",
       "        [0, 0, 0, 0, 0, 0],\n",
       "        [0, 0, 0, 6, 6, 0],\n",
       "        [0, 0, 7, 7, 7, 0]]])"
      ]
     },
     "execution_count": 124,
     "metadata": {},
     "output_type": "execute_result"
    }
   ],
   "source": [
    "np.array([v4]+ s)"
   ]
  },
  {
   "cell_type": "code",
   "execution_count": 116,
   "metadata": {},
   "outputs": [
    {
     "data": {
      "text/plain": [
       "array([[0, 0, 0, 0, 0, 0],\n",
       "       [0, 0, 0, 0, 0, 0],\n",
       "       [0, 0, 0, 6, 6, 0],\n",
       "       [0, 7, 7, 7, 0, 0],\n",
       "       [0, 0, 0, 0, 0, 0],\n",
       "       [0, 0, 0, 0, 0, 0]])"
      ]
     },
     "execution_count": 116,
     "metadata": {},
     "output_type": "execute_result"
    }
   ],
   "source": [
    "s[3]"
   ]
  },
  {
   "cell_type": "code",
   "execution_count": 117,
   "metadata": {},
   "outputs": [
    {
     "data": {
      "text/plain": [
       "array([[ 0,  0,  0,  0,  0,  0],\n",
       "       [ 0,  0,  0,  0,  0,  0],\n",
       "       [ 6,  6,  0, -6, -6,  0],\n",
       "       [ 0, -7, -7, -7,  0,  0],\n",
       "       [ 0,  0,  0,  0,  6,  6],\n",
       "       [ 0,  0,  7,  7,  7,  0]])"
      ]
     },
     "execution_count": 117,
     "metadata": {},
     "output_type": "execute_result"
    }
   ],
   "source": [
    "v4 - s[3]"
   ]
  },
  {
   "cell_type": "code",
   "execution_count": 118,
   "metadata": {},
   "outputs": [],
   "source": [
    "diffs = [v4-x for x in s]"
   ]
  },
  {
   "cell_type": "code",
   "execution_count": 119,
   "metadata": {},
   "outputs": [
    {
     "data": {
      "text/plain": [
       "array([[ 0,  0,  0,  0,  0,  0],\n",
       "       [ 0,  0,  0,  0,  0,  0],\n",
       "       [ 6,  6, -6, -6,  0,  0],\n",
       "       [ 0,  0, -7, -7, -7,  0],\n",
       "       [ 0,  0,  0,  0,  6,  6],\n",
       "       [ 0,  0,  7,  7,  7,  0]])"
      ]
     },
     "execution_count": 119,
     "metadata": {},
     "output_type": "execute_result"
    }
   ],
   "source": [
    "diffs[0]"
   ]
  },
  {
   "cell_type": "code",
   "execution_count": null,
   "metadata": {},
   "outputs": [],
   "source": []
  }
 ],
 "metadata": {
  "kernelspec": {
   "display_name": "Python 3",
   "language": "python",
   "name": "python3"
  },
  "language_info": {
   "codemirror_mode": {
    "name": "ipython",
    "version": 3
   },
   "file_extension": ".py",
   "mimetype": "text/x-python",
   "name": "python",
   "nbconvert_exporter": "python",
   "pygments_lexer": "ipython3",
   "version": "3.6.2"
  }
 },
 "nbformat": 4,
 "nbformat_minor": 2
}
